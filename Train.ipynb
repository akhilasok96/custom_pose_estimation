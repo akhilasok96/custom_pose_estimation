{
  "nbformat": 4,
  "nbformat_minor": 0,
  "metadata": {
    "colab": {
      "provenance": [],
      "machine_shape": "hm",
      "gpuType": "V100"
    },
    "kernelspec": {
      "name": "python3",
      "display_name": "Python 3"
    },
    "language_info": {
      "name": "python"
    },
    "accelerator": "GPU"
  },
  "cells": [
    {
      "cell_type": "code",
      "execution_count": 1,
      "metadata": {
        "colab": {
          "base_uri": "https://localhost:8080/"
        },
        "id": "lOc1PoqTGYkK",
        "outputId": "29455e4e-53ab-45c0-9a10-0733773886e3"
      },
      "outputs": [
        {
          "output_type": "stream",
          "name": "stdout",
          "text": [
            "Mounted at /content/gdrive\n"
          ]
        }
      ],
      "source": [
        "from google.colab import drive\n",
        "\n",
        "drive.mount('/content/gdrive')"
      ]
    },
    {
      "cell_type": "code",
      "source": [
        "!pip install ultralytics"
      ],
      "metadata": {
        "colab": {
          "base_uri": "https://localhost:8080/"
        },
        "id": "9FfyUYO6HNrS",
        "outputId": "add2a7de-c00d-41de-b54d-b023bf7aba1c"
      },
      "execution_count": 2,
      "outputs": [
        {
          "output_type": "stream",
          "name": "stdout",
          "text": [
            "Collecting ultralytics\n",
            "  Downloading ultralytics-8.1.24-py3-none-any.whl (719 kB)\n",
            "\u001b[2K     \u001b[90m━━━━━━━━━━━━━━━━━━━━━━━━━━━━━━━━━━━━━━━━\u001b[0m \u001b[32m719.5/719.5 kB\u001b[0m \u001b[31m5.0 MB/s\u001b[0m eta \u001b[36m0:00:00\u001b[0m\n",
            "\u001b[?25hRequirement already satisfied: matplotlib>=3.3.0 in /usr/local/lib/python3.10/dist-packages (from ultralytics) (3.7.1)\n",
            "Requirement already satisfied: opencv-python>=4.6.0 in /usr/local/lib/python3.10/dist-packages (from ultralytics) (4.8.0.76)\n",
            "Requirement already satisfied: pillow>=7.1.2 in /usr/local/lib/python3.10/dist-packages (from ultralytics) (9.4.0)\n",
            "Requirement already satisfied: pyyaml>=5.3.1 in /usr/local/lib/python3.10/dist-packages (from ultralytics) (6.0.1)\n",
            "Requirement already satisfied: requests>=2.23.0 in /usr/local/lib/python3.10/dist-packages (from ultralytics) (2.31.0)\n",
            "Requirement already satisfied: scipy>=1.4.1 in /usr/local/lib/python3.10/dist-packages (from ultralytics) (1.11.4)\n",
            "Requirement already satisfied: torch>=1.8.0 in /usr/local/lib/python3.10/dist-packages (from ultralytics) (2.1.0+cu121)\n",
            "Requirement already satisfied: torchvision>=0.9.0 in /usr/local/lib/python3.10/dist-packages (from ultralytics) (0.16.0+cu121)\n",
            "Requirement already satisfied: tqdm>=4.64.0 in /usr/local/lib/python3.10/dist-packages (from ultralytics) (4.66.2)\n",
            "Requirement already satisfied: psutil in /usr/local/lib/python3.10/dist-packages (from ultralytics) (5.9.5)\n",
            "Requirement already satisfied: py-cpuinfo in /usr/local/lib/python3.10/dist-packages (from ultralytics) (9.0.0)\n",
            "Collecting thop>=0.1.1 (from ultralytics)\n",
            "  Downloading thop-0.1.1.post2209072238-py3-none-any.whl (15 kB)\n",
            "Requirement already satisfied: pandas>=1.1.4 in /usr/local/lib/python3.10/dist-packages (from ultralytics) (1.5.3)\n",
            "Requirement already satisfied: seaborn>=0.11.0 in /usr/local/lib/python3.10/dist-packages (from ultralytics) (0.13.1)\n",
            "Requirement already satisfied: contourpy>=1.0.1 in /usr/local/lib/python3.10/dist-packages (from matplotlib>=3.3.0->ultralytics) (1.2.0)\n",
            "Requirement already satisfied: cycler>=0.10 in /usr/local/lib/python3.10/dist-packages (from matplotlib>=3.3.0->ultralytics) (0.12.1)\n",
            "Requirement already satisfied: fonttools>=4.22.0 in /usr/local/lib/python3.10/dist-packages (from matplotlib>=3.3.0->ultralytics) (4.49.0)\n",
            "Requirement already satisfied: kiwisolver>=1.0.1 in /usr/local/lib/python3.10/dist-packages (from matplotlib>=3.3.0->ultralytics) (1.4.5)\n",
            "Requirement already satisfied: numpy>=1.20 in /usr/local/lib/python3.10/dist-packages (from matplotlib>=3.3.0->ultralytics) (1.25.2)\n",
            "Requirement already satisfied: packaging>=20.0 in /usr/local/lib/python3.10/dist-packages (from matplotlib>=3.3.0->ultralytics) (23.2)\n",
            "Requirement already satisfied: pyparsing>=2.3.1 in /usr/local/lib/python3.10/dist-packages (from matplotlib>=3.3.0->ultralytics) (3.1.1)\n",
            "Requirement already satisfied: python-dateutil>=2.7 in /usr/local/lib/python3.10/dist-packages (from matplotlib>=3.3.0->ultralytics) (2.8.2)\n",
            "Requirement already satisfied: pytz>=2020.1 in /usr/local/lib/python3.10/dist-packages (from pandas>=1.1.4->ultralytics) (2023.4)\n",
            "Requirement already satisfied: charset-normalizer<4,>=2 in /usr/local/lib/python3.10/dist-packages (from requests>=2.23.0->ultralytics) (3.3.2)\n",
            "Requirement already satisfied: idna<4,>=2.5 in /usr/local/lib/python3.10/dist-packages (from requests>=2.23.0->ultralytics) (3.6)\n",
            "Requirement already satisfied: urllib3<3,>=1.21.1 in /usr/local/lib/python3.10/dist-packages (from requests>=2.23.0->ultralytics) (2.0.7)\n",
            "Requirement already satisfied: certifi>=2017.4.17 in /usr/local/lib/python3.10/dist-packages (from requests>=2.23.0->ultralytics) (2024.2.2)\n",
            "Requirement already satisfied: filelock in /usr/local/lib/python3.10/dist-packages (from torch>=1.8.0->ultralytics) (3.13.1)\n",
            "Requirement already satisfied: typing-extensions in /usr/local/lib/python3.10/dist-packages (from torch>=1.8.0->ultralytics) (4.10.0)\n",
            "Requirement already satisfied: sympy in /usr/local/lib/python3.10/dist-packages (from torch>=1.8.0->ultralytics) (1.12)\n",
            "Requirement already satisfied: networkx in /usr/local/lib/python3.10/dist-packages (from torch>=1.8.0->ultralytics) (3.2.1)\n",
            "Requirement already satisfied: jinja2 in /usr/local/lib/python3.10/dist-packages (from torch>=1.8.0->ultralytics) (3.1.3)\n",
            "Requirement already satisfied: fsspec in /usr/local/lib/python3.10/dist-packages (from torch>=1.8.0->ultralytics) (2023.6.0)\n",
            "Requirement already satisfied: triton==2.1.0 in /usr/local/lib/python3.10/dist-packages (from torch>=1.8.0->ultralytics) (2.1.0)\n",
            "Requirement already satisfied: six>=1.5 in /usr/local/lib/python3.10/dist-packages (from python-dateutil>=2.7->matplotlib>=3.3.0->ultralytics) (1.16.0)\n",
            "Requirement already satisfied: MarkupSafe>=2.0 in /usr/local/lib/python3.10/dist-packages (from jinja2->torch>=1.8.0->ultralytics) (2.1.5)\n",
            "Requirement already satisfied: mpmath>=0.19 in /usr/local/lib/python3.10/dist-packages (from sympy->torch>=1.8.0->ultralytics) (1.3.0)\n",
            "Installing collected packages: thop, ultralytics\n",
            "Successfully installed thop-0.1.1.post2209072238 ultralytics-8.1.24\n"
          ]
        }
      ]
    },
    {
      "cell_type": "code",
      "source": [
        "import os\n",
        "\n",
        "from ultralytics import YOLO\n",
        "\n",
        "\n",
        "model = YOLO('yolov8n-pose.pt')\n",
        "\n",
        "model.train(data='/content/gdrive/My Drive/config.yaml', epochs=100, imgsz=640)"
      ],
      "metadata": {
        "colab": {
          "base_uri": "https://localhost:8080/"
        },
        "id": "usbdc8B5HYcu",
        "outputId": "2af06cac-572f-4e6b-94a0-d9b88eb1eae3"
      },
      "execution_count": 3,
      "outputs": [
        {
          "metadata": {
            "tags": null
          },
          "name": "stdout",
          "output_type": "stream",
          "text": [
            "Downloading https://github.com/ultralytics/assets/releases/download/v8.1.0/yolov8n-pose.pt to 'yolov8n-pose.pt'...\n"
          ]
        },
        {
          "metadata": {
            "tags": null
          },
          "name": "stderr",
          "output_type": "stream",
          "text": [
            "100%|██████████| 6.51M/6.51M [00:00<00:00, 78.9MB/s]\n"
          ]
        },
        {
          "metadata": {
            "tags": null
          },
          "name": "stdout",
          "output_type": "stream",
          "text": [
            "Ultralytics YOLOv8.1.24 🚀 Python-3.10.12 torch-2.1.0+cu121 CUDA:0 (Tesla V100-SXM2-16GB, 16151MiB)\n",
            "\u001b[34m\u001b[1mengine/trainer: \u001b[0mtask=pose, mode=train, model=yolov8n-pose.pt, data=/content/gdrive/My Drive/config.yaml, epochs=100, time=None, patience=100, batch=16, imgsz=640, save=True, save_period=-1, cache=False, device=None, workers=8, project=None, name=train, exist_ok=False, pretrained=True, optimizer=auto, verbose=True, seed=0, deterministic=True, single_cls=False, rect=False, cos_lr=False, close_mosaic=10, resume=False, amp=True, fraction=1.0, profile=False, freeze=None, multi_scale=False, overlap_mask=True, mask_ratio=4, dropout=0.0, val=True, split=val, save_json=False, save_hybrid=False, conf=None, iou=0.7, max_det=300, half=False, dnn=False, plots=True, source=None, vid_stride=1, stream_buffer=False, visualize=False, augment=False, agnostic_nms=False, classes=None, retina_masks=False, embed=None, show=False, save_frames=False, save_txt=False, save_conf=False, save_crop=False, show_labels=True, show_conf=True, show_boxes=True, line_width=None, format=torchscript, keras=False, optimize=False, int8=False, dynamic=False, simplify=False, opset=None, workspace=4, nms=False, lr0=0.01, lrf=0.01, momentum=0.937, weight_decay=0.0005, warmup_epochs=3.0, warmup_momentum=0.8, warmup_bias_lr=0.1, box=7.5, cls=0.5, dfl=1.5, pose=12.0, kobj=1.0, label_smoothing=0.0, nbs=64, hsv_h=0.015, hsv_s=0.7, hsv_v=0.4, degrees=0.0, translate=0.1, scale=0.5, shear=0.0, perspective=0.0, flipud=0.0, fliplr=0.5, mosaic=1.0, mixup=0.0, copy_paste=0.0, auto_augment=randaugment, erasing=0.4, crop_fraction=1.0, cfg=None, tracker=botsort.yaml, save_dir=runs/pose/train\n",
            "Downloading https://ultralytics.com/assets/Arial.ttf to '/root/.config/Ultralytics/Arial.ttf'...\n"
          ]
        },
        {
          "metadata": {
            "tags": null
          },
          "name": "stderr",
          "output_type": "stream",
          "text": [
            "100%|██████████| 755k/755k [00:00<00:00, 16.7MB/s]\n"
          ]
        },
        {
          "metadata": {
            "tags": null
          },
          "name": "stdout",
          "output_type": "stream",
          "text": [
            "\n",
            "                   from  n    params  module                                       arguments                     \n",
            "  0                  -1  1       464  ultralytics.nn.modules.conv.Conv             [3, 16, 3, 2]                 \n",
            "  1                  -1  1      4672  ultralytics.nn.modules.conv.Conv             [16, 32, 3, 2]                \n",
            "  2                  -1  1      7360  ultralytics.nn.modules.block.C2f             [32, 32, 1, True]             \n",
            "  3                  -1  1     18560  ultralytics.nn.modules.conv.Conv             [32, 64, 3, 2]                \n",
            "  4                  -1  2     49664  ultralytics.nn.modules.block.C2f             [64, 64, 2, True]             \n",
            "  5                  -1  1     73984  ultralytics.nn.modules.conv.Conv             [64, 128, 3, 2]               \n",
            "  6                  -1  2    197632  ultralytics.nn.modules.block.C2f             [128, 128, 2, True]           \n",
            "  7                  -1  1    295424  ultralytics.nn.modules.conv.Conv             [128, 256, 3, 2]              \n",
            "  8                  -1  1    460288  ultralytics.nn.modules.block.C2f             [256, 256, 1, True]           \n",
            "  9                  -1  1    164608  ultralytics.nn.modules.block.SPPF            [256, 256, 5]                 \n",
            " 10                  -1  1         0  torch.nn.modules.upsampling.Upsample         [None, 2, 'nearest']          \n",
            " 11             [-1, 6]  1         0  ultralytics.nn.modules.conv.Concat           [1]                           \n",
            " 12                  -1  1    148224  ultralytics.nn.modules.block.C2f             [384, 128, 1]                 \n",
            " 13                  -1  1         0  torch.nn.modules.upsampling.Upsample         [None, 2, 'nearest']          \n",
            " 14             [-1, 4]  1         0  ultralytics.nn.modules.conv.Concat           [1]                           \n",
            " 15                  -1  1     37248  ultralytics.nn.modules.block.C2f             [192, 64, 1]                  \n",
            " 16                  -1  1     36992  ultralytics.nn.modules.conv.Conv             [64, 64, 3, 2]                \n",
            " 17            [-1, 12]  1         0  ultralytics.nn.modules.conv.Concat           [1]                           \n",
            " 18                  -1  1    123648  ultralytics.nn.modules.block.C2f             [192, 128, 1]                 \n",
            " 19                  -1  1    147712  ultralytics.nn.modules.conv.Conv             [128, 128, 3, 2]              \n",
            " 20             [-1, 9]  1         0  ultralytics.nn.modules.conv.Concat           [1]                           \n",
            " 21                  -1  1    493056  ultralytics.nn.modules.block.C2f             [384, 256, 1]                 \n",
            " 22        [15, 18, 21]  1   1035934  ultralytics.nn.modules.head.Pose             [1, [17, 3], [64, 128, 256]]  \n",
            "YOLOv8n-pose summary: 250 layers, 3295470 parameters, 3295454 gradients, 9.3 GFLOPs\n",
            "\n",
            "Transferred 397/397 items from pretrained weights\n",
            "\u001b[34m\u001b[1mTensorBoard: \u001b[0mStart with 'tensorboard --logdir runs/pose/train', view at http://localhost:6006/\n",
            "Freezing layer 'model.22.dfl.conv.weight'\n",
            "\u001b[34m\u001b[1mAMP: \u001b[0mrunning Automatic Mixed Precision (AMP) checks with YOLOv8n...\n",
            "Downloading https://github.com/ultralytics/assets/releases/download/v8.1.0/yolov8n.pt to 'yolov8n.pt'...\n"
          ]
        },
        {
          "metadata": {
            "tags": null
          },
          "name": "stderr",
          "output_type": "stream",
          "text": [
            "100%|██████████| 6.23M/6.23M [00:00<00:00, 88.0MB/s]\n"
          ]
        },
        {
          "metadata": {
            "tags": null
          },
          "name": "stdout",
          "output_type": "stream",
          "text": [
            "\u001b[34m\u001b[1mAMP: \u001b[0mchecks passed ✅\n"
          ]
        },
        {
          "metadata": {
            "tags": null
          },
          "name": "stderr",
          "output_type": "stream",
          "text": [
            "\u001b[34m\u001b[1mtrain: \u001b[0mScanning /content/gdrive/My Drive/data/labels/train... 7315 images, 0 backgrounds, 0 corrupt: 100%|██████████| 7315/7315 [08:18<00:00, 14.66it/s]\n"
          ]
        },
        {
          "metadata": {
            "tags": null
          },
          "name": "stdout",
          "output_type": "stream",
          "text": [
            "\u001b[34m\u001b[1mtrain: \u001b[0mNew cache created: /content/gdrive/My Drive/data/labels/train.cache\n",
            "\u001b[34m\u001b[1malbumentations: \u001b[0mBlur(p=0.01, blur_limit=(3, 7)), MedianBlur(p=0.01, blur_limit=(3, 7)), ToGray(p=0.01), CLAHE(p=0.01, clip_limit=(1, 4.0), tile_grid_size=(8, 8))\n"
          ]
        },
        {
          "metadata": {
            "tags": null
          },
          "name": "stderr",
          "output_type": "stream",
          "text": [
            "\u001b[34m\u001b[1mval: \u001b[0mScanning /content/gdrive/My Drive/data/labels/val... 1613 images, 0 backgrounds, 0 corrupt: 100%|██████████| 1613/1613 [01:24<00:00, 19.14it/s]\n"
          ]
        },
        {
          "metadata": {
            "tags": null
          },
          "name": "stdout",
          "output_type": "stream",
          "text": [
            "\u001b[34m\u001b[1mval: \u001b[0mNew cache created: /content/gdrive/My Drive/data/labels/val.cache\n",
            "Plotting labels to runs/pose/train/labels.jpg... \n",
            "\u001b[34m\u001b[1moptimizer:\u001b[0m 'optimizer=auto' found, ignoring 'lr0=0.01' and 'momentum=0.937' and determining best 'optimizer', 'lr0' and 'momentum' automatically... \n",
            "\u001b[34m\u001b[1moptimizer:\u001b[0m SGD(lr=0.01, momentum=0.9) with parameter groups 63 weight(decay=0.0), 73 weight(decay=0.0005), 72 bias(decay=0.0)\n",
            "\u001b[34m\u001b[1mTensorBoard: \u001b[0mmodel graph visualization added ✅\n",
            "Image sizes 640 train, 640 val\n",
            "Using 8 dataloader workers\n",
            "Logging results to \u001b[1mruns/pose/train\u001b[0m\n",
            "Starting training for 100 epochs...\n",
            "\n",
            "      Epoch    GPU_mem   box_loss  pose_loss  kobj_loss   cls_loss   dfl_loss  Instances       Size\n"
          ]
        },
        {
          "metadata": {
            "tags": null
          },
          "name": "stderr",
          "output_type": "stream",
          "text": [
            "      1/100      2.59G     0.9503      3.259      0.317     0.7923      1.148          8        640: 100%|██████████| 458/458 [01:08<00:00,  6.71it/s]\n",
            "                 Class     Images  Instances      Box(P          R      mAP50  mAP50-95)     Pose(P          R      mAP50  mAP50-95): 100%|██████████| 51/51 [00:13<00:00,  3.89it/s]"
          ]
        },
        {
          "metadata": {
            "tags": null
          },
          "name": "stdout",
          "output_type": "stream",
          "text": [
            "                   all       1613       4472      0.859      0.783      0.881      0.653      0.808      0.694      0.736      0.419\n"
          ]
        },
        {
          "metadata": {
            "tags": null
          },
          "name": "stderr",
          "output_type": "stream",
          "text": [
            "\n"
          ]
        },
        {
          "metadata": {
            "tags": null
          },
          "name": "stdout",
          "output_type": "stream",
          "text": [
            "\n",
            "      Epoch    GPU_mem   box_loss  pose_loss  kobj_loss   cls_loss   dfl_loss  Instances       Size\n"
          ]
        },
        {
          "metadata": {
            "tags": null
          },
          "name": "stderr",
          "output_type": "stream",
          "text": [
            "      2/100      2.61G      1.053       3.85      0.342     0.9132      1.207         10        640: 100%|██████████| 458/458 [01:01<00:00,  7.44it/s]\n",
            "                 Class     Images  Instances      Box(P          R      mAP50  mAP50-95)     Pose(P          R      mAP50  mAP50-95): 100%|██████████| 51/51 [00:11<00:00,  4.52it/s]\n"
          ]
        },
        {
          "metadata": {
            "tags": null
          },
          "name": "stdout",
          "output_type": "stream",
          "text": [
            "                   all       1613       4472      0.829      0.733      0.832      0.579      0.757      0.614      0.638      0.307\n",
            "\n",
            "      Epoch    GPU_mem   box_loss  pose_loss  kobj_loss   cls_loss   dfl_loss  Instances       Size\n"
          ]
        },
        {
          "metadata": {
            "tags": null
          },
          "name": "stderr",
          "output_type": "stream",
          "text": [
            "      3/100      2.63G      1.175      4.541     0.3777      1.069      1.284         13        640: 100%|██████████| 458/458 [01:01<00:00,  7.48it/s]\n",
            "                 Class     Images  Instances      Box(P          R      mAP50  mAP50-95)     Pose(P          R      mAP50  mAP50-95): 100%|██████████| 51/51 [00:11<00:00,  4.57it/s]\n"
          ]
        },
        {
          "metadata": {
            "tags": null
          },
          "name": "stdout",
          "output_type": "stream",
          "text": [
            "                   all       1613       4472      0.779      0.668      0.762      0.481      0.695      0.524      0.529       0.21\n",
            "\n",
            "      Epoch    GPU_mem   box_loss  pose_loss  kobj_loss   cls_loss   dfl_loss  Instances       Size\n"
          ]
        },
        {
          "metadata": {
            "tags": null
          },
          "name": "stderr",
          "output_type": "stream",
          "text": [
            "      4/100      2.63G      1.295      5.163     0.4074      1.219      1.364         23        640: 100%|██████████| 458/458 [01:00<00:00,  7.61it/s]\n",
            "                 Class     Images  Instances      Box(P          R      mAP50  mAP50-95)     Pose(P          R      mAP50  mAP50-95): 100%|██████████| 51/51 [00:11<00:00,  4.62it/s]\n"
          ]
        },
        {
          "metadata": {
            "tags": null
          },
          "name": "stdout",
          "output_type": "stream",
          "text": [
            "                   all       1613       4472      0.756      0.652      0.742      0.465      0.675      0.482      0.479      0.173\n",
            "\n",
            "      Epoch    GPU_mem   box_loss  pose_loss  kobj_loss   cls_loss   dfl_loss  Instances       Size\n"
          ]
        },
        {
          "metadata": {
            "tags": null
          },
          "name": "stderr",
          "output_type": "stream",
          "text": [
            "      5/100      2.65G      1.302      5.175      0.409      1.243      1.371         16        640: 100%|██████████| 458/458 [00:59<00:00,  7.64it/s]\n",
            "                 Class     Images  Instances      Box(P          R      mAP50  mAP50-95)     Pose(P          R      mAP50  mAP50-95): 100%|██████████| 51/51 [00:11<00:00,  4.58it/s]\n"
          ]
        },
        {
          "metadata": {
            "tags": null
          },
          "name": "stdout",
          "output_type": "stream",
          "text": [
            "                   all       1613       4472       0.77      0.668      0.758      0.477      0.649      0.493      0.473      0.173\n",
            "\n",
            "      Epoch    GPU_mem   box_loss  pose_loss  kobj_loss   cls_loss   dfl_loss  Instances       Size\n"
          ]
        },
        {
          "metadata": {
            "tags": null
          },
          "name": "stderr",
          "output_type": "stream",
          "text": [
            "      6/100      2.65G      1.275      5.102     0.4067      1.207      1.354         10        640: 100%|██████████| 458/458 [00:59<00:00,  7.66it/s]\n",
            "                 Class     Images  Instances      Box(P          R      mAP50  mAP50-95)     Pose(P          R      mAP50  mAP50-95): 100%|██████████| 51/51 [00:11<00:00,  4.53it/s]\n"
          ]
        },
        {
          "metadata": {
            "tags": null
          },
          "name": "stdout",
          "output_type": "stream",
          "text": [
            "                   all       1613       4472      0.725      0.626      0.716      0.448      0.621      0.487      0.469      0.177\n",
            "\n",
            "      Epoch    GPU_mem   box_loss  pose_loss  kobj_loss   cls_loss   dfl_loss  Instances       Size\n"
          ]
        },
        {
          "metadata": {
            "tags": null
          },
          "name": "stderr",
          "output_type": "stream",
          "text": [
            "      7/100      2.67G       1.27      4.983      0.404      1.189      1.349         21        640: 100%|██████████| 458/458 [00:59<00:00,  7.65it/s]\n",
            "                 Class     Images  Instances      Box(P          R      mAP50  mAP50-95)     Pose(P          R      mAP50  mAP50-95): 100%|██████████| 51/51 [00:11<00:00,  4.55it/s]\n"
          ]
        },
        {
          "metadata": {
            "tags": null
          },
          "name": "stdout",
          "output_type": "stream",
          "text": [
            "                   all       1613       4472      0.774      0.647      0.749      0.478      0.692      0.505      0.519       0.21\n",
            "\n",
            "      Epoch    GPU_mem   box_loss  pose_loss  kobj_loss   cls_loss   dfl_loss  Instances       Size\n"
          ]
        },
        {
          "metadata": {
            "tags": null
          },
          "name": "stderr",
          "output_type": "stream",
          "text": [
            "      8/100      2.64G       1.25      4.928     0.4001      1.164      1.334         13        640: 100%|██████████| 458/458 [01:00<00:00,  7.58it/s]\n",
            "                 Class     Images  Instances      Box(P          R      mAP50  mAP50-95)     Pose(P          R      mAP50  mAP50-95): 100%|██████████| 51/51 [00:11<00:00,  4.52it/s]\n"
          ]
        },
        {
          "metadata": {
            "tags": null
          },
          "name": "stdout",
          "output_type": "stream",
          "text": [
            "                   all       1613       4472      0.801      0.685      0.789      0.511      0.728      0.528      0.545      0.221\n",
            "\n",
            "      Epoch    GPU_mem   box_loss  pose_loss  kobj_loss   cls_loss   dfl_loss  Instances       Size\n"
          ]
        },
        {
          "metadata": {
            "tags": null
          },
          "name": "stderr",
          "output_type": "stream",
          "text": [
            "      9/100      2.64G      1.235      4.829     0.4014      1.148      1.323         16        640: 100%|██████████| 458/458 [01:00<00:00,  7.63it/s]\n",
            "                 Class     Images  Instances      Box(P          R      mAP50  mAP50-95)     Pose(P          R      mAP50  mAP50-95): 100%|██████████| 51/51 [00:11<00:00,  4.61it/s]\n"
          ]
        },
        {
          "metadata": {
            "tags": null
          },
          "name": "stdout",
          "output_type": "stream",
          "text": [
            "                   all       1613       4472      0.789      0.685      0.783      0.516      0.702      0.547      0.563      0.231\n",
            "\n",
            "      Epoch    GPU_mem   box_loss  pose_loss  kobj_loss   cls_loss   dfl_loss  Instances       Size\n"
          ]
        },
        {
          "metadata": {
            "tags": null
          },
          "name": "stderr",
          "output_type": "stream",
          "text": [
            "     10/100      2.63G      1.233      4.807     0.3963      1.146      1.324         13        640: 100%|██████████| 458/458 [01:00<00:00,  7.60it/s]\n",
            "                 Class     Images  Instances      Box(P          R      mAP50  mAP50-95)     Pose(P          R      mAP50  mAP50-95): 100%|██████████| 51/51 [00:11<00:00,  4.51it/s]\n"
          ]
        },
        {
          "metadata": {
            "tags": null
          },
          "name": "stdout",
          "output_type": "stream",
          "text": [
            "                   all       1613       4472      0.776      0.695       0.78      0.512      0.691      0.543       0.55      0.231\n",
            "\n",
            "      Epoch    GPU_mem   box_loss  pose_loss  kobj_loss   cls_loss   dfl_loss  Instances       Size\n"
          ]
        },
        {
          "metadata": {
            "tags": null
          },
          "name": "stderr",
          "output_type": "stream",
          "text": [
            "     11/100      2.65G      1.207      4.704     0.3946      1.111      1.305         13        640: 100%|██████████| 458/458 [01:00<00:00,  7.58it/s]\n",
            "                 Class     Images  Instances      Box(P          R      mAP50  mAP50-95)     Pose(P          R      mAP50  mAP50-95): 100%|██████████| 51/51 [00:11<00:00,  4.56it/s]\n"
          ]
        },
        {
          "metadata": {
            "tags": null
          },
          "name": "stdout",
          "output_type": "stream",
          "text": [
            "                   all       1613       4472      0.788      0.703      0.795      0.532      0.708      0.554      0.566      0.239\n",
            "\n",
            "      Epoch    GPU_mem   box_loss  pose_loss  kobj_loss   cls_loss   dfl_loss  Instances       Size\n"
          ]
        },
        {
          "metadata": {
            "tags": null
          },
          "name": "stderr",
          "output_type": "stream",
          "text": [
            "     12/100      2.64G      1.201      4.714      0.394       1.12      1.307          8        640: 100%|██████████| 458/458 [01:00<00:00,  7.55it/s]\n",
            "                 Class     Images  Instances      Box(P          R      mAP50  mAP50-95)     Pose(P          R      mAP50  mAP50-95): 100%|██████████| 51/51 [00:11<00:00,  4.55it/s]\n"
          ]
        },
        {
          "metadata": {
            "tags": null
          },
          "name": "stdout",
          "output_type": "stream",
          "text": [
            "                   all       1613       4472      0.805      0.705      0.804      0.539      0.744      0.568      0.592      0.257\n",
            "\n",
            "      Epoch    GPU_mem   box_loss  pose_loss  kobj_loss   cls_loss   dfl_loss  Instances       Size\n"
          ]
        },
        {
          "metadata": {
            "tags": null
          },
          "name": "stderr",
          "output_type": "stream",
          "text": [
            "     13/100      2.63G      1.194      4.629     0.3906      1.099      1.301         17        640: 100%|██████████| 458/458 [01:00<00:00,  7.58it/s]\n",
            "                 Class     Images  Instances      Box(P          R      mAP50  mAP50-95)     Pose(P          R      mAP50  mAP50-95): 100%|██████████| 51/51 [00:11<00:00,  4.61it/s]\n"
          ]
        },
        {
          "metadata": {
            "tags": null
          },
          "name": "stdout",
          "output_type": "stream",
          "text": [
            "                   all       1613       4472      0.834      0.697      0.812      0.545      0.747      0.577      0.599      0.265\n",
            "\n",
            "      Epoch    GPU_mem   box_loss  pose_loss  kobj_loss   cls_loss   dfl_loss  Instances       Size\n"
          ]
        },
        {
          "metadata": {
            "tags": null
          },
          "name": "stderr",
          "output_type": "stream",
          "text": [
            "     14/100      2.63G      1.182       4.62     0.3897       1.09      1.294         23        640: 100%|██████████| 458/458 [01:00<00:00,  7.58it/s]\n",
            "                 Class     Images  Instances      Box(P          R      mAP50  mAP50-95)     Pose(P          R      mAP50  mAP50-95): 100%|██████████| 51/51 [00:11<00:00,  4.59it/s]\n"
          ]
        },
        {
          "metadata": {
            "tags": null
          },
          "name": "stdout",
          "output_type": "stream",
          "text": [
            "                   all       1613       4472      0.821      0.718      0.821       0.55      0.757      0.584      0.612      0.275\n",
            "\n",
            "      Epoch    GPU_mem   box_loss  pose_loss  kobj_loss   cls_loss   dfl_loss  Instances       Size\n"
          ]
        },
        {
          "metadata": {
            "tags": null
          },
          "name": "stderr",
          "output_type": "stream",
          "text": [
            "     15/100      2.64G      1.168      4.559     0.3877      1.076      1.286         17        640: 100%|██████████| 458/458 [01:00<00:00,  7.55it/s]\n",
            "                 Class     Images  Instances      Box(P          R      mAP50  mAP50-95)     Pose(P          R      mAP50  mAP50-95): 100%|██████████| 51/51 [00:11<00:00,  4.54it/s]\n"
          ]
        },
        {
          "metadata": {
            "tags": null
          },
          "name": "stdout",
          "output_type": "stream",
          "text": [
            "                   all       1613       4472      0.799       0.72      0.814      0.546      0.735      0.583      0.604       0.27\n",
            "\n",
            "      Epoch    GPU_mem   box_loss  pose_loss  kobj_loss   cls_loss   dfl_loss  Instances       Size\n"
          ]
        },
        {
          "metadata": {
            "tags": null
          },
          "name": "stderr",
          "output_type": "stream",
          "text": [
            "     16/100      2.64G      1.173      4.539     0.3886       1.08       1.29         17        640: 100%|██████████| 458/458 [01:00<00:00,  7.57it/s]\n",
            "                 Class     Images  Instances      Box(P          R      mAP50  mAP50-95)     Pose(P          R      mAP50  mAP50-95): 100%|██████████| 51/51 [00:11<00:00,  4.53it/s]\n"
          ]
        },
        {
          "metadata": {
            "tags": null
          },
          "name": "stdout",
          "output_type": "stream",
          "text": [
            "                   all       1613       4472      0.813      0.722      0.821      0.556      0.772      0.588      0.627      0.288\n",
            "\n",
            "      Epoch    GPU_mem   box_loss  pose_loss  kobj_loss   cls_loss   dfl_loss  Instances       Size\n"
          ]
        },
        {
          "metadata": {
            "tags": null
          },
          "name": "stderr",
          "output_type": "stream",
          "text": [
            "     17/100      2.63G      1.157      4.454     0.3843      1.071      1.281          9        640: 100%|██████████| 458/458 [01:00<00:00,  7.57it/s]\n",
            "                 Class     Images  Instances      Box(P          R      mAP50  mAP50-95)     Pose(P          R      mAP50  mAP50-95): 100%|██████████| 51/51 [00:11<00:00,  4.56it/s]\n"
          ]
        },
        {
          "metadata": {
            "tags": null
          },
          "name": "stdout",
          "output_type": "stream",
          "text": [
            "                   all       1613       4472      0.826      0.717      0.821      0.558      0.754      0.597      0.623      0.283\n",
            "\n",
            "      Epoch    GPU_mem   box_loss  pose_loss  kobj_loss   cls_loss   dfl_loss  Instances       Size\n"
          ]
        },
        {
          "metadata": {
            "tags": null
          },
          "name": "stderr",
          "output_type": "stream",
          "text": [
            "     18/100      2.63G      1.154      4.466     0.3837      1.061       1.28         10        640: 100%|██████████| 458/458 [01:00<00:00,  7.56it/s]\n",
            "                 Class     Images  Instances      Box(P          R      mAP50  mAP50-95)     Pose(P          R      mAP50  mAP50-95): 100%|██████████| 51/51 [00:11<00:00,  4.52it/s]\n"
          ]
        },
        {
          "metadata": {
            "tags": null
          },
          "name": "stdout",
          "output_type": "stream",
          "text": [
            "                   all       1613       4472      0.825      0.724      0.826      0.568      0.738      0.602      0.621      0.285\n",
            "\n",
            "      Epoch    GPU_mem   box_loss  pose_loss  kobj_loss   cls_loss   dfl_loss  Instances       Size\n"
          ]
        },
        {
          "metadata": {
            "tags": null
          },
          "name": "stderr",
          "output_type": "stream",
          "text": [
            "     19/100      2.63G      1.152      4.442     0.3833      1.046      1.275         18        640: 100%|██████████| 458/458 [00:59<00:00,  7.68it/s]\n",
            "                 Class     Images  Instances      Box(P          R      mAP50  mAP50-95)     Pose(P          R      mAP50  mAP50-95): 100%|██████████| 51/51 [00:11<00:00,  4.56it/s]\n"
          ]
        },
        {
          "metadata": {
            "tags": null
          },
          "name": "stdout",
          "output_type": "stream",
          "text": [
            "                   all       1613       4472       0.82      0.713      0.815       0.56      0.769      0.583      0.623       0.29\n",
            "\n",
            "      Epoch    GPU_mem   box_loss  pose_loss  kobj_loss   cls_loss   dfl_loss  Instances       Size\n"
          ]
        },
        {
          "metadata": {
            "tags": null
          },
          "name": "stderr",
          "output_type": "stream",
          "text": [
            "     20/100      2.63G      1.142      4.347     0.3795      1.037       1.27         13        640: 100%|██████████| 458/458 [01:00<00:00,  7.60it/s]\n",
            "                 Class     Images  Instances      Box(P          R      mAP50  mAP50-95)     Pose(P          R      mAP50  mAP50-95): 100%|██████████| 51/51 [00:11<00:00,  4.50it/s]\n"
          ]
        },
        {
          "metadata": {
            "tags": null
          },
          "name": "stdout",
          "output_type": "stream",
          "text": [
            "                   all       1613       4472      0.819      0.733      0.829       0.57       0.76      0.591      0.628      0.296\n",
            "\n",
            "      Epoch    GPU_mem   box_loss  pose_loss  kobj_loss   cls_loss   dfl_loss  Instances       Size\n"
          ]
        },
        {
          "metadata": {
            "tags": null
          },
          "name": "stderr",
          "output_type": "stream",
          "text": [
            "     21/100      2.63G      1.136      4.337     0.3803      1.037      1.268          5        640: 100%|██████████| 458/458 [00:59<00:00,  7.65it/s]\n",
            "                 Class     Images  Instances      Box(P          R      mAP50  mAP50-95)     Pose(P          R      mAP50  mAP50-95): 100%|██████████| 51/51 [00:11<00:00,  4.63it/s]\n"
          ]
        },
        {
          "metadata": {
            "tags": null
          },
          "name": "stdout",
          "output_type": "stream",
          "text": [
            "                   all       1613       4472       0.83      0.712      0.822      0.565       0.76      0.609      0.641      0.308\n",
            "\n",
            "      Epoch    GPU_mem   box_loss  pose_loss  kobj_loss   cls_loss   dfl_loss  Instances       Size\n"
          ]
        },
        {
          "metadata": {
            "tags": null
          },
          "name": "stderr",
          "output_type": "stream",
          "text": [
            "     22/100      2.62G       1.13      4.303     0.3783       1.03      1.262         10        640: 100%|██████████| 458/458 [00:59<00:00,  7.65it/s]\n",
            "                 Class     Images  Instances      Box(P          R      mAP50  mAP50-95)     Pose(P          R      mAP50  mAP50-95): 100%|██████████| 51/51 [00:11<00:00,  4.55it/s]\n"
          ]
        },
        {
          "metadata": {
            "tags": null
          },
          "name": "stdout",
          "output_type": "stream",
          "text": [
            "                   all       1613       4472       0.82      0.733      0.831      0.574      0.752      0.622      0.643      0.303\n",
            "\n",
            "      Epoch    GPU_mem   box_loss  pose_loss  kobj_loss   cls_loss   dfl_loss  Instances       Size\n"
          ]
        },
        {
          "metadata": {
            "tags": null
          },
          "name": "stderr",
          "output_type": "stream",
          "text": [
            "     23/100      2.63G      1.136      4.311     0.3769       1.03      1.261         22        640: 100%|██████████| 458/458 [01:01<00:00,  7.42it/s]\n",
            "                 Class     Images  Instances      Box(P          R      mAP50  mAP50-95)     Pose(P          R      mAP50  mAP50-95): 100%|██████████| 51/51 [00:11<00:00,  4.50it/s]\n"
          ]
        },
        {
          "metadata": {
            "tags": null
          },
          "name": "stdout",
          "output_type": "stream",
          "text": [
            "                   all       1613       4472       0.82      0.731      0.833      0.574      0.753      0.608      0.642      0.304\n",
            "\n",
            "      Epoch    GPU_mem   box_loss  pose_loss  kobj_loss   cls_loss   dfl_loss  Instances       Size\n"
          ]
        },
        {
          "metadata": {
            "tags": null
          },
          "name": "stderr",
          "output_type": "stream",
          "text": [
            "     24/100      2.63G       1.12      4.261     0.3748      1.018      1.258         12        640: 100%|██████████| 458/458 [01:02<00:00,  7.38it/s]\n",
            "                 Class     Images  Instances      Box(P          R      mAP50  mAP50-95)     Pose(P          R      mAP50  mAP50-95): 100%|██████████| 51/51 [00:11<00:00,  4.54it/s]\n"
          ]
        },
        {
          "metadata": {
            "tags": null
          },
          "name": "stdout",
          "output_type": "stream",
          "text": [
            "                   all       1613       4472      0.837      0.725      0.834      0.578      0.766      0.621      0.653      0.321\n",
            "\n",
            "      Epoch    GPU_mem   box_loss  pose_loss  kobj_loss   cls_loss   dfl_loss  Instances       Size\n"
          ]
        },
        {
          "metadata": {
            "tags": null
          },
          "name": "stderr",
          "output_type": "stream",
          "text": [
            "     25/100      2.63G      1.123      4.229     0.3762      1.013      1.263         24        640: 100%|██████████| 458/458 [01:01<00:00,  7.48it/s]\n",
            "                 Class     Images  Instances      Box(P          R      mAP50  mAP50-95)     Pose(P          R      mAP50  mAP50-95): 100%|██████████| 51/51 [00:11<00:00,  4.48it/s]\n"
          ]
        },
        {
          "metadata": {
            "tags": null
          },
          "name": "stdout",
          "output_type": "stream",
          "text": [
            "                   all       1613       4472      0.825      0.732      0.838      0.582      0.773      0.613       0.65      0.307\n",
            "\n",
            "      Epoch    GPU_mem   box_loss  pose_loss  kobj_loss   cls_loss   dfl_loss  Instances       Size\n"
          ]
        },
        {
          "metadata": {
            "tags": null
          },
          "name": "stderr",
          "output_type": "stream",
          "text": [
            "     26/100      2.62G      1.118      4.233     0.3757      1.012      1.254          9        640: 100%|██████████| 458/458 [01:00<00:00,  7.55it/s]\n",
            "                 Class     Images  Instances      Box(P          R      mAP50  mAP50-95)     Pose(P          R      mAP50  mAP50-95): 100%|██████████| 51/51 [00:11<00:00,  4.51it/s]\n"
          ]
        },
        {
          "metadata": {
            "tags": null
          },
          "name": "stdout",
          "output_type": "stream",
          "text": [
            "                   all       1613       4472      0.824      0.737      0.836      0.581      0.767      0.617      0.656      0.321\n",
            "\n",
            "      Epoch    GPU_mem   box_loss  pose_loss  kobj_loss   cls_loss   dfl_loss  Instances       Size\n"
          ]
        },
        {
          "metadata": {
            "tags": null
          },
          "name": "stderr",
          "output_type": "stream",
          "text": [
            "     27/100      2.63G      1.111      4.222     0.3734      1.001       1.25         31        640: 100%|██████████| 458/458 [01:01<00:00,  7.49it/s]\n",
            "                 Class     Images  Instances      Box(P          R      mAP50  mAP50-95)     Pose(P          R      mAP50  mAP50-95): 100%|██████████| 51/51 [00:11<00:00,  4.53it/s]\n"
          ]
        },
        {
          "metadata": {
            "tags": null
          },
          "name": "stdout",
          "output_type": "stream",
          "text": [
            "                   all       1613       4472      0.828      0.735      0.834      0.579      0.765      0.611      0.646      0.317\n",
            "\n",
            "      Epoch    GPU_mem   box_loss  pose_loss  kobj_loss   cls_loss   dfl_loss  Instances       Size\n"
          ]
        },
        {
          "metadata": {
            "tags": null
          },
          "name": "stderr",
          "output_type": "stream",
          "text": [
            "     28/100      2.62G       1.11      4.224     0.3729      1.004      1.251         14        640: 100%|██████████| 458/458 [01:00<00:00,  7.54it/s]\n",
            "                 Class     Images  Instances      Box(P          R      mAP50  mAP50-95)     Pose(P          R      mAP50  mAP50-95): 100%|██████████| 51/51 [00:11<00:00,  4.59it/s]\n"
          ]
        },
        {
          "metadata": {
            "tags": null
          },
          "name": "stdout",
          "output_type": "stream",
          "text": [
            "                   all       1613       4472      0.827      0.737      0.838      0.586      0.766       0.62      0.657      0.328\n",
            "\n",
            "      Epoch    GPU_mem   box_loss  pose_loss  kobj_loss   cls_loss   dfl_loss  Instances       Size\n"
          ]
        },
        {
          "metadata": {
            "tags": null
          },
          "name": "stderr",
          "output_type": "stream",
          "text": [
            "     29/100      2.63G      1.098      4.169     0.3703     0.9862      1.237         14        640: 100%|██████████| 458/458 [01:00<00:00,  7.53it/s]\n",
            "                 Class     Images  Instances      Box(P          R      mAP50  mAP50-95)     Pose(P          R      mAP50  mAP50-95): 100%|██████████| 51/51 [00:11<00:00,  4.54it/s]\n"
          ]
        },
        {
          "metadata": {
            "tags": null
          },
          "name": "stdout",
          "output_type": "stream",
          "text": [
            "                   all       1613       4472      0.831      0.738      0.839      0.588      0.773      0.624      0.667      0.337\n",
            "\n",
            "      Epoch    GPU_mem   box_loss  pose_loss  kobj_loss   cls_loss   dfl_loss  Instances       Size\n"
          ]
        },
        {
          "metadata": {
            "tags": null
          },
          "name": "stderr",
          "output_type": "stream",
          "text": [
            "     30/100      2.62G      1.097      4.147     0.3697     0.9786      1.238         34        640: 100%|██████████| 458/458 [01:00<00:00,  7.52it/s]\n",
            "                 Class     Images  Instances      Box(P          R      mAP50  mAP50-95)     Pose(P          R      mAP50  mAP50-95): 100%|██████████| 51/51 [00:11<00:00,  4.59it/s]\n"
          ]
        },
        {
          "metadata": {
            "tags": null
          },
          "name": "stdout",
          "output_type": "stream",
          "text": [
            "                   all       1613       4472      0.836       0.74      0.841      0.589      0.766      0.628      0.669      0.332\n",
            "\n",
            "      Epoch    GPU_mem   box_loss  pose_loss  kobj_loss   cls_loss   dfl_loss  Instances       Size\n"
          ]
        },
        {
          "metadata": {
            "tags": null
          },
          "name": "stderr",
          "output_type": "stream",
          "text": [
            "     31/100      2.63G      1.098      4.065     0.3686     0.9766      1.239         22        640: 100%|██████████| 458/458 [01:00<00:00,  7.55it/s]\n",
            "                 Class     Images  Instances      Box(P          R      mAP50  mAP50-95)     Pose(P          R      mAP50  mAP50-95): 100%|██████████| 51/51 [00:11<00:00,  4.55it/s]\n"
          ]
        },
        {
          "metadata": {
            "tags": null
          },
          "name": "stdout",
          "output_type": "stream",
          "text": [
            "                   all       1613       4472       0.82      0.752      0.839      0.588       0.78      0.625      0.666      0.333\n",
            "\n",
            "      Epoch    GPU_mem   box_loss  pose_loss  kobj_loss   cls_loss   dfl_loss  Instances       Size\n"
          ]
        },
        {
          "metadata": {
            "tags": null
          },
          "name": "stderr",
          "output_type": "stream",
          "text": [
            "     32/100      2.62G      1.097      4.116     0.3685     0.9824      1.238         14        640: 100%|██████████| 458/458 [01:00<00:00,  7.60it/s]\n",
            "                 Class     Images  Instances      Box(P          R      mAP50  mAP50-95)     Pose(P          R      mAP50  mAP50-95): 100%|██████████| 51/51 [00:11<00:00,  4.59it/s]\n"
          ]
        },
        {
          "metadata": {
            "tags": null
          },
          "name": "stdout",
          "output_type": "stream",
          "text": [
            "                   all       1613       4472      0.834      0.729      0.837       0.59      0.769      0.622      0.663      0.327\n",
            "\n",
            "      Epoch    GPU_mem   box_loss  pose_loss  kobj_loss   cls_loss   dfl_loss  Instances       Size\n"
          ]
        },
        {
          "metadata": {
            "tags": null
          },
          "name": "stderr",
          "output_type": "stream",
          "text": [
            "     33/100      2.63G      1.092      4.067     0.3672     0.9695      1.243         29        640: 100%|██████████| 458/458 [01:00<00:00,  7.52it/s]\n",
            "                 Class     Images  Instances      Box(P          R      mAP50  mAP50-95)     Pose(P          R      mAP50  mAP50-95): 100%|██████████| 51/51 [00:11<00:00,  4.53it/s]\n"
          ]
        },
        {
          "metadata": {
            "tags": null
          },
          "name": "stdout",
          "output_type": "stream",
          "text": [
            "                   all       1613       4472      0.837       0.73      0.841      0.599      0.773      0.638      0.668      0.343\n",
            "\n",
            "      Epoch    GPU_mem   box_loss  pose_loss  kobj_loss   cls_loss   dfl_loss  Instances       Size\n"
          ]
        },
        {
          "metadata": {
            "tags": null
          },
          "name": "stderr",
          "output_type": "stream",
          "text": [
            "     34/100      2.62G      1.092      4.073     0.3669     0.9762      1.237         15        640: 100%|██████████| 458/458 [01:00<00:00,  7.52it/s]\n",
            "                 Class     Images  Instances      Box(P          R      mAP50  mAP50-95)     Pose(P          R      mAP50  mAP50-95): 100%|██████████| 51/51 [00:11<00:00,  4.50it/s]\n"
          ]
        },
        {
          "metadata": {
            "tags": null
          },
          "name": "stdout",
          "output_type": "stream",
          "text": [
            "                   all       1613       4472      0.824      0.749      0.845      0.594      0.767      0.638      0.671      0.342\n",
            "\n",
            "      Epoch    GPU_mem   box_loss  pose_loss  kobj_loss   cls_loss   dfl_loss  Instances       Size\n"
          ]
        },
        {
          "metadata": {
            "tags": null
          },
          "name": "stderr",
          "output_type": "stream",
          "text": [
            "     35/100      2.63G      1.083      4.005      0.365     0.9602      1.228         17        640: 100%|██████████| 458/458 [01:01<00:00,  7.50it/s]\n",
            "                 Class     Images  Instances      Box(P          R      mAP50  mAP50-95)     Pose(P          R      mAP50  mAP50-95): 100%|██████████| 51/51 [00:11<00:00,  4.54it/s]\n"
          ]
        },
        {
          "metadata": {
            "tags": null
          },
          "name": "stdout",
          "output_type": "stream",
          "text": [
            "                   all       1613       4472      0.827      0.745      0.846      0.598       0.78      0.644      0.678      0.345\n",
            "\n",
            "      Epoch    GPU_mem   box_loss  pose_loss  kobj_loss   cls_loss   dfl_loss  Instances       Size\n"
          ]
        },
        {
          "metadata": {
            "tags": null
          },
          "name": "stderr",
          "output_type": "stream",
          "text": [
            "     36/100      2.62G       1.08          4     0.3644      0.955      1.231          9        640: 100%|██████████| 458/458 [01:00<00:00,  7.54it/s]\n",
            "                 Class     Images  Instances      Box(P          R      mAP50  mAP50-95)     Pose(P          R      mAP50  mAP50-95): 100%|██████████| 51/51 [00:11<00:00,  4.53it/s]\n"
          ]
        },
        {
          "metadata": {
            "tags": null
          },
          "name": "stdout",
          "output_type": "stream",
          "text": [
            "                   all       1613       4472      0.821      0.757      0.848      0.601      0.775       0.64       0.68      0.349\n",
            "\n",
            "      Epoch    GPU_mem   box_loss  pose_loss  kobj_loss   cls_loss   dfl_loss  Instances       Size\n"
          ]
        },
        {
          "metadata": {
            "tags": null
          },
          "name": "stderr",
          "output_type": "stream",
          "text": [
            "     37/100      2.63G      1.079      3.996     0.3627     0.9552       1.23          8        640: 100%|██████████| 458/458 [01:00<00:00,  7.51it/s]\n",
            "                 Class     Images  Instances      Box(P          R      mAP50  mAP50-95)     Pose(P          R      mAP50  mAP50-95): 100%|██████████| 51/51 [00:11<00:00,  4.46it/s]\n"
          ]
        },
        {
          "metadata": {
            "tags": null
          },
          "name": "stdout",
          "output_type": "stream",
          "text": [
            "                   all       1613       4472       0.82      0.754      0.849      0.599      0.762      0.646      0.675      0.351\n",
            "\n",
            "      Epoch    GPU_mem   box_loss  pose_loss  kobj_loss   cls_loss   dfl_loss  Instances       Size\n"
          ]
        },
        {
          "metadata": {
            "tags": null
          },
          "name": "stderr",
          "output_type": "stream",
          "text": [
            "     38/100      2.62G      1.076      3.988     0.3639     0.9503      1.223         28        640: 100%|██████████| 458/458 [01:00<00:00,  7.54it/s]\n",
            "                 Class     Images  Instances      Box(P          R      mAP50  mAP50-95)     Pose(P          R      mAP50  mAP50-95): 100%|██████████| 51/51 [00:11<00:00,  4.57it/s]\n"
          ]
        },
        {
          "metadata": {
            "tags": null
          },
          "name": "stdout",
          "output_type": "stream",
          "text": [
            "                   all       1613       4472      0.839       0.75      0.851      0.602      0.774      0.653      0.687      0.358\n",
            "\n",
            "      Epoch    GPU_mem   box_loss  pose_loss  kobj_loss   cls_loss   dfl_loss  Instances       Size\n"
          ]
        },
        {
          "metadata": {
            "tags": null
          },
          "name": "stderr",
          "output_type": "stream",
          "text": [
            "     39/100      2.63G      1.072      3.943      0.361     0.9411      1.221         15        640: 100%|██████████| 458/458 [01:00<00:00,  7.53it/s]\n",
            "                 Class     Images  Instances      Box(P          R      mAP50  mAP50-95)     Pose(P          R      mAP50  mAP50-95): 100%|██████████| 51/51 [00:11<00:00,  4.40it/s]\n"
          ]
        },
        {
          "metadata": {
            "tags": null
          },
          "name": "stdout",
          "output_type": "stream",
          "text": [
            "                   all       1613       4472      0.828       0.74      0.844      0.599      0.781      0.644      0.682      0.357\n",
            "\n",
            "      Epoch    GPU_mem   box_loss  pose_loss  kobj_loss   cls_loss   dfl_loss  Instances       Size\n"
          ]
        },
        {
          "metadata": {
            "tags": null
          },
          "name": "stderr",
          "output_type": "stream",
          "text": [
            "     40/100      2.62G      1.072      3.959     0.3625     0.9373      1.217         13        640: 100%|██████████| 458/458 [01:00<00:00,  7.54it/s]\n",
            "                 Class     Images  Instances      Box(P          R      mAP50  mAP50-95)     Pose(P          R      mAP50  mAP50-95): 100%|██████████| 51/51 [00:11<00:00,  4.53it/s]\n"
          ]
        },
        {
          "metadata": {
            "tags": null
          },
          "name": "stdout",
          "output_type": "stream",
          "text": [
            "                   all       1613       4472      0.833      0.742      0.848      0.605      0.795      0.643      0.692      0.361\n",
            "\n",
            "      Epoch    GPU_mem   box_loss  pose_loss  kobj_loss   cls_loss   dfl_loss  Instances       Size\n"
          ]
        },
        {
          "metadata": {
            "tags": null
          },
          "name": "stderr",
          "output_type": "stream",
          "text": [
            "     41/100      2.62G      1.066      3.924     0.3591     0.9385      1.221         26        640: 100%|██████████| 458/458 [01:00<00:00,  7.54it/s]\n",
            "                 Class     Images  Instances      Box(P          R      mAP50  mAP50-95)     Pose(P          R      mAP50  mAP50-95): 100%|██████████| 51/51 [00:11<00:00,  4.59it/s]\n"
          ]
        },
        {
          "metadata": {
            "tags": null
          },
          "name": "stdout",
          "output_type": "stream",
          "text": [
            "                   all       1613       4472       0.83      0.763      0.854       0.61      0.758       0.65      0.685      0.366\n",
            "\n",
            "      Epoch    GPU_mem   box_loss  pose_loss  kobj_loss   cls_loss   dfl_loss  Instances       Size\n"
          ]
        },
        {
          "metadata": {
            "tags": null
          },
          "name": "stderr",
          "output_type": "stream",
          "text": [
            "     42/100      2.62G      1.065      3.936     0.3609     0.9379      1.219         16        640: 100%|██████████| 458/458 [01:01<00:00,  7.49it/s]\n",
            "                 Class     Images  Instances      Box(P          R      mAP50  mAP50-95)     Pose(P          R      mAP50  mAP50-95): 100%|██████████| 51/51 [00:11<00:00,  4.55it/s]\n"
          ]
        },
        {
          "metadata": {
            "tags": null
          },
          "name": "stdout",
          "output_type": "stream",
          "text": [
            "                   all       1613       4472       0.83      0.758      0.853      0.605      0.774      0.656       0.69      0.363\n",
            "\n",
            "      Epoch    GPU_mem   box_loss  pose_loss  kobj_loss   cls_loss   dfl_loss  Instances       Size\n"
          ]
        },
        {
          "metadata": {
            "tags": null
          },
          "name": "stderr",
          "output_type": "stream",
          "text": [
            "     43/100      2.63G      1.059      3.907     0.3608      0.927      1.214         13        640: 100%|██████████| 458/458 [01:01<00:00,  7.50it/s]\n",
            "                 Class     Images  Instances      Box(P          R      mAP50  mAP50-95)     Pose(P          R      mAP50  mAP50-95): 100%|██████████| 51/51 [00:11<00:00,  4.54it/s]\n"
          ]
        },
        {
          "metadata": {
            "tags": null
          },
          "name": "stdout",
          "output_type": "stream",
          "text": [
            "                   all       1613       4472      0.828      0.757      0.854      0.614      0.781      0.659      0.697      0.373\n",
            "\n",
            "      Epoch    GPU_mem   box_loss  pose_loss  kobj_loss   cls_loss   dfl_loss  Instances       Size\n"
          ]
        },
        {
          "metadata": {
            "tags": null
          },
          "name": "stderr",
          "output_type": "stream",
          "text": [
            "     44/100      2.62G      1.051      3.882     0.3557     0.9238      1.212         12        640: 100%|██████████| 458/458 [01:00<00:00,  7.57it/s]\n",
            "                 Class     Images  Instances      Box(P          R      mAP50  mAP50-95)     Pose(P          R      mAP50  mAP50-95): 100%|██████████| 51/51 [00:11<00:00,  4.58it/s]\n"
          ]
        },
        {
          "metadata": {
            "tags": null
          },
          "name": "stdout",
          "output_type": "stream",
          "text": [
            "                   all       1613       4472      0.814      0.763      0.853      0.612      0.783      0.649      0.693      0.369\n",
            "\n",
            "      Epoch    GPU_mem   box_loss  pose_loss  kobj_loss   cls_loss   dfl_loss  Instances       Size\n"
          ]
        },
        {
          "metadata": {
            "tags": null
          },
          "name": "stderr",
          "output_type": "stream",
          "text": [
            "     45/100      2.63G      1.054      3.851      0.358     0.9188      1.214         21        640: 100%|██████████| 458/458 [01:00<00:00,  7.56it/s]\n",
            "                 Class     Images  Instances      Box(P          R      mAP50  mAP50-95)     Pose(P          R      mAP50  mAP50-95): 100%|██████████| 51/51 [00:11<00:00,  4.51it/s]\n"
          ]
        },
        {
          "metadata": {
            "tags": null
          },
          "name": "stdout",
          "output_type": "stream",
          "text": [
            "                   all       1613       4472      0.848      0.752      0.857      0.613      0.796      0.654      0.698      0.375\n",
            "\n",
            "      Epoch    GPU_mem   box_loss  pose_loss  kobj_loss   cls_loss   dfl_loss  Instances       Size\n"
          ]
        },
        {
          "metadata": {
            "tags": null
          },
          "name": "stderr",
          "output_type": "stream",
          "text": [
            "     46/100      2.61G      1.048      3.848     0.3567     0.9142      1.206          6        640: 100%|██████████| 458/458 [01:00<00:00,  7.52it/s]\n",
            "                 Class     Images  Instances      Box(P          R      mAP50  mAP50-95)     Pose(P          R      mAP50  mAP50-95): 100%|██████████| 51/51 [00:11<00:00,  4.51it/s]\n"
          ]
        },
        {
          "metadata": {
            "tags": null
          },
          "name": "stdout",
          "output_type": "stream",
          "text": [
            "                   all       1613       4472      0.837      0.756      0.855      0.614        0.8      0.659      0.702      0.377\n",
            "\n",
            "      Epoch    GPU_mem   box_loss  pose_loss  kobj_loss   cls_loss   dfl_loss  Instances       Size\n"
          ]
        },
        {
          "metadata": {
            "tags": null
          },
          "name": "stderr",
          "output_type": "stream",
          "text": [
            "     47/100      2.62G      1.052      3.841     0.3561     0.9128       1.21         19        640: 100%|██████████| 458/458 [01:00<00:00,  7.57it/s]\n",
            "                 Class     Images  Instances      Box(P          R      mAP50  mAP50-95)     Pose(P          R      mAP50  mAP50-95): 100%|██████████| 51/51 [00:11<00:00,  4.60it/s]\n"
          ]
        },
        {
          "metadata": {
            "tags": null
          },
          "name": "stdout",
          "output_type": "stream",
          "text": [
            "                   all       1613       4472      0.833      0.763       0.86      0.619      0.801      0.657      0.709      0.384\n",
            "\n",
            "      Epoch    GPU_mem   box_loss  pose_loss  kobj_loss   cls_loss   dfl_loss  Instances       Size\n"
          ]
        },
        {
          "metadata": {
            "tags": null
          },
          "name": "stderr",
          "output_type": "stream",
          "text": [
            "     48/100      2.62G      1.051      3.833     0.3565     0.9207       1.21         16        640: 100%|██████████| 458/458 [01:00<00:00,  7.59it/s]\n",
            "                 Class     Images  Instances      Box(P          R      mAP50  mAP50-95)     Pose(P          R      mAP50  mAP50-95): 100%|██████████| 51/51 [00:10<00:00,  4.66it/s]\n"
          ]
        },
        {
          "metadata": {
            "tags": null
          },
          "name": "stdout",
          "output_type": "stream",
          "text": [
            "                   all       1613       4472      0.841      0.757      0.856      0.612      0.783      0.668      0.704       0.38\n",
            "\n",
            "      Epoch    GPU_mem   box_loss  pose_loss  kobj_loss   cls_loss   dfl_loss  Instances       Size\n"
          ]
        },
        {
          "metadata": {
            "tags": null
          },
          "name": "stderr",
          "output_type": "stream",
          "text": [
            "     49/100      2.63G      1.039      3.798     0.3515      0.907      1.204          5        640: 100%|██████████| 458/458 [01:01<00:00,  7.45it/s]\n",
            "                 Class     Images  Instances      Box(P          R      mAP50  mAP50-95)     Pose(P          R      mAP50  mAP50-95): 100%|██████████| 51/51 [00:11<00:00,  4.50it/s]\n"
          ]
        },
        {
          "metadata": {
            "tags": null
          },
          "name": "stdout",
          "output_type": "stream",
          "text": [
            "                   all       1613       4472      0.833      0.762      0.859      0.618      0.786      0.656      0.702      0.381\n",
            "\n",
            "      Epoch    GPU_mem   box_loss  pose_loss  kobj_loss   cls_loss   dfl_loss  Instances       Size\n"
          ]
        },
        {
          "metadata": {
            "tags": null
          },
          "name": "stderr",
          "output_type": "stream",
          "text": [
            "     50/100      2.61G      1.035      3.782     0.3499     0.9028      1.198         25        640: 100%|██████████| 458/458 [01:02<00:00,  7.33it/s]\n",
            "                 Class     Images  Instances      Box(P          R      mAP50  mAP50-95)     Pose(P          R      mAP50  mAP50-95): 100%|██████████| 51/51 [00:11<00:00,  4.39it/s]\n"
          ]
        },
        {
          "metadata": {
            "tags": null
          },
          "name": "stdout",
          "output_type": "stream",
          "text": [
            "                   all       1613       4472      0.834      0.764      0.857      0.618       0.79      0.666      0.703      0.382\n",
            "\n",
            "      Epoch    GPU_mem   box_loss  pose_loss  kobj_loss   cls_loss   dfl_loss  Instances       Size\n"
          ]
        },
        {
          "metadata": {
            "tags": null
          },
          "name": "stderr",
          "output_type": "stream",
          "text": [
            "     51/100      2.63G      1.036      3.776     0.3515     0.8965        1.2         15        640: 100%|██████████| 458/458 [01:00<00:00,  7.59it/s]\n",
            "                 Class     Images  Instances      Box(P          R      mAP50  mAP50-95)     Pose(P          R      mAP50  mAP50-95): 100%|██████████| 51/51 [00:11<00:00,  4.56it/s]\n"
          ]
        },
        {
          "metadata": {
            "tags": null
          },
          "name": "stdout",
          "output_type": "stream",
          "text": [
            "                   all       1613       4472      0.844      0.756       0.86       0.62      0.785      0.669      0.709      0.383\n",
            "\n",
            "      Epoch    GPU_mem   box_loss  pose_loss  kobj_loss   cls_loss   dfl_loss  Instances       Size\n"
          ]
        },
        {
          "metadata": {
            "tags": null
          },
          "name": "stderr",
          "output_type": "stream",
          "text": [
            "     52/100      2.61G      1.036      3.736     0.3519     0.8945      1.195         16        640: 100%|██████████| 458/458 [01:00<00:00,  7.59it/s]\n",
            "                 Class     Images  Instances      Box(P          R      mAP50  mAP50-95)     Pose(P          R      mAP50  mAP50-95): 100%|██████████| 51/51 [00:11<00:00,  4.57it/s]\n"
          ]
        },
        {
          "metadata": {
            "tags": null
          },
          "name": "stdout",
          "output_type": "stream",
          "text": [
            "                   all       1613       4472      0.841      0.752      0.861      0.619      0.802      0.659      0.711      0.388\n",
            "\n",
            "      Epoch    GPU_mem   box_loss  pose_loss  kobj_loss   cls_loss   dfl_loss  Instances       Size\n"
          ]
        },
        {
          "metadata": {
            "tags": null
          },
          "name": "stderr",
          "output_type": "stream",
          "text": [
            "     53/100      2.62G      1.029      3.729     0.3522     0.8894      1.193         20        640: 100%|██████████| 458/458 [01:01<00:00,  7.48it/s]\n",
            "                 Class     Images  Instances      Box(P          R      mAP50  mAP50-95)     Pose(P          R      mAP50  mAP50-95): 100%|██████████| 51/51 [00:11<00:00,  4.51it/s]\n"
          ]
        },
        {
          "metadata": {
            "tags": null
          },
          "name": "stdout",
          "output_type": "stream",
          "text": [
            "                   all       1613       4472      0.839      0.762      0.862      0.624        0.8      0.659      0.711      0.387\n",
            "\n",
            "      Epoch    GPU_mem   box_loss  pose_loss  kobj_loss   cls_loss   dfl_loss  Instances       Size\n"
          ]
        },
        {
          "metadata": {
            "tags": null
          },
          "name": "stderr",
          "output_type": "stream",
          "text": [
            "     54/100      2.62G      1.024      3.712     0.3484     0.8858      1.196         18        640: 100%|██████████| 458/458 [01:00<00:00,  7.56it/s]\n",
            "                 Class     Images  Instances      Box(P          R      mAP50  mAP50-95)     Pose(P          R      mAP50  mAP50-95): 100%|██████████| 51/51 [00:11<00:00,  4.62it/s]"
          ]
        },
        {
          "metadata": {
            "tags": null
          },
          "name": "stdout",
          "output_type": "stream",
          "text": [
            "                   all       1613       4472      0.846      0.759      0.861      0.626      0.793      0.671      0.709      0.389\n"
          ]
        },
        {
          "metadata": {
            "tags": null
          },
          "name": "stderr",
          "output_type": "stream",
          "text": [
            "\n"
          ]
        },
        {
          "metadata": {
            "tags": null
          },
          "name": "stdout",
          "output_type": "stream",
          "text": [
            "\n",
            "      Epoch    GPU_mem   box_loss  pose_loss  kobj_loss   cls_loss   dfl_loss  Instances       Size\n"
          ]
        },
        {
          "metadata": {
            "tags": null
          },
          "name": "stderr",
          "output_type": "stream",
          "text": [
            "     55/100      2.62G      1.035       3.69     0.3505     0.8853      1.199         19        640: 100%|██████████| 458/458 [00:59<00:00,  7.69it/s]\n",
            "                 Class     Images  Instances      Box(P          R      mAP50  mAP50-95)     Pose(P          R      mAP50  mAP50-95): 100%|██████████| 51/51 [00:11<00:00,  4.63it/s]\n"
          ]
        },
        {
          "metadata": {
            "tags": null
          },
          "name": "stdout",
          "output_type": "stream",
          "text": [
            "                   all       1613       4472      0.848      0.753      0.861      0.624      0.801      0.663      0.713      0.391\n",
            "\n",
            "      Epoch    GPU_mem   box_loss  pose_loss  kobj_loss   cls_loss   dfl_loss  Instances       Size\n"
          ]
        },
        {
          "metadata": {
            "tags": null
          },
          "name": "stderr",
          "output_type": "stream",
          "text": [
            "     56/100      2.61G      1.034      3.698     0.3495     0.8879      1.196         12        640: 100%|██████████| 458/458 [00:59<00:00,  7.68it/s]\n",
            "                 Class     Images  Instances      Box(P          R      mAP50  mAP50-95)     Pose(P          R      mAP50  mAP50-95): 100%|██████████| 51/51 [00:11<00:00,  4.56it/s]"
          ]
        },
        {
          "metadata": {
            "tags": null
          },
          "name": "stdout",
          "output_type": "stream",
          "text": [
            "                   all       1613       4472      0.845      0.758      0.864      0.627      0.797      0.666      0.712       0.39\n"
          ]
        },
        {
          "metadata": {
            "tags": null
          },
          "name": "stderr",
          "output_type": "stream",
          "text": [
            "\n"
          ]
        },
        {
          "metadata": {
            "tags": null
          },
          "name": "stdout",
          "output_type": "stream",
          "text": [
            "\n",
            "      Epoch    GPU_mem   box_loss  pose_loss  kobj_loss   cls_loss   dfl_loss  Instances       Size\n"
          ]
        },
        {
          "metadata": {
            "tags": null
          },
          "name": "stderr",
          "output_type": "stream",
          "text": [
            "     57/100      2.62G      1.021      3.686     0.3461     0.8801      1.196         19        640: 100%|██████████| 458/458 [01:00<00:00,  7.56it/s]\n",
            "                 Class     Images  Instances      Box(P          R      mAP50  mAP50-95)     Pose(P          R      mAP50  mAP50-95): 100%|██████████| 51/51 [00:10<00:00,  4.70it/s]"
          ]
        },
        {
          "metadata": {
            "tags": null
          },
          "name": "stdout",
          "output_type": "stream",
          "text": [
            "                   all       1613       4472      0.843      0.764      0.863      0.625      0.798      0.677      0.721      0.399\n"
          ]
        },
        {
          "metadata": {
            "tags": null
          },
          "name": "stderr",
          "output_type": "stream",
          "text": [
            "\n"
          ]
        },
        {
          "metadata": {
            "tags": null
          },
          "name": "stdout",
          "output_type": "stream",
          "text": [
            "\n",
            "      Epoch    GPU_mem   box_loss  pose_loss  kobj_loss   cls_loss   dfl_loss  Instances       Size\n"
          ]
        },
        {
          "metadata": {
            "tags": null
          },
          "name": "stderr",
          "output_type": "stream",
          "text": [
            "     58/100      2.61G      1.025      3.639     0.3488     0.8838       1.19          9        640: 100%|██████████| 458/458 [01:00<00:00,  7.63it/s]\n",
            "                 Class     Images  Instances      Box(P          R      mAP50  mAP50-95)     Pose(P          R      mAP50  mAP50-95): 100%|██████████| 51/51 [00:11<00:00,  4.51it/s]\n"
          ]
        },
        {
          "metadata": {
            "tags": null
          },
          "name": "stdout",
          "output_type": "stream",
          "text": [
            "                   all       1613       4472      0.848      0.757      0.866      0.629      0.811      0.662      0.718        0.4\n",
            "\n",
            "      Epoch    GPU_mem   box_loss  pose_loss  kobj_loss   cls_loss   dfl_loss  Instances       Size\n"
          ]
        },
        {
          "metadata": {
            "tags": null
          },
          "name": "stderr",
          "output_type": "stream",
          "text": [
            "     59/100      2.62G      1.012       3.62     0.3479     0.8699      1.187         15        640: 100%|██████████| 458/458 [01:00<00:00,  7.59it/s]\n",
            "                 Class     Images  Instances      Box(P          R      mAP50  mAP50-95)     Pose(P          R      mAP50  mAP50-95): 100%|██████████| 51/51 [00:11<00:00,  4.59it/s]\n"
          ]
        },
        {
          "metadata": {
            "tags": null
          },
          "name": "stdout",
          "output_type": "stream",
          "text": [
            "                   all       1613       4472      0.841      0.765      0.867      0.631      0.794      0.679      0.717      0.399\n",
            "\n",
            "      Epoch    GPU_mem   box_loss  pose_loss  kobj_loss   cls_loss   dfl_loss  Instances       Size\n"
          ]
        },
        {
          "metadata": {
            "tags": null
          },
          "name": "stderr",
          "output_type": "stream",
          "text": [
            "     60/100      2.62G      1.018      3.627     0.3489      0.874      1.189         16        640: 100%|██████████| 458/458 [00:59<00:00,  7.73it/s]\n",
            "                 Class     Images  Instances      Box(P          R      mAP50  mAP50-95)     Pose(P          R      mAP50  mAP50-95): 100%|██████████| 51/51 [00:11<00:00,  4.59it/s]\n"
          ]
        },
        {
          "metadata": {
            "tags": null
          },
          "name": "stdout",
          "output_type": "stream",
          "text": [
            "                   all       1613       4472      0.837      0.776      0.868      0.631      0.792      0.676      0.718      0.399\n",
            "\n",
            "      Epoch    GPU_mem   box_loss  pose_loss  kobj_loss   cls_loss   dfl_loss  Instances       Size\n"
          ]
        },
        {
          "metadata": {
            "tags": null
          },
          "name": "stderr",
          "output_type": "stream",
          "text": [
            "     61/100      2.62G      1.013      3.613     0.3422     0.8651      1.184         14        640: 100%|██████████| 458/458 [01:00<00:00,  7.58it/s]\n",
            "                 Class     Images  Instances      Box(P          R      mAP50  mAP50-95)     Pose(P          R      mAP50  mAP50-95): 100%|██████████| 51/51 [00:11<00:00,  4.52it/s]"
          ]
        },
        {
          "metadata": {
            "tags": null
          },
          "name": "stdout",
          "output_type": "stream",
          "text": [
            "                   all       1613       4472      0.847      0.758      0.864       0.63      0.799      0.669      0.713        0.4\n"
          ]
        },
        {
          "metadata": {
            "tags": null
          },
          "name": "stderr",
          "output_type": "stream",
          "text": [
            "\n"
          ]
        },
        {
          "metadata": {
            "tags": null
          },
          "name": "stdout",
          "output_type": "stream",
          "text": [
            "\n",
            "      Epoch    GPU_mem   box_loss  pose_loss  kobj_loss   cls_loss   dfl_loss  Instances       Size\n"
          ]
        },
        {
          "output_type": "stream",
          "name": "stderr",
          "text": [
            "     62/100      2.62G      1.013      3.617     0.3467     0.8685      1.187         18        640: 100%|██████████| 458/458 [00:59<00:00,  7.71it/s]\n",
            "                 Class     Images  Instances      Box(P          R      mAP50  mAP50-95)     Pose(P          R      mAP50  mAP50-95): 100%|██████████| 51/51 [00:10<00:00,  4.67it/s]\n"
          ]
        },
        {
          "output_type": "stream",
          "name": "stdout",
          "text": [
            "                   all       1613       4472      0.846      0.765      0.867       0.63      0.801      0.675      0.719      0.402\n",
            "\n",
            "      Epoch    GPU_mem   box_loss  pose_loss  kobj_loss   cls_loss   dfl_loss  Instances       Size\n"
          ]
        },
        {
          "output_type": "stream",
          "name": "stderr",
          "text": [
            "     63/100      2.62G      1.007      3.595     0.3444     0.8563      1.182         22        640: 100%|██████████| 458/458 [01:00<00:00,  7.62it/s]\n",
            "                 Class     Images  Instances      Box(P          R      mAP50  mAP50-95)     Pose(P          R      mAP50  mAP50-95): 100%|██████████| 51/51 [00:11<00:00,  4.60it/s]\n"
          ]
        },
        {
          "output_type": "stream",
          "name": "stdout",
          "text": [
            "                   all       1613       4472      0.845      0.766       0.87      0.633      0.809      0.671      0.722      0.408\n",
            "\n",
            "      Epoch    GPU_mem   box_loss  pose_loss  kobj_loss   cls_loss   dfl_loss  Instances       Size\n"
          ]
        },
        {
          "output_type": "stream",
          "name": "stderr",
          "text": [
            "     64/100      2.62G      1.002      3.585     0.3449     0.8545      1.177         15        640: 100%|██████████| 458/458 [01:00<00:00,  7.57it/s]\n",
            "                 Class     Images  Instances      Box(P          R      mAP50  mAP50-95)     Pose(P          R      mAP50  mAP50-95): 100%|██████████| 51/51 [00:11<00:00,  4.55it/s]"
          ]
        },
        {
          "output_type": "stream",
          "name": "stdout",
          "text": [
            "                   all       1613       4472       0.84       0.77      0.867      0.632      0.804      0.675      0.723      0.407\n"
          ]
        },
        {
          "output_type": "stream",
          "name": "stderr",
          "text": [
            "\n"
          ]
        },
        {
          "output_type": "stream",
          "name": "stdout",
          "text": [
            "\n",
            "      Epoch    GPU_mem   box_loss  pose_loss  kobj_loss   cls_loss   dfl_loss  Instances       Size\n"
          ]
        },
        {
          "output_type": "stream",
          "name": "stderr",
          "text": [
            "     65/100      2.62G      1.003      3.575     0.3427     0.8564       1.18         17        640: 100%|██████████| 458/458 [01:01<00:00,  7.50it/s]\n",
            "                 Class     Images  Instances      Box(P          R      mAP50  mAP50-95)     Pose(P          R      mAP50  mAP50-95): 100%|██████████| 51/51 [00:10<00:00,  4.65it/s]\n"
          ]
        },
        {
          "output_type": "stream",
          "name": "stdout",
          "text": [
            "                   all       1613       4472      0.841      0.768      0.869      0.633      0.807      0.677      0.726      0.407\n",
            "\n",
            "      Epoch    GPU_mem   box_loss  pose_loss  kobj_loss   cls_loss   dfl_loss  Instances       Size\n"
          ]
        },
        {
          "output_type": "stream",
          "name": "stderr",
          "text": [
            "     66/100      2.61G     0.9997      3.565     0.3436     0.8509      1.176          7        640: 100%|██████████| 458/458 [01:00<00:00,  7.60it/s]\n",
            "                 Class     Images  Instances      Box(P          R      mAP50  mAP50-95)     Pose(P          R      mAP50  mAP50-95): 100%|██████████| 51/51 [00:11<00:00,  4.64it/s]\n"
          ]
        },
        {
          "output_type": "stream",
          "name": "stdout",
          "text": [
            "                   all       1613       4472      0.832      0.781      0.871      0.636      0.807      0.669      0.725      0.412\n",
            "\n",
            "      Epoch    GPU_mem   box_loss  pose_loss  kobj_loss   cls_loss   dfl_loss  Instances       Size\n"
          ]
        },
        {
          "output_type": "stream",
          "name": "stderr",
          "text": [
            "     67/100      2.62G     0.9901      3.495     0.3389      0.838      1.169         22        640: 100%|██████████| 458/458 [01:00<00:00,  7.52it/s]\n",
            "                 Class     Images  Instances      Box(P          R      mAP50  mAP50-95)     Pose(P          R      mAP50  mAP50-95): 100%|██████████| 51/51 [00:11<00:00,  4.57it/s]\n"
          ]
        },
        {
          "output_type": "stream",
          "name": "stdout",
          "text": [
            "                   all       1613       4472      0.845      0.768      0.871      0.634      0.792      0.683      0.724       0.41\n",
            "\n",
            "      Epoch    GPU_mem   box_loss  pose_loss  kobj_loss   cls_loss   dfl_loss  Instances       Size\n"
          ]
        },
        {
          "output_type": "stream",
          "name": "stderr",
          "text": [
            "     68/100      2.61G     0.9962      3.518     0.3422     0.8443      1.173         25        640: 100%|██████████| 458/458 [00:59<00:00,  7.64it/s]\n",
            "                 Class     Images  Instances      Box(P          R      mAP50  mAP50-95)     Pose(P          R      mAP50  mAP50-95): 100%|██████████| 51/51 [00:11<00:00,  4.63it/s]\n"
          ]
        },
        {
          "output_type": "stream",
          "name": "stdout",
          "text": [
            "                   all       1613       4472      0.856       0.76       0.87      0.636      0.802      0.682      0.735      0.416\n",
            "\n",
            "      Epoch    GPU_mem   box_loss  pose_loss  kobj_loss   cls_loss   dfl_loss  Instances       Size\n"
          ]
        },
        {
          "output_type": "stream",
          "name": "stderr",
          "text": [
            "     69/100      2.62G     0.9938      3.494     0.3395     0.8402      1.172         11        640: 100%|██████████| 458/458 [00:59<00:00,  7.65it/s]\n",
            "                 Class     Images  Instances      Box(P          R      mAP50  mAP50-95)     Pose(P          R      mAP50  mAP50-95): 100%|██████████| 51/51 [00:10<00:00,  4.64it/s]"
          ]
        },
        {
          "output_type": "stream",
          "name": "stdout",
          "text": [
            "                   all       1613       4472       0.83      0.781       0.87      0.636      0.793      0.682      0.727      0.412\n"
          ]
        },
        {
          "output_type": "stream",
          "name": "stderr",
          "text": [
            "\n"
          ]
        },
        {
          "output_type": "stream",
          "name": "stdout",
          "text": [
            "\n",
            "      Epoch    GPU_mem   box_loss  pose_loss  kobj_loss   cls_loss   dfl_loss  Instances       Size\n"
          ]
        },
        {
          "output_type": "stream",
          "name": "stderr",
          "text": [
            "     70/100      2.61G     0.9913      3.498      0.341     0.8396       1.17         27        640: 100%|██████████| 458/458 [01:00<00:00,  7.61it/s]\n",
            "                 Class     Images  Instances      Box(P          R      mAP50  mAP50-95)     Pose(P          R      mAP50  mAP50-95): 100%|██████████| 51/51 [00:10<00:00,  4.75it/s]\n"
          ]
        },
        {
          "output_type": "stream",
          "name": "stdout",
          "text": [
            "                   all       1613       4472       0.84      0.767      0.869      0.634      0.815      0.667      0.728      0.414\n",
            "\n",
            "      Epoch    GPU_mem   box_loss  pose_loss  kobj_loss   cls_loss   dfl_loss  Instances       Size\n"
          ]
        },
        {
          "output_type": "stream",
          "name": "stderr",
          "text": [
            "     71/100      2.62G     0.9844      3.476     0.3396     0.8357      1.169         16        640: 100%|██████████| 458/458 [00:59<00:00,  7.71it/s]\n",
            "                 Class     Images  Instances      Box(P          R      mAP50  mAP50-95)     Pose(P          R      mAP50  mAP50-95): 100%|██████████| 51/51 [00:10<00:00,  4.72it/s]\n"
          ]
        },
        {
          "output_type": "stream",
          "name": "stdout",
          "text": [
            "                   all       1613       4472      0.847      0.771      0.871      0.637      0.791      0.681      0.727      0.412\n",
            "\n",
            "      Epoch    GPU_mem   box_loss  pose_loss  kobj_loss   cls_loss   dfl_loss  Instances       Size\n"
          ]
        },
        {
          "output_type": "stream",
          "name": "stderr",
          "text": [
            "     72/100      2.61G     0.9789      3.471     0.3371     0.8333      1.171          5        640: 100%|██████████| 458/458 [00:59<00:00,  7.66it/s]\n",
            "                 Class     Images  Instances      Box(P          R      mAP50  mAP50-95)     Pose(P          R      mAP50  mAP50-95): 100%|██████████| 51/51 [00:10<00:00,  4.73it/s]\n"
          ]
        },
        {
          "output_type": "stream",
          "name": "stdout",
          "text": [
            "                   all       1613       4472      0.841       0.77       0.87      0.638        0.8      0.685      0.732      0.414\n",
            "\n",
            "      Epoch    GPU_mem   box_loss  pose_loss  kobj_loss   cls_loss   dfl_loss  Instances       Size\n"
          ]
        },
        {
          "output_type": "stream",
          "name": "stderr",
          "text": [
            "     73/100      2.62G     0.9842      3.423     0.3379     0.8338       1.17         18        640: 100%|██████████| 458/458 [00:59<00:00,  7.74it/s]\n",
            "                 Class     Images  Instances      Box(P          R      mAP50  mAP50-95)     Pose(P          R      mAP50  mAP50-95): 100%|██████████| 51/51 [00:10<00:00,  4.66it/s]"
          ]
        },
        {
          "output_type": "stream",
          "name": "stdout",
          "text": [
            "                   all       1613       4472      0.843      0.777      0.871      0.637      0.796      0.682      0.731      0.416\n"
          ]
        },
        {
          "output_type": "stream",
          "name": "stderr",
          "text": [
            "\n"
          ]
        },
        {
          "output_type": "stream",
          "name": "stdout",
          "text": [
            "\n",
            "      Epoch    GPU_mem   box_loss  pose_loss  kobj_loss   cls_loss   dfl_loss  Instances       Size\n"
          ]
        },
        {
          "output_type": "stream",
          "name": "stderr",
          "text": [
            "     74/100      2.61G     0.9808      3.416     0.3366     0.8323      1.167          4        640: 100%|██████████| 458/458 [00:59<00:00,  7.70it/s]\n",
            "                 Class     Images  Instances      Box(P          R      mAP50  mAP50-95)     Pose(P          R      mAP50  mAP50-95): 100%|██████████| 51/51 [00:11<00:00,  4.57it/s]"
          ]
        },
        {
          "output_type": "stream",
          "name": "stdout",
          "text": [
            "                   all       1613       4472      0.842      0.775       0.87      0.638      0.798      0.685      0.733      0.418\n"
          ]
        },
        {
          "output_type": "stream",
          "name": "stderr",
          "text": [
            "\n"
          ]
        },
        {
          "output_type": "stream",
          "name": "stdout",
          "text": [
            "\n",
            "      Epoch    GPU_mem   box_loss  pose_loss  kobj_loss   cls_loss   dfl_loss  Instances       Size\n"
          ]
        },
        {
          "output_type": "stream",
          "name": "stderr",
          "text": [
            "     75/100      2.62G     0.9819      3.403     0.3358     0.8253      1.164         33        640: 100%|██████████| 458/458 [00:58<00:00,  7.77it/s]\n",
            "                 Class     Images  Instances      Box(P          R      mAP50  mAP50-95)     Pose(P          R      mAP50  mAP50-95): 100%|██████████| 51/51 [00:10<00:00,  4.67it/s]"
          ]
        },
        {
          "output_type": "stream",
          "name": "stdout",
          "text": [
            "                   all       1613       4472      0.838      0.774      0.872      0.638      0.814      0.671      0.732       0.42\n"
          ]
        },
        {
          "output_type": "stream",
          "name": "stderr",
          "text": [
            "\n"
          ]
        },
        {
          "output_type": "stream",
          "name": "stdout",
          "text": [
            "\n",
            "      Epoch    GPU_mem   box_loss  pose_loss  kobj_loss   cls_loss   dfl_loss  Instances       Size\n"
          ]
        },
        {
          "output_type": "stream",
          "name": "stderr",
          "text": [
            "     76/100      2.61G     0.9704      3.413     0.3365     0.8186      1.159         20        640: 100%|██████████| 458/458 [00:59<00:00,  7.70it/s]\n",
            "                 Class     Images  Instances      Box(P          R      mAP50  mAP50-95)     Pose(P          R      mAP50  mAP50-95): 100%|██████████| 51/51 [00:10<00:00,  4.64it/s]\n"
          ]
        },
        {
          "output_type": "stream",
          "name": "stdout",
          "text": [
            "                   all       1613       4472       0.84      0.773      0.872      0.639      0.796      0.682      0.734       0.42\n",
            "\n",
            "      Epoch    GPU_mem   box_loss  pose_loss  kobj_loss   cls_loss   dfl_loss  Instances       Size\n"
          ]
        },
        {
          "output_type": "stream",
          "name": "stderr",
          "text": [
            "     77/100      2.62G     0.9672      3.383     0.3354     0.8081      1.158         18        640: 100%|██████████| 458/458 [00:58<00:00,  7.79it/s]\n",
            "                 Class     Images  Instances      Box(P          R      mAP50  mAP50-95)     Pose(P          R      mAP50  mAP50-95): 100%|██████████| 51/51 [00:10<00:00,  4.69it/s]\n"
          ]
        },
        {
          "output_type": "stream",
          "name": "stdout",
          "text": [
            "                   all       1613       4472      0.836      0.778      0.873      0.638      0.804      0.675      0.731       0.42\n",
            "\n",
            "      Epoch    GPU_mem   box_loss  pose_loss  kobj_loss   cls_loss   dfl_loss  Instances       Size\n"
          ]
        },
        {
          "output_type": "stream",
          "name": "stderr",
          "text": [
            "     78/100      2.61G     0.9691      3.376     0.3365     0.8139      1.159         12        640: 100%|██████████| 458/458 [00:59<00:00,  7.75it/s]\n",
            "                 Class     Images  Instances      Box(P          R      mAP50  mAP50-95)     Pose(P          R      mAP50  mAP50-95): 100%|██████████| 51/51 [00:10<00:00,  4.69it/s]"
          ]
        },
        {
          "output_type": "stream",
          "name": "stdout",
          "text": [
            "                   all       1613       4472      0.844      0.772      0.873       0.64      0.805      0.682      0.735       0.42\n"
          ]
        },
        {
          "output_type": "stream",
          "name": "stderr",
          "text": [
            "\n"
          ]
        },
        {
          "output_type": "stream",
          "name": "stdout",
          "text": [
            "\n",
            "      Epoch    GPU_mem   box_loss  pose_loss  kobj_loss   cls_loss   dfl_loss  Instances       Size\n"
          ]
        },
        {
          "output_type": "stream",
          "name": "stderr",
          "text": [
            "     79/100      2.62G     0.9623      3.379     0.3348     0.8112      1.155         15        640: 100%|██████████| 458/458 [00:59<00:00,  7.73it/s]\n",
            "                 Class     Images  Instances      Box(P          R      mAP50  mAP50-95)     Pose(P          R      mAP50  mAP50-95): 100%|██████████| 51/51 [00:10<00:00,  4.69it/s]\n"
          ]
        },
        {
          "output_type": "stream",
          "name": "stdout",
          "text": [
            "                   all       1613       4472      0.839      0.777      0.873      0.639      0.795      0.692      0.737      0.421\n",
            "\n",
            "      Epoch    GPU_mem   box_loss  pose_loss  kobj_loss   cls_loss   dfl_loss  Instances       Size\n"
          ]
        },
        {
          "output_type": "stream",
          "name": "stderr",
          "text": [
            "     80/100      2.61G     0.9557      3.297     0.3323     0.7937      1.148         14        640: 100%|██████████| 458/458 [00:59<00:00,  7.70it/s]\n",
            "                 Class     Images  Instances      Box(P          R      mAP50  mAP50-95)     Pose(P          R      mAP50  mAP50-95): 100%|██████████| 51/51 [00:10<00:00,  4.67it/s]"
          ]
        },
        {
          "output_type": "stream",
          "name": "stdout",
          "text": [
            "                   all       1613       4472      0.836      0.778      0.873       0.64       0.81      0.682      0.741      0.422\n"
          ]
        },
        {
          "output_type": "stream",
          "name": "stderr",
          "text": [
            "\n"
          ]
        },
        {
          "output_type": "stream",
          "name": "stdout",
          "text": [
            "\n",
            "      Epoch    GPU_mem   box_loss  pose_loss  kobj_loss   cls_loss   dfl_loss  Instances       Size\n"
          ]
        },
        {
          "output_type": "stream",
          "name": "stderr",
          "text": [
            "     81/100      2.62G     0.9632      3.329     0.3354     0.8096      1.156         11        640: 100%|██████████| 458/458 [00:59<00:00,  7.74it/s]\n",
            "                 Class     Images  Instances      Box(P          R      mAP50  mAP50-95)     Pose(P          R      mAP50  mAP50-95): 100%|██████████| 51/51 [00:10<00:00,  4.73it/s]"
          ]
        },
        {
          "output_type": "stream",
          "name": "stdout",
          "text": [
            "                   all       1613       4472      0.829      0.783      0.871      0.641      0.792      0.687      0.736      0.423\n"
          ]
        },
        {
          "output_type": "stream",
          "name": "stderr",
          "text": [
            "\n"
          ]
        },
        {
          "output_type": "stream",
          "name": "stdout",
          "text": [
            "\n",
            "      Epoch    GPU_mem   box_loss  pose_loss  kobj_loss   cls_loss   dfl_loss  Instances       Size\n"
          ]
        },
        {
          "output_type": "stream",
          "name": "stderr",
          "text": [
            "     82/100      2.61G      0.957      3.297      0.331      0.802      1.151         15        640: 100%|██████████| 458/458 [00:59<00:00,  7.66it/s]\n",
            "                 Class     Images  Instances      Box(P          R      mAP50  mAP50-95)     Pose(P          R      mAP50  mAP50-95): 100%|██████████| 51/51 [00:10<00:00,  4.66it/s]\n"
          ]
        },
        {
          "output_type": "stream",
          "name": "stdout",
          "text": [
            "                   all       1613       4472      0.832      0.783      0.873      0.642       0.79      0.691      0.735      0.425\n",
            "\n",
            "      Epoch    GPU_mem   box_loss  pose_loss  kobj_loss   cls_loss   dfl_loss  Instances       Size\n"
          ]
        },
        {
          "output_type": "stream",
          "name": "stderr",
          "text": [
            "     83/100      2.62G     0.9557      3.325     0.3321     0.7997      1.151         10        640: 100%|██████████| 458/458 [00:59<00:00,  7.70it/s]\n",
            "                 Class     Images  Instances      Box(P          R      mAP50  mAP50-95)     Pose(P          R      mAP50  mAP50-95): 100%|██████████| 51/51 [00:10<00:00,  4.73it/s]\n"
          ]
        },
        {
          "output_type": "stream",
          "name": "stdout",
          "text": [
            "                   all       1613       4472       0.83      0.784      0.874      0.642      0.789      0.693      0.736      0.423\n",
            "\n",
            "      Epoch    GPU_mem   box_loss  pose_loss  kobj_loss   cls_loss   dfl_loss  Instances       Size\n"
          ]
        },
        {
          "output_type": "stream",
          "name": "stderr",
          "text": [
            "     84/100      2.61G      0.958      3.281     0.3321     0.7996      1.149         21        640: 100%|██████████| 458/458 [00:58<00:00,  7.85it/s]\n",
            "                 Class     Images  Instances      Box(P          R      mAP50  mAP50-95)     Pose(P          R      mAP50  mAP50-95): 100%|██████████| 51/51 [00:10<00:00,  4.64it/s]\n"
          ]
        },
        {
          "output_type": "stream",
          "name": "stdout",
          "text": [
            "                   all       1613       4472      0.841      0.771      0.874      0.643        0.8      0.683      0.734      0.423\n",
            "\n",
            "      Epoch    GPU_mem   box_loss  pose_loss  kobj_loss   cls_loss   dfl_loss  Instances       Size\n"
          ]
        },
        {
          "output_type": "stream",
          "name": "stderr",
          "text": [
            "     85/100      2.62G     0.9559      3.277     0.3312     0.7934      1.149          8        640: 100%|██████████| 458/458 [00:58<00:00,  7.81it/s]\n",
            "                 Class     Images  Instances      Box(P          R      mAP50  mAP50-95)     Pose(P          R      mAP50  mAP50-95): 100%|██████████| 51/51 [00:10<00:00,  4.85it/s]\n"
          ]
        },
        {
          "output_type": "stream",
          "name": "stdout",
          "text": [
            "                   all       1613       4472      0.854      0.768      0.875      0.643      0.797      0.696      0.739      0.424\n",
            "\n",
            "      Epoch    GPU_mem   box_loss  pose_loss  kobj_loss   cls_loss   dfl_loss  Instances       Size\n"
          ]
        },
        {
          "output_type": "stream",
          "name": "stderr",
          "text": [
            "     86/100      2.61G     0.9441      3.226     0.3281     0.7807      1.144         15        640: 100%|██████████| 458/458 [00:57<00:00,  7.91it/s]\n",
            "                 Class     Images  Instances      Box(P          R      mAP50  mAP50-95)     Pose(P          R      mAP50  mAP50-95): 100%|██████████| 51/51 [00:10<00:00,  4.82it/s]"
          ]
        },
        {
          "output_type": "stream",
          "name": "stdout",
          "text": [
            "                   all       1613       4472      0.844      0.775      0.874      0.642      0.791      0.696      0.738      0.425\n"
          ]
        },
        {
          "output_type": "stream",
          "name": "stderr",
          "text": [
            "\n"
          ]
        },
        {
          "output_type": "stream",
          "name": "stdout",
          "text": [
            "\n",
            "      Epoch    GPU_mem   box_loss  pose_loss  kobj_loss   cls_loss   dfl_loss  Instances       Size\n"
          ]
        },
        {
          "output_type": "stream",
          "name": "stderr",
          "text": [
            "     87/100      2.62G     0.9526      3.242     0.3291     0.7872      1.149         16        640: 100%|██████████| 458/458 [00:57<00:00,  7.91it/s]\n",
            "                 Class     Images  Instances      Box(P          R      mAP50  mAP50-95)     Pose(P          R      mAP50  mAP50-95): 100%|██████████| 51/51 [00:10<00:00,  4.87it/s]"
          ]
        },
        {
          "output_type": "stream",
          "name": "stdout",
          "text": [
            "                   all       1613       4472      0.837      0.782      0.874      0.643      0.792      0.693      0.736      0.425\n"
          ]
        },
        {
          "output_type": "stream",
          "name": "stderr",
          "text": [
            "\n"
          ]
        },
        {
          "output_type": "stream",
          "name": "stdout",
          "text": [
            "\n",
            "      Epoch    GPU_mem   box_loss  pose_loss  kobj_loss   cls_loss   dfl_loss  Instances       Size\n"
          ]
        },
        {
          "output_type": "stream",
          "name": "stderr",
          "text": [
            "     88/100      2.61G      0.941      3.222     0.3274     0.7819      1.144         13        640: 100%|██████████| 458/458 [00:58<00:00,  7.85it/s]\n",
            "                 Class     Images  Instances      Box(P          R      mAP50  mAP50-95)     Pose(P          R      mAP50  mAP50-95): 100%|██████████| 51/51 [00:10<00:00,  4.75it/s]"
          ]
        },
        {
          "output_type": "stream",
          "name": "stdout",
          "text": [
            "                   all       1613       4472       0.84       0.78      0.874      0.644       0.79      0.694      0.738      0.427\n"
          ]
        },
        {
          "output_type": "stream",
          "name": "stderr",
          "text": [
            "\n"
          ]
        },
        {
          "output_type": "stream",
          "name": "stdout",
          "text": [
            "\n",
            "      Epoch    GPU_mem   box_loss  pose_loss  kobj_loss   cls_loss   dfl_loss  Instances       Size\n"
          ]
        },
        {
          "output_type": "stream",
          "name": "stderr",
          "text": [
            "     89/100      2.62G     0.9354      3.229      0.329     0.7819       1.14         12        640: 100%|██████████| 458/458 [00:58<00:00,  7.83it/s]\n",
            "                 Class     Images  Instances      Box(P          R      mAP50  mAP50-95)     Pose(P          R      mAP50  mAP50-95): 100%|██████████| 51/51 [00:10<00:00,  4.72it/s]"
          ]
        },
        {
          "output_type": "stream",
          "name": "stdout",
          "text": [
            "                   all       1613       4472       0.84      0.784      0.876      0.644      0.808      0.689      0.743      0.428\n"
          ]
        },
        {
          "output_type": "stream",
          "name": "stderr",
          "text": [
            "\n"
          ]
        },
        {
          "output_type": "stream",
          "name": "stdout",
          "text": [
            "\n",
            "      Epoch    GPU_mem   box_loss  pose_loss  kobj_loss   cls_loss   dfl_loss  Instances       Size\n"
          ]
        },
        {
          "output_type": "stream",
          "name": "stderr",
          "text": [
            "     90/100      2.61G     0.9393      3.203     0.3286      0.778       1.14         13        640: 100%|██████████| 458/458 [00:58<00:00,  7.84it/s]\n",
            "                 Class     Images  Instances      Box(P          R      mAP50  mAP50-95)     Pose(P          R      mAP50  mAP50-95): 100%|██████████| 51/51 [00:10<00:00,  4.72it/s]"
          ]
        },
        {
          "output_type": "stream",
          "name": "stdout",
          "text": [
            "                   all       1613       4472      0.836      0.788      0.875      0.644      0.792      0.697      0.741      0.427\n"
          ]
        },
        {
          "output_type": "stream",
          "name": "stderr",
          "text": [
            "\n"
          ]
        },
        {
          "output_type": "stream",
          "name": "stdout",
          "text": [
            "Closing dataloader mosaic\n",
            "\u001b[34m\u001b[1malbumentations: \u001b[0mBlur(p=0.01, blur_limit=(3, 7)), MedianBlur(p=0.01, blur_limit=(3, 7)), ToGray(p=0.01), CLAHE(p=0.01, clip_limit=(1, 4.0), tile_grid_size=(8, 8))\n",
            "\n",
            "      Epoch    GPU_mem   box_loss  pose_loss  kobj_loss   cls_loss   dfl_loss  Instances       Size\n"
          ]
        },
        {
          "output_type": "stream",
          "name": "stderr",
          "text": [
            "     91/100      2.62G     0.8814      2.658     0.3204     0.6774      1.104          8        640: 100%|██████████| 458/458 [00:59<00:00,  7.68it/s]\n",
            "                 Class     Images  Instances      Box(P          R      mAP50  mAP50-95)     Pose(P          R      mAP50  mAP50-95): 100%|██████████| 51/51 [00:10<00:00,  4.75it/s]\n"
          ]
        },
        {
          "output_type": "stream",
          "name": "stdout",
          "text": [
            "                   all       1613       4472       0.84      0.785      0.875      0.643      0.804       0.69      0.741      0.429\n",
            "\n",
            "      Epoch    GPU_mem   box_loss  pose_loss  kobj_loss   cls_loss   dfl_loss  Instances       Size\n"
          ]
        },
        {
          "output_type": "stream",
          "name": "stderr",
          "text": [
            "     92/100      2.61G     0.8687       2.61     0.3168     0.6587      1.095          8        640: 100%|██████████| 458/458 [00:57<00:00,  8.02it/s]\n",
            "                 Class     Images  Instances      Box(P          R      mAP50  mAP50-95)     Pose(P          R      mAP50  mAP50-95): 100%|██████████| 51/51 [00:10<00:00,  4.78it/s]"
          ]
        },
        {
          "output_type": "stream",
          "name": "stdout",
          "text": [
            "                   all       1613       4472      0.845      0.781      0.876      0.644      0.813      0.684      0.742       0.43\n"
          ]
        },
        {
          "output_type": "stream",
          "name": "stderr",
          "text": [
            "\n"
          ]
        },
        {
          "output_type": "stream",
          "name": "stdout",
          "text": [
            "\n",
            "      Epoch    GPU_mem   box_loss  pose_loss  kobj_loss   cls_loss   dfl_loss  Instances       Size\n"
          ]
        },
        {
          "output_type": "stream",
          "name": "stderr",
          "text": [
            "     93/100      2.62G     0.8644      2.588     0.3174     0.6499      1.094          9        640: 100%|██████████| 458/458 [00:56<00:00,  8.05it/s]\n",
            "                 Class     Images  Instances      Box(P          R      mAP50  mAP50-95)     Pose(P          R      mAP50  mAP50-95): 100%|██████████| 51/51 [00:10<00:00,  4.86it/s]"
          ]
        },
        {
          "output_type": "stream",
          "name": "stdout",
          "text": [
            "                   all       1613       4472      0.839      0.785      0.877      0.643       0.81      0.681       0.74       0.43\n"
          ]
        },
        {
          "output_type": "stream",
          "name": "stderr",
          "text": [
            "\n"
          ]
        },
        {
          "output_type": "stream",
          "name": "stdout",
          "text": [
            "\n",
            "      Epoch    GPU_mem   box_loss  pose_loss  kobj_loss   cls_loss   dfl_loss  Instances       Size\n"
          ]
        },
        {
          "output_type": "stream",
          "name": "stderr",
          "text": [
            "     94/100      2.61G     0.8623      2.571     0.3154     0.6466      1.089         10        640: 100%|██████████| 458/458 [00:56<00:00,  8.09it/s]\n",
            "                 Class     Images  Instances      Box(P          R      mAP50  mAP50-95)     Pose(P          R      mAP50  mAP50-95): 100%|██████████| 51/51 [00:10<00:00,  4.85it/s]"
          ]
        },
        {
          "output_type": "stream",
          "name": "stdout",
          "text": [
            "                   all       1613       4472      0.837      0.782      0.876      0.643      0.818      0.681      0.741       0.43\n"
          ]
        },
        {
          "output_type": "stream",
          "name": "stderr",
          "text": [
            "\n"
          ]
        },
        {
          "output_type": "stream",
          "name": "stdout",
          "text": [
            "\n",
            "      Epoch    GPU_mem   box_loss  pose_loss  kobj_loss   cls_loss   dfl_loss  Instances       Size\n"
          ]
        },
        {
          "output_type": "stream",
          "name": "stderr",
          "text": [
            "     95/100      2.62G     0.8517       2.54     0.3145     0.6371      1.086          9        640: 100%|██████████| 458/458 [00:56<00:00,  8.04it/s]\n",
            "                 Class     Images  Instances      Box(P          R      mAP50  mAP50-95)     Pose(P          R      mAP50  mAP50-95): 100%|██████████| 51/51 [00:10<00:00,  4.80it/s]\n"
          ]
        },
        {
          "output_type": "stream",
          "name": "stdout",
          "text": [
            "                   all       1613       4472      0.853      0.771      0.877      0.643      0.824       0.68      0.743       0.43\n",
            "\n",
            "      Epoch    GPU_mem   box_loss  pose_loss  kobj_loss   cls_loss   dfl_loss  Instances       Size\n"
          ]
        },
        {
          "output_type": "stream",
          "name": "stderr",
          "text": [
            "     96/100      2.61G     0.8552      2.526     0.3136      0.633      1.083          6        640: 100%|██████████| 458/458 [00:56<00:00,  8.10it/s]\n",
            "                 Class     Images  Instances      Box(P          R      mAP50  mAP50-95)     Pose(P          R      mAP50  mAP50-95): 100%|██████████| 51/51 [00:10<00:00,  4.80it/s]"
          ]
        },
        {
          "output_type": "stream",
          "name": "stdout",
          "text": [
            "                   all       1613       4472      0.853      0.772      0.876      0.643       0.82      0.679       0.74      0.429\n"
          ]
        },
        {
          "output_type": "stream",
          "name": "stderr",
          "text": [
            "\n"
          ]
        },
        {
          "output_type": "stream",
          "name": "stdout",
          "text": [
            "\n",
            "      Epoch    GPU_mem   box_loss  pose_loss  kobj_loss   cls_loss   dfl_loss  Instances       Size\n"
          ]
        },
        {
          "output_type": "stream",
          "name": "stderr",
          "text": [
            "     97/100      2.62G     0.8438      2.516     0.3125     0.6303      1.081         12        640: 100%|██████████| 458/458 [00:56<00:00,  8.17it/s]\n",
            "                 Class     Images  Instances      Box(P          R      mAP50  mAP50-95)     Pose(P          R      mAP50  mAP50-95): 100%|██████████| 51/51 [00:10<00:00,  4.80it/s]"
          ]
        },
        {
          "output_type": "stream",
          "name": "stdout",
          "text": [
            "                   all       1613       4472      0.843      0.785      0.876      0.643      0.819      0.677       0.74       0.43\n"
          ]
        },
        {
          "output_type": "stream",
          "name": "stderr",
          "text": [
            "\n"
          ]
        },
        {
          "output_type": "stream",
          "name": "stdout",
          "text": [
            "\n",
            "      Epoch    GPU_mem   box_loss  pose_loss  kobj_loss   cls_loss   dfl_loss  Instances       Size\n"
          ]
        },
        {
          "output_type": "stream",
          "name": "stderr",
          "text": [
            "     98/100      2.61G     0.8438      2.461      0.312     0.6247       1.08         16        640: 100%|██████████| 458/458 [00:55<00:00,  8.20it/s]\n",
            "                 Class     Images  Instances      Box(P          R      mAP50  mAP50-95)     Pose(P          R      mAP50  mAP50-95): 100%|██████████| 51/51 [00:10<00:00,  4.90it/s]"
          ]
        },
        {
          "output_type": "stream",
          "name": "stdout",
          "text": [
            "                   all       1613       4472      0.845      0.784      0.877      0.643      0.807      0.685       0.74      0.429\n"
          ]
        },
        {
          "output_type": "stream",
          "name": "stderr",
          "text": [
            "\n"
          ]
        },
        {
          "output_type": "stream",
          "name": "stdout",
          "text": [
            "\n",
            "      Epoch    GPU_mem   box_loss  pose_loss  kobj_loss   cls_loss   dfl_loss  Instances       Size\n"
          ]
        },
        {
          "output_type": "stream",
          "name": "stderr",
          "text": [
            "     99/100      2.62G     0.8377      2.479     0.3124     0.6211      1.078          8        640: 100%|██████████| 458/458 [00:55<00:00,  8.20it/s]\n",
            "                 Class     Images  Instances      Box(P          R      mAP50  mAP50-95)     Pose(P          R      mAP50  mAP50-95): 100%|██████████| 51/51 [00:10<00:00,  4.84it/s]"
          ]
        },
        {
          "output_type": "stream",
          "name": "stdout",
          "text": [
            "                   all       1613       4472      0.847      0.783      0.876      0.643      0.797       0.69       0.74      0.429\n"
          ]
        },
        {
          "output_type": "stream",
          "name": "stderr",
          "text": [
            "\n"
          ]
        },
        {
          "output_type": "stream",
          "name": "stdout",
          "text": [
            "\n",
            "      Epoch    GPU_mem   box_loss  pose_loss  kobj_loss   cls_loss   dfl_loss  Instances       Size\n"
          ]
        },
        {
          "output_type": "stream",
          "name": "stderr",
          "text": [
            "    100/100       2.6G     0.8349      2.454     0.3111     0.6229      1.077          6        640: 100%|██████████| 458/458 [00:56<00:00,  8.14it/s]\n",
            "                 Class     Images  Instances      Box(P          R      mAP50  mAP50-95)     Pose(P          R      mAP50  mAP50-95): 100%|██████████| 51/51 [00:10<00:00,  4.91it/s]"
          ]
        },
        {
          "output_type": "stream",
          "name": "stdout",
          "text": [
            "                   all       1613       4472       0.85      0.781      0.877      0.644      0.797      0.694       0.74       0.43\n"
          ]
        },
        {
          "output_type": "stream",
          "name": "stderr",
          "text": [
            "\n"
          ]
        },
        {
          "output_type": "stream",
          "name": "stdout",
          "text": [
            "\n",
            "100 epochs completed in 1.989 hours.\n",
            "Optimizer stripped from runs/pose/train/weights/last.pt, 6.8MB\n",
            "Optimizer stripped from runs/pose/train/weights/best.pt, 6.8MB\n",
            "\n",
            "Validating runs/pose/train/weights/best.pt...\n",
            "Ultralytics YOLOv8.1.24 🚀 Python-3.10.12 torch-2.1.0+cu121 CUDA:0 (Tesla V100-SXM2-16GB, 16151MiB)\n",
            "YOLOv8n-pose summary (fused): 187 layers, 3289964 parameters, 0 gradients, 9.2 GFLOPs\n"
          ]
        },
        {
          "output_type": "stream",
          "name": "stderr",
          "text": [
            "                 Class     Images  Instances      Box(P          R      mAP50  mAP50-95)     Pose(P          R      mAP50  mAP50-95): 100%|██████████| 51/51 [00:13<00:00,  3.67it/s]\n"
          ]
        },
        {
          "output_type": "stream",
          "name": "stdout",
          "text": [
            "                   all       1613       4472      0.853       0.77      0.877      0.643      0.824      0.681      0.743       0.43\n",
            "Speed: 0.1ms preprocess, 0.7ms inference, 0.0ms loss, 1.0ms postprocess per image\n",
            "Results saved to \u001b[1mruns/pose/train\u001b[0m\n"
          ]
        },
        {
          "output_type": "execute_result",
          "data": {
            "text/plain": [
              "ultralytics.utils.metrics.PoseMetrics object with attributes:\n",
              "\n",
              "ap_class_index: array([0])\n",
              "box: ultralytics.utils.metrics.Metric object\n",
              "confusion_matrix: <ultralytics.utils.metrics.ConfusionMatrix object at 0x7cb83e355fc0>\n",
              "curves: ['Precision-Recall(B)', 'F1-Confidence(B)', 'Precision-Confidence(B)', 'Recall-Confidence(B)', 'Precision-Recall(P)', 'F1-Confidence(P)', 'Precision-Confidence(P)', 'Recall-Confidence(P)']\n",
              "curves_results: [[array([          0,    0.001001,    0.002002,    0.003003,    0.004004,    0.005005,    0.006006,    0.007007,    0.008008,    0.009009,     0.01001,    0.011011,    0.012012,    0.013013,    0.014014,    0.015015,    0.016016,    0.017017,    0.018018,    0.019019,     0.02002,    0.021021,    0.022022,    0.023023,\n",
              "          0.024024,    0.025025,    0.026026,    0.027027,    0.028028,    0.029029,     0.03003,    0.031031,    0.032032,    0.033033,    0.034034,    0.035035,    0.036036,    0.037037,    0.038038,    0.039039,     0.04004,    0.041041,    0.042042,    0.043043,    0.044044,    0.045045,    0.046046,    0.047047,\n",
              "          0.048048,    0.049049,     0.05005,    0.051051,    0.052052,    0.053053,    0.054054,    0.055055,    0.056056,    0.057057,    0.058058,    0.059059,     0.06006,    0.061061,    0.062062,    0.063063,    0.064064,    0.065065,    0.066066,    0.067067,    0.068068,    0.069069,     0.07007,    0.071071,\n",
              "          0.072072,    0.073073,    0.074074,    0.075075,    0.076076,    0.077077,    0.078078,    0.079079,     0.08008,    0.081081,    0.082082,    0.083083,    0.084084,    0.085085,    0.086086,    0.087087,    0.088088,    0.089089,     0.09009,    0.091091,    0.092092,    0.093093,    0.094094,    0.095095,\n",
              "          0.096096,    0.097097,    0.098098,    0.099099,      0.1001,      0.1011,      0.1021,      0.1031,      0.1041,     0.10511,     0.10611,     0.10711,     0.10811,     0.10911,     0.11011,     0.11111,     0.11211,     0.11311,     0.11411,     0.11512,     0.11612,     0.11712,     0.11812,     0.11912,\n",
              "           0.12012,     0.12112,     0.12212,     0.12312,     0.12412,     0.12513,     0.12613,     0.12713,     0.12813,     0.12913,     0.13013,     0.13113,     0.13213,     0.13313,     0.13413,     0.13514,     0.13614,     0.13714,     0.13814,     0.13914,     0.14014,     0.14114,     0.14214,     0.14314,\n",
              "           0.14414,     0.14515,     0.14615,     0.14715,     0.14815,     0.14915,     0.15015,     0.15115,     0.15215,     0.15315,     0.15415,     0.15516,     0.15616,     0.15716,     0.15816,     0.15916,     0.16016,     0.16116,     0.16216,     0.16316,     0.16416,     0.16517,     0.16617,     0.16717,\n",
              "           0.16817,     0.16917,     0.17017,     0.17117,     0.17217,     0.17317,     0.17417,     0.17518,     0.17618,     0.17718,     0.17818,     0.17918,     0.18018,     0.18118,     0.18218,     0.18318,     0.18418,     0.18519,     0.18619,     0.18719,     0.18819,     0.18919,     0.19019,     0.19119,\n",
              "           0.19219,     0.19319,     0.19419,      0.1952,      0.1962,      0.1972,      0.1982,      0.1992,      0.2002,      0.2012,      0.2022,      0.2032,      0.2042,     0.20521,     0.20621,     0.20721,     0.20821,     0.20921,     0.21021,     0.21121,     0.21221,     0.21321,     0.21421,     0.21522,\n",
              "           0.21622,     0.21722,     0.21822,     0.21922,     0.22022,     0.22122,     0.22222,     0.22322,     0.22422,     0.22523,     0.22623,     0.22723,     0.22823,     0.22923,     0.23023,     0.23123,     0.23223,     0.23323,     0.23423,     0.23524,     0.23624,     0.23724,     0.23824,     0.23924,\n",
              "           0.24024,     0.24124,     0.24224,     0.24324,     0.24424,     0.24525,     0.24625,     0.24725,     0.24825,     0.24925,     0.25025,     0.25125,     0.25225,     0.25325,     0.25425,     0.25526,     0.25626,     0.25726,     0.25826,     0.25926,     0.26026,     0.26126,     0.26226,     0.26326,\n",
              "           0.26426,     0.26527,     0.26627,     0.26727,     0.26827,     0.26927,     0.27027,     0.27127,     0.27227,     0.27327,     0.27427,     0.27528,     0.27628,     0.27728,     0.27828,     0.27928,     0.28028,     0.28128,     0.28228,     0.28328,     0.28428,     0.28529,     0.28629,     0.28729,\n",
              "           0.28829,     0.28929,     0.29029,     0.29129,     0.29229,     0.29329,     0.29429,      0.2953,      0.2963,      0.2973,      0.2983,      0.2993,      0.3003,      0.3013,      0.3023,      0.3033,      0.3043,     0.30531,     0.30631,     0.30731,     0.30831,     0.30931,     0.31031,     0.31131,\n",
              "           0.31231,     0.31331,     0.31431,     0.31532,     0.31632,     0.31732,     0.31832,     0.31932,     0.32032,     0.32132,     0.32232,     0.32332,     0.32432,     0.32533,     0.32633,     0.32733,     0.32833,     0.32933,     0.33033,     0.33133,     0.33233,     0.33333,     0.33433,     0.33534,\n",
              "           0.33634,     0.33734,     0.33834,     0.33934,     0.34034,     0.34134,     0.34234,     0.34334,     0.34434,     0.34535,     0.34635,     0.34735,     0.34835,     0.34935,     0.35035,     0.35135,     0.35235,     0.35335,     0.35435,     0.35536,     0.35636,     0.35736,     0.35836,     0.35936,\n",
              "           0.36036,     0.36136,     0.36236,     0.36336,     0.36436,     0.36537,     0.36637,     0.36737,     0.36837,     0.36937,     0.37037,     0.37137,     0.37237,     0.37337,     0.37437,     0.37538,     0.37638,     0.37738,     0.37838,     0.37938,     0.38038,     0.38138,     0.38238,     0.38338,\n",
              "           0.38438,     0.38539,     0.38639,     0.38739,     0.38839,     0.38939,     0.39039,     0.39139,     0.39239,     0.39339,     0.39439,      0.3954,      0.3964,      0.3974,      0.3984,      0.3994,      0.4004,      0.4014,      0.4024,      0.4034,      0.4044,     0.40541,     0.40641,     0.40741,\n",
              "           0.40841,     0.40941,     0.41041,     0.41141,     0.41241,     0.41341,     0.41441,     0.41542,     0.41642,     0.41742,     0.41842,     0.41942,     0.42042,     0.42142,     0.42242,     0.42342,     0.42442,     0.42543,     0.42643,     0.42743,     0.42843,     0.42943,     0.43043,     0.43143,\n",
              "           0.43243,     0.43343,     0.43443,     0.43544,     0.43644,     0.43744,     0.43844,     0.43944,     0.44044,     0.44144,     0.44244,     0.44344,     0.44444,     0.44545,     0.44645,     0.44745,     0.44845,     0.44945,     0.45045,     0.45145,     0.45245,     0.45345,     0.45445,     0.45546,\n",
              "           0.45646,     0.45746,     0.45846,     0.45946,     0.46046,     0.46146,     0.46246,     0.46346,     0.46446,     0.46547,     0.46647,     0.46747,     0.46847,     0.46947,     0.47047,     0.47147,     0.47247,     0.47347,     0.47447,     0.47548,     0.47648,     0.47748,     0.47848,     0.47948,\n",
              "           0.48048,     0.48148,     0.48248,     0.48348,     0.48448,     0.48549,     0.48649,     0.48749,     0.48849,     0.48949,     0.49049,     0.49149,     0.49249,     0.49349,     0.49449,      0.4955,      0.4965,      0.4975,      0.4985,      0.4995,      0.5005,      0.5015,      0.5025,      0.5035,\n",
              "            0.5045,     0.50551,     0.50651,     0.50751,     0.50851,     0.50951,     0.51051,     0.51151,     0.51251,     0.51351,     0.51451,     0.51552,     0.51652,     0.51752,     0.51852,     0.51952,     0.52052,     0.52152,     0.52252,     0.52352,     0.52452,     0.52553,     0.52653,     0.52753,\n",
              "           0.52853,     0.52953,     0.53053,     0.53153,     0.53253,     0.53353,     0.53453,     0.53554,     0.53654,     0.53754,     0.53854,     0.53954,     0.54054,     0.54154,     0.54254,     0.54354,     0.54454,     0.54555,     0.54655,     0.54755,     0.54855,     0.54955,     0.55055,     0.55155,\n",
              "           0.55255,     0.55355,     0.55455,     0.55556,     0.55656,     0.55756,     0.55856,     0.55956,     0.56056,     0.56156,     0.56256,     0.56356,     0.56456,     0.56557,     0.56657,     0.56757,     0.56857,     0.56957,     0.57057,     0.57157,     0.57257,     0.57357,     0.57457,     0.57558,\n",
              "           0.57658,     0.57758,     0.57858,     0.57958,     0.58058,     0.58158,     0.58258,     0.58358,     0.58458,     0.58559,     0.58659,     0.58759,     0.58859,     0.58959,     0.59059,     0.59159,     0.59259,     0.59359,     0.59459,      0.5956,      0.5966,      0.5976,      0.5986,      0.5996,\n",
              "            0.6006,      0.6016,      0.6026,      0.6036,      0.6046,     0.60561,     0.60661,     0.60761,     0.60861,     0.60961,     0.61061,     0.61161,     0.61261,     0.61361,     0.61461,     0.61562,     0.61662,     0.61762,     0.61862,     0.61962,     0.62062,     0.62162,     0.62262,     0.62362,\n",
              "           0.62462,     0.62563,     0.62663,     0.62763,     0.62863,     0.62963,     0.63063,     0.63163,     0.63263,     0.63363,     0.63463,     0.63564,     0.63664,     0.63764,     0.63864,     0.63964,     0.64064,     0.64164,     0.64264,     0.64364,     0.64464,     0.64565,     0.64665,     0.64765,\n",
              "           0.64865,     0.64965,     0.65065,     0.65165,     0.65265,     0.65365,     0.65465,     0.65566,     0.65666,     0.65766,     0.65866,     0.65966,     0.66066,     0.66166,     0.66266,     0.66366,     0.66466,     0.66567,     0.66667,     0.66767,     0.66867,     0.66967,     0.67067,     0.67167,\n",
              "           0.67267,     0.67367,     0.67467,     0.67568,     0.67668,     0.67768,     0.67868,     0.67968,     0.68068,     0.68168,     0.68268,     0.68368,     0.68468,     0.68569,     0.68669,     0.68769,     0.68869,     0.68969,     0.69069,     0.69169,     0.69269,     0.69369,     0.69469,      0.6957,\n",
              "            0.6967,      0.6977,      0.6987,      0.6997,      0.7007,      0.7017,      0.7027,      0.7037,      0.7047,     0.70571,     0.70671,     0.70771,     0.70871,     0.70971,     0.71071,     0.71171,     0.71271,     0.71371,     0.71471,     0.71572,     0.71672,     0.71772,     0.71872,     0.71972,\n",
              "           0.72072,     0.72172,     0.72272,     0.72372,     0.72472,     0.72573,     0.72673,     0.72773,     0.72873,     0.72973,     0.73073,     0.73173,     0.73273,     0.73373,     0.73473,     0.73574,     0.73674,     0.73774,     0.73874,     0.73974,     0.74074,     0.74174,     0.74274,     0.74374,\n",
              "           0.74474,     0.74575,     0.74675,     0.74775,     0.74875,     0.74975,     0.75075,     0.75175,     0.75275,     0.75375,     0.75475,     0.75576,     0.75676,     0.75776,     0.75876,     0.75976,     0.76076,     0.76176,     0.76276,     0.76376,     0.76476,     0.76577,     0.76677,     0.76777,\n",
              "           0.76877,     0.76977,     0.77077,     0.77177,     0.77277,     0.77377,     0.77477,     0.77578,     0.77678,     0.77778,     0.77878,     0.77978,     0.78078,     0.78178,     0.78278,     0.78378,     0.78478,     0.78579,     0.78679,     0.78779,     0.78879,     0.78979,     0.79079,     0.79179,\n",
              "           0.79279,     0.79379,     0.79479,      0.7958,      0.7968,      0.7978,      0.7988,      0.7998,      0.8008,      0.8018,      0.8028,      0.8038,      0.8048,     0.80581,     0.80681,     0.80781,     0.80881,     0.80981,     0.81081,     0.81181,     0.81281,     0.81381,     0.81481,     0.81582,\n",
              "           0.81682,     0.81782,     0.81882,     0.81982,     0.82082,     0.82182,     0.82282,     0.82382,     0.82482,     0.82583,     0.82683,     0.82783,     0.82883,     0.82983,     0.83083,     0.83183,     0.83283,     0.83383,     0.83483,     0.83584,     0.83684,     0.83784,     0.83884,     0.83984,\n",
              "           0.84084,     0.84184,     0.84284,     0.84384,     0.84484,     0.84585,     0.84685,     0.84785,     0.84885,     0.84985,     0.85085,     0.85185,     0.85285,     0.85385,     0.85485,     0.85586,     0.85686,     0.85786,     0.85886,     0.85986,     0.86086,     0.86186,     0.86286,     0.86386,\n",
              "           0.86486,     0.86587,     0.86687,     0.86787,     0.86887,     0.86987,     0.87087,     0.87187,     0.87287,     0.87387,     0.87487,     0.87588,     0.87688,     0.87788,     0.87888,     0.87988,     0.88088,     0.88188,     0.88288,     0.88388,     0.88488,     0.88589,     0.88689,     0.88789,\n",
              "           0.88889,     0.88989,     0.89089,     0.89189,     0.89289,     0.89389,     0.89489,      0.8959,      0.8969,      0.8979,      0.8989,      0.8999,      0.9009,      0.9019,      0.9029,      0.9039,      0.9049,     0.90591,     0.90691,     0.90791,     0.90891,     0.90991,     0.91091,     0.91191,\n",
              "           0.91291,     0.91391,     0.91491,     0.91592,     0.91692,     0.91792,     0.91892,     0.91992,     0.92092,     0.92192,     0.92292,     0.92392,     0.92492,     0.92593,     0.92693,     0.92793,     0.92893,     0.92993,     0.93093,     0.93193,     0.93293,     0.93393,     0.93493,     0.93594,\n",
              "           0.93694,     0.93794,     0.93894,     0.93994,     0.94094,     0.94194,     0.94294,     0.94394,     0.94494,     0.94595,     0.94695,     0.94795,     0.94895,     0.94995,     0.95095,     0.95195,     0.95295,     0.95395,     0.95495,     0.95596,     0.95696,     0.95796,     0.95896,     0.95996,\n",
              "           0.96096,     0.96196,     0.96296,     0.96396,     0.96496,     0.96597,     0.96697,     0.96797,     0.96897,     0.96997,     0.97097,     0.97197,     0.97297,     0.97397,     0.97497,     0.97598,     0.97698,     0.97798,     0.97898,     0.97998,     0.98098,     0.98198,     0.98298,     0.98398,\n",
              "           0.98498,     0.98599,     0.98699,     0.98799,     0.98899,     0.98999,     0.99099,     0.99199,     0.99299,     0.99399,     0.99499,       0.996,       0.997,       0.998,       0.999,           1]), array([[          1,           1,           1,           1,           1,           1,           1,           1,           1,           1,           1,           1,           1,           1,           1,           1,           1,           1,           1,           1,           1,           1,           1,\n",
              "                  1,           1,           1,           1,           1,           1,           1,           1,           1,           1,           1,           1,           1,           1,           1,           1,           1,           1,           1,           1,           1,           1,           1,\n",
              "                  1,           1,           1,           1,           1,           1,           1,           1,           1,           1,           1,           1,           1,           1,     0.99644,     0.99644,     0.99644,     0.99444,     0.99444,     0.99444,     0.99444,     0.99444,     0.99444,\n",
              "            0.99444,     0.99444,     0.99444,     0.99444,     0.99444,     0.99444,     0.99444,     0.99444,     0.99444,     0.99444,     0.99444,     0.99444,     0.99444,     0.99444,     0.99444,     0.99444,     0.99444,     0.99444,     0.99444,     0.99444,     0.99444,     0.99444,     0.99444,\n",
              "            0.99444,     0.99444,     0.99444,     0.99444,     0.99444,     0.99444,     0.99444,     0.99444,     0.99444,     0.99444,     0.99444,     0.99444,     0.99444,     0.99444,     0.99444,     0.99444,     0.99444,     0.99444,     0.99444,     0.99444,     0.99444,     0.99444,     0.99444,\n",
              "            0.99444,     0.99444,     0.99444,     0.99444,     0.99444,     0.99444,     0.99444,     0.99444,     0.99444,     0.99444,     0.99444,     0.99444,     0.99444,     0.99444,     0.99444,     0.99444,     0.99444,     0.99444,     0.99444,     0.99444,     0.99444,     0.99444,     0.99444,\n",
              "            0.99444,     0.99444,     0.99444,     0.99444,     0.99444,     0.99444,     0.99444,     0.99444,     0.99444,     0.99444,     0.99444,     0.99444,     0.99444,     0.99444,     0.99444,     0.99444,     0.99444,     0.99444,     0.99444,     0.99444,     0.99444,     0.99444,     0.99444,\n",
              "            0.99444,     0.99444,     0.99444,     0.99444,     0.99444,     0.99444,     0.99444,     0.99444,     0.99444,     0.99444,     0.99444,     0.99444,     0.99444,     0.99444,     0.99444,     0.99444,     0.99444,     0.99444,     0.99444,     0.99444,     0.99444,     0.99444,     0.99444,\n",
              "            0.99444,     0.99444,     0.99444,     0.99444,     0.99444,     0.99444,     0.99444,     0.99444,     0.99444,     0.99444,     0.99444,     0.99444,     0.99444,     0.99444,     0.99444,     0.99444,     0.99444,     0.99444,     0.99444,     0.99444,     0.99444,     0.99444,     0.99444,\n",
              "            0.99444,     0.99444,     0.99444,     0.99444,     0.99444,     0.99444,     0.99444,     0.99444,     0.99444,     0.99444,     0.99444,     0.99444,     0.99444,     0.99444,     0.99444,     0.99444,     0.99444,     0.99444,     0.99444,     0.99444,     0.99444,     0.99444,     0.99444,\n",
              "            0.99444,     0.99444,     0.99444,     0.99444,     0.99444,     0.99444,     0.99444,     0.99444,     0.99444,     0.99444,     0.99443,     0.99443,     0.99443,     0.99443,     0.99443,     0.99443,     0.99443,     0.99443,     0.99443,     0.99443,     0.99443,     0.99443,     0.99443,\n",
              "            0.99443,     0.99443,     0.99443,     0.99443,     0.99443,     0.99443,     0.99443,     0.99443,     0.99443,     0.99443,     0.99443,     0.99443,     0.99443,     0.99443,     0.99443,     0.99443,     0.99443,     0.99443,     0.99443,     0.99443,     0.99443,     0.99443,     0.99443,\n",
              "            0.99443,     0.99443,     0.99443,     0.99443,     0.99381,     0.99381,     0.99381,     0.99381,     0.99381,     0.99381,     0.99381,      0.9931,      0.9931,      0.9931,     0.99244,     0.99244,     0.99244,     0.99244,     0.99198,     0.99198,     0.99198,     0.99198,     0.99198,\n",
              "            0.99198,     0.99198,     0.99198,     0.99198,     0.99198,     0.99198,     0.99196,     0.99196,     0.99196,     0.99196,     0.99196,     0.99196,     0.99196,     0.99196,     0.99196,     0.99196,     0.99196,     0.99196,     0.99196,     0.99196,     0.99196,     0.99196,     0.99196,\n",
              "            0.99196,     0.99196,     0.99196,     0.99196,     0.99196,     0.99196,     0.99196,     0.99196,     0.99196,     0.99151,     0.99151,     0.99151,     0.99151,     0.99151,     0.99151,     0.99151,     0.99151,     0.99151,     0.99102,     0.99102,     0.99102,     0.99102,     0.99102,\n",
              "            0.99102,     0.99048,     0.99048,     0.99048,     0.98998,     0.98998,     0.98998,     0.98998,     0.98998,     0.98953,     0.98953,     0.98953,     0.98953,     0.98953,     0.98924,     0.98924,     0.98924,     0.98924,     0.98924,     0.98924,     0.98924,     0.98924,     0.98924,\n",
              "            0.98924,     0.98924,     0.98919,     0.98919,     0.98919,     0.98919,     0.98919,     0.98919,     0.98919,     0.98919,     0.98919,     0.98919,     0.98919,     0.98919,     0.98919,     0.98919,     0.98919,     0.98919,     0.98919,     0.98919,     0.98919,     0.98811,      0.9876,\n",
              "             0.9876,     0.98708,     0.98672,     0.98672,     0.98672,     0.98672,     0.98672,     0.98672,      0.9857,      0.9857,     0.98527,     0.98527,     0.98527,     0.98485,     0.98485,     0.98485,     0.98463,     0.98463,     0.98463,     0.98463,     0.98463,     0.98463,     0.98463,\n",
              "            0.98463,     0.98463,     0.98367,     0.98367,     0.98349,     0.98349,     0.98349,     0.98349,     0.98349,     0.98349,     0.98349,     0.98349,     0.98302,     0.98254,     0.98219,     0.98219,     0.98219,     0.98219,      0.9804,      0.9804,      0.9804,      0.9804,     0.97997,\n",
              "            0.97997,     0.97913,     0.97913,     0.97913,     0.97882,     0.97882,     0.97882,     0.97848,     0.97848,     0.97848,     0.97848,     0.97826,     0.97826,     0.97826,     0.97826,     0.97826,     0.97803,     0.97803,     0.97803,     0.97803,     0.97803,     0.97784,     0.97784,\n",
              "            0.97784,     0.97784,     0.97784,     0.97784,     0.97746,     0.97746,     0.97713,     0.97713,     0.97677,     0.97677,     0.97629,     0.97629,     0.97629,     0.97629,     0.97629,     0.97629,     0.97629,     0.97629,     0.97629,     0.97594,     0.97594,     0.97565,     0.97565,\n",
              "            0.97565,     0.97552,     0.97552,     0.97552,     0.97552,     0.97552,     0.97552,     0.97468,     0.97435,     0.97435,     0.97408,     0.97408,     0.97408,      0.9733,     0.97294,     0.97288,     0.97288,     0.97288,     0.97288,     0.97288,     0.97288,     0.97288,     0.97288,\n",
              "            0.97288,     0.97288,     0.97288,     0.97288,     0.97288,     0.97288,     0.97288,     0.97252,     0.97212,     0.97201,     0.97201,     0.97201,     0.97201,     0.97201,     0.97138,     0.97138,     0.97138,     0.97138,     0.97067,      0.9703,     0.97006,     0.97006,     0.97006,\n",
              "            0.96978,     0.96978,     0.96942,     0.96942,     0.96942,     0.96942,     0.96942,     0.96942,     0.96942,     0.96942,     0.96885,     0.96885,     0.96885,     0.96855,     0.96855,     0.96855,     0.96855,     0.96855,     0.96855,     0.96855,     0.96855,     0.96855,     0.96831,\n",
              "            0.96831,     0.96724,     0.96724,     0.96698,     0.96698,     0.96638,     0.96638,     0.96604,     0.96521,     0.96521,     0.96521,     0.96521,     0.96521,     0.96351,     0.96351,     0.96285,      0.9618,     0.96048,     0.96048,     0.96027,     0.96027,     0.95982,     0.95982,\n",
              "            0.95982,     0.95982,     0.95918,     0.95816,     0.95792,     0.95766,     0.95766,      0.9574,     0.95644,     0.95614,     0.95614,     0.95614,     0.95614,     0.95614,     0.95614,     0.95563,     0.95563,     0.95552,     0.95552,     0.95552,     0.95552,     0.95503,     0.95503,\n",
              "            0.95471,     0.95455,     0.95455,     0.95397,     0.95376,     0.95376,     0.95328,     0.95328,     0.95328,     0.95275,     0.95275,     0.95258,     0.95258,     0.95099,     0.95017,     0.95017,      0.9499,     0.94902,     0.94874,     0.94789,     0.94769,     0.94769,     0.94748,\n",
              "            0.94728,     0.94728,     0.94715,     0.94715,     0.94687,     0.94669,     0.94639,     0.94616,     0.94586,     0.94586,     0.94586,     0.94586,     0.94532,     0.94507,     0.94478,     0.94478,     0.94478,     0.94478,     0.94373,     0.94373,     0.94348,     0.94297,     0.94189,\n",
              "            0.94189,     0.94169,     0.94141,     0.94095,     0.94091,     0.94091,     0.94091,     0.94084,     0.94084,     0.94084,     0.94061,     0.93916,     0.93864,     0.93816,     0.93762,     0.93718,     0.93665,     0.93588,     0.93563,     0.93543,     0.93524,     0.93505,     0.93488,\n",
              "            0.93488,       0.934,       0.934,       0.934,     0.93383,     0.93313,     0.93313,     0.93272,     0.93272,     0.93112,     0.93065,     0.92988,     0.92975,     0.92949,     0.92879,     0.92807,     0.92807,     0.92788,     0.92771,     0.92528,     0.92428,     0.92248,     0.92122,\n",
              "            0.92076,     0.92056,     0.92013,     0.91893,     0.91878,     0.91856,     0.91836,      0.9161,     0.91574,     0.91574,      0.9153,     0.91439,      0.9135,      0.9135,     0.91291,     0.91272,     0.91168,     0.91168,     0.91155,     0.91155,     0.91063,     0.90945,     0.90855,\n",
              "            0.90819,     0.90801,     0.90757,     0.90704,     0.90704,     0.90607,     0.90607,     0.90587,     0.90499,     0.90371,     0.90371,      0.9013,      0.9013,      0.9013,     0.90069,     0.89906,     0.89695,      0.8966,     0.89573,     0.89536,     0.89406,     0.89321,     0.89271,\n",
              "            0.89271,     0.88973,     0.88913,     0.88666,     0.88512,     0.88433,     0.88407,      0.8832,     0.88309,     0.88251,     0.88127,     0.88003,     0.87854,     0.87821,       0.878,     0.87758,     0.87591,     0.87445,     0.87396,     0.87316,     0.87197,     0.87102,     0.87055,\n",
              "            0.86953,     0.86881,     0.86803,     0.86687,     0.86547,     0.86345,     0.86229,     0.85897,     0.85572,      0.8548,      0.8535,     0.85273,     0.85256,      0.8518,     0.85166,     0.85034,     0.84862,     0.84615,     0.84544,     0.84436,     0.84357,     0.84205,     0.84123,\n",
              "            0.83904,     0.83799,     0.83731,     0.83615,     0.83491,     0.83424,     0.83286,     0.83086,     0.83009,     0.82761,     0.82677,     0.82539,     0.82369,     0.82369,     0.82318,      0.8225,     0.82138,     0.82004,     0.81893,     0.81858,     0.81507,     0.81409,     0.81154,\n",
              "            0.81062,     0.80774,     0.80593,     0.80458,     0.80453,     0.80314,     0.80172,     0.80018,     0.79803,      0.7979,     0.79516,     0.79258,     0.79126,     0.78956,     0.78717,     0.78608,     0.78446,     0.78348,     0.78155,     0.78008,     0.77883,     0.77494,     0.77236,\n",
              "            0.77213,     0.77104,     0.76793,     0.76485,     0.76207,     0.76029,     0.75771,     0.75699,     0.75373,     0.75226,      0.7497,     0.74821,     0.74608,     0.74378,     0.74052,     0.73875,     0.73737,     0.73528,     0.73226,     0.73111,     0.73061,     0.72942,     0.72647,\n",
              "            0.72516,     0.72399,     0.72111,     0.71847,     0.71672,     0.71227,     0.71029,     0.70776,     0.70634,     0.70384,     0.70058,     0.69964,     0.69886,     0.69631,     0.69433,     0.69232,     0.69013,     0.68901,     0.68395,     0.68238,     0.68098,     0.67731,     0.67601,\n",
              "            0.67431,     0.67245,     0.66814,      0.6678,     0.66402,     0.66012,     0.65552,     0.65423,     0.65187,      0.6492,      0.6451,     0.64287,     0.63994,     0.63648,     0.63121,     0.62608,     0.62033,     0.61951,     0.61636,     0.61338,     0.60827,     0.60501,     0.60298,\n",
              "            0.59593,     0.59491,     0.58905,     0.58663,      0.5796,     0.57818,     0.57299,     0.57121,     0.55975,     0.55707,     0.54753,      0.5412,     0.54043,     0.53626,     0.53306,     0.52745,     0.52183,     0.51182,     0.50819,     0.50375,     0.49909,     0.49632,      0.4897,\n",
              "            0.47723,     0.46767,     0.45867,     0.45322,     0.45011,     0.44797,     0.44624,     0.43492,     0.43093,     0.42819,     0.42321,     0.41983,     0.41772,     0.41402,     0.40547,     0.39943,     0.38892,     0.38703,     0.38166,     0.37623,     0.37491,     0.37116,     0.36527,\n",
              "            0.35659,     0.35482,     0.34786,     0.34264,      0.3379,     0.33383,      0.3274,     0.32207,     0.31464,     0.31008,     0.30431,     0.29427,     0.28994,      0.2797,     0.27576,     0.26257,     0.25339,     0.24974,     0.24323,     0.23908,     0.23662,     0.22864,     0.22407,\n",
              "            0.22125,     0.21299,      0.2034,     0.19818,     0.19273,     0.18429,     0.17902,     0.17556,     0.17271,      0.1665,     0.15692,     0.14652,      0.1436,     0.13113,     0.12382,     0.11052,    0.099805,    0.091731,    0.086598,    0.082118,    0.076252,    0.070387,    0.064521,\n",
              "           0.058656,     0.05279,    0.046924,    0.041059,    0.035193,    0.029328,    0.023462,    0.017597,    0.011731,   0.0058656,           0]]), 'Recall', 'Precision'], [array([          0,    0.001001,    0.002002,    0.003003,    0.004004,    0.005005,    0.006006,    0.007007,    0.008008,    0.009009,     0.01001,    0.011011,    0.012012,    0.013013,    0.014014,    0.015015,    0.016016,    0.017017,    0.018018,    0.019019,     0.02002,    0.021021,    0.022022,    0.023023,\n",
              "          0.024024,    0.025025,    0.026026,    0.027027,    0.028028,    0.029029,     0.03003,    0.031031,    0.032032,    0.033033,    0.034034,    0.035035,    0.036036,    0.037037,    0.038038,    0.039039,     0.04004,    0.041041,    0.042042,    0.043043,    0.044044,    0.045045,    0.046046,    0.047047,\n",
              "          0.048048,    0.049049,     0.05005,    0.051051,    0.052052,    0.053053,    0.054054,    0.055055,    0.056056,    0.057057,    0.058058,    0.059059,     0.06006,    0.061061,    0.062062,    0.063063,    0.064064,    0.065065,    0.066066,    0.067067,    0.068068,    0.069069,     0.07007,    0.071071,\n",
              "          0.072072,    0.073073,    0.074074,    0.075075,    0.076076,    0.077077,    0.078078,    0.079079,     0.08008,    0.081081,    0.082082,    0.083083,    0.084084,    0.085085,    0.086086,    0.087087,    0.088088,    0.089089,     0.09009,    0.091091,    0.092092,    0.093093,    0.094094,    0.095095,\n",
              "          0.096096,    0.097097,    0.098098,    0.099099,      0.1001,      0.1011,      0.1021,      0.1031,      0.1041,     0.10511,     0.10611,     0.10711,     0.10811,     0.10911,     0.11011,     0.11111,     0.11211,     0.11311,     0.11411,     0.11512,     0.11612,     0.11712,     0.11812,     0.11912,\n",
              "           0.12012,     0.12112,     0.12212,     0.12312,     0.12412,     0.12513,     0.12613,     0.12713,     0.12813,     0.12913,     0.13013,     0.13113,     0.13213,     0.13313,     0.13413,     0.13514,     0.13614,     0.13714,     0.13814,     0.13914,     0.14014,     0.14114,     0.14214,     0.14314,\n",
              "           0.14414,     0.14515,     0.14615,     0.14715,     0.14815,     0.14915,     0.15015,     0.15115,     0.15215,     0.15315,     0.15415,     0.15516,     0.15616,     0.15716,     0.15816,     0.15916,     0.16016,     0.16116,     0.16216,     0.16316,     0.16416,     0.16517,     0.16617,     0.16717,\n",
              "           0.16817,     0.16917,     0.17017,     0.17117,     0.17217,     0.17317,     0.17417,     0.17518,     0.17618,     0.17718,     0.17818,     0.17918,     0.18018,     0.18118,     0.18218,     0.18318,     0.18418,     0.18519,     0.18619,     0.18719,     0.18819,     0.18919,     0.19019,     0.19119,\n",
              "           0.19219,     0.19319,     0.19419,      0.1952,      0.1962,      0.1972,      0.1982,      0.1992,      0.2002,      0.2012,      0.2022,      0.2032,      0.2042,     0.20521,     0.20621,     0.20721,     0.20821,     0.20921,     0.21021,     0.21121,     0.21221,     0.21321,     0.21421,     0.21522,\n",
              "           0.21622,     0.21722,     0.21822,     0.21922,     0.22022,     0.22122,     0.22222,     0.22322,     0.22422,     0.22523,     0.22623,     0.22723,     0.22823,     0.22923,     0.23023,     0.23123,     0.23223,     0.23323,     0.23423,     0.23524,     0.23624,     0.23724,     0.23824,     0.23924,\n",
              "           0.24024,     0.24124,     0.24224,     0.24324,     0.24424,     0.24525,     0.24625,     0.24725,     0.24825,     0.24925,     0.25025,     0.25125,     0.25225,     0.25325,     0.25425,     0.25526,     0.25626,     0.25726,     0.25826,     0.25926,     0.26026,     0.26126,     0.26226,     0.26326,\n",
              "           0.26426,     0.26527,     0.26627,     0.26727,     0.26827,     0.26927,     0.27027,     0.27127,     0.27227,     0.27327,     0.27427,     0.27528,     0.27628,     0.27728,     0.27828,     0.27928,     0.28028,     0.28128,     0.28228,     0.28328,     0.28428,     0.28529,     0.28629,     0.28729,\n",
              "           0.28829,     0.28929,     0.29029,     0.29129,     0.29229,     0.29329,     0.29429,      0.2953,      0.2963,      0.2973,      0.2983,      0.2993,      0.3003,      0.3013,      0.3023,      0.3033,      0.3043,     0.30531,     0.30631,     0.30731,     0.30831,     0.30931,     0.31031,     0.31131,\n",
              "           0.31231,     0.31331,     0.31431,     0.31532,     0.31632,     0.31732,     0.31832,     0.31932,     0.32032,     0.32132,     0.32232,     0.32332,     0.32432,     0.32533,     0.32633,     0.32733,     0.32833,     0.32933,     0.33033,     0.33133,     0.33233,     0.33333,     0.33433,     0.33534,\n",
              "           0.33634,     0.33734,     0.33834,     0.33934,     0.34034,     0.34134,     0.34234,     0.34334,     0.34434,     0.34535,     0.34635,     0.34735,     0.34835,     0.34935,     0.35035,     0.35135,     0.35235,     0.35335,     0.35435,     0.35536,     0.35636,     0.35736,     0.35836,     0.35936,\n",
              "           0.36036,     0.36136,     0.36236,     0.36336,     0.36436,     0.36537,     0.36637,     0.36737,     0.36837,     0.36937,     0.37037,     0.37137,     0.37237,     0.37337,     0.37437,     0.37538,     0.37638,     0.37738,     0.37838,     0.37938,     0.38038,     0.38138,     0.38238,     0.38338,\n",
              "           0.38438,     0.38539,     0.38639,     0.38739,     0.38839,     0.38939,     0.39039,     0.39139,     0.39239,     0.39339,     0.39439,      0.3954,      0.3964,      0.3974,      0.3984,      0.3994,      0.4004,      0.4014,      0.4024,      0.4034,      0.4044,     0.40541,     0.40641,     0.40741,\n",
              "           0.40841,     0.40941,     0.41041,     0.41141,     0.41241,     0.41341,     0.41441,     0.41542,     0.41642,     0.41742,     0.41842,     0.41942,     0.42042,     0.42142,     0.42242,     0.42342,     0.42442,     0.42543,     0.42643,     0.42743,     0.42843,     0.42943,     0.43043,     0.43143,\n",
              "           0.43243,     0.43343,     0.43443,     0.43544,     0.43644,     0.43744,     0.43844,     0.43944,     0.44044,     0.44144,     0.44244,     0.44344,     0.44444,     0.44545,     0.44645,     0.44745,     0.44845,     0.44945,     0.45045,     0.45145,     0.45245,     0.45345,     0.45445,     0.45546,\n",
              "           0.45646,     0.45746,     0.45846,     0.45946,     0.46046,     0.46146,     0.46246,     0.46346,     0.46446,     0.46547,     0.46647,     0.46747,     0.46847,     0.46947,     0.47047,     0.47147,     0.47247,     0.47347,     0.47447,     0.47548,     0.47648,     0.47748,     0.47848,     0.47948,\n",
              "           0.48048,     0.48148,     0.48248,     0.48348,     0.48448,     0.48549,     0.48649,     0.48749,     0.48849,     0.48949,     0.49049,     0.49149,     0.49249,     0.49349,     0.49449,      0.4955,      0.4965,      0.4975,      0.4985,      0.4995,      0.5005,      0.5015,      0.5025,      0.5035,\n",
              "            0.5045,     0.50551,     0.50651,     0.50751,     0.50851,     0.50951,     0.51051,     0.51151,     0.51251,     0.51351,     0.51451,     0.51552,     0.51652,     0.51752,     0.51852,     0.51952,     0.52052,     0.52152,     0.52252,     0.52352,     0.52452,     0.52553,     0.52653,     0.52753,\n",
              "           0.52853,     0.52953,     0.53053,     0.53153,     0.53253,     0.53353,     0.53453,     0.53554,     0.53654,     0.53754,     0.53854,     0.53954,     0.54054,     0.54154,     0.54254,     0.54354,     0.54454,     0.54555,     0.54655,     0.54755,     0.54855,     0.54955,     0.55055,     0.55155,\n",
              "           0.55255,     0.55355,     0.55455,     0.55556,     0.55656,     0.55756,     0.55856,     0.55956,     0.56056,     0.56156,     0.56256,     0.56356,     0.56456,     0.56557,     0.56657,     0.56757,     0.56857,     0.56957,     0.57057,     0.57157,     0.57257,     0.57357,     0.57457,     0.57558,\n",
              "           0.57658,     0.57758,     0.57858,     0.57958,     0.58058,     0.58158,     0.58258,     0.58358,     0.58458,     0.58559,     0.58659,     0.58759,     0.58859,     0.58959,     0.59059,     0.59159,     0.59259,     0.59359,     0.59459,      0.5956,      0.5966,      0.5976,      0.5986,      0.5996,\n",
              "            0.6006,      0.6016,      0.6026,      0.6036,      0.6046,     0.60561,     0.60661,     0.60761,     0.60861,     0.60961,     0.61061,     0.61161,     0.61261,     0.61361,     0.61461,     0.61562,     0.61662,     0.61762,     0.61862,     0.61962,     0.62062,     0.62162,     0.62262,     0.62362,\n",
              "           0.62462,     0.62563,     0.62663,     0.62763,     0.62863,     0.62963,     0.63063,     0.63163,     0.63263,     0.63363,     0.63463,     0.63564,     0.63664,     0.63764,     0.63864,     0.63964,     0.64064,     0.64164,     0.64264,     0.64364,     0.64464,     0.64565,     0.64665,     0.64765,\n",
              "           0.64865,     0.64965,     0.65065,     0.65165,     0.65265,     0.65365,     0.65465,     0.65566,     0.65666,     0.65766,     0.65866,     0.65966,     0.66066,     0.66166,     0.66266,     0.66366,     0.66466,     0.66567,     0.66667,     0.66767,     0.66867,     0.66967,     0.67067,     0.67167,\n",
              "           0.67267,     0.67367,     0.67467,     0.67568,     0.67668,     0.67768,     0.67868,     0.67968,     0.68068,     0.68168,     0.68268,     0.68368,     0.68468,     0.68569,     0.68669,     0.68769,     0.68869,     0.68969,     0.69069,     0.69169,     0.69269,     0.69369,     0.69469,      0.6957,\n",
              "            0.6967,      0.6977,      0.6987,      0.6997,      0.7007,      0.7017,      0.7027,      0.7037,      0.7047,     0.70571,     0.70671,     0.70771,     0.70871,     0.70971,     0.71071,     0.71171,     0.71271,     0.71371,     0.71471,     0.71572,     0.71672,     0.71772,     0.71872,     0.71972,\n",
              "           0.72072,     0.72172,     0.72272,     0.72372,     0.72472,     0.72573,     0.72673,     0.72773,     0.72873,     0.72973,     0.73073,     0.73173,     0.73273,     0.73373,     0.73473,     0.73574,     0.73674,     0.73774,     0.73874,     0.73974,     0.74074,     0.74174,     0.74274,     0.74374,\n",
              "           0.74474,     0.74575,     0.74675,     0.74775,     0.74875,     0.74975,     0.75075,     0.75175,     0.75275,     0.75375,     0.75475,     0.75576,     0.75676,     0.75776,     0.75876,     0.75976,     0.76076,     0.76176,     0.76276,     0.76376,     0.76476,     0.76577,     0.76677,     0.76777,\n",
              "           0.76877,     0.76977,     0.77077,     0.77177,     0.77277,     0.77377,     0.77477,     0.77578,     0.77678,     0.77778,     0.77878,     0.77978,     0.78078,     0.78178,     0.78278,     0.78378,     0.78478,     0.78579,     0.78679,     0.78779,     0.78879,     0.78979,     0.79079,     0.79179,\n",
              "           0.79279,     0.79379,     0.79479,      0.7958,      0.7968,      0.7978,      0.7988,      0.7998,      0.8008,      0.8018,      0.8028,      0.8038,      0.8048,     0.80581,     0.80681,     0.80781,     0.80881,     0.80981,     0.81081,     0.81181,     0.81281,     0.81381,     0.81481,     0.81582,\n",
              "           0.81682,     0.81782,     0.81882,     0.81982,     0.82082,     0.82182,     0.82282,     0.82382,     0.82482,     0.82583,     0.82683,     0.82783,     0.82883,     0.82983,     0.83083,     0.83183,     0.83283,     0.83383,     0.83483,     0.83584,     0.83684,     0.83784,     0.83884,     0.83984,\n",
              "           0.84084,     0.84184,     0.84284,     0.84384,     0.84484,     0.84585,     0.84685,     0.84785,     0.84885,     0.84985,     0.85085,     0.85185,     0.85285,     0.85385,     0.85485,     0.85586,     0.85686,     0.85786,     0.85886,     0.85986,     0.86086,     0.86186,     0.86286,     0.86386,\n",
              "           0.86486,     0.86587,     0.86687,     0.86787,     0.86887,     0.86987,     0.87087,     0.87187,     0.87287,     0.87387,     0.87487,     0.87588,     0.87688,     0.87788,     0.87888,     0.87988,     0.88088,     0.88188,     0.88288,     0.88388,     0.88488,     0.88589,     0.88689,     0.88789,\n",
              "           0.88889,     0.88989,     0.89089,     0.89189,     0.89289,     0.89389,     0.89489,      0.8959,      0.8969,      0.8979,      0.8989,      0.8999,      0.9009,      0.9019,      0.9029,      0.9039,      0.9049,     0.90591,     0.90691,     0.90791,     0.90891,     0.90991,     0.91091,     0.91191,\n",
              "           0.91291,     0.91391,     0.91491,     0.91592,     0.91692,     0.91792,     0.91892,     0.91992,     0.92092,     0.92192,     0.92292,     0.92392,     0.92492,     0.92593,     0.92693,     0.92793,     0.92893,     0.92993,     0.93093,     0.93193,     0.93293,     0.93393,     0.93493,     0.93594,\n",
              "           0.93694,     0.93794,     0.93894,     0.93994,     0.94094,     0.94194,     0.94294,     0.94394,     0.94494,     0.94595,     0.94695,     0.94795,     0.94895,     0.94995,     0.95095,     0.95195,     0.95295,     0.95395,     0.95495,     0.95596,     0.95696,     0.95796,     0.95896,     0.95996,\n",
              "           0.96096,     0.96196,     0.96296,     0.96396,     0.96496,     0.96597,     0.96697,     0.96797,     0.96897,     0.96997,     0.97097,     0.97197,     0.97297,     0.97397,     0.97497,     0.97598,     0.97698,     0.97798,     0.97898,     0.97998,     0.98098,     0.98198,     0.98298,     0.98398,\n",
              "           0.98498,     0.98599,     0.98699,     0.98799,     0.98899,     0.98999,     0.99099,     0.99199,     0.99299,     0.99399,     0.99499,       0.996,       0.997,       0.998,       0.999,           1]), array([[    0.15457,     0.15457,     0.21586,     0.25903,     0.29298,     0.32097,     0.34509,      0.3649,     0.38403,     0.40044,     0.41531,     0.43025,     0.44206,     0.45318,     0.46478,     0.47457,     0.48452,      0.4933,     0.50065,     0.50863,      0.5159,     0.52272,     0.52981,\n",
              "            0.53601,     0.54119,      0.5475,     0.55278,     0.55785,     0.56389,     0.56835,     0.57371,     0.57783,     0.58203,     0.58611,     0.58979,     0.59439,     0.59774,     0.60178,      0.6047,     0.60796,     0.61173,     0.61479,     0.61753,     0.62056,      0.6239,      0.6265,\n",
              "            0.62997,     0.63322,     0.63638,     0.63912,     0.64226,     0.64429,     0.64733,     0.64938,     0.65231,     0.65454,     0.65652,     0.65908,     0.66172,     0.66437,     0.66595,     0.66867,     0.67131,     0.67328,     0.67466,     0.67627,     0.67804,     0.67914,     0.68144,\n",
              "            0.68387,     0.68541,      0.6867,     0.68868,     0.69051,     0.69265,     0.69405,     0.69514,     0.69743,     0.69925,     0.70022,     0.70155,     0.70244,     0.70385,      0.7055,      0.7061,     0.70745,     0.70891,      0.7102,     0.71107,     0.71201,     0.71374,     0.71515,\n",
              "            0.71601,     0.71744,     0.71868,        0.72,     0.72102,     0.72194,     0.72319,     0.72393,     0.72506,     0.72623,     0.72743,     0.72883,     0.72921,     0.73019,     0.73093,     0.73199,     0.73263,     0.73311,     0.73466,     0.73585,     0.73648,     0.73754,     0.73834,\n",
              "            0.73914,     0.74022,     0.74146,     0.74176,     0.74278,     0.74357,     0.74444,     0.74504,     0.74577,     0.74692,     0.74752,     0.74783,     0.74845,     0.74884,     0.74995,     0.75071,     0.75127,     0.75161,     0.75218,     0.75357,     0.75433,     0.75604,      0.7565,\n",
              "            0.75701,     0.75803,     0.75863,     0.75935,     0.76029,     0.76069,     0.76128,     0.76184,     0.76231,     0.76263,       0.763,     0.76375,      0.7644,     0.76474,     0.76536,     0.76557,     0.76578,     0.76617,     0.76713,     0.76796,     0.76813,     0.76884,     0.76903,\n",
              "            0.76922,     0.76986,     0.77044,     0.77066,     0.77109,     0.77145,      0.7721,     0.77236,     0.77292,     0.77266,     0.77288,     0.77352,     0.77413,      0.7745,     0.77482,     0.77541,      0.7759,     0.77601,     0.77632,     0.77704,     0.77714,     0.77757,     0.77807,\n",
              "            0.77889,     0.77947,     0.78003,     0.78058,      0.7807,      0.7813,     0.78164,     0.78185,     0.78196,      0.7825,     0.78259,     0.78309,     0.78335,     0.78347,     0.78386,     0.78448,     0.78484,     0.78531,     0.78515,     0.78543,     0.78542,       0.786,     0.78606,\n",
              "            0.78672,     0.78706,     0.78728,     0.78752,      0.7877,     0.78771,     0.78773,     0.78808,     0.78836,     0.78872,     0.78875,     0.78971,     0.78983,     0.79013,      0.7902,     0.79033,     0.79064,       0.791,     0.79129,     0.79146,     0.79183,      0.7918,     0.79164,\n",
              "            0.79243,     0.79254,       0.793,     0.79312,     0.79337,     0.79374,     0.79389,     0.79406,     0.79433,     0.79436,     0.79427,     0.79454,     0.79506,     0.79521,     0.79536,     0.79546,      0.7959,     0.79626,     0.79664,     0.79703,     0.79726,      0.7976,     0.79787,\n",
              "            0.79812,     0.79843,      0.7986,     0.79933,     0.79919,     0.79945,     0.79914,     0.79924,     0.79983,     0.79976,     0.80004,     0.80041,     0.80119,     0.80162,     0.80136,      0.8018,     0.80185,     0.80219,     0.80205,     0.80243,     0.80254,     0.80277,     0.80281,\n",
              "            0.80296,     0.80308,     0.80306,     0.80328,     0.80324,     0.80345,     0.80408,     0.80408,     0.80432,     0.80434,     0.80439,     0.80473,     0.80507,     0.80525,     0.80583,       0.806,     0.80629,     0.80622,     0.80599,      0.8066,     0.80645,     0.80645,     0.80639,\n",
              "            0.80666,      0.8066,       0.807,     0.80704,     0.80694,     0.80683,     0.80715,       0.807,     0.80652,     0.80654,     0.80656,     0.80693,      0.8068,     0.80748,     0.80758,      0.8077,     0.80803,     0.80822,     0.80809,     0.80809,     0.80838,     0.80863,     0.80868,\n",
              "            0.80893,     0.80884,     0.80895,     0.80902,     0.80956,     0.80992,     0.81016,     0.80973,     0.80978,     0.80967,     0.80934,     0.80971,     0.80993,     0.80997,     0.80994,     0.80939,     0.80948,     0.80944,     0.80888,     0.80885,     0.80923,     0.80914,     0.80923,\n",
              "            0.80933,     0.80939,     0.80952,     0.80932,     0.80928,     0.80976,     0.80968,     0.80964,     0.80976,     0.81018,     0.81015,     0.81049,     0.81047,     0.81023,     0.81022,     0.81037,     0.81038,     0.81006,     0.80992,     0.81017,     0.81031,     0.80998,     0.80996,\n",
              "             0.8101,     0.80999,     0.81038,     0.81029,     0.81025,     0.81023,     0.81042,     0.81047,     0.81033,     0.81032,     0.81001,     0.81019,      0.8102,     0.81004,     0.81019,     0.81007,      0.8098,     0.81004,     0.81034,     0.81043,     0.81074,     0.81082,     0.81063,\n",
              "            0.81078,     0.81097,     0.81072,      0.8102,     0.81022,     0.81022,     0.80979,     0.80955,      0.8095,      0.8095,     0.80944,     0.80915,     0.80935,     0.80941,     0.80972,     0.80981,     0.81008,     0.81042,     0.81071,     0.81067,     0.81091,     0.81097,     0.81118,\n",
              "            0.81107,     0.81111,     0.81098,     0.81087,     0.81128,     0.81147,     0.81135,     0.81139,     0.81149,     0.81146,      0.8113,     0.81117,     0.81127,     0.81114,     0.81095,     0.81101,     0.81111,     0.81062,     0.81057,     0.81027,     0.81038,     0.81023,     0.81022,\n",
              "            0.80998,     0.80979,     0.80955,     0.80959,     0.80974,      0.8097,      0.8096,     0.80931,     0.80972,     0.80982,     0.80981,     0.80974,      0.8094,     0.80878,     0.80859,     0.80856,      0.8085,      0.8084,     0.80841,     0.80851,     0.80846,     0.80833,     0.80827,\n",
              "            0.80825,     0.80803,     0.80758,     0.80744,     0.80736,     0.80769,     0.80687,     0.80696,      0.8065,      0.8067,     0.80656,     0.80671,     0.80663,     0.80668,     0.80691,     0.80671,     0.80669,     0.80652,      0.8068,     0.80695,     0.80686,     0.80679,     0.80656,\n",
              "            0.80646,      0.8061,     0.80622,     0.80592,     0.80577,     0.80553,     0.80544,     0.80538,     0.80503,     0.80476,     0.80472,     0.80507,     0.80498,     0.80518,     0.80499,      0.8048,     0.80475,     0.80413,     0.80383,     0.80353,     0.80338,     0.80333,     0.80359,\n",
              "            0.80394,     0.80342,      0.8032,     0.80321,     0.80306,     0.80282,     0.80257,     0.80212,     0.80182,     0.80151,     0.80141,     0.80111,      0.8008,     0.80065,      0.8002,     0.80034,     0.79994,     0.79959,     0.79908,     0.79878,     0.79861,     0.79847,     0.79841,\n",
              "            0.79841,      0.7979,     0.79774,     0.79663,     0.79647,     0.79611,     0.79611,      0.7959,     0.79524,     0.79498,     0.79495,     0.79462,     0.79431,      0.7943,     0.79419,     0.79414,     0.79378,     0.79357,     0.79328,      0.7933,     0.79284,     0.79253,     0.79252,\n",
              "            0.79211,     0.79216,     0.79219,     0.79179,     0.79105,     0.79051,     0.79051,     0.79002,      0.7896,     0.78958,     0.78918,     0.78866,     0.78865,      0.7887,     0.78864,     0.78869,     0.78869,     0.78839,     0.78823,     0.78847,     0.78847,     0.78856,     0.78834,\n",
              "            0.78803,     0.78743,     0.78659,     0.78618,     0.78585,     0.78517,       0.785,     0.78454,     0.78459,     0.78407,     0.78395,     0.78358,     0.78329,     0.78265,     0.78263,     0.78174,     0.78163,     0.78156,     0.78108,     0.78071,     0.78007,     0.77924,     0.77923,\n",
              "            0.77895,     0.77815,     0.77742,     0.77739,     0.77674,     0.77604,     0.77598,     0.77559,     0.77512,     0.77425,     0.77402,     0.77348,     0.77303,     0.77281,     0.77274,     0.77228,     0.77243,     0.77199,     0.77181,     0.77135,      0.7707,     0.77021,     0.76884,\n",
              "            0.76819,     0.76802,     0.76746,     0.76701,      0.7666,     0.76604,     0.76532,     0.76482,     0.76483,     0.76456,     0.76423,     0.76369,     0.76362,      0.7624,     0.76234,     0.76221,      0.7618,     0.76029,     0.75996,     0.75979,     0.75916,     0.75892,     0.75834,\n",
              "            0.75804,      0.7577,     0.75686,     0.75548,     0.75489,     0.75366,     0.75349,     0.75342,     0.75318,     0.75194,     0.75147,     0.75049,     0.74991,     0.74957,     0.74836,     0.74754,     0.74751,      0.7471,     0.74653,     0.74631,     0.74638,     0.74546,     0.74457,\n",
              "            0.74446,     0.74418,     0.74394,     0.74283,     0.74189,     0.74158,     0.74031,     0.73969,     0.73944,     0.73892,     0.73841,     0.73764,     0.73653,     0.73584,     0.73524,     0.73454,     0.73388,     0.73385,     0.73325,     0.73202,     0.72985,     0.72872,     0.72832,\n",
              "            0.72809,     0.72721,     0.72685,     0.72588,     0.72537,     0.72472,     0.72466,     0.72403,     0.72362,     0.72344,     0.72203,     0.72159,     0.72098,     0.72039,     0.71984,     0.71832,     0.71813,     0.71766,     0.71698,     0.71661,     0.71572,     0.71491,     0.71461,\n",
              "            0.71433,     0.71377,     0.71281,     0.71235,     0.71194,     0.71066,     0.70876,     0.70767,     0.70576,     0.70492,     0.70418,     0.70366,       0.702,     0.70122,     0.69949,     0.69827,     0.69715,     0.69691,     0.69649,     0.69536,     0.69446,     0.69387,      0.6933,\n",
              "            0.69227,      0.6903,     0.68915,     0.68735,     0.68593,     0.68535,     0.68447,     0.68402,     0.68211,     0.68035,      0.6802,     0.67798,     0.67717,     0.67634,      0.6745,     0.67366,     0.67275,     0.67129,     0.67043,     0.66903,      0.6667,     0.66629,     0.66481,\n",
              "            0.66333,     0.66154,     0.65996,     0.65837,     0.65785,     0.65666,     0.65563,     0.65476,     0.65224,     0.65018,     0.64861,     0.64693,     0.64576,     0.64413,     0.64324,     0.64198,     0.64128,     0.63982,     0.63737,     0.63653,     0.63425,     0.63124,     0.62977,\n",
              "             0.6285,     0.62674,     0.62409,     0.62285,     0.62102,     0.61905,     0.61772,     0.61659,     0.61397,     0.61264,     0.61203,      0.6108,     0.60868,     0.60638,     0.60464,     0.60288,     0.60147,     0.59952,     0.59682,     0.59481,     0.59401,     0.59158,     0.59016,\n",
              "            0.58714,     0.58389,     0.58272,      0.5798,     0.57816,     0.57538,     0.57317,     0.57228,     0.56873,     0.56601,     0.56431,     0.56201,     0.55997,     0.55879,     0.55665,     0.55385,      0.5522,     0.55009,      0.5475,     0.54669,       0.543,     0.54062,     0.53741,\n",
              "            0.53664,     0.53424,     0.53015,     0.52724,     0.52558,     0.52343,     0.52083,     0.51739,     0.51428,       0.512,     0.51014,     0.50641,     0.50249,     0.49822,     0.49375,     0.49044,     0.48584,     0.48176,     0.48017,      0.4768,     0.47368,     0.47054,     0.46634,\n",
              "            0.46194,     0.45689,      0.4519,     0.44974,     0.44577,     0.44151,     0.43586,     0.43256,      0.4287,     0.41702,     0.41252,     0.40884,     0.40514,     0.40114,     0.39598,     0.39251,     0.38786,     0.37946,     0.37533,      0.3694,     0.36462,     0.35831,     0.35286,\n",
              "            0.34768,     0.34369,     0.33598,     0.33038,     0.32694,     0.31876,     0.31145,     0.30317,     0.29993,     0.29441,     0.28624,     0.28128,     0.27431,     0.26929,     0.26222,     0.25679,     0.24756,       0.241,     0.23683,     0.22739,      0.2235,     0.21712,      0.2114,\n",
              "            0.20313,     0.19623,     0.18749,     0.17862,     0.17041,       0.161,     0.15529,     0.14851,     0.14188,     0.13841,     0.13101,     0.12708,     0.12116,     0.11167,     0.10243,    0.099591,    0.093087,    0.084901,    0.079535,    0.076209,    0.073288,    0.069524,    0.062813,\n",
              "           0.056478,    0.053496,    0.050505,    0.047078,     0.04155,    0.039329,       0.035,    0.031952,    0.029328,    0.026698,    0.023187,    0.020978,    0.019203,    0.017577,    0.016687,    0.015356,    0.014464,    0.013814,    0.011584,   0.0097922,   0.0068976,   0.0057539,   0.0044529,\n",
              "          0.0043225,   0.0041921,   0.0040617,   0.0035327,   0.0033043,   0.0026132,   0.0023084,   0.0020034,   0.0017428,   0.0015903,   0.0014377,   0.0012295,  0.00092417,  0.00083054,  0.00076007,  0.00068959,  0.00061911,  0.00054863,  0.00047814,           0,           0,           0,           0,\n",
              "                  0,           0,           0,           0,           0,           0,           0,           0,           0,           0,           0,           0,           0,           0,           0,           0,           0,           0,           0,           0,           0,           0,           0,\n",
              "                  0,           0,           0,           0,           0,           0,           0,           0,           0,           0,           0]]), 'Confidence', 'F1'], [array([          0,    0.001001,    0.002002,    0.003003,    0.004004,    0.005005,    0.006006,    0.007007,    0.008008,    0.009009,     0.01001,    0.011011,    0.012012,    0.013013,    0.014014,    0.015015,    0.016016,    0.017017,    0.018018,    0.019019,     0.02002,    0.021021,    0.022022,    0.023023,\n",
              "          0.024024,    0.025025,    0.026026,    0.027027,    0.028028,    0.029029,     0.03003,    0.031031,    0.032032,    0.033033,    0.034034,    0.035035,    0.036036,    0.037037,    0.038038,    0.039039,     0.04004,    0.041041,    0.042042,    0.043043,    0.044044,    0.045045,    0.046046,    0.047047,\n",
              "          0.048048,    0.049049,     0.05005,    0.051051,    0.052052,    0.053053,    0.054054,    0.055055,    0.056056,    0.057057,    0.058058,    0.059059,     0.06006,    0.061061,    0.062062,    0.063063,    0.064064,    0.065065,    0.066066,    0.067067,    0.068068,    0.069069,     0.07007,    0.071071,\n",
              "          0.072072,    0.073073,    0.074074,    0.075075,    0.076076,    0.077077,    0.078078,    0.079079,     0.08008,    0.081081,    0.082082,    0.083083,    0.084084,    0.085085,    0.086086,    0.087087,    0.088088,    0.089089,     0.09009,    0.091091,    0.092092,    0.093093,    0.094094,    0.095095,\n",
              "          0.096096,    0.097097,    0.098098,    0.099099,      0.1001,      0.1011,      0.1021,      0.1031,      0.1041,     0.10511,     0.10611,     0.10711,     0.10811,     0.10911,     0.11011,     0.11111,     0.11211,     0.11311,     0.11411,     0.11512,     0.11612,     0.11712,     0.11812,     0.11912,\n",
              "           0.12012,     0.12112,     0.12212,     0.12312,     0.12412,     0.12513,     0.12613,     0.12713,     0.12813,     0.12913,     0.13013,     0.13113,     0.13213,     0.13313,     0.13413,     0.13514,     0.13614,     0.13714,     0.13814,     0.13914,     0.14014,     0.14114,     0.14214,     0.14314,\n",
              "           0.14414,     0.14515,     0.14615,     0.14715,     0.14815,     0.14915,     0.15015,     0.15115,     0.15215,     0.15315,     0.15415,     0.15516,     0.15616,     0.15716,     0.15816,     0.15916,     0.16016,     0.16116,     0.16216,     0.16316,     0.16416,     0.16517,     0.16617,     0.16717,\n",
              "           0.16817,     0.16917,     0.17017,     0.17117,     0.17217,     0.17317,     0.17417,     0.17518,     0.17618,     0.17718,     0.17818,     0.17918,     0.18018,     0.18118,     0.18218,     0.18318,     0.18418,     0.18519,     0.18619,     0.18719,     0.18819,     0.18919,     0.19019,     0.19119,\n",
              "           0.19219,     0.19319,     0.19419,      0.1952,      0.1962,      0.1972,      0.1982,      0.1992,      0.2002,      0.2012,      0.2022,      0.2032,      0.2042,     0.20521,     0.20621,     0.20721,     0.20821,     0.20921,     0.21021,     0.21121,     0.21221,     0.21321,     0.21421,     0.21522,\n",
              "           0.21622,     0.21722,     0.21822,     0.21922,     0.22022,     0.22122,     0.22222,     0.22322,     0.22422,     0.22523,     0.22623,     0.22723,     0.22823,     0.22923,     0.23023,     0.23123,     0.23223,     0.23323,     0.23423,     0.23524,     0.23624,     0.23724,     0.23824,     0.23924,\n",
              "           0.24024,     0.24124,     0.24224,     0.24324,     0.24424,     0.24525,     0.24625,     0.24725,     0.24825,     0.24925,     0.25025,     0.25125,     0.25225,     0.25325,     0.25425,     0.25526,     0.25626,     0.25726,     0.25826,     0.25926,     0.26026,     0.26126,     0.26226,     0.26326,\n",
              "           0.26426,     0.26527,     0.26627,     0.26727,     0.26827,     0.26927,     0.27027,     0.27127,     0.27227,     0.27327,     0.27427,     0.27528,     0.27628,     0.27728,     0.27828,     0.27928,     0.28028,     0.28128,     0.28228,     0.28328,     0.28428,     0.28529,     0.28629,     0.28729,\n",
              "           0.28829,     0.28929,     0.29029,     0.29129,     0.29229,     0.29329,     0.29429,      0.2953,      0.2963,      0.2973,      0.2983,      0.2993,      0.3003,      0.3013,      0.3023,      0.3033,      0.3043,     0.30531,     0.30631,     0.30731,     0.30831,     0.30931,     0.31031,     0.31131,\n",
              "           0.31231,     0.31331,     0.31431,     0.31532,     0.31632,     0.31732,     0.31832,     0.31932,     0.32032,     0.32132,     0.32232,     0.32332,     0.32432,     0.32533,     0.32633,     0.32733,     0.32833,     0.32933,     0.33033,     0.33133,     0.33233,     0.33333,     0.33433,     0.33534,\n",
              "           0.33634,     0.33734,     0.33834,     0.33934,     0.34034,     0.34134,     0.34234,     0.34334,     0.34434,     0.34535,     0.34635,     0.34735,     0.34835,     0.34935,     0.35035,     0.35135,     0.35235,     0.35335,     0.35435,     0.35536,     0.35636,     0.35736,     0.35836,     0.35936,\n",
              "           0.36036,     0.36136,     0.36236,     0.36336,     0.36436,     0.36537,     0.36637,     0.36737,     0.36837,     0.36937,     0.37037,     0.37137,     0.37237,     0.37337,     0.37437,     0.37538,     0.37638,     0.37738,     0.37838,     0.37938,     0.38038,     0.38138,     0.38238,     0.38338,\n",
              "           0.38438,     0.38539,     0.38639,     0.38739,     0.38839,     0.38939,     0.39039,     0.39139,     0.39239,     0.39339,     0.39439,      0.3954,      0.3964,      0.3974,      0.3984,      0.3994,      0.4004,      0.4014,      0.4024,      0.4034,      0.4044,     0.40541,     0.40641,     0.40741,\n",
              "           0.40841,     0.40941,     0.41041,     0.41141,     0.41241,     0.41341,     0.41441,     0.41542,     0.41642,     0.41742,     0.41842,     0.41942,     0.42042,     0.42142,     0.42242,     0.42342,     0.42442,     0.42543,     0.42643,     0.42743,     0.42843,     0.42943,     0.43043,     0.43143,\n",
              "           0.43243,     0.43343,     0.43443,     0.43544,     0.43644,     0.43744,     0.43844,     0.43944,     0.44044,     0.44144,     0.44244,     0.44344,     0.44444,     0.44545,     0.44645,     0.44745,     0.44845,     0.44945,     0.45045,     0.45145,     0.45245,     0.45345,     0.45445,     0.45546,\n",
              "           0.45646,     0.45746,     0.45846,     0.45946,     0.46046,     0.46146,     0.46246,     0.46346,     0.46446,     0.46547,     0.46647,     0.46747,     0.46847,     0.46947,     0.47047,     0.47147,     0.47247,     0.47347,     0.47447,     0.47548,     0.47648,     0.47748,     0.47848,     0.47948,\n",
              "           0.48048,     0.48148,     0.48248,     0.48348,     0.48448,     0.48549,     0.48649,     0.48749,     0.48849,     0.48949,     0.49049,     0.49149,     0.49249,     0.49349,     0.49449,      0.4955,      0.4965,      0.4975,      0.4985,      0.4995,      0.5005,      0.5015,      0.5025,      0.5035,\n",
              "            0.5045,     0.50551,     0.50651,     0.50751,     0.50851,     0.50951,     0.51051,     0.51151,     0.51251,     0.51351,     0.51451,     0.51552,     0.51652,     0.51752,     0.51852,     0.51952,     0.52052,     0.52152,     0.52252,     0.52352,     0.52452,     0.52553,     0.52653,     0.52753,\n",
              "           0.52853,     0.52953,     0.53053,     0.53153,     0.53253,     0.53353,     0.53453,     0.53554,     0.53654,     0.53754,     0.53854,     0.53954,     0.54054,     0.54154,     0.54254,     0.54354,     0.54454,     0.54555,     0.54655,     0.54755,     0.54855,     0.54955,     0.55055,     0.55155,\n",
              "           0.55255,     0.55355,     0.55455,     0.55556,     0.55656,     0.55756,     0.55856,     0.55956,     0.56056,     0.56156,     0.56256,     0.56356,     0.56456,     0.56557,     0.56657,     0.56757,     0.56857,     0.56957,     0.57057,     0.57157,     0.57257,     0.57357,     0.57457,     0.57558,\n",
              "           0.57658,     0.57758,     0.57858,     0.57958,     0.58058,     0.58158,     0.58258,     0.58358,     0.58458,     0.58559,     0.58659,     0.58759,     0.58859,     0.58959,     0.59059,     0.59159,     0.59259,     0.59359,     0.59459,      0.5956,      0.5966,      0.5976,      0.5986,      0.5996,\n",
              "            0.6006,      0.6016,      0.6026,      0.6036,      0.6046,     0.60561,     0.60661,     0.60761,     0.60861,     0.60961,     0.61061,     0.61161,     0.61261,     0.61361,     0.61461,     0.61562,     0.61662,     0.61762,     0.61862,     0.61962,     0.62062,     0.62162,     0.62262,     0.62362,\n",
              "           0.62462,     0.62563,     0.62663,     0.62763,     0.62863,     0.62963,     0.63063,     0.63163,     0.63263,     0.63363,     0.63463,     0.63564,     0.63664,     0.63764,     0.63864,     0.63964,     0.64064,     0.64164,     0.64264,     0.64364,     0.64464,     0.64565,     0.64665,     0.64765,\n",
              "           0.64865,     0.64965,     0.65065,     0.65165,     0.65265,     0.65365,     0.65465,     0.65566,     0.65666,     0.65766,     0.65866,     0.65966,     0.66066,     0.66166,     0.66266,     0.66366,     0.66466,     0.66567,     0.66667,     0.66767,     0.66867,     0.66967,     0.67067,     0.67167,\n",
              "           0.67267,     0.67367,     0.67467,     0.67568,     0.67668,     0.67768,     0.67868,     0.67968,     0.68068,     0.68168,     0.68268,     0.68368,     0.68468,     0.68569,     0.68669,     0.68769,     0.68869,     0.68969,     0.69069,     0.69169,     0.69269,     0.69369,     0.69469,      0.6957,\n",
              "            0.6967,      0.6977,      0.6987,      0.6997,      0.7007,      0.7017,      0.7027,      0.7037,      0.7047,     0.70571,     0.70671,     0.70771,     0.70871,     0.70971,     0.71071,     0.71171,     0.71271,     0.71371,     0.71471,     0.71572,     0.71672,     0.71772,     0.71872,     0.71972,\n",
              "           0.72072,     0.72172,     0.72272,     0.72372,     0.72472,     0.72573,     0.72673,     0.72773,     0.72873,     0.72973,     0.73073,     0.73173,     0.73273,     0.73373,     0.73473,     0.73574,     0.73674,     0.73774,     0.73874,     0.73974,     0.74074,     0.74174,     0.74274,     0.74374,\n",
              "           0.74474,     0.74575,     0.74675,     0.74775,     0.74875,     0.74975,     0.75075,     0.75175,     0.75275,     0.75375,     0.75475,     0.75576,     0.75676,     0.75776,     0.75876,     0.75976,     0.76076,     0.76176,     0.76276,     0.76376,     0.76476,     0.76577,     0.76677,     0.76777,\n",
              "           0.76877,     0.76977,     0.77077,     0.77177,     0.77277,     0.77377,     0.77477,     0.77578,     0.77678,     0.77778,     0.77878,     0.77978,     0.78078,     0.78178,     0.78278,     0.78378,     0.78478,     0.78579,     0.78679,     0.78779,     0.78879,     0.78979,     0.79079,     0.79179,\n",
              "           0.79279,     0.79379,     0.79479,      0.7958,      0.7968,      0.7978,      0.7988,      0.7998,      0.8008,      0.8018,      0.8028,      0.8038,      0.8048,     0.80581,     0.80681,     0.80781,     0.80881,     0.80981,     0.81081,     0.81181,     0.81281,     0.81381,     0.81481,     0.81582,\n",
              "           0.81682,     0.81782,     0.81882,     0.81982,     0.82082,     0.82182,     0.82282,     0.82382,     0.82482,     0.82583,     0.82683,     0.82783,     0.82883,     0.82983,     0.83083,     0.83183,     0.83283,     0.83383,     0.83483,     0.83584,     0.83684,     0.83784,     0.83884,     0.83984,\n",
              "           0.84084,     0.84184,     0.84284,     0.84384,     0.84484,     0.84585,     0.84685,     0.84785,     0.84885,     0.84985,     0.85085,     0.85185,     0.85285,     0.85385,     0.85485,     0.85586,     0.85686,     0.85786,     0.85886,     0.85986,     0.86086,     0.86186,     0.86286,     0.86386,\n",
              "           0.86486,     0.86587,     0.86687,     0.86787,     0.86887,     0.86987,     0.87087,     0.87187,     0.87287,     0.87387,     0.87487,     0.87588,     0.87688,     0.87788,     0.87888,     0.87988,     0.88088,     0.88188,     0.88288,     0.88388,     0.88488,     0.88589,     0.88689,     0.88789,\n",
              "           0.88889,     0.88989,     0.89089,     0.89189,     0.89289,     0.89389,     0.89489,      0.8959,      0.8969,      0.8979,      0.8989,      0.8999,      0.9009,      0.9019,      0.9029,      0.9039,      0.9049,     0.90591,     0.90691,     0.90791,     0.90891,     0.90991,     0.91091,     0.91191,\n",
              "           0.91291,     0.91391,     0.91491,     0.91592,     0.91692,     0.91792,     0.91892,     0.91992,     0.92092,     0.92192,     0.92292,     0.92392,     0.92492,     0.92593,     0.92693,     0.92793,     0.92893,     0.92993,     0.93093,     0.93193,     0.93293,     0.93393,     0.93493,     0.93594,\n",
              "           0.93694,     0.93794,     0.93894,     0.93994,     0.94094,     0.94194,     0.94294,     0.94394,     0.94494,     0.94595,     0.94695,     0.94795,     0.94895,     0.94995,     0.95095,     0.95195,     0.95295,     0.95395,     0.95495,     0.95596,     0.95696,     0.95796,     0.95896,     0.95996,\n",
              "           0.96096,     0.96196,     0.96296,     0.96396,     0.96496,     0.96597,     0.96697,     0.96797,     0.96897,     0.96997,     0.97097,     0.97197,     0.97297,     0.97397,     0.97497,     0.97598,     0.97698,     0.97798,     0.97898,     0.97998,     0.98098,     0.98198,     0.98298,     0.98398,\n",
              "           0.98498,     0.98599,     0.98699,     0.98799,     0.98899,     0.98999,     0.99099,     0.99199,     0.99299,     0.99399,     0.99499,       0.996,       0.997,       0.998,       0.999,           1]), array([[    0.08386,     0.08386,     0.12127,      0.1493,     0.17238,     0.19225,     0.20996,     0.22495,     0.23986,     0.25299,     0.26509,     0.27744,     0.28748,     0.29711,     0.30726,     0.31614,     0.32512,     0.33327,     0.34024,     0.34781,     0.35483,     0.36154,     0.36847,\n",
              "            0.37474,     0.38015,     0.38655,     0.39211,     0.39732,     0.40356,      0.4084,     0.41401,     0.41857,     0.42336,     0.42779,     0.43211,     0.43727,       0.441,     0.44546,     0.44914,     0.45297,     0.45733,     0.46099,     0.46413,     0.46773,     0.47154,     0.47457,\n",
              "            0.47874,     0.48251,     0.48625,     0.48965,      0.4934,     0.49594,     0.50001,     0.50266,     0.50646,     0.50943,     0.51204,     0.51524,     0.51847,      0.5218,     0.52404,     0.52758,     0.53094,     0.53365,     0.53569,     0.53788,     0.54028,     0.54215,     0.54524,\n",
              "            0.54852,      0.5506,     0.55243,     0.55499,     0.55755,     0.56068,      0.5626,     0.56404,     0.56706,     0.56957,     0.57113,     0.57325,     0.57471,     0.57669,     0.57912,     0.58018,     0.58229,     0.58427,     0.58612,     0.58749,     0.58906,     0.59153,     0.59346,\n",
              "            0.59534,     0.59742,     0.59924,     0.60128,     0.60311,     0.60449,     0.60646,      0.6077,     0.60951,     0.61126,     0.61319,     0.61538,     0.61634,     0.61797,     0.61944,      0.6213,     0.62234,     0.62325,     0.62549,     0.62734,     0.62836,     0.62998,     0.63142,\n",
              "            0.63281,     0.63463,     0.63645,     0.63735,     0.63886,     0.64014,     0.64171,     0.64291,     0.64424,      0.6462,     0.64746,     0.64804,     0.64897,     0.64992,     0.65196,     0.65312,     0.65421,     0.65522,     0.65658,     0.65895,     0.66023,     0.66325,     0.66409,\n",
              "             0.6651,     0.66683,     0.66814,     0.66965,     0.67137,      0.6724,     0.67372,     0.67513,       0.676,     0.67691,     0.67776,     0.67895,     0.68024,     0.68097,     0.68235,     0.68306,     0.68367,     0.68471,     0.68652,     0.68785,     0.68826,     0.68955,     0.69042,\n",
              "            0.69129,     0.69247,     0.69369,     0.69438,     0.69532,      0.6962,     0.69755,     0.69827,     0.69941,     0.69963,      0.7005,     0.70164,     0.70279,     0.70375,     0.70469,     0.70596,     0.70702,     0.70771,     0.70884,     0.71023,     0.71082,     0.71169,     0.71268,\n",
              "            0.71407,     0.71519,      0.7163,      0.7177,     0.71852,     0.71971,     0.72059,     0.72095,      0.7213,     0.72239,      0.7227,     0.72403,     0.72512,     0.72568,      0.7268,       0.728,     0.72932,      0.7308,     0.73105,     0.73203,     0.73232,     0.73356,     0.73391,\n",
              "            0.73525,     0.73619,     0.73674,     0.73751,     0.73809,     0.73835,     0.73872,     0.73951,     0.74015,     0.74133,     0.74154,     0.74344,     0.74399,     0.74459,     0.74483,     0.74541,     0.74605,     0.74731,     0.74801,     0.74849,     0.74916,     0.74964,     0.74989,\n",
              "            0.75166,     0.75217,     0.75304,     0.75362,     0.75425,     0.75492,     0.75538,     0.75623,     0.75717,     0.75767,      0.7579,      0.7584,     0.75953,     0.75981,     0.76045,     0.76119,     0.76219,     0.76304,     0.76407,     0.76482,     0.76581,     0.76645,     0.76714,\n",
              "            0.76817,     0.76893,     0.76961,     0.77103,     0.77131,     0.77197,     0.77225,     0.77276,     0.77406,     0.77432,     0.77524,     0.77611,      0.7776,     0.77853,      0.7787,     0.77995,     0.78065,     0.78149,     0.78203,     0.78276,     0.78317,     0.78401,      0.7849,\n",
              "            0.78518,     0.78562,     0.78619,     0.78745,     0.78793,     0.78855,     0.79003,     0.79065,     0.79123,     0.79152,     0.79229,     0.79336,     0.79424,     0.79481,     0.79616,      0.7967,     0.79732,     0.79756,      0.7984,      0.7998,     0.79984,     0.80014,     0.80026,\n",
              "            0.80145,     0.80166,     0.80278,     0.80298,     0.80354,     0.80351,      0.8044,     0.80446,     0.80445,     0.80494,      0.8052,     0.80616,     0.80658,     0.80839,     0.80859,     0.80937,     0.81016,     0.81055,     0.81072,     0.81118,     0.81223,     0.81274,      0.8133,\n",
              "            0.81404,     0.81431,     0.81502,      0.8156,     0.81669,      0.8179,     0.81855,     0.81889,      0.8197,     0.81971,     0.81989,     0.82073,     0.82142,     0.82217,     0.82263,     0.82296,     0.82336,     0.82363,     0.82379,     0.82411,     0.82501,     0.82553,     0.82603,\n",
              "            0.82642,     0.82673,     0.82743,     0.82754,     0.82827,     0.83001,     0.83033,     0.83081,     0.83124,     0.83238,     0.83257,     0.83354,       0.834,     0.83421,     0.83523,     0.83579,     0.83614,     0.83615,     0.83652,     0.83739,     0.83785,     0.83793,     0.83844,\n",
              "            0.83901,     0.83932,      0.8404,     0.84074,     0.84151,     0.84215,     0.84308,     0.84352,     0.84402,     0.84418,     0.84429,     0.84469,     0.84524,     0.84543,     0.84601,      0.8461,     0.84657,     0.84727,     0.84793,     0.84814,     0.84908,     0.84953,     0.85044,\n",
              "            0.85104,     0.85148,     0.85176,     0.85166,     0.85225,     0.85237,     0.85263,     0.85294,     0.85339,     0.85423,     0.85436,      0.8547,     0.85583,      0.8568,     0.85748,      0.8577,     0.85858,     0.85962,     0.86028,     0.86046,      0.8613,      0.8617,     0.86227,\n",
              "            0.86263,     0.86316,     0.86371,     0.86395,     0.86497,     0.86541,     0.86563,     0.86638,     0.86684,     0.86743,     0.86761,     0.86818,       0.869,     0.86934,     0.86973,     0.87015,     0.87038,     0.87082,     0.87101,     0.87141,     0.87225,     0.87295,     0.87356,\n",
              "            0.87391,     0.87407,     0.87442,     0.87521,     0.87586,     0.87606,     0.87608,     0.87601,     0.87732,     0.87756,     0.87799,     0.87797,      0.8781,     0.87818,     0.87834,     0.87981,        0.88,      0.8804,     0.88069,     0.88105,     0.88125,     0.88175,     0.88206,\n",
              "             0.8828,     0.88307,     0.88309,     0.88316,     0.88314,     0.88399,     0.88425,     0.88498,     0.88526,     0.88574,     0.88636,     0.88705,     0.88782,     0.88794,      0.8891,     0.88928,     0.88992,     0.89012,     0.89083,     0.89153,     0.89262,     0.89261,     0.89256,\n",
              "            0.89299,     0.89339,     0.89406,       0.894,     0.89491,     0.89532,     0.89576,     0.89637,     0.89653,     0.89678,     0.89769,      0.8989,     0.89935,     0.90055,     0.90075,     0.90095,     0.90117,     0.90118,     0.90112,     0.90107,     0.90104,     0.90141,     0.90239,\n",
              "            0.90363,     0.90361,     0.90421,     0.90492,     0.90561,     0.90562,     0.90605,     0.90597,     0.90592,     0.90587,     0.90632,     0.90698,     0.90693,      0.9069,     0.90682,     0.90757,     0.90798,     0.90816,     0.90831,     0.90898,     0.90997,     0.91039,     0.91092,\n",
              "            0.91135,     0.91151,     0.91149,     0.91154,     0.91152,     0.91155,     0.91229,     0.91266,     0.91279,     0.91325,     0.91336,     0.91343,     0.91338,     0.91413,     0.91476,     0.91485,     0.91521,     0.91526,     0.91539,     0.91572,     0.91565,      0.9156,     0.91605,\n",
              "            0.91604,     0.91702,     0.91782,     0.91875,     0.91867,     0.91921,     0.91998,     0.92005,      0.9205,     0.92064,     0.92095,     0.92113,     0.92129,     0.92183,     0.92287,     0.92341,      0.9242,     0.92449,     0.92526,     0.92603,     0.92684,     0.92743,     0.92767,\n",
              "            0.92762,     0.92805,     0.92821,      0.9287,     0.92947,     0.92964,     0.92962,     0.92998,     0.93054,     0.93074,      0.9321,     0.93233,     0.93266,     0.93258,     0.93305,     0.93301,     0.93321,     0.93381,     0.93375,     0.93398,      0.9339,     0.93418,     0.93435,\n",
              "            0.93487,     0.93477,      0.9351,     0.93523,     0.93515,     0.93534,     0.93561,     0.93585,     0.93598,      0.9371,     0.93736,     0.93793,     0.93809,     0.93835,     0.93863,     0.93896,     0.93985,     0.94056,     0.94078,     0.94078,      0.9407,     0.94065,     0.94078,\n",
              "             0.9407,     0.94068,     0.94091,     0.94092,     0.94139,     0.94162,     0.94184,     0.94178,     0.94289,     0.94294,      0.9429,     0.94343,     0.94373,      0.9437,     0.94418,     0.94459,     0.94472,     0.94456,     0.94452,      0.9445,     0.94504,     0.94531,     0.94555,\n",
              "            0.94583,     0.94579,      0.9457,     0.94607,      0.9461,     0.94658,     0.94656,     0.94686,     0.94715,     0.94702,     0.94724,     0.94717,     0.94742,     0.94739,     0.94772,     0.94827,     0.94843,      0.9487,     0.94927,      0.9496,     0.94989,     0.95012,     0.95099,\n",
              "            0.95098,     0.95182,     0.95253,     0.95243,     0.95266,     0.95328,     0.95316,     0.95342,     0.95373,     0.95368,     0.95396,     0.95422,     0.95444,     0.95471,     0.95498,     0.95492,     0.95492,     0.95519,     0.95547,     0.95535,     0.95583,     0.95606,     0.95602,\n",
              "              0.956,     0.95592,     0.95589,      0.9558,     0.95622,     0.95699,     0.95737,     0.95734,     0.95765,     0.95764,     0.95786,     0.95816,     0.95915,      0.9598,     0.95975,     0.95962,     0.95961,     0.95992,     0.96021,     0.96018,     0.96046,     0.96075,     0.96179,\n",
              "            0.96284,     0.96346,     0.96344,     0.96478,     0.96517,     0.96508,     0.96567,     0.96632,     0.96693,     0.96724,     0.96778,     0.96826,     0.96853,     0.96847,     0.96836,     0.96828,      0.9682,     0.96818,     0.96816,      0.9682,     0.96878,     0.96874,      0.9687,\n",
              "             0.9694,     0.96927,     0.96919,     0.96907,     0.96976,     0.96972,     0.96989,     0.97003,      0.9703,     0.97069,     0.97136,     0.97122,     0.97197,     0.97192,     0.97181,     0.97176,     0.97211,     0.97283,     0.97278,      0.9727,     0.97256,     0.97253,     0.97244,\n",
              "            0.97235,     0.97225,     0.97257,     0.97289,     0.97328,     0.97405,     0.97399,     0.97394,     0.97551,      0.9754,     0.97531,     0.97522,     0.97559,     0.97594,     0.97589,     0.97626,     0.97623,     0.97615,     0.97602,     0.97597,     0.97674,     0.97704,     0.97742,\n",
              "            0.97781,     0.97772,     0.97758,     0.97798,     0.97789,     0.97779,     0.97819,     0.97814,     0.97848,     0.97841,     0.97838,      0.9788,     0.97869,     0.97906,     0.97995,     0.98036,     0.98029,     0.98144,     0.98207,     0.98299,     0.98346,     0.98337,     0.98331,\n",
              "            0.98319,     0.98461,     0.98457,     0.98446,      0.9844,     0.98483,     0.98475,     0.98525,     0.98566,     0.98666,      0.9866,     0.98653,     0.98757,     0.98809,     0.98915,     0.98907,     0.98903,     0.98897,      0.9889,     0.98888,     0.98878,     0.98871,     0.98921,\n",
              "            0.98919,     0.98912,     0.98901,     0.98893,     0.98949,     0.98943,     0.98998,     0.98989,     0.99043,     0.99101,     0.99097,     0.99088,     0.99144,     0.99134,      0.9919,     0.99183,     0.99173,     0.99164,      0.9916,     0.99152,     0.99145,     0.99138,     0.99128,\n",
              "             0.9919,     0.99178,     0.99241,     0.99237,     0.99305,     0.99374,     0.99442,     0.99437,      0.9943,      0.9941,     0.99402,     0.99395,     0.99389,     0.99381,     0.99371,     0.99364,     0.99355,     0.99431,     0.99423,     0.99412,     0.99403,      0.9939,     0.99378,\n",
              "            0.99367,     0.99358,     0.99341,     0.99327,     0.99319,     0.99298,     0.99279,     0.99379,     0.99371,     0.99357,     0.99336,     0.99322,     0.99302,     0.99287,     0.99265,     0.99248,     0.99216,     0.99191,     0.99175,     0.99137,      0.9912,     0.99091,     0.99064,\n",
              "            0.99022,     0.98984,     0.99143,     0.99097,      0.9905,      0.9899,      0.9895,     0.98965,      0.9913,     0.99402,     0.99366,     0.99345,     0.99312,           1,           1,           1,           1,           1,           1,           1,           1,           1,           1,\n",
              "                  1,           1,           1,           1,           1,           1,           1,           1,           1,           1,           1,           1,           1,           1,           1,           1,           1,           1,           1,           1,           1,           1,           1,\n",
              "                  1,           1,           1,           1,           1,           1,           1,           1,           1,           1,           1,           1,           1,           1,           1,           1,           1,           1,           1,           1,           1,           1,           1,\n",
              "                  1,           1,           1,           1,           1,           1,           1,           1,           1,           1,           1,           1,           1,           1,           1,           1,           1,           1,           1,           1,           1,           1,           1,\n",
              "                  1,           1,           1,           1,           1,           1,           1,           1,           1,           1,           1]]), 'Confidence', 'Precision'], [array([          0,    0.001001,    0.002002,    0.003003,    0.004004,    0.005005,    0.006006,    0.007007,    0.008008,    0.009009,     0.01001,    0.011011,    0.012012,    0.013013,    0.014014,    0.015015,    0.016016,    0.017017,    0.018018,    0.019019,     0.02002,    0.021021,    0.022022,    0.023023,\n",
              "          0.024024,    0.025025,    0.026026,    0.027027,    0.028028,    0.029029,     0.03003,    0.031031,    0.032032,    0.033033,    0.034034,    0.035035,    0.036036,    0.037037,    0.038038,    0.039039,     0.04004,    0.041041,    0.042042,    0.043043,    0.044044,    0.045045,    0.046046,    0.047047,\n",
              "          0.048048,    0.049049,     0.05005,    0.051051,    0.052052,    0.053053,    0.054054,    0.055055,    0.056056,    0.057057,    0.058058,    0.059059,     0.06006,    0.061061,    0.062062,    0.063063,    0.064064,    0.065065,    0.066066,    0.067067,    0.068068,    0.069069,     0.07007,    0.071071,\n",
              "          0.072072,    0.073073,    0.074074,    0.075075,    0.076076,    0.077077,    0.078078,    0.079079,     0.08008,    0.081081,    0.082082,    0.083083,    0.084084,    0.085085,    0.086086,    0.087087,    0.088088,    0.089089,     0.09009,    0.091091,    0.092092,    0.093093,    0.094094,    0.095095,\n",
              "          0.096096,    0.097097,    0.098098,    0.099099,      0.1001,      0.1011,      0.1021,      0.1031,      0.1041,     0.10511,     0.10611,     0.10711,     0.10811,     0.10911,     0.11011,     0.11111,     0.11211,     0.11311,     0.11411,     0.11512,     0.11612,     0.11712,     0.11812,     0.11912,\n",
              "           0.12012,     0.12112,     0.12212,     0.12312,     0.12412,     0.12513,     0.12613,     0.12713,     0.12813,     0.12913,     0.13013,     0.13113,     0.13213,     0.13313,     0.13413,     0.13514,     0.13614,     0.13714,     0.13814,     0.13914,     0.14014,     0.14114,     0.14214,     0.14314,\n",
              "           0.14414,     0.14515,     0.14615,     0.14715,     0.14815,     0.14915,     0.15015,     0.15115,     0.15215,     0.15315,     0.15415,     0.15516,     0.15616,     0.15716,     0.15816,     0.15916,     0.16016,     0.16116,     0.16216,     0.16316,     0.16416,     0.16517,     0.16617,     0.16717,\n",
              "           0.16817,     0.16917,     0.17017,     0.17117,     0.17217,     0.17317,     0.17417,     0.17518,     0.17618,     0.17718,     0.17818,     0.17918,     0.18018,     0.18118,     0.18218,     0.18318,     0.18418,     0.18519,     0.18619,     0.18719,     0.18819,     0.18919,     0.19019,     0.19119,\n",
              "           0.19219,     0.19319,     0.19419,      0.1952,      0.1962,      0.1972,      0.1982,      0.1992,      0.2002,      0.2012,      0.2022,      0.2032,      0.2042,     0.20521,     0.20621,     0.20721,     0.20821,     0.20921,     0.21021,     0.21121,     0.21221,     0.21321,     0.21421,     0.21522,\n",
              "           0.21622,     0.21722,     0.21822,     0.21922,     0.22022,     0.22122,     0.22222,     0.22322,     0.22422,     0.22523,     0.22623,     0.22723,     0.22823,     0.22923,     0.23023,     0.23123,     0.23223,     0.23323,     0.23423,     0.23524,     0.23624,     0.23724,     0.23824,     0.23924,\n",
              "           0.24024,     0.24124,     0.24224,     0.24324,     0.24424,     0.24525,     0.24625,     0.24725,     0.24825,     0.24925,     0.25025,     0.25125,     0.25225,     0.25325,     0.25425,     0.25526,     0.25626,     0.25726,     0.25826,     0.25926,     0.26026,     0.26126,     0.26226,     0.26326,\n",
              "           0.26426,     0.26527,     0.26627,     0.26727,     0.26827,     0.26927,     0.27027,     0.27127,     0.27227,     0.27327,     0.27427,     0.27528,     0.27628,     0.27728,     0.27828,     0.27928,     0.28028,     0.28128,     0.28228,     0.28328,     0.28428,     0.28529,     0.28629,     0.28729,\n",
              "           0.28829,     0.28929,     0.29029,     0.29129,     0.29229,     0.29329,     0.29429,      0.2953,      0.2963,      0.2973,      0.2983,      0.2993,      0.3003,      0.3013,      0.3023,      0.3033,      0.3043,     0.30531,     0.30631,     0.30731,     0.30831,     0.30931,     0.31031,     0.31131,\n",
              "           0.31231,     0.31331,     0.31431,     0.31532,     0.31632,     0.31732,     0.31832,     0.31932,     0.32032,     0.32132,     0.32232,     0.32332,     0.32432,     0.32533,     0.32633,     0.32733,     0.32833,     0.32933,     0.33033,     0.33133,     0.33233,     0.33333,     0.33433,     0.33534,\n",
              "           0.33634,     0.33734,     0.33834,     0.33934,     0.34034,     0.34134,     0.34234,     0.34334,     0.34434,     0.34535,     0.34635,     0.34735,     0.34835,     0.34935,     0.35035,     0.35135,     0.35235,     0.35335,     0.35435,     0.35536,     0.35636,     0.35736,     0.35836,     0.35936,\n",
              "           0.36036,     0.36136,     0.36236,     0.36336,     0.36436,     0.36537,     0.36637,     0.36737,     0.36837,     0.36937,     0.37037,     0.37137,     0.37237,     0.37337,     0.37437,     0.37538,     0.37638,     0.37738,     0.37838,     0.37938,     0.38038,     0.38138,     0.38238,     0.38338,\n",
              "           0.38438,     0.38539,     0.38639,     0.38739,     0.38839,     0.38939,     0.39039,     0.39139,     0.39239,     0.39339,     0.39439,      0.3954,      0.3964,      0.3974,      0.3984,      0.3994,      0.4004,      0.4014,      0.4024,      0.4034,      0.4044,     0.40541,     0.40641,     0.40741,\n",
              "           0.40841,     0.40941,     0.41041,     0.41141,     0.41241,     0.41341,     0.41441,     0.41542,     0.41642,     0.41742,     0.41842,     0.41942,     0.42042,     0.42142,     0.42242,     0.42342,     0.42442,     0.42543,     0.42643,     0.42743,     0.42843,     0.42943,     0.43043,     0.43143,\n",
              "           0.43243,     0.43343,     0.43443,     0.43544,     0.43644,     0.43744,     0.43844,     0.43944,     0.44044,     0.44144,     0.44244,     0.44344,     0.44444,     0.44545,     0.44645,     0.44745,     0.44845,     0.44945,     0.45045,     0.45145,     0.45245,     0.45345,     0.45445,     0.45546,\n",
              "           0.45646,     0.45746,     0.45846,     0.45946,     0.46046,     0.46146,     0.46246,     0.46346,     0.46446,     0.46547,     0.46647,     0.46747,     0.46847,     0.46947,     0.47047,     0.47147,     0.47247,     0.47347,     0.47447,     0.47548,     0.47648,     0.47748,     0.47848,     0.47948,\n",
              "           0.48048,     0.48148,     0.48248,     0.48348,     0.48448,     0.48549,     0.48649,     0.48749,     0.48849,     0.48949,     0.49049,     0.49149,     0.49249,     0.49349,     0.49449,      0.4955,      0.4965,      0.4975,      0.4985,      0.4995,      0.5005,      0.5015,      0.5025,      0.5035,\n",
              "            0.5045,     0.50551,     0.50651,     0.50751,     0.50851,     0.50951,     0.51051,     0.51151,     0.51251,     0.51351,     0.51451,     0.51552,     0.51652,     0.51752,     0.51852,     0.51952,     0.52052,     0.52152,     0.52252,     0.52352,     0.52452,     0.52553,     0.52653,     0.52753,\n",
              "           0.52853,     0.52953,     0.53053,     0.53153,     0.53253,     0.53353,     0.53453,     0.53554,     0.53654,     0.53754,     0.53854,     0.53954,     0.54054,     0.54154,     0.54254,     0.54354,     0.54454,     0.54555,     0.54655,     0.54755,     0.54855,     0.54955,     0.55055,     0.55155,\n",
              "           0.55255,     0.55355,     0.55455,     0.55556,     0.55656,     0.55756,     0.55856,     0.55956,     0.56056,     0.56156,     0.56256,     0.56356,     0.56456,     0.56557,     0.56657,     0.56757,     0.56857,     0.56957,     0.57057,     0.57157,     0.57257,     0.57357,     0.57457,     0.57558,\n",
              "           0.57658,     0.57758,     0.57858,     0.57958,     0.58058,     0.58158,     0.58258,     0.58358,     0.58458,     0.58559,     0.58659,     0.58759,     0.58859,     0.58959,     0.59059,     0.59159,     0.59259,     0.59359,     0.59459,      0.5956,      0.5966,      0.5976,      0.5986,      0.5996,\n",
              "            0.6006,      0.6016,      0.6026,      0.6036,      0.6046,     0.60561,     0.60661,     0.60761,     0.60861,     0.60961,     0.61061,     0.61161,     0.61261,     0.61361,     0.61461,     0.61562,     0.61662,     0.61762,     0.61862,     0.61962,     0.62062,     0.62162,     0.62262,     0.62362,\n",
              "           0.62462,     0.62563,     0.62663,     0.62763,     0.62863,     0.62963,     0.63063,     0.63163,     0.63263,     0.63363,     0.63463,     0.63564,     0.63664,     0.63764,     0.63864,     0.63964,     0.64064,     0.64164,     0.64264,     0.64364,     0.64464,     0.64565,     0.64665,     0.64765,\n",
              "           0.64865,     0.64965,     0.65065,     0.65165,     0.65265,     0.65365,     0.65465,     0.65566,     0.65666,     0.65766,     0.65866,     0.65966,     0.66066,     0.66166,     0.66266,     0.66366,     0.66466,     0.66567,     0.66667,     0.66767,     0.66867,     0.66967,     0.67067,     0.67167,\n",
              "           0.67267,     0.67367,     0.67467,     0.67568,     0.67668,     0.67768,     0.67868,     0.67968,     0.68068,     0.68168,     0.68268,     0.68368,     0.68468,     0.68569,     0.68669,     0.68769,     0.68869,     0.68969,     0.69069,     0.69169,     0.69269,     0.69369,     0.69469,      0.6957,\n",
              "            0.6967,      0.6977,      0.6987,      0.6997,      0.7007,      0.7017,      0.7027,      0.7037,      0.7047,     0.70571,     0.70671,     0.70771,     0.70871,     0.70971,     0.71071,     0.71171,     0.71271,     0.71371,     0.71471,     0.71572,     0.71672,     0.71772,     0.71872,     0.71972,\n",
              "           0.72072,     0.72172,     0.72272,     0.72372,     0.72472,     0.72573,     0.72673,     0.72773,     0.72873,     0.72973,     0.73073,     0.73173,     0.73273,     0.73373,     0.73473,     0.73574,     0.73674,     0.73774,     0.73874,     0.73974,     0.74074,     0.74174,     0.74274,     0.74374,\n",
              "           0.74474,     0.74575,     0.74675,     0.74775,     0.74875,     0.74975,     0.75075,     0.75175,     0.75275,     0.75375,     0.75475,     0.75576,     0.75676,     0.75776,     0.75876,     0.75976,     0.76076,     0.76176,     0.76276,     0.76376,     0.76476,     0.76577,     0.76677,     0.76777,\n",
              "           0.76877,     0.76977,     0.77077,     0.77177,     0.77277,     0.77377,     0.77477,     0.77578,     0.77678,     0.77778,     0.77878,     0.77978,     0.78078,     0.78178,     0.78278,     0.78378,     0.78478,     0.78579,     0.78679,     0.78779,     0.78879,     0.78979,     0.79079,     0.79179,\n",
              "           0.79279,     0.79379,     0.79479,      0.7958,      0.7968,      0.7978,      0.7988,      0.7998,      0.8008,      0.8018,      0.8028,      0.8038,      0.8048,     0.80581,     0.80681,     0.80781,     0.80881,     0.80981,     0.81081,     0.81181,     0.81281,     0.81381,     0.81481,     0.81582,\n",
              "           0.81682,     0.81782,     0.81882,     0.81982,     0.82082,     0.82182,     0.82282,     0.82382,     0.82482,     0.82583,     0.82683,     0.82783,     0.82883,     0.82983,     0.83083,     0.83183,     0.83283,     0.83383,     0.83483,     0.83584,     0.83684,     0.83784,     0.83884,     0.83984,\n",
              "           0.84084,     0.84184,     0.84284,     0.84384,     0.84484,     0.84585,     0.84685,     0.84785,     0.84885,     0.84985,     0.85085,     0.85185,     0.85285,     0.85385,     0.85485,     0.85586,     0.85686,     0.85786,     0.85886,     0.85986,     0.86086,     0.86186,     0.86286,     0.86386,\n",
              "           0.86486,     0.86587,     0.86687,     0.86787,     0.86887,     0.86987,     0.87087,     0.87187,     0.87287,     0.87387,     0.87487,     0.87588,     0.87688,     0.87788,     0.87888,     0.87988,     0.88088,     0.88188,     0.88288,     0.88388,     0.88488,     0.88589,     0.88689,     0.88789,\n",
              "           0.88889,     0.88989,     0.89089,     0.89189,     0.89289,     0.89389,     0.89489,      0.8959,      0.8969,      0.8979,      0.8989,      0.8999,      0.9009,      0.9019,      0.9029,      0.9039,      0.9049,     0.90591,     0.90691,     0.90791,     0.90891,     0.90991,     0.91091,     0.91191,\n",
              "           0.91291,     0.91391,     0.91491,     0.91592,     0.91692,     0.91792,     0.91892,     0.91992,     0.92092,     0.92192,     0.92292,     0.92392,     0.92492,     0.92593,     0.92693,     0.92793,     0.92893,     0.92993,     0.93093,     0.93193,     0.93293,     0.93393,     0.93493,     0.93594,\n",
              "           0.93694,     0.93794,     0.93894,     0.93994,     0.94094,     0.94194,     0.94294,     0.94394,     0.94494,     0.94595,     0.94695,     0.94795,     0.94895,     0.94995,     0.95095,     0.95195,     0.95295,     0.95395,     0.95495,     0.95596,     0.95696,     0.95796,     0.95896,     0.95996,\n",
              "           0.96096,     0.96196,     0.96296,     0.96396,     0.96496,     0.96597,     0.96697,     0.96797,     0.96897,     0.96997,     0.97097,     0.97197,     0.97297,     0.97397,     0.97497,     0.97598,     0.97698,     0.97798,     0.97898,     0.97998,     0.98098,     0.98198,     0.98298,     0.98398,\n",
              "           0.98498,     0.98599,     0.98699,     0.98799,     0.98899,     0.98999,     0.99099,     0.99199,     0.99299,     0.99399,     0.99499,       0.996,       0.997,       0.998,       0.999,           1]), array([[    0.98569,     0.98569,     0.98099,     0.97764,     0.97518,     0.97115,     0.96825,     0.96579,     0.96266,     0.95997,     0.95841,     0.95774,     0.95617,     0.95461,     0.95371,     0.95125,     0.95058,     0.94902,     0.94723,     0.94611,     0.94477,      0.9432,     0.94253,\n",
              "            0.94097,     0.93895,     0.93806,     0.93649,     0.93605,      0.9356,     0.93426,     0.93403,     0.93269,      0.9309,     0.93046,     0.92867,     0.92777,     0.92733,      0.9271,     0.92509,     0.92419,     0.92352,     0.92263,     0.92241,     0.92174,     0.92174,     0.92151,\n",
              "            0.92084,     0.92084,     0.92062,     0.91995,     0.91972,     0.91928,     0.91771,     0.91704,     0.91614,     0.91525,     0.91458,     0.91436,     0.91436,     0.91413,     0.91324,     0.91279,     0.91257,      0.9119,       0.911,     0.91055,     0.91011,     0.90877,     0.90832,\n",
              "            0.90787,     0.90765,      0.9072,      0.9072,     0.90675,     0.90586,     0.90564,     0.90564,     0.90564,     0.90541,     0.90469,     0.90385,     0.90318,     0.90295,     0.90245,     0.90183,     0.90116,     0.90116,     0.90094,     0.90049,     0.89982,      0.8996,      0.8996,\n",
              "            0.89803,     0.89781,     0.89758,     0.89714,     0.89624,     0.89602,     0.89557,     0.89513,     0.89468,     0.89445,     0.89401,     0.89356,     0.89269,     0.89222,     0.89137,     0.89065,     0.89043,     0.89001,     0.88998,     0.88976,     0.88953,     0.88937,     0.88886,\n",
              "            0.88842,     0.88797,     0.88797,     0.88708,     0.88708,     0.88685,     0.88632,     0.88573,     0.88529,     0.88484,     0.88417,     0.88394,     0.88394,     0.88327,      0.8826,      0.8826,     0.88216,     0.88126,     0.88037,     0.87992,      0.8797,     0.87903,      0.8788,\n",
              "             0.8784,     0.87813,     0.87746,     0.87679,     0.87634,     0.87569,       0.875,     0.87411,     0.87387,     0.87321,     0.87276,     0.87276,     0.87232,     0.87202,     0.87136,     0.87075,      0.8703,     0.86963,     0.86919,     0.86919,     0.86896,     0.86874,     0.86784,\n",
              "            0.86695,     0.86673,     0.86628,     0.86575,     0.86538,     0.86494,     0.86449,     0.86404,     0.86369,      0.8627,     0.86194,     0.86181,     0.86158,     0.86107,     0.86047,     0.86002,     0.85963,      0.8589,     0.85801,     0.85774,     0.85711,     0.85689,     0.85666,\n",
              "            0.85666,     0.85644,     0.85622,     0.85555,     0.85465,     0.85443,     0.85398,     0.85398,     0.85376,     0.85353,     0.85331,     0.85264,     0.85174,     0.85125,     0.85063,     0.85045,     0.84951,     0.84861,     0.84789,     0.84724,     0.84682,     0.84651,     0.84618,\n",
              "            0.84593,     0.84548,     0.84526,     0.84481,     0.84444,     0.84414,     0.84369,     0.84347,     0.84329,     0.84258,     0.84238,     0.84213,     0.84168,     0.84161,     0.84146,     0.84101,     0.84089,     0.84012,     0.83989,     0.83967,     0.83967,     0.83897,     0.83833,\n",
              "            0.83788,     0.83749,     0.83743,     0.83699,     0.83676,     0.83676,     0.83654,     0.83587,     0.83532,     0.83479,      0.8343,      0.8343,     0.83408,     0.83408,     0.83363,     0.83296,     0.83274,     0.83251,     0.83211,     0.83207,      0.8314,      0.8314,     0.83117,\n",
              "             0.8305,     0.83028,     0.82987,     0.82978,     0.82916,     0.82895,     0.82797,     0.82759,     0.82737,     0.82692,     0.82648,     0.82629,     0.82625,     0.82613,     0.82538,     0.82491,     0.82424,     0.82402,     0.82312,     0.82312,      0.8229,     0.82245,     0.82156,\n",
              "            0.82156,     0.82133,     0.82066,     0.81977,     0.81917,     0.81892,     0.81863,     0.81798,     0.81784,     0.81758,     0.81686,     0.81644,     0.81619,     0.81597,     0.81574,     0.81552,     0.81547,     0.81507,     0.81373,     0.81351,     0.81316,     0.81286,     0.81261,\n",
              "            0.81194,      0.8116,     0.81127,     0.81113,     0.81036,     0.81018,     0.80993,     0.80956,     0.80861,     0.80814,     0.80792,     0.80769,     0.80702,     0.80657,     0.80657,     0.80605,      0.8059,      0.8059,     0.80548,     0.80502,     0.80456,     0.80456,     0.80411,\n",
              "            0.80389,     0.80344,     0.80297,     0.80255,     0.80255,      0.8021,     0.80194,     0.80077,     0.80009,     0.79987,     0.79906,     0.79897,     0.79875,     0.79813,     0.79763,     0.79625,     0.79606,     0.79573,      0.7945,     0.79415,     0.79405,     0.79338,     0.79311,\n",
              "            0.79293,     0.79275,     0.79236,     0.79188,     0.79114,     0.79047,     0.79003,     0.78953,     0.78936,     0.78913,     0.78891,     0.78869,     0.78824,     0.78759,     0.78667,     0.78645,     0.78616,     0.78555,     0.78496,     0.78466,     0.78452,     0.78384,     0.78335,\n",
              "            0.78311,     0.78265,     0.78242,     0.78198,     0.78124,     0.78064,     0.78019,      0.7799,     0.77922,     0.77907,     0.77841,      0.7784,     0.77795,      0.7775,     0.77728,     0.77698,     0.77608,     0.77594,     0.77594,     0.77594,     0.77572,     0.77549,     0.77437,\n",
              "            0.77415,     0.77415,     0.77346,     0.77258,     0.77214,     0.77205,     0.77105,     0.77037,      0.7699,     0.76922,     0.76901,      0.7682,     0.76767,     0.76699,     0.76699,     0.76699,     0.76677,     0.76655,     0.76655,     0.76632,      0.7661,     0.76588,      0.7658,\n",
              "            0.76532,     0.76498,     0.76431,     0.76393,     0.76386,     0.76386,     0.76347,     0.76297,     0.76279,     0.76228,     0.76185,     0.76118,     0.76073,     0.76024,     0.75962,     0.75939,     0.75939,     0.75821,     0.75798,     0.75716,     0.75671,     0.75592,     0.75544,\n",
              "            0.75477,     0.75431,     0.75364,     0.75313,     0.75291,     0.75268,      0.7525,     0.75204,     0.75179,     0.75179,     0.75146,     0.75135,     0.75067,     0.74955,      0.7491,     0.74799,     0.74774,     0.74728,     0.74709,       0.747,     0.74677,      0.7462,     0.74587,\n",
              "             0.7453,     0.74474,     0.74396,     0.74367,     0.74356,     0.74352,     0.74195,     0.74157,     0.74061,     0.74061,     0.73994,     0.73971,     0.73904,     0.73904,     0.73863,     0.73817,      0.7377,     0.73727,     0.73725,     0.73703,     0.73613,     0.73602,     0.73567,\n",
              "            0.73522,     0.73435,     0.73409,     0.73364,     0.73278,     0.73211,     0.73166,     0.73116,     0.73048,     0.72987,      0.7292,     0.72898,     0.72853,     0.72809,     0.72764,     0.72719,     0.72697,     0.72596,     0.72551,     0.72505,     0.72482,     0.72451,     0.72428,\n",
              "            0.72406,     0.72324,      0.7225,     0.72205,     0.72138,     0.72098,      0.7203,     0.71962,     0.71917,     0.71872,     0.71827,     0.71737,     0.71691,     0.71668,     0.71601,     0.71578,     0.71488,      0.7142,      0.7133,      0.7124,     0.71154,     0.71105,     0.71064,\n",
              "            0.71037,     0.70947,     0.70924,     0.70744,     0.70721,     0.70662,     0.70617,     0.70563,     0.70451,     0.70383,     0.70371,     0.70315,      0.7027,     0.70224,      0.7017,     0.70156,     0.70081,     0.70043,     0.69991,     0.69975,     0.69907,     0.69862,     0.69835,\n",
              "            0.69772,     0.69723,     0.69681,     0.69566,     0.69456,     0.69343,     0.69298,      0.6922,      0.6913,     0.69119,     0.69039,     0.68949,      0.6894,     0.68918,     0.68851,     0.68828,     0.68784,     0.68722,     0.68655,     0.68649,     0.68605,     0.68586,     0.68541,\n",
              "            0.68495,     0.68381,     0.68247,     0.68158,     0.68068,     0.67956,     0.67932,     0.67844,     0.67822,     0.67733,     0.67643,     0.67576,     0.67516,     0.67426,     0.67397,     0.67268,     0.67241,       0.672,     0.67132,     0.67065,     0.66975,     0.66838,     0.66828,\n",
              "            0.66761,     0.66648,     0.66525,     0.66513,     0.66423,     0.66311,     0.66288,      0.6622,     0.66145,     0.65962,     0.65916,     0.65809,     0.65736,     0.65691,     0.65668,     0.65586,     0.65564,     0.65465,     0.65429,     0.65364,     0.65274,     0.65206,     0.65004,\n",
              "            0.64914,     0.64891,     0.64801,     0.64736,     0.64655,     0.64565,     0.64452,     0.64385,     0.64334,     0.64294,     0.64249,     0.64148,     0.64125,     0.63953,     0.63922,     0.63886,     0.63822,     0.63619,     0.63574,     0.63551,     0.63438,     0.63393,     0.63301,\n",
              "            0.63247,     0.63201,     0.63089,      0.6288,     0.62797,     0.62606,     0.62583,     0.62561,     0.62515,     0.62351,     0.62276,     0.62145,     0.62055,     0.62009,     0.61829,     0.61695,     0.61683,     0.61616,     0.61515,     0.61471,     0.61469,     0.61334,     0.61178,\n",
              "            0.61163,     0.61091,      0.6103,     0.60884,     0.60749,     0.60682,     0.60517,     0.60423,     0.60378,      0.6031,     0.60232,     0.60119,     0.59962,     0.59861,     0.59771,     0.59681,     0.59593,     0.59579,     0.59489,     0.59332,      0.5903,     0.58873,     0.58822,\n",
              "            0.58793,     0.58681,     0.58636,     0.58512,      0.5843,     0.58318,     0.58296,     0.58215,     0.58151,     0.58129,     0.57938,      0.5787,     0.57756,     0.57657,     0.57589,     0.57398,     0.57375,     0.57304,     0.57207,     0.57161,     0.57038,     0.56925,     0.56851,\n",
              "            0.56779,     0.56686,     0.56565,     0.56462,     0.56397,      0.5624,     0.55982,     0.55825,     0.55567,     0.55453,     0.55344,     0.55263,      0.5505,     0.54957,     0.54747,     0.54602,     0.54467,     0.54438,     0.54387,     0.54249,     0.54121,      0.5405,     0.53983,\n",
              "            0.53837,     0.53603,     0.53467,     0.53254,     0.53063,     0.52994,     0.52885,     0.52827,     0.52591,      0.5237,     0.52333,     0.52075,     0.51958,     0.51862,     0.51649,     0.51552,     0.51435,     0.51245,     0.51146,     0.50986,     0.50719,     0.50672,     0.50504,\n",
              "            0.50336,     0.50133,     0.49943,     0.49752,     0.49683,     0.49528,     0.49412,     0.49314,     0.48989,      0.4876,     0.48586,       0.484,      0.4826,      0.4807,     0.47972,     0.47823,     0.47746,     0.47587,     0.47319,     0.47228,     0.46959,     0.46623,     0.46455,\n",
              "            0.46307,     0.46118,     0.45835,     0.45692,     0.45498,     0.45289,     0.45138,     0.45019,     0.44733,     0.44593,      0.4453,     0.44391,      0.4417,      0.4392,      0.4372,     0.43528,     0.43382,     0.43157,     0.42866,     0.42642,     0.42551,     0.42303,      0.4216,\n",
              "            0.41854,     0.41499,     0.41382,      0.4109,     0.40927,     0.40641,     0.40423,     0.40326,     0.39967,     0.39683,     0.39517,     0.39292,     0.39078,     0.38955,      0.3873,     0.38461,     0.38303,     0.38101,     0.37854,     0.37777,     0.37426,     0.37202,     0.36892,\n",
              "            0.36819,     0.36595,     0.36213,     0.35944,     0.35782,     0.35584,     0.35337,     0.35023,     0.34731,     0.34516,     0.34348,     0.34012,     0.33653,     0.33272,     0.32868,     0.32576,     0.32173,     0.31817,     0.31678,     0.31387,     0.31117,     0.30848,     0.30489,\n",
              "            0.30108,     0.29682,     0.29256,     0.29076,     0.28739,      0.2838,     0.27909,      0.2764,     0.27326,     0.26385,     0.26027,     0.25735,     0.25443,     0.25129,     0.24725,     0.24456,     0.24097,     0.23447,     0.23133,     0.22685,     0.22326,     0.21855,     0.21451,\n",
              "             0.2107,     0.20778,     0.20218,     0.19815,     0.19567,     0.18985,     0.18469,     0.17887,     0.17662,     0.17281,     0.16721,     0.16384,     0.15914,     0.15577,     0.15106,     0.14747,     0.14143,     0.13717,     0.13447,     0.12842,     0.12595,     0.12192,     0.11833,\n",
              "            0.11317,     0.10891,     0.10353,    0.098156,    0.093226,    0.087624,    0.084259,    0.080277,     0.07641,    0.074386,    0.070126,    0.067879,    0.064514,    0.059136,    0.053981,    0.052405,    0.048816,    0.044332,    0.041414,    0.039614,    0.038038,    0.036014,    0.032425,\n",
              "           0.029059,    0.027483,    0.025906,    0.024106,    0.021216,    0.020059,    0.017812,    0.016235,    0.014882,    0.013529,    0.011729,      0.0106,   0.0096944,   0.0088666,   0.0084138,   0.0077374,   0.0072846,   0.0069551,   0.0058258,   0.0049202,   0.0034608,   0.0028853,   0.0022314,\n",
              "          0.0021659,   0.0021005,    0.002035,   0.0017695,   0.0016549,   0.0013083,   0.0011555,   0.0010027,  0.00087218,  0.00079578,  0.00071938,  0.00061511,   0.0004623,  0.00041544,  0.00038018,  0.00034492,  0.00030965,  0.00027439,  0.00023913,           0,           0,           0,           0,\n",
              "                  0,           0,           0,           0,           0,           0,           0,           0,           0,           0,           0,           0,           0,           0,           0,           0,           0,           0,           0,           0,           0,           0,           0,\n",
              "                  0,           0,           0,           0,           0,           0,           0,           0,           0,           0,           0]]), 'Confidence', 'Recall'], [array([          0,    0.001001,    0.002002,    0.003003,    0.004004,    0.005005,    0.006006,    0.007007,    0.008008,    0.009009,     0.01001,    0.011011,    0.012012,    0.013013,    0.014014,    0.015015,    0.016016,    0.017017,    0.018018,    0.019019,     0.02002,    0.021021,    0.022022,    0.023023,\n",
              "          0.024024,    0.025025,    0.026026,    0.027027,    0.028028,    0.029029,     0.03003,    0.031031,    0.032032,    0.033033,    0.034034,    0.035035,    0.036036,    0.037037,    0.038038,    0.039039,     0.04004,    0.041041,    0.042042,    0.043043,    0.044044,    0.045045,    0.046046,    0.047047,\n",
              "          0.048048,    0.049049,     0.05005,    0.051051,    0.052052,    0.053053,    0.054054,    0.055055,    0.056056,    0.057057,    0.058058,    0.059059,     0.06006,    0.061061,    0.062062,    0.063063,    0.064064,    0.065065,    0.066066,    0.067067,    0.068068,    0.069069,     0.07007,    0.071071,\n",
              "          0.072072,    0.073073,    0.074074,    0.075075,    0.076076,    0.077077,    0.078078,    0.079079,     0.08008,    0.081081,    0.082082,    0.083083,    0.084084,    0.085085,    0.086086,    0.087087,    0.088088,    0.089089,     0.09009,    0.091091,    0.092092,    0.093093,    0.094094,    0.095095,\n",
              "          0.096096,    0.097097,    0.098098,    0.099099,      0.1001,      0.1011,      0.1021,      0.1031,      0.1041,     0.10511,     0.10611,     0.10711,     0.10811,     0.10911,     0.11011,     0.11111,     0.11211,     0.11311,     0.11411,     0.11512,     0.11612,     0.11712,     0.11812,     0.11912,\n",
              "           0.12012,     0.12112,     0.12212,     0.12312,     0.12412,     0.12513,     0.12613,     0.12713,     0.12813,     0.12913,     0.13013,     0.13113,     0.13213,     0.13313,     0.13413,     0.13514,     0.13614,     0.13714,     0.13814,     0.13914,     0.14014,     0.14114,     0.14214,     0.14314,\n",
              "           0.14414,     0.14515,     0.14615,     0.14715,     0.14815,     0.14915,     0.15015,     0.15115,     0.15215,     0.15315,     0.15415,     0.15516,     0.15616,     0.15716,     0.15816,     0.15916,     0.16016,     0.16116,     0.16216,     0.16316,     0.16416,     0.16517,     0.16617,     0.16717,\n",
              "           0.16817,     0.16917,     0.17017,     0.17117,     0.17217,     0.17317,     0.17417,     0.17518,     0.17618,     0.17718,     0.17818,     0.17918,     0.18018,     0.18118,     0.18218,     0.18318,     0.18418,     0.18519,     0.18619,     0.18719,     0.18819,     0.18919,     0.19019,     0.19119,\n",
              "           0.19219,     0.19319,     0.19419,      0.1952,      0.1962,      0.1972,      0.1982,      0.1992,      0.2002,      0.2012,      0.2022,      0.2032,      0.2042,     0.20521,     0.20621,     0.20721,     0.20821,     0.20921,     0.21021,     0.21121,     0.21221,     0.21321,     0.21421,     0.21522,\n",
              "           0.21622,     0.21722,     0.21822,     0.21922,     0.22022,     0.22122,     0.22222,     0.22322,     0.22422,     0.22523,     0.22623,     0.22723,     0.22823,     0.22923,     0.23023,     0.23123,     0.23223,     0.23323,     0.23423,     0.23524,     0.23624,     0.23724,     0.23824,     0.23924,\n",
              "           0.24024,     0.24124,     0.24224,     0.24324,     0.24424,     0.24525,     0.24625,     0.24725,     0.24825,     0.24925,     0.25025,     0.25125,     0.25225,     0.25325,     0.25425,     0.25526,     0.25626,     0.25726,     0.25826,     0.25926,     0.26026,     0.26126,     0.26226,     0.26326,\n",
              "           0.26426,     0.26527,     0.26627,     0.26727,     0.26827,     0.26927,     0.27027,     0.27127,     0.27227,     0.27327,     0.27427,     0.27528,     0.27628,     0.27728,     0.27828,     0.27928,     0.28028,     0.28128,     0.28228,     0.28328,     0.28428,     0.28529,     0.28629,     0.28729,\n",
              "           0.28829,     0.28929,     0.29029,     0.29129,     0.29229,     0.29329,     0.29429,      0.2953,      0.2963,      0.2973,      0.2983,      0.2993,      0.3003,      0.3013,      0.3023,      0.3033,      0.3043,     0.30531,     0.30631,     0.30731,     0.30831,     0.30931,     0.31031,     0.31131,\n",
              "           0.31231,     0.31331,     0.31431,     0.31532,     0.31632,     0.31732,     0.31832,     0.31932,     0.32032,     0.32132,     0.32232,     0.32332,     0.32432,     0.32533,     0.32633,     0.32733,     0.32833,     0.32933,     0.33033,     0.33133,     0.33233,     0.33333,     0.33433,     0.33534,\n",
              "           0.33634,     0.33734,     0.33834,     0.33934,     0.34034,     0.34134,     0.34234,     0.34334,     0.34434,     0.34535,     0.34635,     0.34735,     0.34835,     0.34935,     0.35035,     0.35135,     0.35235,     0.35335,     0.35435,     0.35536,     0.35636,     0.35736,     0.35836,     0.35936,\n",
              "           0.36036,     0.36136,     0.36236,     0.36336,     0.36436,     0.36537,     0.36637,     0.36737,     0.36837,     0.36937,     0.37037,     0.37137,     0.37237,     0.37337,     0.37437,     0.37538,     0.37638,     0.37738,     0.37838,     0.37938,     0.38038,     0.38138,     0.38238,     0.38338,\n",
              "           0.38438,     0.38539,     0.38639,     0.38739,     0.38839,     0.38939,     0.39039,     0.39139,     0.39239,     0.39339,     0.39439,      0.3954,      0.3964,      0.3974,      0.3984,      0.3994,      0.4004,      0.4014,      0.4024,      0.4034,      0.4044,     0.40541,     0.40641,     0.40741,\n",
              "           0.40841,     0.40941,     0.41041,     0.41141,     0.41241,     0.41341,     0.41441,     0.41542,     0.41642,     0.41742,     0.41842,     0.41942,     0.42042,     0.42142,     0.42242,     0.42342,     0.42442,     0.42543,     0.42643,     0.42743,     0.42843,     0.42943,     0.43043,     0.43143,\n",
              "           0.43243,     0.43343,     0.43443,     0.43544,     0.43644,     0.43744,     0.43844,     0.43944,     0.44044,     0.44144,     0.44244,     0.44344,     0.44444,     0.44545,     0.44645,     0.44745,     0.44845,     0.44945,     0.45045,     0.45145,     0.45245,     0.45345,     0.45445,     0.45546,\n",
              "           0.45646,     0.45746,     0.45846,     0.45946,     0.46046,     0.46146,     0.46246,     0.46346,     0.46446,     0.46547,     0.46647,     0.46747,     0.46847,     0.46947,     0.47047,     0.47147,     0.47247,     0.47347,     0.47447,     0.47548,     0.47648,     0.47748,     0.47848,     0.47948,\n",
              "           0.48048,     0.48148,     0.48248,     0.48348,     0.48448,     0.48549,     0.48649,     0.48749,     0.48849,     0.48949,     0.49049,     0.49149,     0.49249,     0.49349,     0.49449,      0.4955,      0.4965,      0.4975,      0.4985,      0.4995,      0.5005,      0.5015,      0.5025,      0.5035,\n",
              "            0.5045,     0.50551,     0.50651,     0.50751,     0.50851,     0.50951,     0.51051,     0.51151,     0.51251,     0.51351,     0.51451,     0.51552,     0.51652,     0.51752,     0.51852,     0.51952,     0.52052,     0.52152,     0.52252,     0.52352,     0.52452,     0.52553,     0.52653,     0.52753,\n",
              "           0.52853,     0.52953,     0.53053,     0.53153,     0.53253,     0.53353,     0.53453,     0.53554,     0.53654,     0.53754,     0.53854,     0.53954,     0.54054,     0.54154,     0.54254,     0.54354,     0.54454,     0.54555,     0.54655,     0.54755,     0.54855,     0.54955,     0.55055,     0.55155,\n",
              "           0.55255,     0.55355,     0.55455,     0.55556,     0.55656,     0.55756,     0.55856,     0.55956,     0.56056,     0.56156,     0.56256,     0.56356,     0.56456,     0.56557,     0.56657,     0.56757,     0.56857,     0.56957,     0.57057,     0.57157,     0.57257,     0.57357,     0.57457,     0.57558,\n",
              "           0.57658,     0.57758,     0.57858,     0.57958,     0.58058,     0.58158,     0.58258,     0.58358,     0.58458,     0.58559,     0.58659,     0.58759,     0.58859,     0.58959,     0.59059,     0.59159,     0.59259,     0.59359,     0.59459,      0.5956,      0.5966,      0.5976,      0.5986,      0.5996,\n",
              "            0.6006,      0.6016,      0.6026,      0.6036,      0.6046,     0.60561,     0.60661,     0.60761,     0.60861,     0.60961,     0.61061,     0.61161,     0.61261,     0.61361,     0.61461,     0.61562,     0.61662,     0.61762,     0.61862,     0.61962,     0.62062,     0.62162,     0.62262,     0.62362,\n",
              "           0.62462,     0.62563,     0.62663,     0.62763,     0.62863,     0.62963,     0.63063,     0.63163,     0.63263,     0.63363,     0.63463,     0.63564,     0.63664,     0.63764,     0.63864,     0.63964,     0.64064,     0.64164,     0.64264,     0.64364,     0.64464,     0.64565,     0.64665,     0.64765,\n",
              "           0.64865,     0.64965,     0.65065,     0.65165,     0.65265,     0.65365,     0.65465,     0.65566,     0.65666,     0.65766,     0.65866,     0.65966,     0.66066,     0.66166,     0.66266,     0.66366,     0.66466,     0.66567,     0.66667,     0.66767,     0.66867,     0.66967,     0.67067,     0.67167,\n",
              "           0.67267,     0.67367,     0.67467,     0.67568,     0.67668,     0.67768,     0.67868,     0.67968,     0.68068,     0.68168,     0.68268,     0.68368,     0.68468,     0.68569,     0.68669,     0.68769,     0.68869,     0.68969,     0.69069,     0.69169,     0.69269,     0.69369,     0.69469,      0.6957,\n",
              "            0.6967,      0.6977,      0.6987,      0.6997,      0.7007,      0.7017,      0.7027,      0.7037,      0.7047,     0.70571,     0.70671,     0.70771,     0.70871,     0.70971,     0.71071,     0.71171,     0.71271,     0.71371,     0.71471,     0.71572,     0.71672,     0.71772,     0.71872,     0.71972,\n",
              "           0.72072,     0.72172,     0.72272,     0.72372,     0.72472,     0.72573,     0.72673,     0.72773,     0.72873,     0.72973,     0.73073,     0.73173,     0.73273,     0.73373,     0.73473,     0.73574,     0.73674,     0.73774,     0.73874,     0.73974,     0.74074,     0.74174,     0.74274,     0.74374,\n",
              "           0.74474,     0.74575,     0.74675,     0.74775,     0.74875,     0.74975,     0.75075,     0.75175,     0.75275,     0.75375,     0.75475,     0.75576,     0.75676,     0.75776,     0.75876,     0.75976,     0.76076,     0.76176,     0.76276,     0.76376,     0.76476,     0.76577,     0.76677,     0.76777,\n",
              "           0.76877,     0.76977,     0.77077,     0.77177,     0.77277,     0.77377,     0.77477,     0.77578,     0.77678,     0.77778,     0.77878,     0.77978,     0.78078,     0.78178,     0.78278,     0.78378,     0.78478,     0.78579,     0.78679,     0.78779,     0.78879,     0.78979,     0.79079,     0.79179,\n",
              "           0.79279,     0.79379,     0.79479,      0.7958,      0.7968,      0.7978,      0.7988,      0.7998,      0.8008,      0.8018,      0.8028,      0.8038,      0.8048,     0.80581,     0.80681,     0.80781,     0.80881,     0.80981,     0.81081,     0.81181,     0.81281,     0.81381,     0.81481,     0.81582,\n",
              "           0.81682,     0.81782,     0.81882,     0.81982,     0.82082,     0.82182,     0.82282,     0.82382,     0.82482,     0.82583,     0.82683,     0.82783,     0.82883,     0.82983,     0.83083,     0.83183,     0.83283,     0.83383,     0.83483,     0.83584,     0.83684,     0.83784,     0.83884,     0.83984,\n",
              "           0.84084,     0.84184,     0.84284,     0.84384,     0.84484,     0.84585,     0.84685,     0.84785,     0.84885,     0.84985,     0.85085,     0.85185,     0.85285,     0.85385,     0.85485,     0.85586,     0.85686,     0.85786,     0.85886,     0.85986,     0.86086,     0.86186,     0.86286,     0.86386,\n",
              "           0.86486,     0.86587,     0.86687,     0.86787,     0.86887,     0.86987,     0.87087,     0.87187,     0.87287,     0.87387,     0.87487,     0.87588,     0.87688,     0.87788,     0.87888,     0.87988,     0.88088,     0.88188,     0.88288,     0.88388,     0.88488,     0.88589,     0.88689,     0.88789,\n",
              "           0.88889,     0.88989,     0.89089,     0.89189,     0.89289,     0.89389,     0.89489,      0.8959,      0.8969,      0.8979,      0.8989,      0.8999,      0.9009,      0.9019,      0.9029,      0.9039,      0.9049,     0.90591,     0.90691,     0.90791,     0.90891,     0.90991,     0.91091,     0.91191,\n",
              "           0.91291,     0.91391,     0.91491,     0.91592,     0.91692,     0.91792,     0.91892,     0.91992,     0.92092,     0.92192,     0.92292,     0.92392,     0.92492,     0.92593,     0.92693,     0.92793,     0.92893,     0.92993,     0.93093,     0.93193,     0.93293,     0.93393,     0.93493,     0.93594,\n",
              "           0.93694,     0.93794,     0.93894,     0.93994,     0.94094,     0.94194,     0.94294,     0.94394,     0.94494,     0.94595,     0.94695,     0.94795,     0.94895,     0.94995,     0.95095,     0.95195,     0.95295,     0.95395,     0.95495,     0.95596,     0.95696,     0.95796,     0.95896,     0.95996,\n",
              "           0.96096,     0.96196,     0.96296,     0.96396,     0.96496,     0.96597,     0.96697,     0.96797,     0.96897,     0.96997,     0.97097,     0.97197,     0.97297,     0.97397,     0.97497,     0.97598,     0.97698,     0.97798,     0.97898,     0.97998,     0.98098,     0.98198,     0.98298,     0.98398,\n",
              "           0.98498,     0.98599,     0.98699,     0.98799,     0.98899,     0.98999,     0.99099,     0.99199,     0.99299,     0.99399,     0.99499,       0.996,       0.997,       0.998,       0.999,           1]), array([[          1,           1,           1,           1,           1,           1,           1,           1,           1,           1,           1,           1,           1,           1,           1,     0.98956,     0.98956,     0.98956,     0.98956,     0.98956,     0.98956,     0.98956,     0.98956,\n",
              "            0.98956,     0.98956,     0.98956,     0.98956,     0.98956,     0.98956,     0.98956,     0.98956,     0.98956,     0.98956,     0.98956,     0.98956,     0.98956,     0.98956,     0.98956,     0.98956,     0.98956,     0.98956,     0.98956,     0.98956,     0.98956,     0.98956,     0.98956,\n",
              "            0.98956,     0.98956,     0.98956,     0.98956,     0.98956,     0.98956,     0.98956,     0.98956,     0.98956,     0.98956,     0.98956,     0.98956,     0.98956,     0.98956,     0.98956,     0.98956,     0.98956,     0.98956,     0.98956,     0.98956,     0.98956,     0.98956,     0.98956,\n",
              "            0.98956,     0.98956,     0.98956,     0.98956,     0.98956,     0.98956,     0.98956,     0.98956,     0.98956,     0.98956,     0.98956,     0.98956,     0.98956,     0.98956,     0.98956,     0.98956,     0.98956,     0.98956,     0.98956,     0.98956,     0.98956,     0.98956,     0.98956,\n",
              "            0.98956,     0.98956,     0.98956,     0.98956,     0.98956,     0.98956,     0.98956,     0.98956,     0.98956,     0.98956,     0.98956,     0.98956,     0.98956,     0.98956,     0.98764,     0.98764,     0.98764,     0.98764,     0.98764,     0.98764,     0.98764,     0.98764,     0.98764,\n",
              "            0.98764,     0.98764,     0.98764,     0.98764,     0.98764,     0.98764,     0.98764,     0.98764,     0.98764,     0.98764,     0.98764,     0.98764,     0.98764,     0.98764,     0.98764,     0.98764,     0.98764,     0.98764,     0.98764,     0.98764,     0.98764,     0.98764,     0.98764,\n",
              "            0.98764,     0.98764,     0.98764,     0.98764,     0.98764,     0.98764,     0.98764,     0.98764,     0.98764,     0.98764,     0.98764,     0.98764,     0.98764,     0.98764,     0.98764,     0.98764,     0.98764,     0.98764,     0.98764,     0.98764,     0.98764,     0.98764,     0.98764,\n",
              "            0.98764,     0.98764,     0.98764,     0.98764,     0.98764,     0.98764,     0.98764,     0.98764,     0.98764,     0.98764,     0.98764,     0.98764,     0.98764,     0.98764,     0.98764,     0.98764,     0.98764,     0.98764,     0.98673,     0.98673,     0.98673,     0.98673,     0.98638,\n",
              "            0.98638,     0.98638,     0.98638,     0.98638,     0.98638,     0.98638,     0.98638,     0.98638,     0.98638,     0.98638,     0.98638,     0.98551,     0.98551,     0.98551,     0.98498,     0.98498,     0.98498,     0.98498,     0.98498,     0.98498,     0.98498,     0.98498,     0.98426,\n",
              "            0.98426,     0.98426,     0.98426,     0.98332,     0.98253,     0.98253,     0.98253,     0.98191,     0.98191,     0.98191,     0.98191,     0.98191,     0.98115,     0.98115,     0.98071,     0.98071,     0.98071,     0.98071,     0.98071,     0.98071,     0.98071,     0.97963,     0.97963,\n",
              "            0.97963,     0.97963,     0.97963,     0.97963,     0.97963,     0.97963,     0.97963,      0.9788,     0.97837,     0.97837,     0.97837,     0.97837,     0.97837,     0.97837,     0.97837,     0.97837,     0.97837,     0.97837,     0.97837,     0.97837,     0.97837,     0.97837,     0.97837,\n",
              "            0.97797,     0.97797,     0.97797,     0.97797,     0.97797,     0.97722,     0.97682,     0.97682,     0.97682,     0.97682,     0.97682,     0.97607,     0.97569,     0.97569,     0.97569,     0.97569,       0.975,       0.975,     0.97446,     0.97446,     0.97446,     0.97446,     0.97446,\n",
              "            0.97446,     0.97446,     0.97446,     0.97446,     0.97446,     0.97446,     0.97389,     0.97389,     0.97357,     0.97357,     0.97357,     0.97357,     0.97357,     0.97357,     0.97357,     0.97357,     0.97357,     0.97357,     0.97357,     0.97357,     0.97357,     0.97303,     0.97303,\n",
              "            0.97265,     0.97265,     0.97265,     0.97265,     0.97265,     0.97265,     0.97265,     0.97265,     0.97265,     0.97265,     0.97265,     0.97213,     0.97213,     0.97213,     0.97213,     0.97213,     0.97213,     0.97213,     0.97213,     0.97213,     0.97213,     0.97198,     0.97198,\n",
              "            0.97198,     0.97198,     0.97198,     0.97198,     0.97169,     0.97169,     0.97169,     0.97169,     0.97128,     0.97128,     0.97128,     0.97085,     0.97085,     0.97049,     0.97049,     0.97049,     0.96927,     0.96889,     0.96889,      0.9677,     0.96725,     0.96725,     0.96681,\n",
              "            0.96646,     0.96646,     0.96646,     0.96609,     0.96609,     0.96609,     0.96527,     0.96527,     0.96527,     0.96527,     0.96527,     0.96527,     0.96527,     0.96527,     0.96527,     0.96527,     0.96426,     0.96386,     0.96386,     0.96342,     0.96331,     0.96331,     0.96331,\n",
              "            0.96331,     0.96331,     0.96311,     0.96311,     0.96311,     0.96311,     0.96269,     0.96237,     0.96237,     0.96237,     0.96139,     0.96093,     0.95998,     0.95955,     0.95908,     0.95882,     0.95882,     0.95739,     0.95739,     0.95707,     0.95707,     0.95636,     0.95636,\n",
              "            0.95636,     0.95591,     0.95506,     0.95506,     0.95411,     0.95411,     0.95411,     0.95411,     0.95411,     0.95377,     0.95291,     0.95291,     0.95258,     0.95223,     0.95223,     0.95188,     0.95146,     0.95062,     0.95039,     0.95039,     0.94995,     0.94967,     0.94967,\n",
              "            0.94893,     0.94893,     0.94809,     0.94774,     0.94774,     0.94774,     0.94774,     0.94774,     0.94692,     0.94569,     0.94533,     0.94489,     0.94464,     0.94431,     0.94431,     0.94352,     0.94328,     0.94284,     0.94272,     0.94272,     0.94251,     0.94251,     0.94171,\n",
              "            0.94146,     0.94146,     0.94126,     0.94126,     0.94079,     0.94079,     0.94079,     0.94045,     0.94038,     0.94038,     0.94038,     0.94027,     0.94027,     0.94027,     0.93913,     0.93858,     0.93858,     0.93858,     0.93858,     0.93858,     0.93858,     0.93858,     0.93858,\n",
              "            0.93858,     0.93827,     0.93778,     0.93778,     0.93778,     0.93747,     0.93725,     0.93725,     0.93697,     0.93636,     0.93636,      0.9341,      0.9338,     0.93345,     0.93234,     0.93147,     0.93147,     0.93142,     0.93142,     0.93142,     0.93115,     0.93115,     0.93115,\n",
              "            0.93115,     0.93093,     0.93093,     0.93093,     0.93093,     0.93093,     0.93093,     0.93093,      0.9308,      0.9308,     0.93064,     0.93064,     0.93037,      0.9298,      0.9298,     0.92896,     0.92896,     0.92866,     0.92689,     0.92641,     0.92641,     0.92641,     0.92641,\n",
              "            0.92641,     0.92567,     0.92567,     0.92567,     0.92516,     0.92494,     0.92494,     0.92475,     0.92443,     0.92443,     0.92443,     0.92344,     0.92335,     0.92335,     0.92311,     0.92281,     0.92281,     0.92281,     0.92281,     0.92281,     0.92281,     0.92155,     0.92095,\n",
              "            0.92075,     0.92067,     0.92067,     0.91866,     0.91805,     0.91715,     0.91695,     0.91429,     0.91271,     0.91263,     0.91263,     0.91118,     0.91056,     0.90906,     0.90889,     0.90831,     0.90811,     0.90727,      0.9067,      0.9062,     0.90611,     0.90562,     0.90532,\n",
              "            0.90355,     0.90355,     0.90355,     0.90355,     0.90355,     0.90297,     0.90213,     0.90166,     0.90083,     0.89975,     0.89936,     0.89907,     0.89904,     0.89879,     0.89826,      0.8982,     0.89799,     0.89757,     0.89708,     0.89615,     0.89615,     0.89595,     0.89578,\n",
              "            0.89382,     0.89377,     0.89377,     0.89184,     0.89107,     0.89064,     0.88957,      0.8895,     0.88927,     0.88919,     0.88919,     0.88919,     0.88859,      0.8884,     0.88837,     0.88837,     0.88837,     0.88837,     0.88837,     0.88822,      0.8877,     0.88756,     0.88752,\n",
              "            0.88712,      0.8869,     0.88603,     0.88578,      0.8851,     0.88496,     0.88366,     0.88281,     0.88264,     0.88254,     0.88247,     0.88247,     0.88247,     0.88173,     0.88103,     0.88009,     0.87912,     0.87855,     0.87778,     0.87722,     0.87678,      0.8765,      0.8763,\n",
              "            0.87591,     0.87551,     0.87543,     0.87394,      0.8736,     0.87329,     0.87309,     0.87237,     0.87237,     0.87099,     0.87003,     0.86867,     0.86799,     0.86771,     0.86681,     0.86547,     0.86515,     0.86501,     0.86305,     0.86088,     0.85932,     0.85855,     0.85791,\n",
              "            0.85778,     0.85748,     0.85592,     0.85508,     0.85474,     0.85395,     0.85362,     0.85342,     0.85251,     0.85207,     0.85167,     0.85167,     0.85165,     0.85165,       0.851,     0.85014,     0.84889,     0.84882,      0.8469,     0.84631,     0.84565,     0.84526,     0.84333,\n",
              "            0.84255,     0.84159,     0.83941,     0.83729,     0.83472,     0.83421,     0.83209,     0.82962,      0.8294,     0.82795,     0.82625,     0.82567,     0.82474,     0.82453,     0.82272,     0.82048,     0.81656,     0.81441,     0.81245,     0.81179,     0.81118,      0.8076,     0.80722,\n",
              "            0.80674,     0.80322,     0.80202,     0.79995,     0.79882,     0.79774,     0.79658,     0.79455,     0.79094,     0.78881,     0.78704,     0.78416,      0.7832,     0.78245,     0.77973,     0.77907,     0.77819,     0.77707,     0.77374,     0.77302,     0.77141,     0.76983,     0.76812,\n",
              "            0.76786,     0.76483,      0.7636,     0.76279,     0.76139,     0.75653,     0.75569,      0.7538,     0.75286,     0.74959,     0.74919,     0.74815,     0.74621,     0.74456,     0.74389,      0.7422,      0.7398,      0.7382,      0.7365,      0.7318,     0.72885,     0.72786,     0.72521,\n",
              "            0.72227,     0.72084,      0.7181,     0.71732,     0.71515,     0.71208,     0.70892,     0.70398,     0.70245,     0.69579,     0.69478,     0.69478,     0.68853,     0.68667,     0.68391,     0.68222,     0.67979,     0.67827,       0.675,     0.67344,     0.67056,     0.66844,     0.66347,\n",
              "            0.66058,     0.65746,     0.65051,     0.64426,     0.63719,     0.63165,      0.6289,     0.62779,     0.62391,     0.62256,     0.61747,     0.61554,     0.61206,     0.60802,      0.6062,     0.60219,     0.59817,     0.59364,     0.58896,     0.58322,     0.58027,     0.57643,     0.57234,\n",
              "            0.56477,     0.55152,     0.54529,     0.54244,      0.5366,     0.52962,     0.52251,     0.50813,     0.49448,     0.48454,     0.47629,     0.47207,     0.46544,     0.45775,     0.44853,     0.43935,     0.43483,     0.42548,     0.41502,     0.40755,     0.39807,     0.38693,     0.37406,\n",
              "            0.36998,     0.36133,     0.35607,      0.3513,     0.32362,     0.30199,     0.29356,     0.28472,     0.26973,     0.26312,     0.25169,     0.24152,      0.2277,     0.22202,     0.21574,     0.21095,     0.18831,     0.17898,     0.17448,     0.16917,     0.15503,     0.14105,     0.13916,\n",
              "            0.13104,      0.1284,     0.11737,     0.09881,    0.090494,    0.083606,    0.079698,    0.074817,    0.072536,    0.071186,    0.070746,    0.070307,    0.069868,    0.069428,    0.068989,    0.068549,     0.06811,    0.067671,    0.067231,    0.066792,    0.066352,    0.065913,    0.065473,\n",
              "           0.065034,    0.064595,    0.064155,    0.063716,    0.063276,    0.062837,    0.062398,    0.061958,    0.061519,    0.061079,     0.06064,      0.0602,    0.059761,    0.059322,    0.058882,    0.058443,    0.058003,    0.057564,    0.057124,    0.056685,    0.056246,    0.055806,    0.055367,\n",
              "           0.054927,    0.054488,    0.054049,    0.053609,     0.05317,     0.05273,    0.052291,    0.051851,    0.051412,    0.050973,    0.050533,    0.050094,    0.049654,    0.049215,    0.048776,    0.048336,    0.047897,    0.047457,    0.047018,    0.046578,    0.046139,      0.0457,     0.04526,\n",
              "           0.044821,    0.044381,    0.043942,    0.043503,    0.043063,    0.042624,    0.042184,    0.041745,    0.041305,    0.040866,    0.040427,    0.039987,    0.039548,    0.039108,    0.038669,    0.038229,     0.03779,    0.037351,    0.036911,    0.036472,    0.036032,    0.035593,    0.035154,\n",
              "           0.034714,    0.034275,    0.033835,    0.033396,    0.032956,    0.032517,    0.032078,    0.031638,    0.031199,    0.030759,     0.03032,    0.029881,    0.029441,    0.029002,    0.028562,    0.028123,    0.027683,    0.027244,    0.026805,    0.026365,    0.025926,    0.025486,    0.025047,\n",
              "           0.024607,    0.024168,    0.023729,    0.023289,     0.02285,     0.02241,    0.021971,    0.021532,    0.021092,    0.020653,    0.020213,    0.019774,    0.019334,    0.018895,    0.018456,    0.018016,    0.017577,    0.017137,    0.016698,    0.016259,    0.015819,     0.01538,     0.01494,\n",
              "           0.014501,    0.014061,    0.013622,    0.013183,    0.012743,    0.012304,    0.011864,    0.011425,    0.010985,    0.010546,    0.010107,   0.0096672,   0.0092278,   0.0087884,    0.008349,   0.0079095,   0.0074701,   0.0070307,   0.0065913,   0.0061519,   0.0057124,    0.005273,   0.0048336,\n",
              "          0.0043942,   0.0039548,   0.0035154,   0.0030759,   0.0026365,   0.0021971,   0.0017577,   0.0013183,  0.00087884,  0.00043942,           0]]), 'Recall', 'Precision'], [array([          0,    0.001001,    0.002002,    0.003003,    0.004004,    0.005005,    0.006006,    0.007007,    0.008008,    0.009009,     0.01001,    0.011011,    0.012012,    0.013013,    0.014014,    0.015015,    0.016016,    0.017017,    0.018018,    0.019019,     0.02002,    0.021021,    0.022022,    0.023023,\n",
              "          0.024024,    0.025025,    0.026026,    0.027027,    0.028028,    0.029029,     0.03003,    0.031031,    0.032032,    0.033033,    0.034034,    0.035035,    0.036036,    0.037037,    0.038038,    0.039039,     0.04004,    0.041041,    0.042042,    0.043043,    0.044044,    0.045045,    0.046046,    0.047047,\n",
              "          0.048048,    0.049049,     0.05005,    0.051051,    0.052052,    0.053053,    0.054054,    0.055055,    0.056056,    0.057057,    0.058058,    0.059059,     0.06006,    0.061061,    0.062062,    0.063063,    0.064064,    0.065065,    0.066066,    0.067067,    0.068068,    0.069069,     0.07007,    0.071071,\n",
              "          0.072072,    0.073073,    0.074074,    0.075075,    0.076076,    0.077077,    0.078078,    0.079079,     0.08008,    0.081081,    0.082082,    0.083083,    0.084084,    0.085085,    0.086086,    0.087087,    0.088088,    0.089089,     0.09009,    0.091091,    0.092092,    0.093093,    0.094094,    0.095095,\n",
              "          0.096096,    0.097097,    0.098098,    0.099099,      0.1001,      0.1011,      0.1021,      0.1031,      0.1041,     0.10511,     0.10611,     0.10711,     0.10811,     0.10911,     0.11011,     0.11111,     0.11211,     0.11311,     0.11411,     0.11512,     0.11612,     0.11712,     0.11812,     0.11912,\n",
              "           0.12012,     0.12112,     0.12212,     0.12312,     0.12412,     0.12513,     0.12613,     0.12713,     0.12813,     0.12913,     0.13013,     0.13113,     0.13213,     0.13313,     0.13413,     0.13514,     0.13614,     0.13714,     0.13814,     0.13914,     0.14014,     0.14114,     0.14214,     0.14314,\n",
              "           0.14414,     0.14515,     0.14615,     0.14715,     0.14815,     0.14915,     0.15015,     0.15115,     0.15215,     0.15315,     0.15415,     0.15516,     0.15616,     0.15716,     0.15816,     0.15916,     0.16016,     0.16116,     0.16216,     0.16316,     0.16416,     0.16517,     0.16617,     0.16717,\n",
              "           0.16817,     0.16917,     0.17017,     0.17117,     0.17217,     0.17317,     0.17417,     0.17518,     0.17618,     0.17718,     0.17818,     0.17918,     0.18018,     0.18118,     0.18218,     0.18318,     0.18418,     0.18519,     0.18619,     0.18719,     0.18819,     0.18919,     0.19019,     0.19119,\n",
              "           0.19219,     0.19319,     0.19419,      0.1952,      0.1962,      0.1972,      0.1982,      0.1992,      0.2002,      0.2012,      0.2022,      0.2032,      0.2042,     0.20521,     0.20621,     0.20721,     0.20821,     0.20921,     0.21021,     0.21121,     0.21221,     0.21321,     0.21421,     0.21522,\n",
              "           0.21622,     0.21722,     0.21822,     0.21922,     0.22022,     0.22122,     0.22222,     0.22322,     0.22422,     0.22523,     0.22623,     0.22723,     0.22823,     0.22923,     0.23023,     0.23123,     0.23223,     0.23323,     0.23423,     0.23524,     0.23624,     0.23724,     0.23824,     0.23924,\n",
              "           0.24024,     0.24124,     0.24224,     0.24324,     0.24424,     0.24525,     0.24625,     0.24725,     0.24825,     0.24925,     0.25025,     0.25125,     0.25225,     0.25325,     0.25425,     0.25526,     0.25626,     0.25726,     0.25826,     0.25926,     0.26026,     0.26126,     0.26226,     0.26326,\n",
              "           0.26426,     0.26527,     0.26627,     0.26727,     0.26827,     0.26927,     0.27027,     0.27127,     0.27227,     0.27327,     0.27427,     0.27528,     0.27628,     0.27728,     0.27828,     0.27928,     0.28028,     0.28128,     0.28228,     0.28328,     0.28428,     0.28529,     0.28629,     0.28729,\n",
              "           0.28829,     0.28929,     0.29029,     0.29129,     0.29229,     0.29329,     0.29429,      0.2953,      0.2963,      0.2973,      0.2983,      0.2993,      0.3003,      0.3013,      0.3023,      0.3033,      0.3043,     0.30531,     0.30631,     0.30731,     0.30831,     0.30931,     0.31031,     0.31131,\n",
              "           0.31231,     0.31331,     0.31431,     0.31532,     0.31632,     0.31732,     0.31832,     0.31932,     0.32032,     0.32132,     0.32232,     0.32332,     0.32432,     0.32533,     0.32633,     0.32733,     0.32833,     0.32933,     0.33033,     0.33133,     0.33233,     0.33333,     0.33433,     0.33534,\n",
              "           0.33634,     0.33734,     0.33834,     0.33934,     0.34034,     0.34134,     0.34234,     0.34334,     0.34434,     0.34535,     0.34635,     0.34735,     0.34835,     0.34935,     0.35035,     0.35135,     0.35235,     0.35335,     0.35435,     0.35536,     0.35636,     0.35736,     0.35836,     0.35936,\n",
              "           0.36036,     0.36136,     0.36236,     0.36336,     0.36436,     0.36537,     0.36637,     0.36737,     0.36837,     0.36937,     0.37037,     0.37137,     0.37237,     0.37337,     0.37437,     0.37538,     0.37638,     0.37738,     0.37838,     0.37938,     0.38038,     0.38138,     0.38238,     0.38338,\n",
              "           0.38438,     0.38539,     0.38639,     0.38739,     0.38839,     0.38939,     0.39039,     0.39139,     0.39239,     0.39339,     0.39439,      0.3954,      0.3964,      0.3974,      0.3984,      0.3994,      0.4004,      0.4014,      0.4024,      0.4034,      0.4044,     0.40541,     0.40641,     0.40741,\n",
              "           0.40841,     0.40941,     0.41041,     0.41141,     0.41241,     0.41341,     0.41441,     0.41542,     0.41642,     0.41742,     0.41842,     0.41942,     0.42042,     0.42142,     0.42242,     0.42342,     0.42442,     0.42543,     0.42643,     0.42743,     0.42843,     0.42943,     0.43043,     0.43143,\n",
              "           0.43243,     0.43343,     0.43443,     0.43544,     0.43644,     0.43744,     0.43844,     0.43944,     0.44044,     0.44144,     0.44244,     0.44344,     0.44444,     0.44545,     0.44645,     0.44745,     0.44845,     0.44945,     0.45045,     0.45145,     0.45245,     0.45345,     0.45445,     0.45546,\n",
              "           0.45646,     0.45746,     0.45846,     0.45946,     0.46046,     0.46146,     0.46246,     0.46346,     0.46446,     0.46547,     0.46647,     0.46747,     0.46847,     0.46947,     0.47047,     0.47147,     0.47247,     0.47347,     0.47447,     0.47548,     0.47648,     0.47748,     0.47848,     0.47948,\n",
              "           0.48048,     0.48148,     0.48248,     0.48348,     0.48448,     0.48549,     0.48649,     0.48749,     0.48849,     0.48949,     0.49049,     0.49149,     0.49249,     0.49349,     0.49449,      0.4955,      0.4965,      0.4975,      0.4985,      0.4995,      0.5005,      0.5015,      0.5025,      0.5035,\n",
              "            0.5045,     0.50551,     0.50651,     0.50751,     0.50851,     0.50951,     0.51051,     0.51151,     0.51251,     0.51351,     0.51451,     0.51552,     0.51652,     0.51752,     0.51852,     0.51952,     0.52052,     0.52152,     0.52252,     0.52352,     0.52452,     0.52553,     0.52653,     0.52753,\n",
              "           0.52853,     0.52953,     0.53053,     0.53153,     0.53253,     0.53353,     0.53453,     0.53554,     0.53654,     0.53754,     0.53854,     0.53954,     0.54054,     0.54154,     0.54254,     0.54354,     0.54454,     0.54555,     0.54655,     0.54755,     0.54855,     0.54955,     0.55055,     0.55155,\n",
              "           0.55255,     0.55355,     0.55455,     0.55556,     0.55656,     0.55756,     0.55856,     0.55956,     0.56056,     0.56156,     0.56256,     0.56356,     0.56456,     0.56557,     0.56657,     0.56757,     0.56857,     0.56957,     0.57057,     0.57157,     0.57257,     0.57357,     0.57457,     0.57558,\n",
              "           0.57658,     0.57758,     0.57858,     0.57958,     0.58058,     0.58158,     0.58258,     0.58358,     0.58458,     0.58559,     0.58659,     0.58759,     0.58859,     0.58959,     0.59059,     0.59159,     0.59259,     0.59359,     0.59459,      0.5956,      0.5966,      0.5976,      0.5986,      0.5996,\n",
              "            0.6006,      0.6016,      0.6026,      0.6036,      0.6046,     0.60561,     0.60661,     0.60761,     0.60861,     0.60961,     0.61061,     0.61161,     0.61261,     0.61361,     0.61461,     0.61562,     0.61662,     0.61762,     0.61862,     0.61962,     0.62062,     0.62162,     0.62262,     0.62362,\n",
              "           0.62462,     0.62563,     0.62663,     0.62763,     0.62863,     0.62963,     0.63063,     0.63163,     0.63263,     0.63363,     0.63463,     0.63564,     0.63664,     0.63764,     0.63864,     0.63964,     0.64064,     0.64164,     0.64264,     0.64364,     0.64464,     0.64565,     0.64665,     0.64765,\n",
              "           0.64865,     0.64965,     0.65065,     0.65165,     0.65265,     0.65365,     0.65465,     0.65566,     0.65666,     0.65766,     0.65866,     0.65966,     0.66066,     0.66166,     0.66266,     0.66366,     0.66466,     0.66567,     0.66667,     0.66767,     0.66867,     0.66967,     0.67067,     0.67167,\n",
              "           0.67267,     0.67367,     0.67467,     0.67568,     0.67668,     0.67768,     0.67868,     0.67968,     0.68068,     0.68168,     0.68268,     0.68368,     0.68468,     0.68569,     0.68669,     0.68769,     0.68869,     0.68969,     0.69069,     0.69169,     0.69269,     0.69369,     0.69469,      0.6957,\n",
              "            0.6967,      0.6977,      0.6987,      0.6997,      0.7007,      0.7017,      0.7027,      0.7037,      0.7047,     0.70571,     0.70671,     0.70771,     0.70871,     0.70971,     0.71071,     0.71171,     0.71271,     0.71371,     0.71471,     0.71572,     0.71672,     0.71772,     0.71872,     0.71972,\n",
              "           0.72072,     0.72172,     0.72272,     0.72372,     0.72472,     0.72573,     0.72673,     0.72773,     0.72873,     0.72973,     0.73073,     0.73173,     0.73273,     0.73373,     0.73473,     0.73574,     0.73674,     0.73774,     0.73874,     0.73974,     0.74074,     0.74174,     0.74274,     0.74374,\n",
              "           0.74474,     0.74575,     0.74675,     0.74775,     0.74875,     0.74975,     0.75075,     0.75175,     0.75275,     0.75375,     0.75475,     0.75576,     0.75676,     0.75776,     0.75876,     0.75976,     0.76076,     0.76176,     0.76276,     0.76376,     0.76476,     0.76577,     0.76677,     0.76777,\n",
              "           0.76877,     0.76977,     0.77077,     0.77177,     0.77277,     0.77377,     0.77477,     0.77578,     0.77678,     0.77778,     0.77878,     0.77978,     0.78078,     0.78178,     0.78278,     0.78378,     0.78478,     0.78579,     0.78679,     0.78779,     0.78879,     0.78979,     0.79079,     0.79179,\n",
              "           0.79279,     0.79379,     0.79479,      0.7958,      0.7968,      0.7978,      0.7988,      0.7998,      0.8008,      0.8018,      0.8028,      0.8038,      0.8048,     0.80581,     0.80681,     0.80781,     0.80881,     0.80981,     0.81081,     0.81181,     0.81281,     0.81381,     0.81481,     0.81582,\n",
              "           0.81682,     0.81782,     0.81882,     0.81982,     0.82082,     0.82182,     0.82282,     0.82382,     0.82482,     0.82583,     0.82683,     0.82783,     0.82883,     0.82983,     0.83083,     0.83183,     0.83283,     0.83383,     0.83483,     0.83584,     0.83684,     0.83784,     0.83884,     0.83984,\n",
              "           0.84084,     0.84184,     0.84284,     0.84384,     0.84484,     0.84585,     0.84685,     0.84785,     0.84885,     0.84985,     0.85085,     0.85185,     0.85285,     0.85385,     0.85485,     0.85586,     0.85686,     0.85786,     0.85886,     0.85986,     0.86086,     0.86186,     0.86286,     0.86386,\n",
              "           0.86486,     0.86587,     0.86687,     0.86787,     0.86887,     0.86987,     0.87087,     0.87187,     0.87287,     0.87387,     0.87487,     0.87588,     0.87688,     0.87788,     0.87888,     0.87988,     0.88088,     0.88188,     0.88288,     0.88388,     0.88488,     0.88589,     0.88689,     0.88789,\n",
              "           0.88889,     0.88989,     0.89089,     0.89189,     0.89289,     0.89389,     0.89489,      0.8959,      0.8969,      0.8979,      0.8989,      0.8999,      0.9009,      0.9019,      0.9029,      0.9039,      0.9049,     0.90591,     0.90691,     0.90791,     0.90891,     0.90991,     0.91091,     0.91191,\n",
              "           0.91291,     0.91391,     0.91491,     0.91592,     0.91692,     0.91792,     0.91892,     0.91992,     0.92092,     0.92192,     0.92292,     0.92392,     0.92492,     0.92593,     0.92693,     0.92793,     0.92893,     0.92993,     0.93093,     0.93193,     0.93293,     0.93393,     0.93493,     0.93594,\n",
              "           0.93694,     0.93794,     0.93894,     0.93994,     0.94094,     0.94194,     0.94294,     0.94394,     0.94494,     0.94595,     0.94695,     0.94795,     0.94895,     0.94995,     0.95095,     0.95195,     0.95295,     0.95395,     0.95495,     0.95596,     0.95696,     0.95796,     0.95896,     0.95996,\n",
              "           0.96096,     0.96196,     0.96296,     0.96396,     0.96496,     0.96597,     0.96697,     0.96797,     0.96897,     0.96997,     0.97097,     0.97197,     0.97297,     0.97397,     0.97497,     0.97598,     0.97698,     0.97798,     0.97898,     0.97998,     0.98098,     0.98198,     0.98298,     0.98398,\n",
              "           0.98498,     0.98599,     0.98699,     0.98799,     0.98899,     0.98999,     0.99099,     0.99199,     0.99299,     0.99399,     0.99499,       0.996,       0.997,       0.998,       0.999,           1]), array([[    0.13136,     0.13136,      0.1829,     0.21993,     0.24817,     0.27264,     0.29337,     0.31049,     0.32757,     0.34196,     0.35446,     0.36716,     0.37734,     0.38715,      0.3971,     0.40596,     0.41466,      0.4224,     0.42926,     0.43602,     0.44264,     0.44923,     0.45553,\n",
              "             0.4615,      0.4667,     0.47258,     0.47767,     0.48215,     0.48761,     0.49177,     0.49584,     0.49969,     0.50401,     0.50751,     0.51112,     0.51531,     0.51832,     0.52195,     0.52518,     0.52853,      0.5319,     0.53478,     0.53699,     0.53986,     0.54262,     0.54486,\n",
              "            0.54782,      0.5505,     0.55306,     0.55554,      0.5584,     0.56028,     0.56342,     0.56498,     0.56793,     0.57026,     0.57224,      0.5743,     0.57644,     0.57872,     0.58034,     0.58251,     0.58495,     0.58694,     0.58838,     0.59008,     0.59175,     0.59291,     0.59487,\n",
              "            0.59695,     0.59828,     0.59936,     0.60108,     0.60265,     0.60493,     0.60631,     0.60726,     0.60892,     0.61031,     0.61164,     0.61338,     0.61462,       0.616,     0.61744,     0.61839,     0.61968,     0.62096,     0.62224,     0.62331,      0.6246,      0.6261,     0.62733,\n",
              "            0.62883,     0.63006,     0.63095,     0.63224,     0.63359,     0.63455,     0.63579,     0.63658,     0.63789,     0.63872,     0.63992,      0.6411,     0.64188,     0.64253,     0.64343,     0.64469,     0.64524,     0.64581,     0.64716,     0.64801,     0.64872,     0.64978,     0.65067,\n",
              "             0.6517,      0.6528,     0.65389,     0.65462,     0.65553,      0.6562,     0.65736,     0.65814,     0.65912,     0.66028,     0.66093,     0.66119,     0.66173,      0.6622,     0.66311,      0.6636,     0.66443,     0.66522,     0.66602,     0.66693,     0.66766,      0.6693,     0.66988,\n",
              "            0.67029,     0.67136,     0.67201,     0.67278,     0.67376,     0.67425,     0.67509,     0.67609,     0.67667,     0.67689,     0.67737,     0.67785,     0.67838,     0.67891,     0.67992,     0.67985,     0.68039,     0.68067,     0.68148,      0.6822,     0.68234,     0.68295,     0.68363,\n",
              "             0.6841,     0.68445,     0.68492,     0.68526,     0.68581,     0.68629,     0.68722,     0.68741,     0.68787,     0.68814,     0.68835,     0.68882,     0.68914,     0.68988,     0.69025,     0.69053,     0.69067,     0.69136,     0.69195,     0.69241,      0.6928,     0.69336,     0.69388,\n",
              "            0.69452,     0.69501,     0.69569,     0.69653,     0.69695,     0.69767,     0.69834,     0.69853,      0.6986,     0.69907,     0.69933,     0.70033,     0.70088,     0.70139,     0.70184,     0.70218,     0.70323,      0.7044,     0.70485,     0.70541,     0.70537,     0.70585,     0.70606,\n",
              "            0.70665,     0.70713,      0.7073,     0.70769,     0.70802,     0.70779,     0.70797,     0.70826,     0.70867,     0.70959,      0.7096,     0.71045,     0.71051,     0.71085,     0.71103,     0.71111,     0.71149,     0.71205,     0.71208,     0.71221,     0.71255,     0.71287,     0.71267,\n",
              "            0.71333,     0.71356,      0.7138,     0.71408,     0.71407,      0.7144,     0.71441,     0.71482,     0.71502,     0.71521,     0.71508,     0.71532,     0.71577,     0.71572,     0.71599,     0.71623,     0.71683,     0.71691,       0.717,     0.71735,      0.7177,     0.71801,     0.71824,\n",
              "            0.71904,     0.71951,     0.71981,     0.72027,     0.71975,     0.72007,     0.71993,     0.71998,      0.7207,     0.72082,     0.72146,     0.72196,     0.72248,     0.72286,     0.72296,     0.72334,     0.72354,     0.72382,     0.72427,     0.72461,     0.72491,      0.7255,     0.72568,\n",
              "            0.72581,      0.7259,     0.72625,     0.72659,     0.72687,     0.72728,     0.72786,     0.72793,     0.72801,     0.72801,      0.7282,     0.72825,     0.72831,     0.72845,     0.72918,     0.72923,      0.7294,     0.72947,     0.72958,     0.73011,     0.73016,     0.73033,     0.73028,\n",
              "            0.73024,     0.73049,     0.73115,     0.73131,     0.73145,     0.73134,     0.73133,     0.73136,     0.73136,     0.73133,     0.73155,     0.73209,     0.73236,     0.73338,     0.73347,     0.73362,     0.73404,     0.73422,     0.73406,     0.73401,     0.73424,     0.73446,      0.7347,\n",
              "            0.73473,     0.73478,     0.73486,     0.73486,     0.73525,     0.73564,     0.73584,     0.73534,     0.73554,     0.73542,     0.73528,      0.7356,     0.73578,     0.73576,     0.73614,     0.73642,     0.73643,      0.7362,     0.73602,      0.7361,     0.73654,     0.73662,     0.73673,\n",
              "            0.73698,     0.73701,      0.7371,     0.73687,       0.737,     0.73714,     0.73726,     0.73718,     0.73704,     0.73763,     0.73782,     0.73811,     0.73851,     0.73868,     0.73906,     0.73917,     0.73915,     0.73904,     0.73863,     0.73883,     0.73908,     0.73881,     0.73875,\n",
              "            0.73906,     0.73895,     0.73951,     0.73962,     0.73952,     0.73944,     0.73957,     0.73959,     0.73948,     0.73961,     0.73973,      0.7399,      0.7401,     0.73985,      0.7398,     0.73998,      0.7398,     0.73977,     0.74005,     0.74013,     0.74053,     0.74068,     0.74064,\n",
              "            0.74074,      0.7407,     0.74064,     0.74032,     0.74053,     0.74052,     0.74051,     0.74023,     0.74014,     0.74056,     0.74071,     0.74061,     0.74075,     0.74074,     0.74078,     0.74087,      0.7411,     0.74134,     0.74142,     0.74136,     0.74133,     0.74136,     0.74162,\n",
              "            0.74163,     0.74149,     0.74146,     0.74172,     0.74193,     0.74211,     0.74237,     0.74267,     0.74274,     0.74293,     0.74296,     0.74325,     0.74331,     0.74314,     0.74316,     0.74319,     0.74328,     0.74327,     0.74338,     0.74303,     0.74309,     0.74325,     0.74355,\n",
              "            0.74327,     0.74346,     0.74349,     0.74349,     0.74385,     0.74379,     0.74388,     0.74382,     0.74421,      0.7443,     0.74414,     0.74418,     0.74406,     0.74363,     0.74342,     0.74402,     0.74421,     0.74453,     0.74444,     0.74437,     0.74431,     0.74403,     0.74393,\n",
              "            0.74374,     0.74386,     0.74374,     0.74365,      0.7437,     0.74405,     0.74413,     0.74418,     0.74416,     0.74434,     0.74416,     0.74452,     0.74513,     0.74517,     0.74532,     0.74513,     0.74556,     0.74536,     0.74538,      0.7455,     0.74534,     0.74526,     0.74527,\n",
              "            0.74539,     0.74498,     0.74507,     0.74476,     0.74455,     0.74476,     0.74464,     0.74485,     0.74466,     0.74436,     0.74426,     0.74482,      0.7446,      0.7446,     0.74488,     0.74491,     0.74485,     0.74469,     0.74451,     0.74431,     0.74429,     0.74432,     0.74479,\n",
              "            0.74485,     0.74472,     0.74503,       0.745,     0.74531,     0.74525,     0.74526,     0.74504,     0.74472,     0.74488,       0.745,     0.74467,      0.7446,     0.74469,     0.74447,     0.74484,     0.74464,     0.74451,     0.74422,     0.74387,      0.7434,     0.74352,     0.74365,\n",
              "            0.74362,     0.74307,     0.74291,     0.74282,     0.74283,     0.74244,     0.74257,     0.74268,     0.74173,     0.74118,     0.74114,     0.74079,     0.74047,     0.74017,     0.73963,     0.73962,     0.73933,      0.7391,     0.73929,      0.7393,     0.73882,      0.7385,     0.73847,\n",
              "            0.73803,     0.73804,     0.73753,     0.73685,      0.7368,     0.73672,     0.73668,     0.73617,     0.73571,     0.73568,      0.7355,     0.73494,     0.73493,     0.73496,      0.7346,     0.73463,     0.73459,     0.73445,     0.73457,     0.73479,     0.73476,     0.73482,     0.73507,\n",
              "            0.73477,     0.73412,     0.73376,     0.73356,     0.73319,     0.73272,     0.73255,     0.73231,     0.73234,     0.73204,     0.73186,     0.73172,      0.7314,     0.73119,     0.73147,     0.73081,     0.73068,     0.73059,     0.73031,     0.72995,     0.72928,     0.72866,     0.72865,\n",
              "            0.72872,     0.72854,     0.72777,     0.72773,     0.72732,     0.72684,     0.72677,     0.72636,     0.72568,     0.72464,     0.72466,     0.72433,     0.72386,     0.72361,     0.72354,     0.72331,     0.72316,     0.72294,     0.72275,     0.72227,     0.72237,     0.72187,     0.72097,\n",
              "            0.72055,     0.72038,     0.71979,     0.71932,     0.71887,     0.71828,     0.71797,     0.71754,     0.71777,      0.7175,     0.71715,     0.71657,     0.71658,     0.71575,     0.71567,     0.71553,     0.71532,     0.71433,     0.71398,     0.71381,     0.71288,     0.71288,     0.71226,\n",
              "            0.71194,     0.71159,     0.71072,     0.70927,     0.70865,     0.70736,     0.70718,      0.7071,     0.70693,     0.70583,     0.70537,     0.70458,     0.70397,     0.70362,     0.70316,     0.70243,     0.70225,     0.70209,     0.70177,     0.70179,     0.70185,     0.70116,     0.69997,\n",
              "            0.70003,     0.70005,     0.69951,      0.6989,     0.69793,     0.69785,     0.69709,     0.69644,     0.69617,     0.69591,      0.6951,     0.69457,     0.69368,     0.69296,     0.69233,     0.69163,     0.69147,     0.69143,     0.69098,     0.69055,     0.68949,     0.68858,     0.68817,\n",
              "            0.68794,     0.68703,     0.68666,     0.68593,     0.68557,     0.68554,     0.68547,     0.68481,     0.68467,     0.68448,     0.68329,     0.68283,     0.68218,     0.68155,     0.68117,     0.68026,     0.68007,     0.67957,     0.67942,     0.67926,     0.67896,     0.67813,     0.67807,\n",
              "            0.67692,      0.6766,     0.67628,     0.67653,     0.67635,     0.67534,     0.67422,     0.67422,     0.67196,     0.67138,      0.6709,     0.67052,     0.66864,     0.66784,     0.66634,     0.66567,     0.66481,     0.66456,     0.66413,     0.66326,     0.66261,       0.662,     0.66142,\n",
              "            0.66036,     0.65863,     0.65774,     0.65647,     0.65501,      0.6547,     0.65363,     0.65304,     0.65137,     0.65043,     0.65026,     0.64829,     0.64774,      0.6471,     0.64588,     0.64503,     0.64408,     0.64229,     0.64141,     0.63999,      0.6376,     0.63718,     0.63655,\n",
              "            0.63504,     0.63351,     0.63189,     0.63026,     0.62942,      0.6285,     0.62833,     0.62774,     0.62604,     0.62454,     0.62323,     0.62183,     0.62063,     0.61926,     0.61856,     0.61706,     0.61635,     0.61487,     0.61267,     0.61211,     0.60979,     0.60732,     0.60583,\n",
              "            0.60422,     0.60303,     0.60034,     0.59937,     0.59782,     0.59633,     0.59507,     0.59424,     0.59187,     0.59052,     0.59021,     0.58926,     0.58742,      0.5857,     0.58423,     0.58275,     0.58132,     0.57886,     0.57659,     0.57454,     0.57403,     0.57188,     0.57063,\n",
              "            0.56863,     0.56501,     0.56446,     0.56182,     0.56016,     0.55796,     0.55637,     0.55546,     0.55218,     0.54955,     0.54835,     0.54633,     0.54442,      0.5434,     0.54154,     0.53904,      0.5377,     0.53556,     0.53327,     0.53245,     0.52905,     0.52697,     0.52438,\n",
              "             0.5236,     0.52118,     0.51705,     0.51445,      0.5131,     0.51126,     0.50863,      0.5055,     0.50302,     0.50138,     0.49952,     0.49609,     0.49248,     0.48817,     0.48367,     0.48068,     0.47605,     0.47194,     0.47034,     0.46763,     0.46449,     0.46133,     0.45745,\n",
              "            0.45336,     0.44829,     0.44292,     0.44075,      0.4371,     0.43281,     0.42678,     0.42381,     0.42063,      0.4096,     0.40579,     0.40209,     0.39873,     0.39472,     0.38953,     0.38641,     0.38211,     0.37367,     0.36953,      0.3643,     0.35987,     0.35391,     0.34881,\n",
              "            0.34436,     0.34036,     0.33301,     0.32777,     0.32467,      0.3165,     0.30919,     0.30128,     0.29804,     0.29251,     0.28432,     0.27937,     0.27238,     0.26775,     0.26067,     0.25523,       0.246,     0.23943,     0.23565,      0.2262,     0.22231,     0.21592,      0.2102,\n",
              "            0.20233,     0.19543,     0.18708,     0.17821,        0.17,     0.16059,     0.15488,     0.14799,     0.14105,     0.13758,     0.13017,     0.12624,     0.12032,      0.1104,     0.10116,    0.098316,    0.091808,    0.083616,    0.078246,    0.074919,    0.071995,    0.068229,    0.061513,\n",
              "           0.055174,     0.05219,    0.049197,    0.045768,    0.040236,    0.038014,     0.03456,    0.031511,    0.029328,    0.026698,    0.023187,    0.020978,    0.019203,    0.017577,    0.016687,    0.015356,    0.014464,    0.013814,    0.011584,   0.0097922,   0.0068976,   0.0057539,   0.0044529,\n",
              "          0.0043225,   0.0041921,   0.0040617,   0.0035327,   0.0033043,   0.0026132,   0.0023084,   0.0020034,   0.0017428,   0.0015903,   0.0014377,   0.0012295,  0.00092417,  0.00083054,  0.00076007,  0.00068959,  0.00061911,  0.00054863,  0.00047814,           0,           0,           0,           0,\n",
              "                  0,           0,           0,           0,           0,           0,           0,           0,           0,           0,           0,           0,           0,           0,           0,           0,           0,           0,           0,           0,           0,           0,           0,\n",
              "                  0,           0,           0,           0,           0,           0,           0,           0,           0,           0,           0]]), 'Confidence', 'F1'], [array([          0,    0.001001,    0.002002,    0.003003,    0.004004,    0.005005,    0.006006,    0.007007,    0.008008,    0.009009,     0.01001,    0.011011,    0.012012,    0.013013,    0.014014,    0.015015,    0.016016,    0.017017,    0.018018,    0.019019,     0.02002,    0.021021,    0.022022,    0.023023,\n",
              "          0.024024,    0.025025,    0.026026,    0.027027,    0.028028,    0.029029,     0.03003,    0.031031,    0.032032,    0.033033,    0.034034,    0.035035,    0.036036,    0.037037,    0.038038,    0.039039,     0.04004,    0.041041,    0.042042,    0.043043,    0.044044,    0.045045,    0.046046,    0.047047,\n",
              "          0.048048,    0.049049,     0.05005,    0.051051,    0.052052,    0.053053,    0.054054,    0.055055,    0.056056,    0.057057,    0.058058,    0.059059,     0.06006,    0.061061,    0.062062,    0.063063,    0.064064,    0.065065,    0.066066,    0.067067,    0.068068,    0.069069,     0.07007,    0.071071,\n",
              "          0.072072,    0.073073,    0.074074,    0.075075,    0.076076,    0.077077,    0.078078,    0.079079,     0.08008,    0.081081,    0.082082,    0.083083,    0.084084,    0.085085,    0.086086,    0.087087,    0.088088,    0.089089,     0.09009,    0.091091,    0.092092,    0.093093,    0.094094,    0.095095,\n",
              "          0.096096,    0.097097,    0.098098,    0.099099,      0.1001,      0.1011,      0.1021,      0.1031,      0.1041,     0.10511,     0.10611,     0.10711,     0.10811,     0.10911,     0.11011,     0.11111,     0.11211,     0.11311,     0.11411,     0.11512,     0.11612,     0.11712,     0.11812,     0.11912,\n",
              "           0.12012,     0.12112,     0.12212,     0.12312,     0.12412,     0.12513,     0.12613,     0.12713,     0.12813,     0.12913,     0.13013,     0.13113,     0.13213,     0.13313,     0.13413,     0.13514,     0.13614,     0.13714,     0.13814,     0.13914,     0.14014,     0.14114,     0.14214,     0.14314,\n",
              "           0.14414,     0.14515,     0.14615,     0.14715,     0.14815,     0.14915,     0.15015,     0.15115,     0.15215,     0.15315,     0.15415,     0.15516,     0.15616,     0.15716,     0.15816,     0.15916,     0.16016,     0.16116,     0.16216,     0.16316,     0.16416,     0.16517,     0.16617,     0.16717,\n",
              "           0.16817,     0.16917,     0.17017,     0.17117,     0.17217,     0.17317,     0.17417,     0.17518,     0.17618,     0.17718,     0.17818,     0.17918,     0.18018,     0.18118,     0.18218,     0.18318,     0.18418,     0.18519,     0.18619,     0.18719,     0.18819,     0.18919,     0.19019,     0.19119,\n",
              "           0.19219,     0.19319,     0.19419,      0.1952,      0.1962,      0.1972,      0.1982,      0.1992,      0.2002,      0.2012,      0.2022,      0.2032,      0.2042,     0.20521,     0.20621,     0.20721,     0.20821,     0.20921,     0.21021,     0.21121,     0.21221,     0.21321,     0.21421,     0.21522,\n",
              "           0.21622,     0.21722,     0.21822,     0.21922,     0.22022,     0.22122,     0.22222,     0.22322,     0.22422,     0.22523,     0.22623,     0.22723,     0.22823,     0.22923,     0.23023,     0.23123,     0.23223,     0.23323,     0.23423,     0.23524,     0.23624,     0.23724,     0.23824,     0.23924,\n",
              "           0.24024,     0.24124,     0.24224,     0.24324,     0.24424,     0.24525,     0.24625,     0.24725,     0.24825,     0.24925,     0.25025,     0.25125,     0.25225,     0.25325,     0.25425,     0.25526,     0.25626,     0.25726,     0.25826,     0.25926,     0.26026,     0.26126,     0.26226,     0.26326,\n",
              "           0.26426,     0.26527,     0.26627,     0.26727,     0.26827,     0.26927,     0.27027,     0.27127,     0.27227,     0.27327,     0.27427,     0.27528,     0.27628,     0.27728,     0.27828,     0.27928,     0.28028,     0.28128,     0.28228,     0.28328,     0.28428,     0.28529,     0.28629,     0.28729,\n",
              "           0.28829,     0.28929,     0.29029,     0.29129,     0.29229,     0.29329,     0.29429,      0.2953,      0.2963,      0.2973,      0.2983,      0.2993,      0.3003,      0.3013,      0.3023,      0.3033,      0.3043,     0.30531,     0.30631,     0.30731,     0.30831,     0.30931,     0.31031,     0.31131,\n",
              "           0.31231,     0.31331,     0.31431,     0.31532,     0.31632,     0.31732,     0.31832,     0.31932,     0.32032,     0.32132,     0.32232,     0.32332,     0.32432,     0.32533,     0.32633,     0.32733,     0.32833,     0.32933,     0.33033,     0.33133,     0.33233,     0.33333,     0.33433,     0.33534,\n",
              "           0.33634,     0.33734,     0.33834,     0.33934,     0.34034,     0.34134,     0.34234,     0.34334,     0.34434,     0.34535,     0.34635,     0.34735,     0.34835,     0.34935,     0.35035,     0.35135,     0.35235,     0.35335,     0.35435,     0.35536,     0.35636,     0.35736,     0.35836,     0.35936,\n",
              "           0.36036,     0.36136,     0.36236,     0.36336,     0.36436,     0.36537,     0.36637,     0.36737,     0.36837,     0.36937,     0.37037,     0.37137,     0.37237,     0.37337,     0.37437,     0.37538,     0.37638,     0.37738,     0.37838,     0.37938,     0.38038,     0.38138,     0.38238,     0.38338,\n",
              "           0.38438,     0.38539,     0.38639,     0.38739,     0.38839,     0.38939,     0.39039,     0.39139,     0.39239,     0.39339,     0.39439,      0.3954,      0.3964,      0.3974,      0.3984,      0.3994,      0.4004,      0.4014,      0.4024,      0.4034,      0.4044,     0.40541,     0.40641,     0.40741,\n",
              "           0.40841,     0.40941,     0.41041,     0.41141,     0.41241,     0.41341,     0.41441,     0.41542,     0.41642,     0.41742,     0.41842,     0.41942,     0.42042,     0.42142,     0.42242,     0.42342,     0.42442,     0.42543,     0.42643,     0.42743,     0.42843,     0.42943,     0.43043,     0.43143,\n",
              "           0.43243,     0.43343,     0.43443,     0.43544,     0.43644,     0.43744,     0.43844,     0.43944,     0.44044,     0.44144,     0.44244,     0.44344,     0.44444,     0.44545,     0.44645,     0.44745,     0.44845,     0.44945,     0.45045,     0.45145,     0.45245,     0.45345,     0.45445,     0.45546,\n",
              "           0.45646,     0.45746,     0.45846,     0.45946,     0.46046,     0.46146,     0.46246,     0.46346,     0.46446,     0.46547,     0.46647,     0.46747,     0.46847,     0.46947,     0.47047,     0.47147,     0.47247,     0.47347,     0.47447,     0.47548,     0.47648,     0.47748,     0.47848,     0.47948,\n",
              "           0.48048,     0.48148,     0.48248,     0.48348,     0.48448,     0.48549,     0.48649,     0.48749,     0.48849,     0.48949,     0.49049,     0.49149,     0.49249,     0.49349,     0.49449,      0.4955,      0.4965,      0.4975,      0.4985,      0.4995,      0.5005,      0.5015,      0.5025,      0.5035,\n",
              "            0.5045,     0.50551,     0.50651,     0.50751,     0.50851,     0.50951,     0.51051,     0.51151,     0.51251,     0.51351,     0.51451,     0.51552,     0.51652,     0.51752,     0.51852,     0.51952,     0.52052,     0.52152,     0.52252,     0.52352,     0.52452,     0.52553,     0.52653,     0.52753,\n",
              "           0.52853,     0.52953,     0.53053,     0.53153,     0.53253,     0.53353,     0.53453,     0.53554,     0.53654,     0.53754,     0.53854,     0.53954,     0.54054,     0.54154,     0.54254,     0.54354,     0.54454,     0.54555,     0.54655,     0.54755,     0.54855,     0.54955,     0.55055,     0.55155,\n",
              "           0.55255,     0.55355,     0.55455,     0.55556,     0.55656,     0.55756,     0.55856,     0.55956,     0.56056,     0.56156,     0.56256,     0.56356,     0.56456,     0.56557,     0.56657,     0.56757,     0.56857,     0.56957,     0.57057,     0.57157,     0.57257,     0.57357,     0.57457,     0.57558,\n",
              "           0.57658,     0.57758,     0.57858,     0.57958,     0.58058,     0.58158,     0.58258,     0.58358,     0.58458,     0.58559,     0.58659,     0.58759,     0.58859,     0.58959,     0.59059,     0.59159,     0.59259,     0.59359,     0.59459,      0.5956,      0.5966,      0.5976,      0.5986,      0.5996,\n",
              "            0.6006,      0.6016,      0.6026,      0.6036,      0.6046,     0.60561,     0.60661,     0.60761,     0.60861,     0.60961,     0.61061,     0.61161,     0.61261,     0.61361,     0.61461,     0.61562,     0.61662,     0.61762,     0.61862,     0.61962,     0.62062,     0.62162,     0.62262,     0.62362,\n",
              "           0.62462,     0.62563,     0.62663,     0.62763,     0.62863,     0.62963,     0.63063,     0.63163,     0.63263,     0.63363,     0.63463,     0.63564,     0.63664,     0.63764,     0.63864,     0.63964,     0.64064,     0.64164,     0.64264,     0.64364,     0.64464,     0.64565,     0.64665,     0.64765,\n",
              "           0.64865,     0.64965,     0.65065,     0.65165,     0.65265,     0.65365,     0.65465,     0.65566,     0.65666,     0.65766,     0.65866,     0.65966,     0.66066,     0.66166,     0.66266,     0.66366,     0.66466,     0.66567,     0.66667,     0.66767,     0.66867,     0.66967,     0.67067,     0.67167,\n",
              "           0.67267,     0.67367,     0.67467,     0.67568,     0.67668,     0.67768,     0.67868,     0.67968,     0.68068,     0.68168,     0.68268,     0.68368,     0.68468,     0.68569,     0.68669,     0.68769,     0.68869,     0.68969,     0.69069,     0.69169,     0.69269,     0.69369,     0.69469,      0.6957,\n",
              "            0.6967,      0.6977,      0.6987,      0.6997,      0.7007,      0.7017,      0.7027,      0.7037,      0.7047,     0.70571,     0.70671,     0.70771,     0.70871,     0.70971,     0.71071,     0.71171,     0.71271,     0.71371,     0.71471,     0.71572,     0.71672,     0.71772,     0.71872,     0.71972,\n",
              "           0.72072,     0.72172,     0.72272,     0.72372,     0.72472,     0.72573,     0.72673,     0.72773,     0.72873,     0.72973,     0.73073,     0.73173,     0.73273,     0.73373,     0.73473,     0.73574,     0.73674,     0.73774,     0.73874,     0.73974,     0.74074,     0.74174,     0.74274,     0.74374,\n",
              "           0.74474,     0.74575,     0.74675,     0.74775,     0.74875,     0.74975,     0.75075,     0.75175,     0.75275,     0.75375,     0.75475,     0.75576,     0.75676,     0.75776,     0.75876,     0.75976,     0.76076,     0.76176,     0.76276,     0.76376,     0.76476,     0.76577,     0.76677,     0.76777,\n",
              "           0.76877,     0.76977,     0.77077,     0.77177,     0.77277,     0.77377,     0.77477,     0.77578,     0.77678,     0.77778,     0.77878,     0.77978,     0.78078,     0.78178,     0.78278,     0.78378,     0.78478,     0.78579,     0.78679,     0.78779,     0.78879,     0.78979,     0.79079,     0.79179,\n",
              "           0.79279,     0.79379,     0.79479,      0.7958,      0.7968,      0.7978,      0.7988,      0.7998,      0.8008,      0.8018,      0.8028,      0.8038,      0.8048,     0.80581,     0.80681,     0.80781,     0.80881,     0.80981,     0.81081,     0.81181,     0.81281,     0.81381,     0.81481,     0.81582,\n",
              "           0.81682,     0.81782,     0.81882,     0.81982,     0.82082,     0.82182,     0.82282,     0.82382,     0.82482,     0.82583,     0.82683,     0.82783,     0.82883,     0.82983,     0.83083,     0.83183,     0.83283,     0.83383,     0.83483,     0.83584,     0.83684,     0.83784,     0.83884,     0.83984,\n",
              "           0.84084,     0.84184,     0.84284,     0.84384,     0.84484,     0.84585,     0.84685,     0.84785,     0.84885,     0.84985,     0.85085,     0.85185,     0.85285,     0.85385,     0.85485,     0.85586,     0.85686,     0.85786,     0.85886,     0.85986,     0.86086,     0.86186,     0.86286,     0.86386,\n",
              "           0.86486,     0.86587,     0.86687,     0.86787,     0.86887,     0.86987,     0.87087,     0.87187,     0.87287,     0.87387,     0.87487,     0.87588,     0.87688,     0.87788,     0.87888,     0.87988,     0.88088,     0.88188,     0.88288,     0.88388,     0.88488,     0.88589,     0.88689,     0.88789,\n",
              "           0.88889,     0.88989,     0.89089,     0.89189,     0.89289,     0.89389,     0.89489,      0.8959,      0.8969,      0.8979,      0.8989,      0.8999,      0.9009,      0.9019,      0.9029,      0.9039,      0.9049,     0.90591,     0.90691,     0.90791,     0.90891,     0.90991,     0.91091,     0.91191,\n",
              "           0.91291,     0.91391,     0.91491,     0.91592,     0.91692,     0.91792,     0.91892,     0.91992,     0.92092,     0.92192,     0.92292,     0.92392,     0.92492,     0.92593,     0.92693,     0.92793,     0.92893,     0.92993,     0.93093,     0.93193,     0.93293,     0.93393,     0.93493,     0.93594,\n",
              "           0.93694,     0.93794,     0.93894,     0.93994,     0.94094,     0.94194,     0.94294,     0.94394,     0.94494,     0.94595,     0.94695,     0.94795,     0.94895,     0.94995,     0.95095,     0.95195,     0.95295,     0.95395,     0.95495,     0.95596,     0.95696,     0.95796,     0.95896,     0.95996,\n",
              "           0.96096,     0.96196,     0.96296,     0.96396,     0.96496,     0.96597,     0.96697,     0.96797,     0.96897,     0.96997,     0.97097,     0.97197,     0.97297,     0.97397,     0.97497,     0.97598,     0.97698,     0.97798,     0.97898,     0.97998,     0.98098,     0.98198,     0.98298,     0.98398,\n",
              "           0.98498,     0.98599,     0.98699,     0.98799,     0.98899,     0.98999,     0.99099,     0.99199,     0.99299,     0.99399,     0.99499,       0.996,       0.997,       0.998,       0.999,           1]), array([[   0.071266,    0.071266,     0.10275,     0.12676,     0.14602,      0.1633,     0.17849,      0.1914,     0.20459,     0.21604,     0.22625,     0.23676,      0.2454,     0.25382,     0.26252,     0.27044,     0.27824,     0.28537,     0.29172,     0.29815,     0.30444,     0.31071,      0.3168,\n",
              "            0.32265,     0.32783,     0.33366,     0.33884,      0.3434,     0.34897,     0.35337,     0.35781,     0.36197,     0.36662,     0.37042,     0.37447,     0.37909,     0.38241,     0.38637,     0.39008,     0.39379,     0.39765,     0.40099,     0.40359,     0.40691,     0.41011,     0.41273,\n",
              "            0.41631,     0.41948,     0.42259,     0.42562,     0.42898,     0.43127,      0.4352,     0.43733,     0.44095,     0.44384,     0.44631,     0.44896,     0.45165,     0.45453,     0.45668,     0.45959,     0.46264,     0.46521,     0.46718,     0.46932,     0.47152,     0.47331,     0.47598,\n",
              "            0.47881,      0.4806,     0.48217,      0.4844,      0.4866,     0.48968,     0.49148,     0.49274,     0.49509,     0.49712,     0.49889,     0.50121,     0.50286,     0.50471,     0.50683,     0.50811,     0.51004,     0.51178,     0.51353,     0.51498,     0.51675,      0.5189,     0.52059,\n",
              "            0.52285,     0.52466,     0.52609,     0.52799,     0.52998,     0.53132,     0.53317,     0.53438,     0.53623,      0.5376,     0.53941,      0.5413,     0.54253,     0.54378,     0.54528,     0.54721,      0.5481,     0.54902,       0.551,     0.55245,     0.55349,     0.55502,     0.55644,\n",
              "            0.55795,     0.55968,     0.56128,     0.56248,     0.56382,     0.56493,     0.56665,     0.56792,     0.56939,     0.57125,     0.57246,     0.57296,     0.57378,     0.57473,     0.57647,     0.57733,     0.57859,      0.5799,     0.58137,     0.58319,     0.58438,     0.58715,     0.58805,\n",
              "            0.58891,     0.59058,     0.59186,     0.59331,     0.59497,     0.59599,     0.59745,     0.59914,     0.60007,     0.60081,      0.6017,     0.60258,     0.60369,     0.60454,     0.60618,     0.60658,     0.60743,      0.6083,     0.60987,     0.61104,      0.6114,     0.61252,     0.61374,\n",
              "             0.6148,     0.61564,      0.6167,     0.61744,     0.61842,     0.61934,     0.62086,     0.62147,     0.62245,      0.6231,     0.62389,     0.62481,     0.62563,     0.62686,     0.62777,     0.62868,     0.62936,     0.63051,      0.6318,     0.63287,     0.63367,     0.63461,     0.63557,\n",
              "            0.63671,     0.63769,     0.63885,     0.64042,     0.64144,     0.64267,      0.6438,     0.64412,     0.64441,     0.64536,      0.6458,     0.64751,     0.64878,     0.64967,     0.65076,     0.65162,     0.65349,      0.6555,     0.65628,     0.65745,     0.65768,     0.65876,     0.65922,\n",
              "            0.66042,     0.66142,      0.6619,     0.66274,     0.66343,     0.66344,     0.66393,     0.66462,     0.66533,     0.66696,     0.66713,     0.66882,     0.66928,     0.66988,     0.67021,     0.67069,     0.67137,     0.67272,     0.67313,     0.67354,     0.67414,     0.67492,     0.67508,\n",
              "            0.67663,     0.67721,     0.67784,     0.67852,     0.67886,     0.67947,     0.67976,     0.68077,     0.68157,     0.68217,     0.68234,     0.68278,     0.68378,     0.68385,     0.68456,     0.68538,     0.68646,       0.687,     0.68769,     0.68836,      0.6894,     0.68997,     0.69057,\n",
              "            0.69205,     0.69293,     0.69367,     0.69477,     0.69464,     0.69533,     0.69571,     0.69613,     0.69749,      0.6979,      0.6991,     0.70003,      0.7012,     0.70203,     0.70252,     0.70362,     0.70441,     0.70515,     0.70619,     0.70684,     0.70741,     0.70855,     0.70949,\n",
              "            0.70974,     0.71011,       0.711,     0.71227,     0.71301,     0.71379,     0.71514,     0.71577,     0.71616,      0.7164,     0.71725,     0.71796,     0.71852,     0.71901,     0.72043,     0.72082,     0.72129,     0.72164,     0.72271,     0.72396,     0.72418,     0.72462,     0.72472,\n",
              "            0.72552,     0.72601,     0.72733,     0.72763,     0.72838,     0.72833,     0.72883,     0.72906,     0.72948,     0.72988,     0.73032,     0.73139,     0.73216,     0.73421,     0.73439,     0.73513,     0.73598,     0.73634,     0.73644,     0.73682,     0.73774,      0.7382,      0.7389,\n",
              "            0.73937,     0.73974,     0.74037,     0.74083,     0.74173,     0.74288,     0.74345,     0.74366,     0.74456,     0.74455,     0.74486,     0.74562,     0.74622,     0.74685,     0.74768,     0.74878,     0.74906,      0.7491,     0.74959,     0.74998,      0.7509,     0.75154,     0.75202,\n",
              "            0.75254,     0.75281,     0.75341,     0.75346,      0.7543,     0.75558,     0.75606,     0.75646,     0.75659,     0.75785,     0.75823,      0.7591,     0.75994,     0.76054,     0.76187,     0.76236,     0.76265,     0.76284,     0.76289,     0.76365,      0.7642,      0.7643,     0.76473,\n",
              "            0.76544,     0.76571,     0.76691,     0.76741,     0.76805,     0.76858,     0.76938,     0.76976,     0.77022,     0.77052,     0.77103,     0.77141,     0.77211,     0.77217,     0.77251,     0.77289,     0.77339,     0.77378,     0.77437,     0.77457,     0.77555,     0.77604,     0.77701,\n",
              "            0.77753,     0.77769,     0.77813,      0.7782,     0.77895,     0.77904,     0.77968,      0.7799,     0.78027,     0.78148,     0.78182,      0.7823,     0.78328,     0.78411,     0.78448,     0.78468,     0.78546,     0.78635,     0.78675,      0.7869,     0.78739,     0.78773,     0.78833,\n",
              "            0.78878,     0.78907,     0.78967,     0.79028,     0.79103,     0.79143,     0.79204,       0.793,      0.7934,     0.79416,     0.79452,     0.79549,      0.7962,     0.79646,     0.79702,     0.79738,     0.79759,     0.79847,      0.7988,     0.79909,     0.79982,     0.80078,     0.80167,\n",
              "            0.80193,     0.80248,     0.80308,     0.80374,     0.80459,     0.80475,     0.80496,     0.80513,     0.80634,     0.80656,     0.80679,     0.80689,     0.80722,     0.80744,     0.80755,     0.80959,     0.81002,     0.81085,       0.811,     0.81116,     0.81132,      0.8116,     0.81184,\n",
              "            0.81235,     0.81295,     0.81328,     0.81339,      0.8135,     0.81433,     0.81549,     0.81613,     0.81683,     0.81727,     0.81779,     0.81867,     0.82013,     0.82024,     0.82123,      0.8214,     0.82248,     0.82263,     0.82301,     0.82364,     0.82457,     0.82454,     0.82474,\n",
              "            0.82536,     0.82565,     0.82625,     0.82615,     0.82691,     0.82778,     0.82814,     0.82901,     0.82929,     0.82947,     0.83025,     0.83162,     0.83189,     0.83278,     0.83348,      0.8339,     0.83409,     0.83456,     0.83462,     0.83465,     0.83477,     0.83519,     0.83636,\n",
              "            0.83721,     0.83759,     0.83872,     0.83934,     0.84048,     0.84068,     0.84136,      0.8415,     0.84141,     0.84186,     0.84253,     0.84309,     0.84328,     0.84352,     0.84367,     0.84463,     0.84521,      0.8456,     0.84595,      0.8465,     0.84705,     0.84774,     0.84843,\n",
              "            0.84881,     0.84888,     0.84884,     0.84998,     0.85013,      0.8501,     0.85094,     0.85163,     0.85137,     0.85145,     0.85154,     0.85156,     0.85147,     0.85184,     0.85191,     0.85205,     0.85242,     0.85244,      0.8531,     0.85339,     0.85326,     0.85318,     0.85357,\n",
              "             0.8535,     0.85437,      0.8545,       0.855,     0.85567,     0.85666,     0.85735,     0.85733,     0.85767,     0.85779,     0.85831,      0.8584,     0.85854,     0.85902,     0.85963,     0.86011,      0.8608,     0.86124,     0.86228,     0.86299,      0.8637,     0.86423,     0.86498,\n",
              "            0.86493,     0.86523,     0.86586,     0.86655,     0.86718,     0.86754,      0.8675,     0.86806,     0.86856,     0.86898,     0.87017,     0.87063,     0.87088,     0.87125,     0.87207,     0.87222,     0.87238,     0.87291,     0.87305,     0.87325,     0.87309,     0.87355,     0.87369,\n",
              "            0.87458,     0.87518,     0.87538,     0.87549,     0.87565,     0.87604,     0.87628,     0.87644,     0.87628,     0.87706,     0.87758,     0.87833,     0.87842,     0.87862,     0.87886,     0.87942,     0.87991,     0.88081,     0.88098,     0.88092,     0.88172,     0.88161,      0.8822,\n",
              "            0.88237,     0.88233,     0.88246,     0.88242,     0.88279,     0.88292,     0.88357,     0.88356,     0.88488,     0.88489,     0.88481,     0.88522,     0.88559,     0.88595,     0.88638,     0.88673,     0.88709,     0.88745,     0.88738,     0.88734,     0.88742,     0.88796,      0.8881,\n",
              "            0.88831,     0.88823,     0.88804,      0.8882,     0.88815,     0.88843,     0.88839,     0.88865,     0.88898,     0.88894,     0.88912,     0.88923,     0.88939,     0.88931,     0.89048,     0.89105,     0.89101,     0.89155,     0.89236,     0.89295,     0.89322,     0.89366,     0.89402,\n",
              "            0.89423,     0.89538,     0.89565,     0.89611,      0.8962,     0.89707,     0.89751,     0.89768,     0.89792,     0.89816,       0.898,     0.89849,     0.89891,     0.89907,     0.89925,     0.89913,     0.89974,     0.89998,     0.90039,     0.90122,     0.90296,     0.90341,     0.90333,\n",
              "            0.90328,      0.9031,     0.90303,      0.9032,     0.90376,     0.90525,     0.90559,     0.90549,      0.9061,     0.90606,     0.90647,      0.9067,     0.90753,     0.90806,     0.90818,     0.90878,     0.90875,     0.90898,     0.90992,     0.91013,     0.91114,     0.91131,     0.91261,\n",
              "            0.91241,      0.9133,     0.91407,     0.91626,     0.91693,     0.91712,     0.91861,     0.92065,     0.92062,     0.92121,     0.92203,     0.92267,      0.9225,     0.92237,     0.92248,     0.92307,     0.92328,     0.92324,     0.92318,      0.9235,     0.92435,     0.92425,     0.92416,\n",
              "            0.92471,     0.92479,     0.92501,     0.92553,     0.92604,     0.92635,     0.92618,     0.92609,     0.92656,       0.928,     0.92861,     0.92868,     0.92972,     0.92991,     0.93058,     0.93045,     0.93069,      0.9308,     0.93068,     0.93046,     0.93011,     0.93004,     0.93111,\n",
              "            0.93089,     0.93105,      0.9312,     0.93135,     0.93123,     0.93227,     0.93344,     0.93376,     0.93633,     0.93693,     0.93716,     0.93737,     0.93762,     0.93826,     0.93845,     0.93837,     0.93828,     0.93808,      0.9382,     0.93853,     0.93907,     0.94002,     0.94025,\n",
              "            0.94003,     0.94074,     0.94038,     0.94113,     0.94136,     0.94192,     0.94233,     0.94267,     0.94326,     0.94309,      0.9435,     0.94428,     0.94451,     0.94567,     0.94687,     0.94762,     0.94745,     0.94762,     0.94879,     0.94948,     0.95038,     0.95062,     0.95078,\n",
              "             0.9522,     0.95278,     0.95371,     0.95393,     0.95374,     0.95502,     0.95588,     0.95629,     0.95698,     0.95795,     0.95869,     0.95902,     0.96013,     0.96086,     0.96231,     0.96262,     0.96305,     0.96285,      0.9632,     0.96312,     0.96337,     0.96375,     0.96522,\n",
              "            0.96516,     0.96494,     0.96458,     0.96493,     0.96599,     0.96642,      0.9668,     0.96713,     0.96875,     0.97047,     0.97032,     0.97068,     0.97167,     0.97135,     0.97166,     0.97209,     0.97174,     0.97143,      0.9713,     0.97245,     0.97221,     0.97197,     0.97237,\n",
              "            0.97348,      0.9731,     0.97269,     0.97252,     0.97373,     0.97416,     0.97371,     0.97426,     0.97559,     0.97641,     0.97779,     0.97754,     0.97816,     0.97789,     0.97753,     0.97819,     0.97879,     0.97914,     0.97886,      0.9804,     0.98108,      0.9817,     0.98239,\n",
              "            0.98418,     0.98396,     0.98462,     0.98543,     0.98632,     0.98597,     0.98558,     0.98758,     0.98742,     0.98714,     0.98672,     0.98644,     0.98605,     0.98717,     0.98678,     0.98646,     0.98588,     0.98545,     0.98681,     0.98619,     0.98592,     0.98546,     0.98502,\n",
              "             0.9863,     0.98577,     0.98929,     0.98871,     0.98812,     0.98737,     0.98687,     0.98622,     0.98549,     0.98805,     0.98733,     0.98691,     0.98623,     0.98866,     0.98757,      0.9872,     0.98626,     0.98487,      0.9838,     0.98307,     0.98236,     0.98137,     0.97931,\n",
              "            0.97691,     0.97559,     0.97411,     0.97217,     0.96838,     0.96656,     0.98745,     0.98623,           1,           1,           1,           1,           1,           1,           1,           1,           1,           1,           1,           1,           1,           1,           1,\n",
              "                  1,           1,           1,           1,           1,           1,           1,           1,           1,           1,           1,           1,           1,           1,           1,           1,           1,           1,           1,           1,           1,           1,           1,\n",
              "                  1,           1,           1,           1,           1,           1,           1,           1,           1,           1,           1,           1,           1,           1,           1,           1,           1,           1,           1,           1,           1,           1,           1,\n",
              "                  1,           1,           1,           1,           1,           1,           1,           1,           1,           1,           1]]), 'Confidence', 'Precision'], [array([          0,    0.001001,    0.002002,    0.003003,    0.004004,    0.005005,    0.006006,    0.007007,    0.008008,    0.009009,     0.01001,    0.011011,    0.012012,    0.013013,    0.014014,    0.015015,    0.016016,    0.017017,    0.018018,    0.019019,     0.02002,    0.021021,    0.022022,    0.023023,\n",
              "          0.024024,    0.025025,    0.026026,    0.027027,    0.028028,    0.029029,     0.03003,    0.031031,    0.032032,    0.033033,    0.034034,    0.035035,    0.036036,    0.037037,    0.038038,    0.039039,     0.04004,    0.041041,    0.042042,    0.043043,    0.044044,    0.045045,    0.046046,    0.047047,\n",
              "          0.048048,    0.049049,     0.05005,    0.051051,    0.052052,    0.053053,    0.054054,    0.055055,    0.056056,    0.057057,    0.058058,    0.059059,     0.06006,    0.061061,    0.062062,    0.063063,    0.064064,    0.065065,    0.066066,    0.067067,    0.068068,    0.069069,     0.07007,    0.071071,\n",
              "          0.072072,    0.073073,    0.074074,    0.075075,    0.076076,    0.077077,    0.078078,    0.079079,     0.08008,    0.081081,    0.082082,    0.083083,    0.084084,    0.085085,    0.086086,    0.087087,    0.088088,    0.089089,     0.09009,    0.091091,    0.092092,    0.093093,    0.094094,    0.095095,\n",
              "          0.096096,    0.097097,    0.098098,    0.099099,      0.1001,      0.1011,      0.1021,      0.1031,      0.1041,     0.10511,     0.10611,     0.10711,     0.10811,     0.10911,     0.11011,     0.11111,     0.11211,     0.11311,     0.11411,     0.11512,     0.11612,     0.11712,     0.11812,     0.11912,\n",
              "           0.12012,     0.12112,     0.12212,     0.12312,     0.12412,     0.12513,     0.12613,     0.12713,     0.12813,     0.12913,     0.13013,     0.13113,     0.13213,     0.13313,     0.13413,     0.13514,     0.13614,     0.13714,     0.13814,     0.13914,     0.14014,     0.14114,     0.14214,     0.14314,\n",
              "           0.14414,     0.14515,     0.14615,     0.14715,     0.14815,     0.14915,     0.15015,     0.15115,     0.15215,     0.15315,     0.15415,     0.15516,     0.15616,     0.15716,     0.15816,     0.15916,     0.16016,     0.16116,     0.16216,     0.16316,     0.16416,     0.16517,     0.16617,     0.16717,\n",
              "           0.16817,     0.16917,     0.17017,     0.17117,     0.17217,     0.17317,     0.17417,     0.17518,     0.17618,     0.17718,     0.17818,     0.17918,     0.18018,     0.18118,     0.18218,     0.18318,     0.18418,     0.18519,     0.18619,     0.18719,     0.18819,     0.18919,     0.19019,     0.19119,\n",
              "           0.19219,     0.19319,     0.19419,      0.1952,      0.1962,      0.1972,      0.1982,      0.1992,      0.2002,      0.2012,      0.2022,      0.2032,      0.2042,     0.20521,     0.20621,     0.20721,     0.20821,     0.20921,     0.21021,     0.21121,     0.21221,     0.21321,     0.21421,     0.21522,\n",
              "           0.21622,     0.21722,     0.21822,     0.21922,     0.22022,     0.22122,     0.22222,     0.22322,     0.22422,     0.22523,     0.22623,     0.22723,     0.22823,     0.22923,     0.23023,     0.23123,     0.23223,     0.23323,     0.23423,     0.23524,     0.23624,     0.23724,     0.23824,     0.23924,\n",
              "           0.24024,     0.24124,     0.24224,     0.24324,     0.24424,     0.24525,     0.24625,     0.24725,     0.24825,     0.24925,     0.25025,     0.25125,     0.25225,     0.25325,     0.25425,     0.25526,     0.25626,     0.25726,     0.25826,     0.25926,     0.26026,     0.26126,     0.26226,     0.26326,\n",
              "           0.26426,     0.26527,     0.26627,     0.26727,     0.26827,     0.26927,     0.27027,     0.27127,     0.27227,     0.27327,     0.27427,     0.27528,     0.27628,     0.27728,     0.27828,     0.27928,     0.28028,     0.28128,     0.28228,     0.28328,     0.28428,     0.28529,     0.28629,     0.28729,\n",
              "           0.28829,     0.28929,     0.29029,     0.29129,     0.29229,     0.29329,     0.29429,      0.2953,      0.2963,      0.2973,      0.2983,      0.2993,      0.3003,      0.3013,      0.3023,      0.3033,      0.3043,     0.30531,     0.30631,     0.30731,     0.30831,     0.30931,     0.31031,     0.31131,\n",
              "           0.31231,     0.31331,     0.31431,     0.31532,     0.31632,     0.31732,     0.31832,     0.31932,     0.32032,     0.32132,     0.32232,     0.32332,     0.32432,     0.32533,     0.32633,     0.32733,     0.32833,     0.32933,     0.33033,     0.33133,     0.33233,     0.33333,     0.33433,     0.33534,\n",
              "           0.33634,     0.33734,     0.33834,     0.33934,     0.34034,     0.34134,     0.34234,     0.34334,     0.34434,     0.34535,     0.34635,     0.34735,     0.34835,     0.34935,     0.35035,     0.35135,     0.35235,     0.35335,     0.35435,     0.35536,     0.35636,     0.35736,     0.35836,     0.35936,\n",
              "           0.36036,     0.36136,     0.36236,     0.36336,     0.36436,     0.36537,     0.36637,     0.36737,     0.36837,     0.36937,     0.37037,     0.37137,     0.37237,     0.37337,     0.37437,     0.37538,     0.37638,     0.37738,     0.37838,     0.37938,     0.38038,     0.38138,     0.38238,     0.38338,\n",
              "           0.38438,     0.38539,     0.38639,     0.38739,     0.38839,     0.38939,     0.39039,     0.39139,     0.39239,     0.39339,     0.39439,      0.3954,      0.3964,      0.3974,      0.3984,      0.3994,      0.4004,      0.4014,      0.4024,      0.4034,      0.4044,     0.40541,     0.40641,     0.40741,\n",
              "           0.40841,     0.40941,     0.41041,     0.41141,     0.41241,     0.41341,     0.41441,     0.41542,     0.41642,     0.41742,     0.41842,     0.41942,     0.42042,     0.42142,     0.42242,     0.42342,     0.42442,     0.42543,     0.42643,     0.42743,     0.42843,     0.42943,     0.43043,     0.43143,\n",
              "           0.43243,     0.43343,     0.43443,     0.43544,     0.43644,     0.43744,     0.43844,     0.43944,     0.44044,     0.44144,     0.44244,     0.44344,     0.44444,     0.44545,     0.44645,     0.44745,     0.44845,     0.44945,     0.45045,     0.45145,     0.45245,     0.45345,     0.45445,     0.45546,\n",
              "           0.45646,     0.45746,     0.45846,     0.45946,     0.46046,     0.46146,     0.46246,     0.46346,     0.46446,     0.46547,     0.46647,     0.46747,     0.46847,     0.46947,     0.47047,     0.47147,     0.47247,     0.47347,     0.47447,     0.47548,     0.47648,     0.47748,     0.47848,     0.47948,\n",
              "           0.48048,     0.48148,     0.48248,     0.48348,     0.48448,     0.48549,     0.48649,     0.48749,     0.48849,     0.48949,     0.49049,     0.49149,     0.49249,     0.49349,     0.49449,      0.4955,      0.4965,      0.4975,      0.4985,      0.4995,      0.5005,      0.5015,      0.5025,      0.5035,\n",
              "            0.5045,     0.50551,     0.50651,     0.50751,     0.50851,     0.50951,     0.51051,     0.51151,     0.51251,     0.51351,     0.51451,     0.51552,     0.51652,     0.51752,     0.51852,     0.51952,     0.52052,     0.52152,     0.52252,     0.52352,     0.52452,     0.52553,     0.52653,     0.52753,\n",
              "           0.52853,     0.52953,     0.53053,     0.53153,     0.53253,     0.53353,     0.53453,     0.53554,     0.53654,     0.53754,     0.53854,     0.53954,     0.54054,     0.54154,     0.54254,     0.54354,     0.54454,     0.54555,     0.54655,     0.54755,     0.54855,     0.54955,     0.55055,     0.55155,\n",
              "           0.55255,     0.55355,     0.55455,     0.55556,     0.55656,     0.55756,     0.55856,     0.55956,     0.56056,     0.56156,     0.56256,     0.56356,     0.56456,     0.56557,     0.56657,     0.56757,     0.56857,     0.56957,     0.57057,     0.57157,     0.57257,     0.57357,     0.57457,     0.57558,\n",
              "           0.57658,     0.57758,     0.57858,     0.57958,     0.58058,     0.58158,     0.58258,     0.58358,     0.58458,     0.58559,     0.58659,     0.58759,     0.58859,     0.58959,     0.59059,     0.59159,     0.59259,     0.59359,     0.59459,      0.5956,      0.5966,      0.5976,      0.5986,      0.5996,\n",
              "            0.6006,      0.6016,      0.6026,      0.6036,      0.6046,     0.60561,     0.60661,     0.60761,     0.60861,     0.60961,     0.61061,     0.61161,     0.61261,     0.61361,     0.61461,     0.61562,     0.61662,     0.61762,     0.61862,     0.61962,     0.62062,     0.62162,     0.62262,     0.62362,\n",
              "           0.62462,     0.62563,     0.62663,     0.62763,     0.62863,     0.62963,     0.63063,     0.63163,     0.63263,     0.63363,     0.63463,     0.63564,     0.63664,     0.63764,     0.63864,     0.63964,     0.64064,     0.64164,     0.64264,     0.64364,     0.64464,     0.64565,     0.64665,     0.64765,\n",
              "           0.64865,     0.64965,     0.65065,     0.65165,     0.65265,     0.65365,     0.65465,     0.65566,     0.65666,     0.65766,     0.65866,     0.65966,     0.66066,     0.66166,     0.66266,     0.66366,     0.66466,     0.66567,     0.66667,     0.66767,     0.66867,     0.66967,     0.67067,     0.67167,\n",
              "           0.67267,     0.67367,     0.67467,     0.67568,     0.67668,     0.67768,     0.67868,     0.67968,     0.68068,     0.68168,     0.68268,     0.68368,     0.68468,     0.68569,     0.68669,     0.68769,     0.68869,     0.68969,     0.69069,     0.69169,     0.69269,     0.69369,     0.69469,      0.6957,\n",
              "            0.6967,      0.6977,      0.6987,      0.6997,      0.7007,      0.7017,      0.7027,      0.7037,      0.7047,     0.70571,     0.70671,     0.70771,     0.70871,     0.70971,     0.71071,     0.71171,     0.71271,     0.71371,     0.71471,     0.71572,     0.71672,     0.71772,     0.71872,     0.71972,\n",
              "           0.72072,     0.72172,     0.72272,     0.72372,     0.72472,     0.72573,     0.72673,     0.72773,     0.72873,     0.72973,     0.73073,     0.73173,     0.73273,     0.73373,     0.73473,     0.73574,     0.73674,     0.73774,     0.73874,     0.73974,     0.74074,     0.74174,     0.74274,     0.74374,\n",
              "           0.74474,     0.74575,     0.74675,     0.74775,     0.74875,     0.74975,     0.75075,     0.75175,     0.75275,     0.75375,     0.75475,     0.75576,     0.75676,     0.75776,     0.75876,     0.75976,     0.76076,     0.76176,     0.76276,     0.76376,     0.76476,     0.76577,     0.76677,     0.76777,\n",
              "           0.76877,     0.76977,     0.77077,     0.77177,     0.77277,     0.77377,     0.77477,     0.77578,     0.77678,     0.77778,     0.77878,     0.77978,     0.78078,     0.78178,     0.78278,     0.78378,     0.78478,     0.78579,     0.78679,     0.78779,     0.78879,     0.78979,     0.79079,     0.79179,\n",
              "           0.79279,     0.79379,     0.79479,      0.7958,      0.7968,      0.7978,      0.7988,      0.7998,      0.8008,      0.8018,      0.8028,      0.8038,      0.8048,     0.80581,     0.80681,     0.80781,     0.80881,     0.80981,     0.81081,     0.81181,     0.81281,     0.81381,     0.81481,     0.81582,\n",
              "           0.81682,     0.81782,     0.81882,     0.81982,     0.82082,     0.82182,     0.82282,     0.82382,     0.82482,     0.82583,     0.82683,     0.82783,     0.82883,     0.82983,     0.83083,     0.83183,     0.83283,     0.83383,     0.83483,     0.83584,     0.83684,     0.83784,     0.83884,     0.83984,\n",
              "           0.84084,     0.84184,     0.84284,     0.84384,     0.84484,     0.84585,     0.84685,     0.84785,     0.84885,     0.84985,     0.85085,     0.85185,     0.85285,     0.85385,     0.85485,     0.85586,     0.85686,     0.85786,     0.85886,     0.85986,     0.86086,     0.86186,     0.86286,     0.86386,\n",
              "           0.86486,     0.86587,     0.86687,     0.86787,     0.86887,     0.86987,     0.87087,     0.87187,     0.87287,     0.87387,     0.87487,     0.87588,     0.87688,     0.87788,     0.87888,     0.87988,     0.88088,     0.88188,     0.88288,     0.88388,     0.88488,     0.88589,     0.88689,     0.88789,\n",
              "           0.88889,     0.88989,     0.89089,     0.89189,     0.89289,     0.89389,     0.89489,      0.8959,      0.8969,      0.8979,      0.8989,      0.8999,      0.9009,      0.9019,      0.9029,      0.9039,      0.9049,     0.90591,     0.90691,     0.90791,     0.90891,     0.90991,     0.91091,     0.91191,\n",
              "           0.91291,     0.91391,     0.91491,     0.91592,     0.91692,     0.91792,     0.91892,     0.91992,     0.92092,     0.92192,     0.92292,     0.92392,     0.92492,     0.92593,     0.92693,     0.92793,     0.92893,     0.92993,     0.93093,     0.93193,     0.93293,     0.93393,     0.93493,     0.93594,\n",
              "           0.93694,     0.93794,     0.93894,     0.93994,     0.94094,     0.94194,     0.94294,     0.94394,     0.94494,     0.94595,     0.94695,     0.94795,     0.94895,     0.94995,     0.95095,     0.95195,     0.95295,     0.95395,     0.95495,     0.95596,     0.95696,     0.95796,     0.95896,     0.95996,\n",
              "           0.96096,     0.96196,     0.96296,     0.96396,     0.96496,     0.96597,     0.96697,     0.96797,     0.96897,     0.96997,     0.97097,     0.97197,     0.97297,     0.97397,     0.97497,     0.97598,     0.97698,     0.97798,     0.97898,     0.97998,     0.98098,     0.98198,     0.98298,     0.98398,\n",
              "           0.98498,     0.98599,     0.98699,     0.98799,     0.98899,     0.98999,     0.99099,     0.99199,     0.99299,     0.99399,     0.99499,       0.996,       0.997,       0.998,       0.999,           1]), array([[    0.83766,     0.83766,     0.83117,     0.83005,     0.82603,     0.82491,     0.82312,     0.82178,     0.82111,     0.81977,     0.81798,     0.81731,     0.81619,     0.81552,     0.81485,     0.81373,     0.81351,     0.81261,     0.81216,     0.81105,      0.8106,      0.8106,     0.81038,\n",
              "            0.81015,      0.8097,      0.8097,     0.80926,     0.80903,     0.80903,     0.80836,     0.80725,     0.80657,     0.80613,     0.80568,     0.80479,     0.80434,     0.80411,     0.80411,     0.80344,     0.80344,       0.803,     0.80255,      0.8021,     0.80188,     0.80165,     0.80143,\n",
              "            0.80076,     0.80054,     0.80009,     0.79964,     0.79964,     0.79942,     0.79875,     0.79785,     0.79763,     0.79741,     0.79718,     0.79674,     0.79651,     0.79629,     0.79584,     0.79517,     0.79517,     0.79495,      0.7945,      0.7945,     0.79428,     0.79338,     0.79293,\n",
              "            0.79249,     0.79226,     0.79182,     0.79182,     0.79137,     0.79114,     0.79114,     0.79114,      0.7907,     0.79025,     0.79025,     0.79025,     0.79025,     0.79025,      0.7898,      0.7898,     0.78936,     0.78936,     0.78936,     0.78936,     0.78936,     0.78913,     0.78913,\n",
              "            0.78869,     0.78846,     0.78801,     0.78779,     0.78757,     0.78757,     0.78734,     0.78712,     0.78712,     0.78667,     0.78645,       0.786,     0.78578,     0.78511,     0.78466,     0.78444,     0.78421,     0.78402,     0.78399,     0.78354,     0.78354,     0.78354,     0.78332,\n",
              "            0.78332,     0.78309,     0.78309,     0.78287,     0.78287,     0.78265,     0.78265,     0.78242,     0.78242,      0.7822,     0.78175,     0.78153,     0.78153,     0.78108,     0.78041,     0.78019,     0.78019,     0.77996,     0.77952,     0.77875,     0.77862,     0.77818,     0.77818,\n",
              "            0.77777,     0.77773,     0.77728,     0.77683,     0.77661,     0.77618,     0.77594,     0.77572,      0.7757,     0.77504,     0.77482,      0.7746,     0.77415,     0.77415,     0.77409,     0.77326,     0.77326,     0.77258,     0.77214,     0.77212,     0.77191,     0.77169,     0.77147,\n",
              "            0.77102,     0.77057,     0.77013,     0.76982,     0.76968,     0.76945,     0.76945,     0.76901,     0.76866,     0.76834,     0.76767,     0.76744,     0.76699,     0.76699,     0.76655,     0.76588,     0.76521,     0.76521,     0.76476,     0.76431,     0.76409,     0.76409,     0.76397,\n",
              "            0.76386,     0.76364,     0.76364,     0.76342,     0.76297,     0.76297,     0.76297,     0.76297,     0.76275,     0.76252,     0.76252,     0.76252,     0.76208,     0.76208,     0.76163,     0.76123,     0.76118,     0.76118,     0.76118,     0.76093,     0.76051,     0.76019,     0.76006,\n",
              "            0.75984,     0.75962,     0.75939,     0.75917,     0.75902,      0.7585,     0.75827,     0.75805,     0.75805,     0.75805,     0.75785,      0.7576,     0.75716,     0.75716,     0.75716,     0.75671,     0.75671,     0.75626,     0.75581,     0.75559,     0.75559,     0.75534,      0.7547,\n",
              "            0.75425,     0.75403,      0.7538,     0.75358,     0.75313,     0.75313,     0.75279,     0.75246,     0.75191,     0.75161,     0.75112,     0.75112,     0.75089,      0.7507,     0.75045,        0.75,        0.75,     0.74955,     0.74892,     0.74888,     0.74843,     0.74843,     0.74821,\n",
              "            0.74821,     0.74821,     0.74799,     0.74772,     0.74674,     0.74665,     0.74591,     0.74553,     0.74552,      0.7453,      0.7453,      0.7453,     0.74508,     0.74496,     0.74463,     0.74419,     0.74374,     0.74352,     0.74329,     0.74329,     0.74329,     0.74329,     0.74262,\n",
              "            0.74262,      0.7424,     0.74217,      0.7415,     0.74128,     0.74128,     0.74104,     0.74051,     0.74025,     0.73999,     0.73949,     0.73885,     0.73837,     0.73815,     0.73815,     0.73784,      0.7377,     0.73748,     0.73658,     0.73636,     0.73624,     0.73614,     0.73591,\n",
              "            0.73502,     0.73502,     0.73502,     0.73502,     0.73456,     0.73437,     0.73384,     0.73368,     0.73325,     0.73278,     0.73278,     0.73278,     0.73256,     0.73256,     0.73256,     0.73211,     0.73211,     0.73211,     0.73168,     0.73123,     0.73077,     0.73077,     0.73055,\n",
              "            0.73016,     0.72987,     0.72943,     0.72898,     0.72889,     0.72853,     0.72837,      0.7272,     0.72674,     0.72652,     0.72594,     0.72585,     0.72563,     0.72501,     0.72496,     0.72447,     0.72422,     0.72373,     0.72294,     0.72272,     0.72272,     0.72227,     0.72205,\n",
              "            0.72205,     0.72187,     0.72147,       0.721,     0.72048,     0.71959,     0.71936,     0.71887,     0.71847,     0.71847,     0.71847,     0.71825,     0.71825,     0.71804,     0.71758,     0.71735,     0.71707,     0.71668,     0.71586,     0.71556,     0.71556,     0.71497,     0.71447,\n",
              "            0.71445,     0.71401,       0.714,     0.71377,     0.71303,     0.71243,     0.71199,      0.7117,     0.71109,     0.71109,     0.71087,     0.71087,     0.71064,     0.71013,     0.70975,     0.70975,       0.709,     0.70863,     0.70863,     0.70863,     0.70854,     0.70841,     0.70751,\n",
              "            0.70728,     0.70707,      0.7066,     0.70595,     0.70572,     0.70563,     0.70508,      0.7044,     0.70394,     0.70371,     0.70371,     0.70313,     0.70259,     0.70192,      0.7017,      0.7017,     0.70148,     0.70121,     0.70103,     0.70081,     0.70036,     0.70013,     0.70013,\n",
              "             0.6998,     0.69932,     0.69879,     0.69879,     0.69857,     0.69857,     0.69857,     0.69835,     0.69816,      0.6979,     0.69767,     0.69745,       0.697,     0.69651,     0.69611,     0.69589,     0.69589,     0.69521,     0.69515,     0.69432,     0.69387,     0.69343,     0.69328,\n",
              "             0.6926,     0.69253,     0.69214,     0.69164,     0.69164,     0.69141,     0.69141,     0.69119,     0.69097,     0.69097,     0.69052,     0.69052,     0.69007,     0.68917,     0.68872,     0.68828,     0.68828,     0.68825,     0.68797,     0.68774,     0.68751,     0.68684,     0.68649,\n",
              "            0.68582,      0.6856,     0.68515,     0.68493,     0.68493,     0.68493,     0.68426,     0.68388,     0.68336,     0.68336,     0.68269,     0.68269,     0.68269,     0.68269,     0.68225,     0.68182,      0.6818,     0.68136,     0.68113,      0.6809,     0.68001,     0.67989,     0.67977,\n",
              "            0.67954,     0.67867,     0.67841,     0.67796,      0.6771,     0.67688,     0.67643,     0.67621,      0.6757,     0.67509,     0.67442,     0.67442,     0.67388,      0.6733,      0.6733,     0.67308,     0.67285,     0.67229,     0.67196,     0.67161,     0.67151,     0.67129,     0.67129,\n",
              "            0.67084,     0.67039,     0.67017,     0.66972,      0.6695,     0.66928,     0.66887,     0.66842,     0.66796,     0.66793,     0.66771,     0.66683,      0.6666,     0.66659,     0.66614,     0.66614,     0.66546,     0.66501,     0.66433,     0.66343,     0.66234,     0.66212,      0.6619,\n",
              "            0.66162,     0.66072,     0.66049,     0.65966,     0.65958,     0.65899,     0.65868,     0.65845,      0.6571,      0.6562,     0.65608,     0.65552,     0.65507,     0.65439,     0.65349,      0.6534,     0.65273,     0.65236,     0.65228,     0.65212,     0.65144,     0.65099,     0.65072,\n",
              "            0.65009,      0.6496,     0.64873,     0.64739,     0.64693,     0.64624,      0.6458,     0.64502,     0.64412,     0.64401,     0.64343,     0.64253,     0.64244,     0.64222,     0.64132,      0.6411,     0.64065,     0.64021,     0.63981,     0.63976,     0.63931,     0.63912,     0.63909,\n",
              "            0.63867,     0.63752,     0.63663,     0.63597,     0.63506,     0.63416,     0.63393,     0.63327,     0.63305,     0.63238,     0.63148,     0.63104,     0.63044,     0.62992,     0.62992,     0.62885,     0.62858,     0.62817,     0.62768,     0.62704,     0.62614,       0.625,      0.6249,\n",
              "            0.62455,       0.624,     0.62276,     0.62264,     0.62197,     0.62107,     0.62084,     0.62016,     0.61926,     0.61735,     0.61713,     0.61628,     0.61555,      0.6151,     0.61487,     0.61427,     0.61382,     0.61306,      0.6127,     0.61204,     0.61181,     0.61114,     0.60957,\n",
              "            0.60889,     0.60866,     0.60776,     0.60711,      0.6063,      0.6054,     0.60465,     0.60404,     0.60376,     0.60336,     0.60291,      0.6019,     0.60174,      0.6004,     0.60009,     0.59973,     0.59928,     0.59773,     0.59727,     0.59704,     0.59571,     0.59547,     0.59455,\n",
              "              0.594,     0.59355,     0.59243,     0.59034,     0.58951,      0.5876,     0.58737,     0.58714,     0.58676,     0.58527,     0.58456,     0.58343,     0.58253,     0.58208,     0.58095,     0.57972,     0.57949,     0.57904,     0.57826,     0.57804,     0.57802,     0.57689,     0.57513,\n",
              "            0.57513,     0.57469,     0.57385,     0.57284,     0.57149,     0.57104,     0.56984,      0.5689,     0.56845,       0.568,     0.56699,     0.56609,     0.56474,     0.56373,     0.56283,     0.56194,     0.56149,     0.56136,      0.5606,      0.5597,     0.55765,      0.5563,      0.5558,\n",
              "            0.55551,     0.55438,     0.55393,     0.55292,     0.55224,     0.55165,     0.55143,     0.55062,     0.55021,     0.54998,      0.5483,     0.54762,     0.54648,     0.54548,     0.54495,     0.54357,     0.54334,     0.54262,      0.5421,     0.54182,     0.54109,     0.53996,     0.53944,\n",
              "            0.53805,     0.53734,     0.53667,     0.53623,     0.53578,     0.53444,     0.53254,     0.53186,     0.52906,     0.52814,     0.52728,     0.52661,     0.52434,      0.5234,     0.52154,     0.52052,      0.5194,     0.51911,     0.51861,     0.51744,     0.51639,     0.51568,     0.51501,\n",
              "            0.51355,     0.51143,     0.51029,     0.50861,     0.50671,     0.50624,     0.50502,     0.50434,     0.50221,     0.50067,      0.5003,     0.49794,       0.497,      0.4962,     0.49457,     0.49361,     0.49244,     0.49031,     0.48933,     0.48772,     0.48505,     0.48458,     0.48357,\n",
              "            0.48189,     0.48009,     0.47819,     0.47628,     0.47536,     0.47403,     0.47355,     0.47279,     0.47022,     0.46837,     0.46685,     0.46522,     0.46382,     0.46214,     0.46131,     0.45967,      0.4589,     0.45731,     0.45485,     0.45416,     0.45148,     0.44856,     0.44688,\n",
              "            0.44518,     0.44374,     0.44091,      0.4397,     0.43798,     0.43627,     0.43483,     0.43387,     0.43123,     0.42983,     0.42942,     0.42825,     0.42627,     0.42422,     0.42244,     0.42074,     0.41929,     0.41671,     0.41413,     0.41189,     0.41119,     0.40895,     0.40765,\n",
              "            0.40535,     0.40157,     0.40085,     0.39816,     0.39652,     0.39411,     0.39238,      0.3914,     0.38804,     0.38529,     0.38399,     0.38197,     0.37992,     0.37881,     0.37679,     0.37432,     0.37297,     0.37094,      0.3687,     0.36793,     0.36465,     0.36262,     0.35997,\n",
              "            0.35925,       0.357,     0.35319,     0.35072,     0.34932,     0.34756,     0.34509,     0.34218,      0.3397,       0.338,     0.33633,     0.33319,     0.32982,     0.32601,     0.32197,     0.31928,     0.31524,     0.31168,      0.3103,     0.30783,     0.30513,     0.30244,     0.29907,\n",
              "            0.29548,     0.29122,     0.28674,     0.28494,      0.2818,     0.27821,     0.27328,     0.27081,     0.26811,     0.25916,     0.25602,      0.2531,      0.2504,     0.24726,     0.24323,     0.24076,     0.23739,     0.23089,     0.22775,     0.22372,     0.22035,     0.21587,     0.21205,\n",
              "            0.20869,     0.20577,     0.20039,     0.19658,     0.19432,     0.18851,     0.18335,     0.17775,      0.1755,     0.17169,     0.16609,     0.16272,     0.15802,     0.15488,     0.15017,     0.14658,     0.14053,     0.13627,      0.1338,     0.12775,     0.12528,     0.12124,     0.11766,\n",
              "            0.11272,     0.10846,     0.10331,    0.097933,    0.093002,      0.0874,    0.084035,    0.079999,    0.075963,    0.073939,    0.069679,    0.067432,    0.064066,    0.058465,     0.05331,    0.051734,    0.048145,    0.043662,    0.040743,    0.038943,    0.037367,    0.035343,    0.031754,\n",
              "           0.028389,    0.026812,    0.025236,    0.023436,    0.020545,    0.019388,    0.017588,    0.016012,    0.014882,    0.013529,    0.011729,      0.0106,   0.0096944,   0.0088666,   0.0084138,   0.0077374,   0.0072846,   0.0069551,   0.0058258,   0.0049202,   0.0034608,   0.0028853,   0.0022314,\n",
              "          0.0021659,   0.0021005,    0.002035,   0.0017695,   0.0016549,   0.0013083,   0.0011555,   0.0010027,  0.00087218,  0.00079578,  0.00071938,  0.00061511,   0.0004623,  0.00041544,  0.00038018,  0.00034492,  0.00030965,  0.00027439,  0.00023913,           0,           0,           0,           0,\n",
              "                  0,           0,           0,           0,           0,           0,           0,           0,           0,           0,           0,           0,           0,           0,           0,           0,           0,           0,           0,           0,           0,           0,           0,\n",
              "                  0,           0,           0,           0,           0,           0,           0,           0,           0,           0,           0]]), 'Confidence', 'Recall']]\n",
              "fitness: 1.1280358391117262\n",
              "keys: ['metrics/precision(B)', 'metrics/recall(B)', 'metrics/mAP50(B)', 'metrics/mAP50-95(B)', 'metrics/precision(P)', 'metrics/recall(P)', 'metrics/mAP50(P)', 'metrics/mAP50-95(P)']\n",
              "maps: array([     1.0734])\n",
              "names: {0: 'person'}\n",
              "plot: True\n",
              "pose: ultralytics.utils.metrics.Metric object\n",
              "results_dict: {'metrics/precision(B)': 0.8533863525155941, 'metrics/recall(B)': 0.769901610017889, 'metrics/mAP50(B)': 0.8765406535157361, 'metrics/mAP50-95(B)': 0.6431336659207061, 'metrics/precision(P)': 0.8236378914931081, 'metrics/recall(P)': 0.6809033989266547, 'metrics/mAP50(P)': 0.7431372184928786, 'metrics/mAP50-95(P)': 0.4302752806469214, 'fitness': 1.1280358391117262}\n",
              "save_dir: PosixPath('runs/pose/train')\n",
              "seg: ultralytics.utils.metrics.Metric object\n",
              "speed: {'preprocess': 0.116119751336038, 'inference': 0.7172507376531895, 'loss': 0.0003804646141397532, 'postprocess': 1.0413492383679024}\n",
              "task: 'pose'"
            ]
          },
          "metadata": {},
          "execution_count": 3
        }
      ]
    },
    {
      "cell_type": "code",
      "source": [
        "# !cp -r /content/runs '/content/gdrive/My Drive/'\n",
        "import shutil\n",
        "shutil.copytree('/content/runs', '/content/gdrive/My Drive/runs')"
      ],
      "metadata": {
        "colab": {
          "base_uri": "https://localhost:8080/",
          "height": 35
        },
        "id": "aJcn3WzZmI9J",
        "outputId": "0babaaea-4c75-48db-ff3e-5588e376abb3"
      },
      "execution_count": 4,
      "outputs": [
        {
          "output_type": "execute_result",
          "data": {
            "text/plain": [
              "'/content/gdrive/My Drive/runs'"
            ],
            "application/vnd.google.colaboratory.intrinsic+json": {
              "type": "string"
            }
          },
          "metadata": {},
          "execution_count": 4
        }
      ]
    }
  ]
}