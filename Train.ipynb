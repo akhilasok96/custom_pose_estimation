{
  "cells": [
    {
      "cell_type": "code",
      "execution_count": null,
      "metadata": {
        "colab": {
          "base_uri": "https://localhost:8080/"
        },
        "id": "CMPpVTDr8y_P",
        "outputId": "d00b21a4-1334-4e99-ddac-952f9dbba88b"
      },
      "outputs": [
        {
          "name": "stdout",
          "output_type": "stream",
          "text": [
            "Drive already mounted at /content/gdrive; to attempt to forcibly remount, call drive.mount(\"/content/gdrive\", force_remount=True).\n"
          ]
        }
      ],
      "source": [
        "from google.colab import drive\n",
        "\n",
        "drive.mount('/content/gdrive')"
      ]
    },
    {
      "cell_type": "code",
      "execution_count": null,
      "metadata": {
        "colab": {
          "base_uri": "https://localhost:8080/"
        },
        "id": "3UdWqYtu9KB_",
        "outputId": "14a84d56-591a-4090-bb45-cfd2f946a336"
      },
      "outputs": [
        {
          "name": "stdout",
          "output_type": "stream",
          "text": [
            "Collecting ultralytics\n",
            "  Downloading ultralytics-8.1.24-py3-none-any.whl (719 kB)\n",
            "\u001b[?25l     \u001b[90m━━━━━━━━━━━━━━━━━━━━━━━━━━━━━━━━━━━━━━━━\u001b[0m \u001b[32m0.0/719.5 kB\u001b[0m \u001b[31m?\u001b[0m eta \u001b[36m-:--:--\u001b[0m\r\u001b[2K     \u001b[91m━━━━\u001b[0m\u001b[91m╸\u001b[0m\u001b[90m━━━━━━━━━━━━━━━━━━━━━━━━━━━━━━━━━━━\u001b[0m \u001b[32m81.9/719.5 kB\u001b[0m \u001b[31m2.3 MB/s\u001b[0m eta \u001b[36m0:00:01\u001b[0m\r\u001b[2K     \u001b[90m━━━━━━━━━━━━━━━━━━━━━━━━━━━━━━━━━━━━━━━━\u001b[0m \u001b[32m719.5/719.5 kB\u001b[0m \u001b[31m12.6 MB/s\u001b[0m eta \u001b[36m0:00:00\u001b[0m\n",
            "\u001b[?25hRequirement already satisfied: matplotlib>=3.3.0 in /usr/local/lib/python3.10/dist-packages (from ultralytics) (3.7.1)\n",
            "Requirement already satisfied: opencv-python>=4.6.0 in /usr/local/lib/python3.10/dist-packages (from ultralytics) (4.8.0.76)\n",
            "Requirement already satisfied: pillow>=7.1.2 in /usr/local/lib/python3.10/dist-packages (from ultralytics) (9.4.0)\n",
            "Requirement already satisfied: pyyaml>=5.3.1 in /usr/local/lib/python3.10/dist-packages (from ultralytics) (6.0.1)\n",
            "Requirement already satisfied: requests>=2.23.0 in /usr/local/lib/python3.10/dist-packages (from ultralytics) (2.31.0)\n",
            "Requirement already satisfied: scipy>=1.4.1 in /usr/local/lib/python3.10/dist-packages (from ultralytics) (1.11.4)\n",
            "Requirement already satisfied: torch>=1.8.0 in /usr/local/lib/python3.10/dist-packages (from ultralytics) (2.1.0+cu121)\n",
            "Requirement already satisfied: torchvision>=0.9.0 in /usr/local/lib/python3.10/dist-packages (from ultralytics) (0.16.0+cu121)\n",
            "Requirement already satisfied: tqdm>=4.64.0 in /usr/local/lib/python3.10/dist-packages (from ultralytics) (4.66.2)\n",
            "Requirement already satisfied: psutil in /usr/local/lib/python3.10/dist-packages (from ultralytics) (5.9.5)\n",
            "Requirement already satisfied: py-cpuinfo in /usr/local/lib/python3.10/dist-packages (from ultralytics) (9.0.0)\n",
            "Collecting thop>=0.1.1 (from ultralytics)\n",
            "  Downloading thop-0.1.1.post2209072238-py3-none-any.whl (15 kB)\n",
            "Requirement already satisfied: pandas>=1.1.4 in /usr/local/lib/python3.10/dist-packages (from ultralytics) (1.5.3)\n",
            "Requirement already satisfied: seaborn>=0.11.0 in /usr/local/lib/python3.10/dist-packages (from ultralytics) (0.13.1)\n",
            "Requirement already satisfied: contourpy>=1.0.1 in /usr/local/lib/python3.10/dist-packages (from matplotlib>=3.3.0->ultralytics) (1.2.0)\n",
            "Requirement already satisfied: cycler>=0.10 in /usr/local/lib/python3.10/dist-packages (from matplotlib>=3.3.0->ultralytics) (0.12.1)\n",
            "Requirement already satisfied: fonttools>=4.22.0 in /usr/local/lib/python3.10/dist-packages (from matplotlib>=3.3.0->ultralytics) (4.49.0)\n",
            "Requirement already satisfied: kiwisolver>=1.0.1 in /usr/local/lib/python3.10/dist-packages (from matplotlib>=3.3.0->ultralytics) (1.4.5)\n",
            "Requirement already satisfied: numpy>=1.20 in /usr/local/lib/python3.10/dist-packages (from matplotlib>=3.3.0->ultralytics) (1.25.2)\n",
            "Requirement already satisfied: packaging>=20.0 in /usr/local/lib/python3.10/dist-packages (from matplotlib>=3.3.0->ultralytics) (23.2)\n",
            "Requirement already satisfied: pyparsing>=2.3.1 in /usr/local/lib/python3.10/dist-packages (from matplotlib>=3.3.0->ultralytics) (3.1.1)\n",
            "Requirement already satisfied: python-dateutil>=2.7 in /usr/local/lib/python3.10/dist-packages (from matplotlib>=3.3.0->ultralytics) (2.8.2)\n",
            "Requirement already satisfied: pytz>=2020.1 in /usr/local/lib/python3.10/dist-packages (from pandas>=1.1.4->ultralytics) (2023.4)\n",
            "Requirement already satisfied: charset-normalizer<4,>=2 in /usr/local/lib/python3.10/dist-packages (from requests>=2.23.0->ultralytics) (3.3.2)\n",
            "Requirement already satisfied: idna<4,>=2.5 in /usr/local/lib/python3.10/dist-packages (from requests>=2.23.0->ultralytics) (3.6)\n",
            "Requirement already satisfied: urllib3<3,>=1.21.1 in /usr/local/lib/python3.10/dist-packages (from requests>=2.23.0->ultralytics) (2.0.7)\n",
            "Requirement already satisfied: certifi>=2017.4.17 in /usr/local/lib/python3.10/dist-packages (from requests>=2.23.0->ultralytics) (2024.2.2)\n",
            "Requirement already satisfied: filelock in /usr/local/lib/python3.10/dist-packages (from torch>=1.8.0->ultralytics) (3.13.1)\n",
            "Requirement already satisfied: typing-extensions in /usr/local/lib/python3.10/dist-packages (from torch>=1.8.0->ultralytics) (4.10.0)\n",
            "Requirement already satisfied: sympy in /usr/local/lib/python3.10/dist-packages (from torch>=1.8.0->ultralytics) (1.12)\n",
            "Requirement already satisfied: networkx in /usr/local/lib/python3.10/dist-packages (from torch>=1.8.0->ultralytics) (3.2.1)\n",
            "Requirement already satisfied: jinja2 in /usr/local/lib/python3.10/dist-packages (from torch>=1.8.0->ultralytics) (3.1.3)\n",
            "Requirement already satisfied: fsspec in /usr/local/lib/python3.10/dist-packages (from torch>=1.8.0->ultralytics) (2023.6.0)\n",
            "Requirement already satisfied: triton==2.1.0 in /usr/local/lib/python3.10/dist-packages (from torch>=1.8.0->ultralytics) (2.1.0)\n",
            "Requirement already satisfied: six>=1.5 in /usr/local/lib/python3.10/dist-packages (from python-dateutil>=2.7->matplotlib>=3.3.0->ultralytics) (1.16.0)\n",
            "Requirement already satisfied: MarkupSafe>=2.0 in /usr/local/lib/python3.10/dist-packages (from jinja2->torch>=1.8.0->ultralytics) (2.1.5)\n",
            "Requirement already satisfied: mpmath>=0.19 in /usr/local/lib/python3.10/dist-packages (from sympy->torch>=1.8.0->ultralytics) (1.3.0)\n",
            "Installing collected packages: thop, ultralytics\n",
            "Successfully installed thop-0.1.1.post2209072238 ultralytics-8.1.24\n"
          ]
        }
      ],
      "source": [
        "!pip install ultralytics"
      ]
    },
    {
      "cell_type": "code",
      "execution_count": null,
      "metadata": {
        "colab": {
          "base_uri": "https://localhost:8080/"
        },
        "id": "ukytGBl4mDiD",
        "outputId": "44500d71-7569-4b85-aa60-f7c41a14e25f"
      },
      "outputs": [
        {
          "name": "stdout",
          "output_type": "stream",
          "text": [
            "'Colab Notebooks'   data   Train.ipynb\n"
          ]
        }
      ],
      "source": [
        "!ls '/content/gdrive/My Drive/data'"
      ]
    },
    {
      "cell_type": "code",
      "execution_count": null,
      "metadata": {
        "colab": {
          "base_uri": "https://localhost:8080/"
        },
        "id": "zy7BcAyj9LvW",
        "outputId": "06877ead-35ad-43e6-88ba-a874feeef581"
      },
      "outputs": [
        {
          "name": "stdout",
          "output_type": "stream",
          "text": [
            "Downloading https://github.com/ultralytics/assets/releases/download/v8.1.0/yolov8n-pose.pt to 'yolov8n-pose.pt'...\n"
          ]
        },
        {
          "name": "stderr",
          "output_type": "stream",
          "text": [
            "100%|██████████| 6.51M/6.51M [00:00<00:00, 322MB/s]\n"
          ]
        },
        {
          "name": "stdout",
          "output_type": "stream",
          "text": [
            "Ultralytics YOLOv8.1.24 🚀 Python-3.10.12 torch-2.1.0+cu121 CUDA:0 (Tesla T4, 15102MiB)\n",
            "\u001b[34m\u001b[1mengine/trainer: \u001b[0mtask=pose, mode=train, model=yolov8n-pose.pt, data=/content/gdrive/My Drive/config.yaml, epochs=100, time=None, patience=100, batch=16, imgsz=640, save=True, save_period=-1, cache=False, device=None, workers=8, project=None, name=train, exist_ok=False, pretrained=True, optimizer=auto, verbose=True, seed=0, deterministic=True, single_cls=False, rect=False, cos_lr=False, close_mosaic=10, resume=False, amp=True, fraction=1.0, profile=False, freeze=None, multi_scale=False, overlap_mask=True, mask_ratio=4, dropout=0.0, val=True, split=val, save_json=False, save_hybrid=False, conf=None, iou=0.7, max_det=300, half=False, dnn=False, plots=True, source=None, vid_stride=1, stream_buffer=False, visualize=False, augment=False, agnostic_nms=False, classes=None, retina_masks=False, embed=None, show=False, save_frames=False, save_txt=False, save_conf=False, save_crop=False, show_labels=True, show_conf=True, show_boxes=True, line_width=None, format=torchscript, keras=False, optimize=False, int8=False, dynamic=False, simplify=False, opset=None, workspace=4, nms=False, lr0=0.01, lrf=0.01, momentum=0.937, weight_decay=0.0005, warmup_epochs=3.0, warmup_momentum=0.8, warmup_bias_lr=0.1, box=7.5, cls=0.5, dfl=1.5, pose=12.0, kobj=1.0, label_smoothing=0.0, nbs=64, hsv_h=0.015, hsv_s=0.7, hsv_v=0.4, degrees=0.0, translate=0.1, scale=0.5, shear=0.0, perspective=0.0, flipud=0.0, fliplr=0.5, mosaic=1.0, mixup=0.0, copy_paste=0.0, auto_augment=randaugment, erasing=0.4, crop_fraction=1.0, cfg=None, tracker=botsort.yaml, save_dir=runs/pose/train\n",
            "Downloading https://ultralytics.com/assets/Arial.ttf to '/root/.config/Ultralytics/Arial.ttf'...\n"
          ]
        },
        {
          "name": "stderr",
          "output_type": "stream",
          "text": [
            "100%|██████████| 755k/755k [00:00<00:00, 114MB/s]\n"
          ]
        },
        {
          "name": "stdout",
          "output_type": "stream",
          "text": [
            "\n",
            "                   from  n    params  module                                       arguments                     \n",
            "  0                  -1  1       464  ultralytics.nn.modules.conv.Conv             [3, 16, 3, 2]                 \n",
            "  1                  -1  1      4672  ultralytics.nn.modules.conv.Conv             [16, 32, 3, 2]                \n",
            "  2                  -1  1      7360  ultralytics.nn.modules.block.C2f             [32, 32, 1, True]             \n",
            "  3                  -1  1     18560  ultralytics.nn.modules.conv.Conv             [32, 64, 3, 2]                \n",
            "  4                  -1  2     49664  ultralytics.nn.modules.block.C2f             [64, 64, 2, True]             \n",
            "  5                  -1  1     73984  ultralytics.nn.modules.conv.Conv             [64, 128, 3, 2]               \n",
            "  6                  -1  2    197632  ultralytics.nn.modules.block.C2f             [128, 128, 2, True]           \n",
            "  7                  -1  1    295424  ultralytics.nn.modules.conv.Conv             [128, 256, 3, 2]              \n",
            "  8                  -1  1    460288  ultralytics.nn.modules.block.C2f             [256, 256, 1, True]           \n",
            "  9                  -1  1    164608  ultralytics.nn.modules.block.SPPF            [256, 256, 5]                 \n",
            " 10                  -1  1         0  torch.nn.modules.upsampling.Upsample         [None, 2, 'nearest']          \n",
            " 11             [-1, 6]  1         0  ultralytics.nn.modules.conv.Concat           [1]                           \n",
            " 12                  -1  1    148224  ultralytics.nn.modules.block.C2f             [384, 128, 1]                 \n",
            " 13                  -1  1         0  torch.nn.modules.upsampling.Upsample         [None, 2, 'nearest']          \n",
            " 14             [-1, 4]  1         0  ultralytics.nn.modules.conv.Concat           [1]                           \n",
            " 15                  -1  1     37248  ultralytics.nn.modules.block.C2f             [192, 64, 1]                  \n",
            " 16                  -1  1     36992  ultralytics.nn.modules.conv.Conv             [64, 64, 3, 2]                \n",
            " 17            [-1, 12]  1         0  ultralytics.nn.modules.conv.Concat           [1]                           \n",
            " 18                  -1  1    123648  ultralytics.nn.modules.block.C2f             [192, 128, 1]                 \n",
            " 19                  -1  1    147712  ultralytics.nn.modules.conv.Conv             [128, 128, 3, 2]              \n",
            " 20             [-1, 9]  1         0  ultralytics.nn.modules.conv.Concat           [1]                           \n",
            " 21                  -1  1    493056  ultralytics.nn.modules.block.C2f             [384, 256, 1]                 \n",
            " 22        [15, 18, 21]  1   1035934  ultralytics.nn.modules.head.Pose             [1, [17, 3], [64, 128, 256]]  \n",
            "YOLOv8n-pose summary: 250 layers, 3295470 parameters, 3295454 gradients, 9.3 GFLOPs\n",
            "\n",
            "Transferred 397/397 items from pretrained weights\n",
            "\u001b[34m\u001b[1mTensorBoard: \u001b[0mStart with 'tensorboard --logdir runs/pose/train', view at http://localhost:6006/\n",
            "Freezing layer 'model.22.dfl.conv.weight'\n",
            "\u001b[34m\u001b[1mAMP: \u001b[0mrunning Automatic Mixed Precision (AMP) checks with YOLOv8n...\n",
            "Downloading https://github.com/ultralytics/assets/releases/download/v8.1.0/yolov8n.pt to 'yolov8n.pt'...\n"
          ]
        },
        {
          "name": "stderr",
          "output_type": "stream",
          "text": [
            "100%|██████████| 6.23M/6.23M [00:00<00:00, 188MB/s]\n"
          ]
        },
        {
          "name": "stdout",
          "output_type": "stream",
          "text": [
            "\u001b[34m\u001b[1mAMP: \u001b[0mchecks passed ✅\n"
          ]
        },
        {
          "name": "stderr",
          "output_type": "stream",
          "text": [
            "\u001b[34m\u001b[1mtrain: \u001b[0mScanning /content/gdrive/My Drive/data/labels/train... 1500 images, 0 backgrounds, 0 corrupt: 100%|██████████| 1500/1500 [17:47<00:00,  1.40it/s]\n"
          ]
        },
        {
          "name": "stdout",
          "output_type": "stream",
          "text": [
            "\u001b[34m\u001b[1mtrain: \u001b[0mNew cache created: /content/gdrive/My Drive/data/labels/train.cache\n",
            "\u001b[34m\u001b[1malbumentations: \u001b[0mBlur(p=0.01, blur_limit=(3, 7)), MedianBlur(p=0.01, blur_limit=(3, 7)), ToGray(p=0.01), CLAHE(p=0.01, clip_limit=(1, 4.0), tile_grid_size=(8, 8))\n"
          ]
        },
        {
          "name": "stderr",
          "output_type": "stream",
          "text": [
            "\u001b[34m\u001b[1mval: \u001b[0mScanning /content/gdrive/My Drive/data/labels/val... 300 images, 0 backgrounds, 0 corrupt: 100%|██████████| 300/300 [03:35<00:00,  1.39it/s]"
          ]
        },
        {
          "name": "stdout",
          "output_type": "stream",
          "text": [
            "\u001b[34m\u001b[1mval: \u001b[0mNew cache created: /content/gdrive/My Drive/data/labels/val.cache\n"
          ]
        },
        {
          "name": "stderr",
          "output_type": "stream",
          "text": [
            "\n"
          ]
        },
        {
          "name": "stdout",
          "output_type": "stream",
          "text": [
            "Plotting labels to runs/pose/train/labels.jpg... \n",
            "\u001b[34m\u001b[1moptimizer:\u001b[0m 'optimizer=auto' found, ignoring 'lr0=0.01' and 'momentum=0.937' and determining best 'optimizer', 'lr0' and 'momentum' automatically... \n",
            "\u001b[34m\u001b[1moptimizer:\u001b[0m AdamW(lr=0.002, momentum=0.9) with parameter groups 63 weight(decay=0.0), 73 weight(decay=0.0005), 72 bias(decay=0.0)\n",
            "\u001b[34m\u001b[1mTensorBoard: \u001b[0mmodel graph visualization added ✅\n",
            "Image sizes 640 train, 640 val\n",
            "Using 2 dataloader workers\n",
            "Logging results to \u001b[1mruns/pose/train\u001b[0m\n",
            "Starting training for 100 epochs...\n",
            "\n",
            "      Epoch    GPU_mem   box_loss  pose_loss  kobj_loss   cls_loss   dfl_loss  Instances       Size\n"
          ]
        },
        {
          "name": "stderr",
          "output_type": "stream",
          "text": [
            "      1/100       2.7G       1.08      3.818     0.3383     0.9555      1.216         47        640: 100%|██████████| 94/94 [00:51<00:00,  1.83it/s]\n",
            "                 Class     Images  Instances      Box(P          R      mAP50  mAP50-95)     Pose(P          R      mAP50  mAP50-95): 100%|██████████| 10/10 [00:05<00:00,  1.71it/s]"
          ]
        },
        {
          "name": "stdout",
          "output_type": "stream",
          "text": [
            "                   all        300        818      0.702      0.611      0.703      0.456      0.688      0.459      0.504      0.187\n"
          ]
        },
        {
          "name": "stderr",
          "output_type": "stream",
          "text": [
            "\n"
          ]
        },
        {
          "name": "stdout",
          "output_type": "stream",
          "text": [
            "\n",
            "      Epoch    GPU_mem   box_loss  pose_loss  kobj_loss   cls_loss   dfl_loss  Instances       Size\n"
          ]
        },
        {
          "name": "stderr",
          "output_type": "stream",
          "text": [
            "      2/100      2.44G      1.351      5.039     0.4009      1.296      1.389         56        640: 100%|██████████| 94/94 [00:41<00:00,  2.28it/s]\n",
            "                 Class     Images  Instances      Box(P          R      mAP50  mAP50-95)     Pose(P          R      mAP50  mAP50-95): 100%|██████████| 10/10 [00:05<00:00,  1.81it/s]"
          ]
        },
        {
          "name": "stdout",
          "output_type": "stream",
          "text": [
            "                   all        300        818      0.502      0.436      0.427      0.214      0.299       0.23       0.13      0.036\n"
          ]
        },
        {
          "name": "stderr",
          "output_type": "stream",
          "text": [
            "\n"
          ]
        },
        {
          "name": "stdout",
          "output_type": "stream",
          "text": [
            "\n",
            "      Epoch    GPU_mem   box_loss  pose_loss  kobj_loss   cls_loss   dfl_loss  Instances       Size\n"
          ]
        },
        {
          "name": "stderr",
          "output_type": "stream",
          "text": [
            "      3/100      2.48G      1.489      5.689     0.4276      1.457        1.5         67        640: 100%|██████████| 94/94 [00:40<00:00,  2.33it/s]\n",
            "                 Class     Images  Instances      Box(P          R      mAP50  mAP50-95)     Pose(P          R      mAP50  mAP50-95): 100%|██████████| 10/10 [00:06<00:00,  1.61it/s]"
          ]
        },
        {
          "name": "stdout",
          "output_type": "stream",
          "text": [
            "                   all        300        818      0.592      0.458      0.508      0.248      0.429      0.247       0.21     0.0571\n"
          ]
        },
        {
          "name": "stderr",
          "output_type": "stream",
          "text": [
            "\n"
          ]
        },
        {
          "name": "stdout",
          "output_type": "stream",
          "text": [
            "\n",
            "      Epoch    GPU_mem   box_loss  pose_loss  kobj_loss   cls_loss   dfl_loss  Instances       Size\n"
          ]
        },
        {
          "name": "stderr",
          "output_type": "stream",
          "text": [
            "      4/100      2.45G      1.531      5.941     0.4383       1.52       1.51         77        640: 100%|██████████| 94/94 [00:40<00:00,  2.31it/s]\n",
            "                 Class     Images  Instances      Box(P          R      mAP50  mAP50-95)     Pose(P          R      mAP50  mAP50-95): 100%|██████████| 10/10 [00:04<00:00,  2.07it/s]\n"
          ]
        },
        {
          "name": "stdout",
          "output_type": "stream",
          "text": [
            "                   all        300        818      0.572      0.593       0.59        0.3      0.499      0.328      0.292     0.0793\n",
            "\n",
            "      Epoch    GPU_mem   box_loss  pose_loss  kobj_loss   cls_loss   dfl_loss  Instances       Size\n"
          ]
        },
        {
          "name": "stderr",
          "output_type": "stream",
          "text": [
            "      5/100      2.31G      1.516      5.939     0.4404      1.519      1.529         78        640: 100%|██████████| 94/94 [00:40<00:00,  2.30it/s]\n",
            "                 Class     Images  Instances      Box(P          R      mAP50  mAP50-95)     Pose(P          R      mAP50  mAP50-95): 100%|██████████| 10/10 [00:05<00:00,  1.92it/s]"
          ]
        },
        {
          "name": "stdout",
          "output_type": "stream",
          "text": [
            "                   all        300        818      0.596      0.544      0.578      0.307      0.473      0.343      0.308      0.086\n"
          ]
        },
        {
          "name": "stderr",
          "output_type": "stream",
          "text": [
            "\n"
          ]
        },
        {
          "name": "stdout",
          "output_type": "stream",
          "text": [
            "\n",
            "      Epoch    GPU_mem   box_loss  pose_loss  kobj_loss   cls_loss   dfl_loss  Instances       Size\n"
          ]
        },
        {
          "name": "stderr",
          "output_type": "stream",
          "text": [
            "      6/100      2.47G      1.491      5.943     0.4325      1.506      1.513         52        640: 100%|██████████| 94/94 [00:39<00:00,  2.37it/s]\n",
            "                 Class     Images  Instances      Box(P          R      mAP50  mAP50-95)     Pose(P          R      mAP50  mAP50-95): 100%|██████████| 10/10 [00:06<00:00,  1.64it/s]\n"
          ]
        },
        {
          "name": "stdout",
          "output_type": "stream",
          "text": [
            "                   all        300        818      0.687      0.562      0.617      0.332      0.522      0.381       0.33     0.0939\n",
            "\n",
            "      Epoch    GPU_mem   box_loss  pose_loss  kobj_loss   cls_loss   dfl_loss  Instances       Size\n"
          ]
        },
        {
          "name": "stderr",
          "output_type": "stream",
          "text": [
            "      7/100      2.45G      1.434      5.778     0.4274      1.443       1.47         68        640: 100%|██████████| 94/94 [00:41<00:00,  2.28it/s]\n",
            "                 Class     Images  Instances      Box(P          R      mAP50  mAP50-95)     Pose(P          R      mAP50  mAP50-95): 100%|██████████| 10/10 [00:04<00:00,  2.11it/s]"
          ]
        },
        {
          "name": "stdout",
          "output_type": "stream",
          "text": [
            "                   all        300        818      0.727      0.582      0.685      0.395      0.615      0.388      0.402      0.124\n"
          ]
        },
        {
          "name": "stderr",
          "output_type": "stream",
          "text": [
            "\n"
          ]
        },
        {
          "name": "stdout",
          "output_type": "stream",
          "text": [
            "\n",
            "      Epoch    GPU_mem   box_loss  pose_loss  kobj_loss   cls_loss   dfl_loss  Instances       Size\n"
          ]
        },
        {
          "name": "stderr",
          "output_type": "stream",
          "text": [
            "      8/100      2.45G      1.401      5.531     0.4197      1.395      1.436         68        640: 100%|██████████| 94/94 [00:41<00:00,  2.29it/s]\n",
            "                 Class     Images  Instances      Box(P          R      mAP50  mAP50-95)     Pose(P          R      mAP50  mAP50-95): 100%|██████████| 10/10 [00:04<00:00,  2.16it/s]"
          ]
        },
        {
          "name": "stdout",
          "output_type": "stream",
          "text": [
            "                   all        300        818      0.666      0.594      0.654      0.369      0.587      0.357      0.366      0.111\n"
          ]
        },
        {
          "name": "stderr",
          "output_type": "stream",
          "text": [
            "\n"
          ]
        },
        {
          "name": "stdout",
          "output_type": "stream",
          "text": [
            "\n",
            "      Epoch    GPU_mem   box_loss  pose_loss  kobj_loss   cls_loss   dfl_loss  Instances       Size\n"
          ]
        },
        {
          "name": "stderr",
          "output_type": "stream",
          "text": [
            "      9/100      2.42G      1.391      5.498     0.4165      1.384      1.433         52        640: 100%|██████████| 94/94 [00:40<00:00,  2.29it/s]\n",
            "                 Class     Images  Instances      Box(P          R      mAP50  mAP50-95)     Pose(P          R      mAP50  mAP50-95): 100%|██████████| 10/10 [00:06<00:00,  1.65it/s]"
          ]
        },
        {
          "name": "stdout",
          "output_type": "stream",
          "text": [
            "                   all        300        818      0.746      0.601      0.702      0.411      0.553      0.418      0.388      0.129\n"
          ]
        },
        {
          "name": "stderr",
          "output_type": "stream",
          "text": [
            "\n"
          ]
        },
        {
          "name": "stdout",
          "output_type": "stream",
          "text": [
            "\n",
            "      Epoch    GPU_mem   box_loss  pose_loss  kobj_loss   cls_loss   dfl_loss  Instances       Size\n"
          ]
        },
        {
          "name": "stderr",
          "output_type": "stream",
          "text": [
            "     10/100      2.45G      1.375      5.433      0.412      1.363       1.43         52        640: 100%|██████████| 94/94 [00:40<00:00,  2.31it/s]\n",
            "                 Class     Images  Instances      Box(P          R      mAP50  mAP50-95)     Pose(P          R      mAP50  mAP50-95): 100%|██████████| 10/10 [00:04<00:00,  2.15it/s]"
          ]
        },
        {
          "name": "stdout",
          "output_type": "stream",
          "text": [
            "                   all        300        818      0.684      0.611      0.682      0.402      0.488      0.435      0.394      0.123\n"
          ]
        },
        {
          "name": "stderr",
          "output_type": "stream",
          "text": [
            "\n"
          ]
        },
        {
          "name": "stdout",
          "output_type": "stream",
          "text": [
            "\n",
            "      Epoch    GPU_mem   box_loss  pose_loss  kobj_loss   cls_loss   dfl_loss  Instances       Size\n"
          ]
        },
        {
          "name": "stderr",
          "output_type": "stream",
          "text": [
            "     11/100      2.41G      1.362      5.337     0.4119       1.35      1.426         39        640: 100%|██████████| 94/94 [00:41<00:00,  2.29it/s]\n",
            "                 Class     Images  Instances      Box(P          R      mAP50  mAP50-95)     Pose(P          R      mAP50  mAP50-95): 100%|██████████| 10/10 [00:04<00:00,  2.09it/s]"
          ]
        },
        {
          "name": "stdout",
          "output_type": "stream",
          "text": [
            "                   all        300        818        0.7      0.599      0.688      0.397      0.605      0.411      0.408      0.132\n"
          ]
        },
        {
          "name": "stderr",
          "output_type": "stream",
          "text": [
            "\n"
          ]
        },
        {
          "name": "stdout",
          "output_type": "stream",
          "text": [
            "\n",
            "      Epoch    GPU_mem   box_loss  pose_loss  kobj_loss   cls_loss   dfl_loss  Instances       Size\n"
          ]
        },
        {
          "name": "stderr",
          "output_type": "stream",
          "text": [
            "     12/100      2.44G      1.355      5.413     0.4082      1.336      1.409         70        640: 100%|██████████| 94/94 [00:41<00:00,  2.27it/s]\n",
            "                 Class     Images  Instances      Box(P          R      mAP50  mAP50-95)     Pose(P          R      mAP50  mAP50-95): 100%|██████████| 10/10 [00:06<00:00,  1.58it/s]"
          ]
        },
        {
          "name": "stdout",
          "output_type": "stream",
          "text": [
            "                   all        300        818      0.717       0.63      0.706      0.406      0.573      0.467       0.44      0.154\n"
          ]
        },
        {
          "name": "stderr",
          "output_type": "stream",
          "text": [
            "\n"
          ]
        },
        {
          "name": "stdout",
          "output_type": "stream",
          "text": [
            "\n",
            "      Epoch    GPU_mem   box_loss  pose_loss  kobj_loss   cls_loss   dfl_loss  Instances       Size\n"
          ]
        },
        {
          "name": "stderr",
          "output_type": "stream",
          "text": [
            "     13/100      2.41G      1.335      5.307     0.4092      1.288      1.404         64        640: 100%|██████████| 94/94 [00:42<00:00,  2.21it/s]\n",
            "                 Class     Images  Instances      Box(P          R      mAP50  mAP50-95)     Pose(P          R      mAP50  mAP50-95): 100%|██████████| 10/10 [00:04<00:00,  2.11it/s]\n"
          ]
        },
        {
          "name": "stdout",
          "output_type": "stream",
          "text": [
            "                   all        300        818       0.72      0.627       0.71      0.423      0.595      0.441      0.447      0.156\n",
            "\n",
            "      Epoch    GPU_mem   box_loss  pose_loss  kobj_loss   cls_loss   dfl_loss  Instances       Size\n"
          ]
        },
        {
          "name": "stderr",
          "output_type": "stream",
          "text": [
            "     14/100      2.46G      1.323      5.258     0.4002      1.287      1.389        101        640: 100%|██████████| 94/94 [00:41<00:00,  2.28it/s]\n",
            "                 Class     Images  Instances      Box(P          R      mAP50  mAP50-95)     Pose(P          R      mAP50  mAP50-95): 100%|██████████| 10/10 [00:04<00:00,  2.01it/s]"
          ]
        },
        {
          "name": "stdout",
          "output_type": "stream",
          "text": [
            "                   all        300        818      0.752      0.603      0.724      0.426      0.635      0.432      0.433      0.152\n"
          ]
        },
        {
          "name": "stderr",
          "output_type": "stream",
          "text": [
            "\n"
          ]
        },
        {
          "name": "stdout",
          "output_type": "stream",
          "text": [
            "\n",
            "      Epoch    GPU_mem   box_loss  pose_loss  kobj_loss   cls_loss   dfl_loss  Instances       Size\n"
          ]
        },
        {
          "name": "stderr",
          "output_type": "stream",
          "text": [
            "     15/100      2.47G      1.294      5.135     0.4005      1.255      1.379         62        640: 100%|██████████| 94/94 [00:40<00:00,  2.30it/s]\n",
            "                 Class     Images  Instances      Box(P          R      mAP50  mAP50-95)     Pose(P          R      mAP50  mAP50-95): 100%|██████████| 10/10 [00:06<00:00,  1.64it/s]"
          ]
        },
        {
          "name": "stdout",
          "output_type": "stream",
          "text": [
            "                   all        300        818      0.699      0.623      0.706      0.433      0.625      0.447      0.453      0.157\n"
          ]
        },
        {
          "name": "stderr",
          "output_type": "stream",
          "text": [
            "\n"
          ]
        },
        {
          "name": "stdout",
          "output_type": "stream",
          "text": [
            "\n",
            "      Epoch    GPU_mem   box_loss  pose_loss  kobj_loss   cls_loss   dfl_loss  Instances       Size\n"
          ]
        },
        {
          "name": "stderr",
          "output_type": "stream",
          "text": [
            "     16/100      2.41G      1.287       5.05     0.3958       1.26      1.371         81        640: 100%|██████████| 94/94 [00:40<00:00,  2.30it/s]\n",
            "                 Class     Images  Instances      Box(P          R      mAP50  mAP50-95)     Pose(P          R      mAP50  mAP50-95): 100%|██████████| 10/10 [00:04<00:00,  2.10it/s]\n"
          ]
        },
        {
          "name": "stdout",
          "output_type": "stream",
          "text": [
            "                   all        300        818      0.735      0.635       0.73      0.443      0.672      0.478      0.491      0.173\n",
            "\n",
            "      Epoch    GPU_mem   box_loss  pose_loss  kobj_loss   cls_loss   dfl_loss  Instances       Size\n"
          ]
        },
        {
          "name": "stderr",
          "output_type": "stream",
          "text": [
            "     17/100       2.3G      1.294      5.054     0.3981      1.234      1.371         84        640: 100%|██████████| 94/94 [00:40<00:00,  2.31it/s]\n",
            "                 Class     Images  Instances      Box(P          R      mAP50  mAP50-95)     Pose(P          R      mAP50  mAP50-95): 100%|██████████| 10/10 [00:04<00:00,  2.10it/s]\n"
          ]
        },
        {
          "name": "stdout",
          "output_type": "stream",
          "text": [
            "                   all        300        818      0.735      0.592       0.69      0.409      0.609      0.449      0.453      0.157\n",
            "\n",
            "      Epoch    GPU_mem   box_loss  pose_loss  kobj_loss   cls_loss   dfl_loss  Instances       Size\n"
          ]
        },
        {
          "name": "stderr",
          "output_type": "stream",
          "text": [
            "     18/100      2.44G      1.289      4.984     0.3947      1.206      1.357         61        640: 100%|██████████| 94/94 [00:40<00:00,  2.31it/s]\n",
            "                 Class     Images  Instances      Box(P          R      mAP50  mAP50-95)     Pose(P          R      mAP50  mAP50-95): 100%|██████████| 10/10 [00:06<00:00,  1.56it/s]"
          ]
        },
        {
          "name": "stdout",
          "output_type": "stream",
          "text": [
            "                   all        300        818      0.733      0.646      0.725      0.451      0.654      0.476       0.48      0.165\n"
          ]
        },
        {
          "name": "stderr",
          "output_type": "stream",
          "text": [
            "\n"
          ]
        },
        {
          "name": "stdout",
          "output_type": "stream",
          "text": [
            "\n",
            "      Epoch    GPU_mem   box_loss  pose_loss  kobj_loss   cls_loss   dfl_loss  Instances       Size\n"
          ]
        },
        {
          "name": "stderr",
          "output_type": "stream",
          "text": [
            "     19/100      2.42G      1.268      5.033     0.3955      1.212      1.348         47        640: 100%|██████████| 94/94 [00:41<00:00,  2.29it/s]\n",
            "                 Class     Images  Instances      Box(P          R      mAP50  mAP50-95)     Pose(P          R      mAP50  mAP50-95): 100%|██████████| 10/10 [00:04<00:00,  2.14it/s]\n"
          ]
        },
        {
          "name": "stdout",
          "output_type": "stream",
          "text": [
            "                   all        300        818      0.696      0.637      0.712      0.445      0.609       0.47      0.469      0.167\n",
            "\n",
            "      Epoch    GPU_mem   box_loss  pose_loss  kobj_loss   cls_loss   dfl_loss  Instances       Size\n"
          ]
        },
        {
          "name": "stderr",
          "output_type": "stream",
          "text": [
            "     20/100      2.46G      1.258      4.977     0.3866      1.204      1.356         59        640: 100%|██████████| 94/94 [00:40<00:00,  2.30it/s]\n",
            "                 Class     Images  Instances      Box(P          R      mAP50  mAP50-95)     Pose(P          R      mAP50  mAP50-95): 100%|██████████| 10/10 [00:05<00:00,  1.99it/s]"
          ]
        },
        {
          "name": "stdout",
          "output_type": "stream",
          "text": [
            "                   all        300        818      0.748      0.637      0.734      0.457      0.648      0.472      0.497      0.164\n"
          ]
        },
        {
          "name": "stderr",
          "output_type": "stream",
          "text": [
            "\n"
          ]
        },
        {
          "name": "stdout",
          "output_type": "stream",
          "text": [
            "\n",
            "      Epoch    GPU_mem   box_loss  pose_loss  kobj_loss   cls_loss   dfl_loss  Instances       Size\n"
          ]
        },
        {
          "name": "stderr",
          "output_type": "stream",
          "text": [
            "     21/100      2.44G      1.263       4.98     0.3932      1.199      1.348         38        640: 100%|██████████| 94/94 [00:40<00:00,  2.33it/s]\n",
            "                 Class     Images  Instances      Box(P          R      mAP50  mAP50-95)     Pose(P          R      mAP50  mAP50-95): 100%|██████████| 10/10 [00:06<00:00,  1.59it/s]"
          ]
        },
        {
          "name": "stdout",
          "output_type": "stream",
          "text": [
            "                   all        300        818      0.753      0.622      0.717      0.435      0.666      0.498      0.505      0.186\n"
          ]
        },
        {
          "name": "stderr",
          "output_type": "stream",
          "text": [
            "\n"
          ]
        },
        {
          "name": "stdout",
          "output_type": "stream",
          "text": [
            "\n",
            "      Epoch    GPU_mem   box_loss  pose_loss  kobj_loss   cls_loss   dfl_loss  Instances       Size\n"
          ]
        },
        {
          "name": "stderr",
          "output_type": "stream",
          "text": [
            "     22/100      2.34G      1.233      4.809     0.3827      1.162      1.338         63        640: 100%|██████████| 94/94 [00:40<00:00,  2.31it/s]\n",
            "                 Class     Images  Instances      Box(P          R      mAP50  mAP50-95)     Pose(P          R      mAP50  mAP50-95): 100%|██████████| 10/10 [00:04<00:00,  2.18it/s]"
          ]
        },
        {
          "name": "stdout",
          "output_type": "stream",
          "text": [
            "                   all        300        818      0.742      0.671      0.756      0.473      0.694      0.494      0.526      0.193\n"
          ]
        },
        {
          "name": "stderr",
          "output_type": "stream",
          "text": [
            "\n"
          ]
        },
        {
          "name": "stdout",
          "output_type": "stream",
          "text": [
            "\n",
            "      Epoch    GPU_mem   box_loss  pose_loss  kobj_loss   cls_loss   dfl_loss  Instances       Size\n"
          ]
        },
        {
          "name": "stderr",
          "output_type": "stream",
          "text": [
            "     23/100      2.46G       1.23      4.856     0.3843      1.184      1.333         54        640: 100%|██████████| 94/94 [00:41<00:00,  2.24it/s]\n",
            "                 Class     Images  Instances      Box(P          R      mAP50  mAP50-95)     Pose(P          R      mAP50  mAP50-95): 100%|██████████| 10/10 [00:05<00:00,  1.91it/s]"
          ]
        },
        {
          "name": "stdout",
          "output_type": "stream",
          "text": [
            "                   all        300        818      0.762      0.662      0.754      0.475      0.644      0.538      0.527      0.199\n"
          ]
        },
        {
          "name": "stderr",
          "output_type": "stream",
          "text": [
            "\n"
          ]
        },
        {
          "name": "stdout",
          "output_type": "stream",
          "text": [
            "\n",
            "      Epoch    GPU_mem   box_loss  pose_loss  kobj_loss   cls_loss   dfl_loss  Instances       Size\n"
          ]
        },
        {
          "name": "stderr",
          "output_type": "stream",
          "text": [
            "     24/100      2.44G      1.223      4.703      0.385      1.145      1.322         71        640: 100%|██████████| 94/94 [00:39<00:00,  2.35it/s]\n",
            "                 Class     Images  Instances      Box(P          R      mAP50  mAP50-95)     Pose(P          R      mAP50  mAP50-95): 100%|██████████| 10/10 [00:06<00:00,  1.59it/s]"
          ]
        },
        {
          "name": "stdout",
          "output_type": "stream",
          "text": [
            "                   all        300        818      0.774      0.663       0.75      0.471      0.656      0.522      0.514      0.201\n"
          ]
        },
        {
          "name": "stderr",
          "output_type": "stream",
          "text": [
            "\n"
          ]
        },
        {
          "name": "stdout",
          "output_type": "stream",
          "text": [
            "\n",
            "      Epoch    GPU_mem   box_loss  pose_loss  kobj_loss   cls_loss   dfl_loss  Instances       Size\n"
          ]
        },
        {
          "name": "stderr",
          "output_type": "stream",
          "text": [
            "     25/100      2.44G      1.216       4.74     0.3816      1.145      1.321         61        640: 100%|██████████| 94/94 [00:41<00:00,  2.25it/s]\n",
            "                 Class     Images  Instances      Box(P          R      mAP50  mAP50-95)     Pose(P          R      mAP50  mAP50-95): 100%|██████████| 10/10 [00:04<00:00,  2.17it/s]"
          ]
        },
        {
          "name": "stdout",
          "output_type": "stream",
          "text": [
            "                   all        300        818      0.738      0.684       0.75      0.482       0.67      0.496      0.502      0.189\n"
          ]
        },
        {
          "name": "stderr",
          "output_type": "stream",
          "text": [
            "\n"
          ]
        },
        {
          "name": "stdout",
          "output_type": "stream",
          "text": [
            "\n",
            "      Epoch    GPU_mem   box_loss  pose_loss  kobj_loss   cls_loss   dfl_loss  Instances       Size\n"
          ]
        },
        {
          "name": "stderr",
          "output_type": "stream",
          "text": [
            "     26/100      2.46G        1.2       4.75     0.3794      1.124      1.308         64        640: 100%|██████████| 94/94 [00:41<00:00,  2.25it/s]\n",
            "                 Class     Images  Instances      Box(P          R      mAP50  mAP50-95)     Pose(P          R      mAP50  mAP50-95): 100%|██████████| 10/10 [00:06<00:00,  1.48it/s]"
          ]
        },
        {
          "name": "stdout",
          "output_type": "stream",
          "text": [
            "                   all        300        818      0.705      0.661      0.733      0.454      0.706      0.515      0.532      0.205\n"
          ]
        },
        {
          "name": "stderr",
          "output_type": "stream",
          "text": [
            "\n"
          ]
        },
        {
          "name": "stdout",
          "output_type": "stream",
          "text": [
            "\n",
            "      Epoch    GPU_mem   box_loss  pose_loss  kobj_loss   cls_loss   dfl_loss  Instances       Size\n"
          ]
        },
        {
          "name": "stderr",
          "output_type": "stream",
          "text": [
            "     27/100      2.46G      1.199      4.696     0.3793      1.134      1.312         78        640: 100%|██████████| 94/94 [00:41<00:00,  2.28it/s]\n",
            "                 Class     Images  Instances      Box(P          R      mAP50  mAP50-95)     Pose(P          R      mAP50  mAP50-95): 100%|██████████| 10/10 [00:04<00:00,  2.06it/s]"
          ]
        },
        {
          "name": "stdout",
          "output_type": "stream",
          "text": [
            "                   all        300        818      0.765      0.671      0.755      0.485      0.666      0.522      0.522      0.195\n"
          ]
        },
        {
          "name": "stderr",
          "output_type": "stream",
          "text": [
            "\n"
          ]
        },
        {
          "name": "stdout",
          "output_type": "stream",
          "text": [
            "\n",
            "      Epoch    GPU_mem   box_loss  pose_loss  kobj_loss   cls_loss   dfl_loss  Instances       Size\n"
          ]
        },
        {
          "name": "stderr",
          "output_type": "stream",
          "text": [
            "     28/100       2.3G      1.194      4.623     0.3739      1.127      1.308         53        640: 100%|██████████| 94/94 [00:40<00:00,  2.30it/s]\n",
            "                 Class     Images  Instances      Box(P          R      mAP50  mAP50-95)     Pose(P          R      mAP50  mAP50-95): 100%|██████████| 10/10 [00:04<00:00,  2.03it/s]"
          ]
        },
        {
          "name": "stdout",
          "output_type": "stream",
          "text": [
            "                   all        300        818      0.713      0.658      0.744      0.479      0.627      0.515      0.519      0.202\n"
          ]
        },
        {
          "name": "stderr",
          "output_type": "stream",
          "text": [
            "\n"
          ]
        },
        {
          "name": "stdout",
          "output_type": "stream",
          "text": [
            "\n",
            "      Epoch    GPU_mem   box_loss  pose_loss  kobj_loss   cls_loss   dfl_loss  Instances       Size\n"
          ]
        },
        {
          "name": "stderr",
          "output_type": "stream",
          "text": [
            "     29/100      2.41G      1.175      4.679     0.3795      1.111       1.29         44        640: 100%|██████████| 94/94 [00:40<00:00,  2.30it/s]\n",
            "                 Class     Images  Instances      Box(P          R      mAP50  mAP50-95)     Pose(P          R      mAP50  mAP50-95): 100%|██████████| 10/10 [00:05<00:00,  1.71it/s]\n"
          ]
        },
        {
          "name": "stdout",
          "output_type": "stream",
          "text": [
            "                   all        300        818      0.773      0.662      0.767      0.492      0.724      0.516      0.542      0.211\n",
            "\n",
            "      Epoch    GPU_mem   box_loss  pose_loss  kobj_loss   cls_loss   dfl_loss  Instances       Size\n"
          ]
        },
        {
          "name": "stderr",
          "output_type": "stream",
          "text": [
            "     30/100      2.46G      1.168      4.514     0.3697      1.084      1.297         72        640: 100%|██████████| 94/94 [00:41<00:00,  2.28it/s]\n",
            "                 Class     Images  Instances      Box(P          R      mAP50  mAP50-95)     Pose(P          R      mAP50  mAP50-95): 100%|██████████| 10/10 [00:04<00:00,  2.02it/s]"
          ]
        },
        {
          "name": "stdout",
          "output_type": "stream",
          "text": [
            "                   all        300        818      0.796      0.628      0.769       0.51      0.725      0.516       0.56      0.228\n"
          ]
        },
        {
          "name": "stderr",
          "output_type": "stream",
          "text": [
            "\n"
          ]
        },
        {
          "name": "stdout",
          "output_type": "stream",
          "text": [
            "\n",
            "      Epoch    GPU_mem   box_loss  pose_loss  kobj_loss   cls_loss   dfl_loss  Instances       Size\n"
          ]
        },
        {
          "name": "stderr",
          "output_type": "stream",
          "text": [
            "     31/100      2.44G      1.169       4.62     0.3725        1.1      1.299         74        640: 100%|██████████| 94/94 [00:41<00:00,  2.26it/s]\n",
            "                 Class     Images  Instances      Box(P          R      mAP50  mAP50-95)     Pose(P          R      mAP50  mAP50-95): 100%|██████████| 10/10 [00:05<00:00,  1.91it/s]"
          ]
        },
        {
          "name": "stdout",
          "output_type": "stream",
          "text": [
            "                   all        300        818       0.72      0.656      0.747      0.485      0.632      0.516      0.524      0.207\n"
          ]
        },
        {
          "name": "stderr",
          "output_type": "stream",
          "text": [
            "\n"
          ]
        },
        {
          "name": "stdout",
          "output_type": "stream",
          "text": [
            "\n",
            "      Epoch    GPU_mem   box_loss  pose_loss  kobj_loss   cls_loss   dfl_loss  Instances       Size\n"
          ]
        },
        {
          "name": "stderr",
          "output_type": "stream",
          "text": [
            "     32/100      2.35G      1.167      4.485      0.372       1.11      1.294         65        640: 100%|██████████| 94/94 [00:39<00:00,  2.37it/s]\n",
            "                 Class     Images  Instances      Box(P          R      mAP50  mAP50-95)     Pose(P          R      mAP50  mAP50-95): 100%|██████████| 10/10 [00:06<00:00,  1.55it/s]"
          ]
        },
        {
          "name": "stdout",
          "output_type": "stream",
          "text": [
            "                   all        300        818      0.755      0.691      0.764      0.495      0.634      0.539      0.526      0.195\n"
          ]
        },
        {
          "name": "stderr",
          "output_type": "stream",
          "text": [
            "\n"
          ]
        },
        {
          "name": "stdout",
          "output_type": "stream",
          "text": [
            "\n",
            "      Epoch    GPU_mem   box_loss  pose_loss  kobj_loss   cls_loss   dfl_loss  Instances       Size\n"
          ]
        },
        {
          "name": "stderr",
          "output_type": "stream",
          "text": [
            "     33/100      2.45G      1.161        4.5     0.3723      1.079       1.29         57        640: 100%|██████████| 94/94 [00:40<00:00,  2.30it/s]\n",
            "                 Class     Images  Instances      Box(P          R      mAP50  mAP50-95)     Pose(P          R      mAP50  mAP50-95): 100%|██████████| 10/10 [00:04<00:00,  2.29it/s]"
          ]
        },
        {
          "name": "stdout",
          "output_type": "stream",
          "text": [
            "                   all        300        818      0.772      0.665      0.763      0.487      0.679      0.524      0.527      0.195\n"
          ]
        },
        {
          "name": "stderr",
          "output_type": "stream",
          "text": [
            "\n"
          ]
        },
        {
          "name": "stdout",
          "output_type": "stream",
          "text": [
            "\n",
            "      Epoch    GPU_mem   box_loss  pose_loss  kobj_loss   cls_loss   dfl_loss  Instances       Size\n"
          ]
        },
        {
          "name": "stderr",
          "output_type": "stream",
          "text": [
            "     34/100      2.47G      1.156      4.458     0.3744      1.055      1.282         56        640: 100%|██████████| 94/94 [00:40<00:00,  2.32it/s]\n",
            "                 Class     Images  Instances      Box(P          R      mAP50  mAP50-95)     Pose(P          R      mAP50  mAP50-95): 100%|██████████| 10/10 [00:05<00:00,  1.98it/s]"
          ]
        },
        {
          "name": "stdout",
          "output_type": "stream",
          "text": [
            "                   all        300        818      0.778      0.677       0.77      0.494      0.681      0.546      0.544      0.216\n"
          ]
        },
        {
          "name": "stderr",
          "output_type": "stream",
          "text": [
            "\n"
          ]
        },
        {
          "name": "stdout",
          "output_type": "stream",
          "text": [
            "\n",
            "      Epoch    GPU_mem   box_loss  pose_loss  kobj_loss   cls_loss   dfl_loss  Instances       Size\n"
          ]
        },
        {
          "name": "stderr",
          "output_type": "stream",
          "text": [
            "     35/100      2.44G      1.152      4.462     0.3661       1.06      1.279         76        640: 100%|██████████| 94/94 [00:40<00:00,  2.30it/s]\n",
            "                 Class     Images  Instances      Box(P          R      mAP50  mAP50-95)     Pose(P          R      mAP50  mAP50-95): 100%|██████████| 10/10 [00:06<00:00,  1.62it/s]\n"
          ]
        },
        {
          "name": "stdout",
          "output_type": "stream",
          "text": [
            "                   all        300        818       0.79      0.666      0.772      0.513      0.666      0.511      0.525      0.218\n",
            "\n",
            "      Epoch    GPU_mem   box_loss  pose_loss  kobj_loss   cls_loss   dfl_loss  Instances       Size\n"
          ]
        },
        {
          "name": "stderr",
          "output_type": "stream",
          "text": [
            "     36/100      2.46G      1.153      4.454     0.3667      1.064      1.281         64        640: 100%|██████████| 94/94 [00:42<00:00,  2.20it/s]\n",
            "                 Class     Images  Instances      Box(P          R      mAP50  mAP50-95)     Pose(P          R      mAP50  mAP50-95): 100%|██████████| 10/10 [00:04<00:00,  2.13it/s]"
          ]
        },
        {
          "name": "stdout",
          "output_type": "stream",
          "text": [
            "                   all        300        818      0.746      0.683      0.762      0.488      0.698      0.534      0.568      0.224\n"
          ]
        },
        {
          "name": "stderr",
          "output_type": "stream",
          "text": [
            "\n"
          ]
        },
        {
          "name": "stdout",
          "output_type": "stream",
          "text": [
            "\n",
            "      Epoch    GPU_mem   box_loss  pose_loss  kobj_loss   cls_loss   dfl_loss  Instances       Size\n"
          ]
        },
        {
          "name": "stderr",
          "output_type": "stream",
          "text": [
            "     37/100      2.31G       1.15      4.381     0.3661      1.053      1.281         52        640: 100%|██████████| 94/94 [00:40<00:00,  2.32it/s]\n",
            "                 Class     Images  Instances      Box(P          R      mAP50  mAP50-95)     Pose(P          R      mAP50  mAP50-95): 100%|██████████| 10/10 [00:04<00:00,  2.22it/s]\n"
          ]
        },
        {
          "name": "stdout",
          "output_type": "stream",
          "text": [
            "                   all        300        818       0.76      0.694      0.774      0.499      0.739      0.537      0.574      0.241\n",
            "\n",
            "      Epoch    GPU_mem   box_loss  pose_loss  kobj_loss   cls_loss   dfl_loss  Instances       Size\n"
          ]
        },
        {
          "name": "stderr",
          "output_type": "stream",
          "text": [
            "     38/100      2.44G      1.139      4.371     0.3615      1.036      1.266         82        640: 100%|██████████| 94/94 [00:40<00:00,  2.33it/s]\n",
            "                 Class     Images  Instances      Box(P          R      mAP50  mAP50-95)     Pose(P          R      mAP50  mAP50-95): 100%|██████████| 10/10 [00:06<00:00,  1.55it/s]\n"
          ]
        },
        {
          "name": "stdout",
          "output_type": "stream",
          "text": [
            "                   all        300        818      0.765      0.696      0.781      0.505      0.686       0.59        0.6      0.238\n",
            "\n",
            "      Epoch    GPU_mem   box_loss  pose_loss  kobj_loss   cls_loss   dfl_loss  Instances       Size\n"
          ]
        },
        {
          "name": "stderr",
          "output_type": "stream",
          "text": [
            "     39/100      2.46G      1.129       4.27     0.3644      1.037      1.262         63        640: 100%|██████████| 94/94 [00:41<00:00,  2.29it/s]\n",
            "                 Class     Images  Instances      Box(P          R      mAP50  mAP50-95)     Pose(P          R      mAP50  mAP50-95): 100%|██████████| 10/10 [00:04<00:00,  2.11it/s]\n"
          ]
        },
        {
          "name": "stdout",
          "output_type": "stream",
          "text": [
            "                   all        300        818      0.735      0.702       0.78      0.505       0.66      0.549      0.549      0.223\n",
            "\n",
            "      Epoch    GPU_mem   box_loss  pose_loss  kobj_loss   cls_loss   dfl_loss  Instances       Size\n"
          ]
        },
        {
          "name": "stderr",
          "output_type": "stream",
          "text": [
            "     40/100      2.45G      1.114      4.316     0.3657      1.032      1.259         65        640: 100%|██████████| 94/94 [00:40<00:00,  2.33it/s]\n",
            "                 Class     Images  Instances      Box(P          R      mAP50  mAP50-95)     Pose(P          R      mAP50  mAP50-95): 100%|██████████| 10/10 [00:04<00:00,  2.04it/s]"
          ]
        },
        {
          "name": "stdout",
          "output_type": "stream",
          "text": [
            "                   all        300        818      0.792       0.68      0.791      0.519      0.704      0.575      0.588      0.258\n"
          ]
        },
        {
          "name": "stderr",
          "output_type": "stream",
          "text": [
            "\n"
          ]
        },
        {
          "name": "stdout",
          "output_type": "stream",
          "text": [
            "\n",
            "      Epoch    GPU_mem   box_loss  pose_loss  kobj_loss   cls_loss   dfl_loss  Instances       Size\n"
          ]
        },
        {
          "name": "stderr",
          "output_type": "stream",
          "text": [
            "     41/100      2.31G       1.11       4.18     0.3618      1.005      1.252         61        640: 100%|██████████| 94/94 [00:40<00:00,  2.32it/s]\n",
            "                 Class     Images  Instances      Box(P          R      mAP50  mAP50-95)     Pose(P          R      mAP50  mAP50-95): 100%|██████████| 10/10 [00:06<00:00,  1.63it/s]"
          ]
        },
        {
          "name": "stdout",
          "output_type": "stream",
          "text": [
            "                   all        300        818      0.756       0.71      0.789      0.511      0.692       0.59      0.591      0.239\n"
          ]
        },
        {
          "name": "stderr",
          "output_type": "stream",
          "text": [
            "\n"
          ]
        },
        {
          "name": "stdout",
          "output_type": "stream",
          "text": [
            "\n",
            "      Epoch    GPU_mem   box_loss  pose_loss  kobj_loss   cls_loss   dfl_loss  Instances       Size\n"
          ]
        },
        {
          "name": "stderr",
          "output_type": "stream",
          "text": [
            "     42/100      2.46G      1.104      4.244     0.3601      1.002      1.242         55        640: 100%|██████████| 94/94 [00:40<00:00,  2.31it/s]\n",
            "                 Class     Images  Instances      Box(P          R      mAP50  mAP50-95)     Pose(P          R      mAP50  mAP50-95): 100%|██████████| 10/10 [00:04<00:00,  2.02it/s]"
          ]
        },
        {
          "name": "stdout",
          "output_type": "stream",
          "text": [
            "                   all        300        818      0.777      0.713      0.798      0.523      0.681      0.566      0.575      0.232\n"
          ]
        },
        {
          "name": "stderr",
          "output_type": "stream",
          "text": [
            "\n"
          ]
        },
        {
          "name": "stdout",
          "output_type": "stream",
          "text": [
            "\n",
            "      Epoch    GPU_mem   box_loss  pose_loss  kobj_loss   cls_loss   dfl_loss  Instances       Size\n"
          ]
        },
        {
          "name": "stderr",
          "output_type": "stream",
          "text": [
            "     43/100      2.44G      1.107      4.177     0.3609      1.013      1.251         78        640: 100%|██████████| 94/94 [00:41<00:00,  2.29it/s]\n",
            "                 Class     Images  Instances      Box(P          R      mAP50  mAP50-95)     Pose(P          R      mAP50  mAP50-95): 100%|██████████| 10/10 [00:04<00:00,  2.13it/s]"
          ]
        },
        {
          "name": "stdout",
          "output_type": "stream",
          "text": [
            "                   all        300        818      0.741      0.718      0.795      0.517      0.689      0.567      0.581       0.24\n"
          ]
        },
        {
          "name": "stderr",
          "output_type": "stream",
          "text": [
            "\n"
          ]
        },
        {
          "name": "stdout",
          "output_type": "stream",
          "text": [
            "\n",
            "      Epoch    GPU_mem   box_loss  pose_loss  kobj_loss   cls_loss   dfl_loss  Instances       Size\n"
          ]
        },
        {
          "name": "stderr",
          "output_type": "stream",
          "text": [
            "     44/100      2.32G      1.107      4.177     0.3547     0.9958      1.252         55        640: 100%|██████████| 94/94 [00:41<00:00,  2.29it/s]\n",
            "                 Class     Images  Instances      Box(P          R      mAP50  mAP50-95)     Pose(P          R      mAP50  mAP50-95): 100%|██████████| 10/10 [00:06<00:00,  1.49it/s]"
          ]
        },
        {
          "name": "stdout",
          "output_type": "stream",
          "text": [
            "                   all        300        818      0.779      0.682      0.781       0.51      0.676      0.566      0.574      0.239\n"
          ]
        },
        {
          "name": "stderr",
          "output_type": "stream",
          "text": [
            "\n"
          ]
        },
        {
          "name": "stdout",
          "output_type": "stream",
          "text": [
            "\n",
            "      Epoch    GPU_mem   box_loss  pose_loss  kobj_loss   cls_loss   dfl_loss  Instances       Size\n"
          ]
        },
        {
          "name": "stderr",
          "output_type": "stream",
          "text": [
            "     45/100      2.47G      1.112      4.146     0.3601     0.9895      1.246         52        640: 100%|██████████| 94/94 [00:41<00:00,  2.25it/s]\n",
            "                 Class     Images  Instances      Box(P          R      mAP50  mAP50-95)     Pose(P          R      mAP50  mAP50-95): 100%|██████████| 10/10 [00:04<00:00,  2.15it/s]"
          ]
        },
        {
          "name": "stdout",
          "output_type": "stream",
          "text": [
            "                   all        300        818      0.794      0.699      0.794      0.516      0.721      0.598      0.615      0.248\n"
          ]
        },
        {
          "name": "stderr",
          "output_type": "stream",
          "text": [
            "\n"
          ]
        },
        {
          "name": "stdout",
          "output_type": "stream",
          "text": [
            "\n",
            "      Epoch    GPU_mem   box_loss  pose_loss  kobj_loss   cls_loss   dfl_loss  Instances       Size\n"
          ]
        },
        {
          "name": "stderr",
          "output_type": "stream",
          "text": [
            "     46/100      2.46G      1.102      4.127     0.3555     0.9743      1.236         73        640: 100%|██████████| 94/94 [00:40<00:00,  2.32it/s]\n",
            "                 Class     Images  Instances      Box(P          R      mAP50  mAP50-95)     Pose(P          R      mAP50  mAP50-95): 100%|██████████| 10/10 [00:04<00:00,  2.14it/s]\n"
          ]
        },
        {
          "name": "stdout",
          "output_type": "stream",
          "text": [
            "                   all        300        818      0.796      0.683      0.797      0.521      0.714      0.554      0.583      0.243\n",
            "\n",
            "      Epoch    GPU_mem   box_loss  pose_loss  kobj_loss   cls_loss   dfl_loss  Instances       Size\n"
          ]
        },
        {
          "name": "stderr",
          "output_type": "stream",
          "text": [
            "     47/100      2.42G      1.104      4.077     0.3516     0.9794      1.242         68        640: 100%|██████████| 94/94 [00:40<00:00,  2.32it/s]\n",
            "                 Class     Images  Instances      Box(P          R      mAP50  mAP50-95)     Pose(P          R      mAP50  mAP50-95): 100%|██████████| 10/10 [00:06<00:00,  1.63it/s]"
          ]
        },
        {
          "name": "stdout",
          "output_type": "stream",
          "text": [
            "                   all        300        818      0.828      0.672      0.793      0.521      0.714      0.579      0.586      0.254\n"
          ]
        },
        {
          "name": "stderr",
          "output_type": "stream",
          "text": [
            "\n"
          ]
        },
        {
          "name": "stdout",
          "output_type": "stream",
          "text": [
            "\n",
            "      Epoch    GPU_mem   box_loss  pose_loss  kobj_loss   cls_loss   dfl_loss  Instances       Size\n"
          ]
        },
        {
          "name": "stderr",
          "output_type": "stream",
          "text": [
            "     48/100      2.41G      1.099      4.047     0.3509      0.977      1.244         77        640: 100%|██████████| 94/94 [00:41<00:00,  2.28it/s]\n",
            "                 Class     Images  Instances      Box(P          R      mAP50  mAP50-95)     Pose(P          R      mAP50  mAP50-95): 100%|██████████| 10/10 [00:05<00:00,  1.97it/s]"
          ]
        },
        {
          "name": "stdout",
          "output_type": "stream",
          "text": [
            "                   all        300        818      0.799      0.693      0.803      0.523      0.728       0.57        0.6      0.255\n"
          ]
        },
        {
          "name": "stderr",
          "output_type": "stream",
          "text": [
            "\n"
          ]
        },
        {
          "name": "stdout",
          "output_type": "stream",
          "text": [
            "\n",
            "      Epoch    GPU_mem   box_loss  pose_loss  kobj_loss   cls_loss   dfl_loss  Instances       Size\n"
          ]
        },
        {
          "name": "stderr",
          "output_type": "stream",
          "text": [
            "     49/100      2.44G      1.076      4.026     0.3528     0.9442      1.228         53        640: 100%|██████████| 94/94 [00:41<00:00,  2.27it/s]\n",
            "                 Class     Images  Instances      Box(P          R      mAP50  mAP50-95)     Pose(P          R      mAP50  mAP50-95): 100%|██████████| 10/10 [00:05<00:00,  1.79it/s]"
          ]
        },
        {
          "name": "stdout",
          "output_type": "stream",
          "text": [
            "                   all        300        818      0.766      0.738      0.805      0.535       0.71      0.582      0.594      0.262\n"
          ]
        },
        {
          "name": "stderr",
          "output_type": "stream",
          "text": [
            "\n"
          ]
        },
        {
          "name": "stdout",
          "output_type": "stream",
          "text": [
            "\n",
            "      Epoch    GPU_mem   box_loss  pose_loss  kobj_loss   cls_loss   dfl_loss  Instances       Size\n"
          ]
        },
        {
          "name": "stderr",
          "output_type": "stream",
          "text": [
            "     50/100      2.44G      1.102      4.112     0.3539     0.9677       1.24         88        640: 100%|██████████| 94/94 [00:39<00:00,  2.39it/s]\n",
            "                 Class     Images  Instances      Box(P          R      mAP50  mAP50-95)     Pose(P          R      mAP50  mAP50-95): 100%|██████████| 10/10 [00:05<00:00,  1.71it/s]"
          ]
        },
        {
          "name": "stdout",
          "output_type": "stream",
          "text": [
            "                   all        300        818      0.822      0.664      0.784      0.514      0.709       0.57      0.586      0.253\n"
          ]
        },
        {
          "name": "stderr",
          "output_type": "stream",
          "text": [
            "\n"
          ]
        },
        {
          "name": "stdout",
          "output_type": "stream",
          "text": [
            "\n",
            "      Epoch    GPU_mem   box_loss  pose_loss  kobj_loss   cls_loss   dfl_loss  Instances       Size\n"
          ]
        },
        {
          "name": "stderr",
          "output_type": "stream",
          "text": [
            "     51/100      2.32G      1.057      4.074     0.3501     0.9483      1.225         52        640: 100%|██████████| 94/94 [00:40<00:00,  2.32it/s]\n",
            "                 Class     Images  Instances      Box(P          R      mAP50  mAP50-95)     Pose(P          R      mAP50  mAP50-95): 100%|██████████| 10/10 [00:04<00:00,  2.05it/s]"
          ]
        },
        {
          "name": "stdout",
          "output_type": "stream",
          "text": [
            "                   all        300        818       0.79      0.694      0.791      0.523      0.719      0.579      0.592       0.26\n"
          ]
        },
        {
          "name": "stderr",
          "output_type": "stream",
          "text": [
            "\n"
          ]
        },
        {
          "name": "stdout",
          "output_type": "stream",
          "text": [
            "\n",
            "      Epoch    GPU_mem   box_loss  pose_loss  kobj_loss   cls_loss   dfl_loss  Instances       Size\n"
          ]
        },
        {
          "name": "stderr",
          "output_type": "stream",
          "text": [
            "     52/100       2.3G      1.058      3.985     0.3489     0.9434      1.216         89        640: 100%|██████████| 94/94 [00:41<00:00,  2.27it/s]\n",
            "                 Class     Images  Instances      Box(P          R      mAP50  mAP50-95)     Pose(P          R      mAP50  mAP50-95): 100%|██████████| 10/10 [00:05<00:00,  1.93it/s]"
          ]
        },
        {
          "name": "stdout",
          "output_type": "stream",
          "text": [
            "                   all        300        818      0.808      0.711      0.808      0.533      0.746      0.582      0.592      0.261\n"
          ]
        },
        {
          "name": "stderr",
          "output_type": "stream",
          "text": [
            "\n"
          ]
        },
        {
          "name": "stdout",
          "output_type": "stream",
          "text": [
            "\n",
            "      Epoch    GPU_mem   box_loss  pose_loss  kobj_loss   cls_loss   dfl_loss  Instances       Size\n"
          ]
        },
        {
          "name": "stderr",
          "output_type": "stream",
          "text": [
            "     53/100      2.46G      1.056      4.055     0.3504     0.9486      1.217         44        640: 100%|██████████| 94/94 [00:40<00:00,  2.30it/s]\n",
            "                 Class     Images  Instances      Box(P          R      mAP50  mAP50-95)     Pose(P          R      mAP50  mAP50-95): 100%|██████████| 10/10 [00:05<00:00,  1.72it/s]"
          ]
        },
        {
          "name": "stdout",
          "output_type": "stream",
          "text": [
            "                   all        300        818      0.793      0.697      0.804      0.535      0.735      0.581      0.601      0.267\n"
          ]
        },
        {
          "name": "stderr",
          "output_type": "stream",
          "text": [
            "\n"
          ]
        },
        {
          "name": "stdout",
          "output_type": "stream",
          "text": [
            "\n",
            "      Epoch    GPU_mem   box_loss  pose_loss  kobj_loss   cls_loss   dfl_loss  Instances       Size\n"
          ]
        },
        {
          "name": "stderr",
          "output_type": "stream",
          "text": [
            "     54/100      2.41G      1.063      3.951     0.3483     0.9375      1.209         63        640: 100%|██████████| 94/94 [00:41<00:00,  2.29it/s]\n",
            "                 Class     Images  Instances      Box(P          R      mAP50  mAP50-95)     Pose(P          R      mAP50  mAP50-95): 100%|██████████| 10/10 [00:04<00:00,  2.07it/s]"
          ]
        },
        {
          "name": "stdout",
          "output_type": "stream",
          "text": [
            "                   all        300        818      0.772      0.735      0.798      0.531      0.747      0.608      0.632      0.275\n"
          ]
        },
        {
          "name": "stderr",
          "output_type": "stream",
          "text": [
            "\n"
          ]
        },
        {
          "name": "stdout",
          "output_type": "stream",
          "text": [
            "\n",
            "      Epoch    GPU_mem   box_loss  pose_loss  kobj_loss   cls_loss   dfl_loss  Instances       Size\n"
          ]
        },
        {
          "name": "stderr",
          "output_type": "stream",
          "text": [
            "     55/100       2.3G      1.052      3.954     0.3504     0.9385       1.22         57        640: 100%|██████████| 94/94 [00:40<00:00,  2.30it/s]\n",
            "                 Class     Images  Instances      Box(P          R      mAP50  mAP50-95)     Pose(P          R      mAP50  mAP50-95): 100%|██████████| 10/10 [00:05<00:00,  1.86it/s]\n"
          ]
        },
        {
          "name": "stdout",
          "output_type": "stream",
          "text": [
            "                   all        300        818      0.787      0.709      0.801      0.535      0.728      0.591      0.613      0.273\n",
            "\n",
            "      Epoch    GPU_mem   box_loss  pose_loss  kobj_loss   cls_loss   dfl_loss  Instances       Size\n"
          ]
        },
        {
          "name": "stderr",
          "output_type": "stream",
          "text": [
            "     56/100      2.46G      1.058       3.92     0.3459       0.92       1.21         64        640: 100%|██████████| 94/94 [00:40<00:00,  2.35it/s]\n",
            "                 Class     Images  Instances      Box(P          R      mAP50  mAP50-95)     Pose(P          R      mAP50  mAP50-95): 100%|██████████| 10/10 [00:05<00:00,  1.87it/s]"
          ]
        },
        {
          "name": "stdout",
          "output_type": "stream",
          "text": [
            "                   all        300        818      0.789      0.692      0.801      0.535      0.725      0.596      0.609      0.269\n"
          ]
        },
        {
          "name": "stderr",
          "output_type": "stream",
          "text": [
            "\n"
          ]
        },
        {
          "name": "stdout",
          "output_type": "stream",
          "text": [
            "\n",
            "      Epoch    GPU_mem   box_loss  pose_loss  kobj_loss   cls_loss   dfl_loss  Instances       Size\n"
          ]
        },
        {
          "name": "stderr",
          "output_type": "stream",
          "text": [
            "     57/100      2.46G      1.049      3.952     0.3468     0.9334      1.219         56        640: 100%|██████████| 94/94 [00:41<00:00,  2.28it/s]\n",
            "                 Class     Images  Instances      Box(P          R      mAP50  mAP50-95)     Pose(P          R      mAP50  mAP50-95): 100%|██████████| 10/10 [00:04<00:00,  2.26it/s]"
          ]
        },
        {
          "name": "stdout",
          "output_type": "stream",
          "text": [
            "                   all        300        818      0.778      0.704      0.798      0.532      0.705      0.599      0.607       0.27\n"
          ]
        },
        {
          "name": "stderr",
          "output_type": "stream",
          "text": [
            "\n"
          ]
        },
        {
          "name": "stdout",
          "output_type": "stream",
          "text": [
            "\n",
            "      Epoch    GPU_mem   box_loss  pose_loss  kobj_loss   cls_loss   dfl_loss  Instances       Size\n"
          ]
        },
        {
          "name": "stderr",
          "output_type": "stream",
          "text": [
            "     58/100      2.44G      1.041      3.868     0.3454     0.9121      1.202         80        640: 100%|██████████| 94/94 [00:41<00:00,  2.25it/s]\n",
            "                 Class     Images  Instances      Box(P          R      mAP50  mAP50-95)     Pose(P          R      mAP50  mAP50-95): 100%|██████████| 10/10 [00:06<00:00,  1.64it/s]"
          ]
        },
        {
          "name": "stdout",
          "output_type": "stream",
          "text": [
            "                   all        300        818       0.79      0.716      0.802      0.532       0.74      0.561      0.597      0.261\n"
          ]
        },
        {
          "name": "stderr",
          "output_type": "stream",
          "text": [
            "\n"
          ]
        },
        {
          "name": "stdout",
          "output_type": "stream",
          "text": [
            "\n",
            "      Epoch    GPU_mem   box_loss  pose_loss  kobj_loss   cls_loss   dfl_loss  Instances       Size\n"
          ]
        },
        {
          "name": "stderr",
          "output_type": "stream",
          "text": [
            "     59/100      2.47G       1.03      3.846     0.3455     0.8993      1.197         65        640: 100%|██████████| 94/94 [00:42<00:00,  2.19it/s]\n",
            "                 Class     Images  Instances      Box(P          R      mAP50  mAP50-95)     Pose(P          R      mAP50  mAP50-95): 100%|██████████| 10/10 [00:04<00:00,  2.08it/s]"
          ]
        },
        {
          "name": "stdout",
          "output_type": "stream",
          "text": [
            "                   all        300        818      0.773      0.707      0.794      0.533      0.728       0.59      0.616      0.276\n"
          ]
        },
        {
          "name": "stderr",
          "output_type": "stream",
          "text": [
            "\n"
          ]
        },
        {
          "name": "stdout",
          "output_type": "stream",
          "text": [
            "\n",
            "      Epoch    GPU_mem   box_loss  pose_loss  kobj_loss   cls_loss   dfl_loss  Instances       Size\n"
          ]
        },
        {
          "name": "stderr",
          "output_type": "stream",
          "text": [
            "     60/100      2.44G      1.043      3.886     0.3431     0.9094      1.204         54        640: 100%|██████████| 94/94 [00:40<00:00,  2.30it/s]\n",
            "                 Class     Images  Instances      Box(P          R      mAP50  mAP50-95)     Pose(P          R      mAP50  mAP50-95): 100%|██████████| 10/10 [00:04<00:00,  2.18it/s]\n"
          ]
        },
        {
          "name": "stdout",
          "output_type": "stream",
          "text": [
            "                   all        300        818      0.795      0.711      0.805      0.534      0.741       0.59      0.625      0.268\n",
            "\n",
            "      Epoch    GPU_mem   box_loss  pose_loss  kobj_loss   cls_loss   dfl_loss  Instances       Size\n"
          ]
        },
        {
          "name": "stderr",
          "output_type": "stream",
          "text": [
            "     61/100      2.46G      1.035      3.902     0.3453     0.9001        1.2         41        640: 100%|██████████| 94/94 [00:40<00:00,  2.30it/s]\n",
            "                 Class     Images  Instances      Box(P          R      mAP50  mAP50-95)     Pose(P          R      mAP50  mAP50-95): 100%|██████████| 10/10 [00:06<00:00,  1.59it/s]"
          ]
        },
        {
          "name": "stdout",
          "output_type": "stream",
          "text": [
            "                   all        300        818      0.794       0.72       0.81      0.547      0.746      0.607      0.631      0.288\n"
          ]
        },
        {
          "name": "stderr",
          "output_type": "stream",
          "text": [
            "\n"
          ]
        },
        {
          "name": "stdout",
          "output_type": "stream",
          "text": [
            "\n",
            "      Epoch    GPU_mem   box_loss  pose_loss  kobj_loss   cls_loss   dfl_loss  Instances       Size\n"
          ]
        },
        {
          "name": "stderr",
          "output_type": "stream",
          "text": [
            "     62/100      2.46G      1.013      3.767     0.3424     0.8836      1.191         70        640: 100%|██████████| 94/94 [00:41<00:00,  2.27it/s]\n",
            "                 Class     Images  Instances      Box(P          R      mAP50  mAP50-95)     Pose(P          R      mAP50  mAP50-95): 100%|██████████| 10/10 [00:04<00:00,  2.03it/s]"
          ]
        },
        {
          "name": "stdout",
          "output_type": "stream",
          "text": [
            "                   all        300        818      0.822      0.696      0.802      0.527      0.731      0.604       0.62      0.282\n"
          ]
        },
        {
          "name": "stderr",
          "output_type": "stream",
          "text": [
            "\n"
          ]
        },
        {
          "name": "stdout",
          "output_type": "stream",
          "text": [
            "\n",
            "      Epoch    GPU_mem   box_loss  pose_loss  kobj_loss   cls_loss   dfl_loss  Instances       Size\n"
          ]
        },
        {
          "name": "stderr",
          "output_type": "stream",
          "text": [
            "     63/100      2.46G       1.03      3.805     0.3409     0.9062      1.201         57        640: 100%|██████████| 94/94 [00:40<00:00,  2.30it/s]\n",
            "                 Class     Images  Instances      Box(P          R      mAP50  mAP50-95)     Pose(P          R      mAP50  mAP50-95): 100%|██████████| 10/10 [00:05<00:00,  1.70it/s]"
          ]
        },
        {
          "name": "stdout",
          "output_type": "stream",
          "text": [
            "                   all        300        818      0.797      0.722      0.811      0.544       0.71      0.614       0.63       0.29\n"
          ]
        },
        {
          "name": "stderr",
          "output_type": "stream",
          "text": [
            "\n"
          ]
        },
        {
          "name": "stdout",
          "output_type": "stream",
          "text": [
            "\n",
            "      Epoch    GPU_mem   box_loss  pose_loss  kobj_loss   cls_loss   dfl_loss  Instances       Size\n"
          ]
        },
        {
          "name": "stderr",
          "output_type": "stream",
          "text": [
            "     64/100      2.46G      1.001      3.687     0.3383     0.8658       1.18         75        640: 100%|██████████| 94/94 [00:40<00:00,  2.32it/s]\n",
            "                 Class     Images  Instances      Box(P          R      mAP50  mAP50-95)     Pose(P          R      mAP50  mAP50-95): 100%|██████████| 10/10 [00:05<00:00,  1.79it/s]"
          ]
        },
        {
          "name": "stdout",
          "output_type": "stream",
          "text": [
            "                   all        300        818      0.795      0.718       0.82      0.555      0.726      0.603      0.633      0.292\n"
          ]
        },
        {
          "name": "stderr",
          "output_type": "stream",
          "text": [
            "\n"
          ]
        },
        {
          "name": "stdout",
          "output_type": "stream",
          "text": [
            "\n",
            "      Epoch    GPU_mem   box_loss  pose_loss  kobj_loss   cls_loss   dfl_loss  Instances       Size\n"
          ]
        },
        {
          "name": "stderr",
          "output_type": "stream",
          "text": [
            "     65/100      2.31G      1.004      3.664     0.3376     0.8737      1.186         70        640: 100%|██████████| 94/94 [00:41<00:00,  2.28it/s]\n",
            "                 Class     Images  Instances      Box(P          R      mAP50  mAP50-95)     Pose(P          R      mAP50  mAP50-95): 100%|██████████| 10/10 [00:04<00:00,  2.19it/s]"
          ]
        },
        {
          "name": "stdout",
          "output_type": "stream",
          "text": [
            "                   all        300        818      0.772       0.72      0.809       0.55      0.751      0.581      0.625      0.293\n"
          ]
        },
        {
          "name": "stderr",
          "output_type": "stream",
          "text": [
            "\n"
          ]
        },
        {
          "name": "stdout",
          "output_type": "stream",
          "text": [
            "\n",
            "      Epoch    GPU_mem   box_loss  pose_loss  kobj_loss   cls_loss   dfl_loss  Instances       Size\n"
          ]
        },
        {
          "name": "stderr",
          "output_type": "stream",
          "text": [
            "     66/100      2.46G     0.9994      3.657     0.3401     0.8618       1.18         56        640: 100%|██████████| 94/94 [00:40<00:00,  2.32it/s]\n",
            "                 Class     Images  Instances      Box(P          R      mAP50  mAP50-95)     Pose(P          R      mAP50  mAP50-95): 100%|██████████| 10/10 [00:05<00:00,  1.72it/s]"
          ]
        },
        {
          "name": "stdout",
          "output_type": "stream",
          "text": [
            "                   all        300        818      0.786      0.735      0.814      0.551       0.71      0.619      0.638      0.304\n"
          ]
        },
        {
          "name": "stderr",
          "output_type": "stream",
          "text": [
            "\n"
          ]
        },
        {
          "name": "stdout",
          "output_type": "stream",
          "text": [
            "\n",
            "      Epoch    GPU_mem   box_loss  pose_loss  kobj_loss   cls_loss   dfl_loss  Instances       Size\n"
          ]
        },
        {
          "name": "stderr",
          "output_type": "stream",
          "text": [
            "     67/100      2.44G      1.017      3.733     0.3348     0.8787      1.184         85        640: 100%|██████████| 94/94 [00:40<00:00,  2.32it/s]\n",
            "                 Class     Images  Instances      Box(P          R      mAP50  mAP50-95)     Pose(P          R      mAP50  mAP50-95): 100%|██████████| 10/10 [00:05<00:00,  1.94it/s]"
          ]
        },
        {
          "name": "stdout",
          "output_type": "stream",
          "text": [
            "                   all        300        818       0.82      0.719      0.815      0.554      0.737      0.627      0.644      0.301\n"
          ]
        },
        {
          "name": "stderr",
          "output_type": "stream",
          "text": [
            "\n"
          ]
        },
        {
          "name": "stdout",
          "output_type": "stream",
          "text": [
            "\n",
            "      Epoch    GPU_mem   box_loss  pose_loss  kobj_loss   cls_loss   dfl_loss  Instances       Size\n"
          ]
        },
        {
          "name": "stderr",
          "output_type": "stream",
          "text": [
            "     68/100      2.44G     0.9973      3.605     0.3368     0.8601      1.179         62        640: 100%|██████████| 94/94 [00:40<00:00,  2.30it/s]\n",
            "                 Class     Images  Instances      Box(P          R      mAP50  mAP50-95)     Pose(P          R      mAP50  mAP50-95): 100%|██████████| 10/10 [00:04<00:00,  2.09it/s]"
          ]
        },
        {
          "name": "stdout",
          "output_type": "stream",
          "text": [
            "                   all        300        818      0.807      0.731      0.823      0.554      0.747      0.611      0.642        0.3\n"
          ]
        },
        {
          "name": "stderr",
          "output_type": "stream",
          "text": [
            "\n"
          ]
        },
        {
          "name": "stdout",
          "output_type": "stream",
          "text": [
            "\n",
            "      Epoch    GPU_mem   box_loss  pose_loss  kobj_loss   cls_loss   dfl_loss  Instances       Size\n"
          ]
        },
        {
          "name": "stderr",
          "output_type": "stream",
          "text": [
            "     69/100      2.46G     0.9924       3.68     0.3377     0.8483      1.179         83        640: 100%|██████████| 94/94 [00:40<00:00,  2.30it/s]\n",
            "                 Class     Images  Instances      Box(P          R      mAP50  mAP50-95)     Pose(P          R      mAP50  mAP50-95): 100%|██████████| 10/10 [00:05<00:00,  1.69it/s]"
          ]
        },
        {
          "name": "stdout",
          "output_type": "stream",
          "text": [
            "                   all        300        818      0.822      0.711      0.821      0.553      0.733      0.609      0.635      0.297\n"
          ]
        },
        {
          "name": "stderr",
          "output_type": "stream",
          "text": [
            "\n"
          ]
        },
        {
          "name": "stdout",
          "output_type": "stream",
          "text": [
            "\n",
            "      Epoch    GPU_mem   box_loss  pose_loss  kobj_loss   cls_loss   dfl_loss  Instances       Size\n"
          ]
        },
        {
          "name": "stderr",
          "output_type": "stream",
          "text": [
            "     70/100      2.31G     0.9904      3.656     0.3345     0.8599      1.173         67        640: 100%|██████████| 94/94 [00:41<00:00,  2.28it/s]\n",
            "                 Class     Images  Instances      Box(P          R      mAP50  mAP50-95)     Pose(P          R      mAP50  mAP50-95): 100%|██████████| 10/10 [00:04<00:00,  2.04it/s]\n"
          ]
        },
        {
          "name": "stdout",
          "output_type": "stream",
          "text": [
            "                   all        300        818      0.822        0.7      0.816      0.557      0.746      0.612      0.638      0.299\n",
            "\n",
            "      Epoch    GPU_mem   box_loss  pose_loss  kobj_loss   cls_loss   dfl_loss  Instances       Size\n"
          ]
        },
        {
          "name": "stderr",
          "output_type": "stream",
          "text": [
            "     71/100      2.46G      1.002      3.632     0.3358     0.8558      1.174         74        640: 100%|██████████| 94/94 [00:41<00:00,  2.28it/s]\n",
            "                 Class     Images  Instances      Box(P          R      mAP50  mAP50-95)     Pose(P          R      mAP50  mAP50-95): 100%|██████████| 10/10 [00:04<00:00,  2.07it/s]\n"
          ]
        },
        {
          "name": "stdout",
          "output_type": "stream",
          "text": [
            "                   all        300        818      0.797      0.715      0.821      0.551      0.789      0.608      0.645      0.307\n",
            "\n",
            "      Epoch    GPU_mem   box_loss  pose_loss  kobj_loss   cls_loss   dfl_loss  Instances       Size\n"
          ]
        },
        {
          "name": "stderr",
          "output_type": "stream",
          "text": [
            "     72/100      2.46G     0.9952      3.601     0.3306      0.848      1.176         43        640: 100%|██████████| 94/94 [00:40<00:00,  2.32it/s]\n",
            "                 Class     Images  Instances      Box(P          R      mAP50  mAP50-95)     Pose(P          R      mAP50  mAP50-95): 100%|██████████| 10/10 [00:06<00:00,  1.51it/s]"
          ]
        },
        {
          "name": "stdout",
          "output_type": "stream",
          "text": [
            "                   all        300        818      0.798      0.752      0.824      0.552      0.721      0.613      0.626      0.299\n"
          ]
        },
        {
          "name": "stderr",
          "output_type": "stream",
          "text": [
            "\n"
          ]
        },
        {
          "name": "stdout",
          "output_type": "stream",
          "text": [
            "\n",
            "      Epoch    GPU_mem   box_loss  pose_loss  kobj_loss   cls_loss   dfl_loss  Instances       Size\n"
          ]
        },
        {
          "name": "stderr",
          "output_type": "stream",
          "text": [
            "     73/100       2.3G     0.9885      3.628     0.3374     0.8466      1.162         78        640: 100%|██████████| 94/94 [00:41<00:00,  2.29it/s]\n",
            "                 Class     Images  Instances      Box(P          R      mAP50  mAP50-95)     Pose(P          R      mAP50  mAP50-95): 100%|██████████| 10/10 [00:04<00:00,  2.09it/s]"
          ]
        },
        {
          "name": "stdout",
          "output_type": "stream",
          "text": [
            "                   all        300        818      0.802      0.738      0.824      0.557      0.742      0.639      0.655      0.313\n"
          ]
        },
        {
          "name": "stderr",
          "output_type": "stream",
          "text": [
            "\n"
          ]
        },
        {
          "name": "stdout",
          "output_type": "stream",
          "text": [
            "\n",
            "      Epoch    GPU_mem   box_loss  pose_loss  kobj_loss   cls_loss   dfl_loss  Instances       Size\n"
          ]
        },
        {
          "name": "stderr",
          "output_type": "stream",
          "text": [
            "     74/100      2.44G     0.9797       3.56     0.3348     0.8248      1.162         48        640: 100%|██████████| 94/94 [00:40<00:00,  2.30it/s]\n",
            "                 Class     Images  Instances      Box(P          R      mAP50  mAP50-95)     Pose(P          R      mAP50  mAP50-95): 100%|██████████| 10/10 [00:04<00:00,  2.05it/s]"
          ]
        },
        {
          "name": "stdout",
          "output_type": "stream",
          "text": [
            "                   all        300        818      0.784      0.744      0.821      0.556      0.742      0.615      0.651      0.309\n"
          ]
        },
        {
          "name": "stderr",
          "output_type": "stream",
          "text": [
            "\n"
          ]
        },
        {
          "name": "stdout",
          "output_type": "stream",
          "text": [
            "\n",
            "      Epoch    GPU_mem   box_loss  pose_loss  kobj_loss   cls_loss   dfl_loss  Instances       Size\n"
          ]
        },
        {
          "name": "stderr",
          "output_type": "stream",
          "text": [
            "     75/100      2.44G     0.9697      3.503     0.3265     0.8227      1.165         55        640: 100%|██████████| 94/94 [00:40<00:00,  2.31it/s]\n",
            "                 Class     Images  Instances      Box(P          R      mAP50  mAP50-95)     Pose(P          R      mAP50  mAP50-95): 100%|██████████| 10/10 [00:05<00:00,  1.70it/s]"
          ]
        },
        {
          "name": "stdout",
          "output_type": "stream",
          "text": [
            "                   all        300        818      0.816      0.747      0.831      0.566      0.745      0.612      0.642      0.301\n"
          ]
        },
        {
          "name": "stderr",
          "output_type": "stream",
          "text": [
            "\n"
          ]
        },
        {
          "name": "stdout",
          "output_type": "stream",
          "text": [
            "\n",
            "      Epoch    GPU_mem   box_loss  pose_loss  kobj_loss   cls_loss   dfl_loss  Instances       Size\n"
          ]
        },
        {
          "name": "stderr",
          "output_type": "stream",
          "text": [
            "     76/100      2.46G     0.9805      3.504     0.3301     0.8254      1.167         71        640: 100%|██████████| 94/94 [00:41<00:00,  2.28it/s]\n",
            "                 Class     Images  Instances      Box(P          R      mAP50  mAP50-95)     Pose(P          R      mAP50  mAP50-95): 100%|██████████| 10/10 [00:04<00:00,  2.12it/s]"
          ]
        },
        {
          "name": "stdout",
          "output_type": "stream",
          "text": [
            "                   all        300        818      0.828      0.712      0.827      0.561      0.738      0.616      0.642       0.31\n"
          ]
        },
        {
          "name": "stderr",
          "output_type": "stream",
          "text": [
            "\n"
          ]
        },
        {
          "name": "stdout",
          "output_type": "stream",
          "text": [
            "\n",
            "      Epoch    GPU_mem   box_loss  pose_loss  kobj_loss   cls_loss   dfl_loss  Instances       Size\n"
          ]
        },
        {
          "name": "stderr",
          "output_type": "stream",
          "text": [
            "     77/100      2.46G     0.9536      3.469     0.3293     0.8173      1.159         52        640: 100%|██████████| 94/94 [00:41<00:00,  2.29it/s]\n",
            "                 Class     Images  Instances      Box(P          R      mAP50  mAP50-95)     Pose(P          R      mAP50  mAP50-95): 100%|██████████| 10/10 [00:06<00:00,  1.63it/s]"
          ]
        },
        {
          "name": "stdout",
          "output_type": "stream",
          "text": [
            "                   all        300        818      0.798      0.733      0.828      0.563       0.73      0.625      0.641      0.306\n"
          ]
        },
        {
          "name": "stderr",
          "output_type": "stream",
          "text": [
            "\n"
          ]
        },
        {
          "name": "stdout",
          "output_type": "stream",
          "text": [
            "\n",
            "      Epoch    GPU_mem   box_loss  pose_loss  kobj_loss   cls_loss   dfl_loss  Instances       Size\n"
          ]
        },
        {
          "name": "stderr",
          "output_type": "stream",
          "text": [
            "     78/100      2.43G     0.9617      3.427      0.326     0.8027      1.153         45        640: 100%|██████████| 94/94 [00:41<00:00,  2.29it/s]\n",
            "                 Class     Images  Instances      Box(P          R      mAP50  mAP50-95)     Pose(P          R      mAP50  mAP50-95): 100%|██████████| 10/10 [00:04<00:00,  2.04it/s]"
          ]
        },
        {
          "name": "stdout",
          "output_type": "stream",
          "text": [
            "                   all        300        818      0.793      0.724      0.819      0.563      0.738      0.623      0.636      0.308\n"
          ]
        },
        {
          "name": "stderr",
          "output_type": "stream",
          "text": [
            "\n"
          ]
        },
        {
          "name": "stdout",
          "output_type": "stream",
          "text": [
            "\n",
            "      Epoch    GPU_mem   box_loss  pose_loss  kobj_loss   cls_loss   dfl_loss  Instances       Size\n"
          ]
        },
        {
          "name": "stderr",
          "output_type": "stream",
          "text": [
            "     79/100      2.44G     0.9536      3.378     0.3285     0.7949       1.15         60        640: 100%|██████████| 94/94 [00:40<00:00,  2.31it/s]\n",
            "                 Class     Images  Instances      Box(P          R      mAP50  mAP50-95)     Pose(P          R      mAP50  mAP50-95): 100%|██████████| 10/10 [00:05<00:00,  1.93it/s]"
          ]
        },
        {
          "name": "stdout",
          "output_type": "stream",
          "text": [
            "                   all        300        818      0.824      0.726      0.831      0.567      0.744      0.625      0.636      0.309\n"
          ]
        },
        {
          "name": "stderr",
          "output_type": "stream",
          "text": [
            "\n"
          ]
        },
        {
          "name": "stdout",
          "output_type": "stream",
          "text": [
            "\n",
            "      Epoch    GPU_mem   box_loss  pose_loss  kobj_loss   cls_loss   dfl_loss  Instances       Size\n"
          ]
        },
        {
          "name": "stderr",
          "output_type": "stream",
          "text": [
            "     80/100      2.44G     0.9585      3.448     0.3284      0.805       1.15         43        640: 100%|██████████| 94/94 [00:39<00:00,  2.37it/s]\n",
            "                 Class     Images  Instances      Box(P          R      mAP50  mAP50-95)     Pose(P          R      mAP50  mAP50-95): 100%|██████████| 10/10 [00:05<00:00,  1.68it/s]"
          ]
        },
        {
          "name": "stdout",
          "output_type": "stream",
          "text": [
            "                   all        300        818      0.819      0.731      0.827      0.564      0.728      0.619      0.642      0.315\n"
          ]
        },
        {
          "name": "stderr",
          "output_type": "stream",
          "text": [
            "\n"
          ]
        },
        {
          "name": "stdout",
          "output_type": "stream",
          "text": [
            "\n",
            "      Epoch    GPU_mem   box_loss  pose_loss  kobj_loss   cls_loss   dfl_loss  Instances       Size\n"
          ]
        },
        {
          "name": "stderr",
          "output_type": "stream",
          "text": [
            "     81/100      2.44G      0.968      3.442      0.329     0.8099      1.156         61        640: 100%|██████████| 94/94 [00:41<00:00,  2.26it/s]\n",
            "                 Class     Images  Instances      Box(P          R      mAP50  mAP50-95)     Pose(P          R      mAP50  mAP50-95): 100%|██████████| 10/10 [00:04<00:00,  2.12it/s]"
          ]
        },
        {
          "name": "stdout",
          "output_type": "stream",
          "text": [
            "                   all        300        818      0.809       0.72       0.82      0.561      0.726      0.617      0.642      0.312\n"
          ]
        },
        {
          "name": "stderr",
          "output_type": "stream",
          "text": [
            "\n"
          ]
        },
        {
          "name": "stdout",
          "output_type": "stream",
          "text": [
            "\n",
            "      Epoch    GPU_mem   box_loss  pose_loss  kobj_loss   cls_loss   dfl_loss  Instances       Size\n"
          ]
        },
        {
          "name": "stderr",
          "output_type": "stream",
          "text": [
            "     82/100      2.44G     0.9299      3.406     0.3282     0.7913      1.147         53        640: 100%|██████████| 94/94 [00:42<00:00,  2.20it/s]\n",
            "                 Class     Images  Instances      Box(P          R      mAP50  mAP50-95)     Pose(P          R      mAP50  mAP50-95): 100%|██████████| 10/10 [00:06<00:00,  1.60it/s]"
          ]
        },
        {
          "name": "stdout",
          "output_type": "stream",
          "text": [
            "                   all        300        818      0.823       0.71      0.821       0.56      0.752      0.627      0.645      0.313\n"
          ]
        },
        {
          "name": "stderr",
          "output_type": "stream",
          "text": [
            "\n"
          ]
        },
        {
          "name": "stdout",
          "output_type": "stream",
          "text": [
            "\n",
            "      Epoch    GPU_mem   box_loss  pose_loss  kobj_loss   cls_loss   dfl_loss  Instances       Size\n"
          ]
        },
        {
          "name": "stderr",
          "output_type": "stream",
          "text": [
            "     83/100      2.44G     0.9579      3.396     0.3235     0.8015      1.152         67        640: 100%|██████████| 94/94 [00:41<00:00,  2.28it/s]\n",
            "                 Class     Images  Instances      Box(P          R      mAP50  mAP50-95)     Pose(P          R      mAP50  mAP50-95): 100%|██████████| 10/10 [00:04<00:00,  2.16it/s]"
          ]
        },
        {
          "name": "stdout",
          "output_type": "stream",
          "text": [
            "                   all        300        818      0.824      0.714      0.816      0.556      0.745      0.611      0.636      0.315\n"
          ]
        },
        {
          "name": "stderr",
          "output_type": "stream",
          "text": [
            "\n"
          ]
        },
        {
          "name": "stdout",
          "output_type": "stream",
          "text": [
            "\n",
            "      Epoch    GPU_mem   box_loss  pose_loss  kobj_loss   cls_loss   dfl_loss  Instances       Size\n"
          ]
        },
        {
          "name": "stderr",
          "output_type": "stream",
          "text": [
            "     84/100      2.44G     0.9308      3.281     0.3205     0.7821       1.14         59        640: 100%|██████████| 94/94 [00:41<00:00,  2.28it/s]\n",
            "                 Class     Images  Instances      Box(P          R      mAP50  mAP50-95)     Pose(P          R      mAP50  mAP50-95): 100%|██████████| 10/10 [00:06<00:00,  1.66it/s]"
          ]
        },
        {
          "name": "stdout",
          "output_type": "stream",
          "text": [
            "                   all        300        818      0.808      0.735      0.824      0.565      0.742      0.635      0.649      0.317\n"
          ]
        },
        {
          "name": "stderr",
          "output_type": "stream",
          "text": [
            "\n"
          ]
        },
        {
          "name": "stdout",
          "output_type": "stream",
          "text": [
            "\n",
            "      Epoch    GPU_mem   box_loss  pose_loss  kobj_loss   cls_loss   dfl_loss  Instances       Size\n"
          ]
        },
        {
          "name": "stderr",
          "output_type": "stream",
          "text": [
            "     85/100      2.46G     0.9426      3.389     0.3254     0.7933      1.143         69        640: 100%|██████████| 94/94 [00:41<00:00,  2.26it/s]\n",
            "                 Class     Images  Instances      Box(P          R      mAP50  mAP50-95)     Pose(P          R      mAP50  mAP50-95): 100%|██████████| 10/10 [00:04<00:00,  2.12it/s]\n"
          ]
        },
        {
          "name": "stdout",
          "output_type": "stream",
          "text": [
            "                   all        300        818      0.828      0.724      0.831      0.566      0.745      0.619      0.649      0.315\n",
            "\n",
            "      Epoch    GPU_mem   box_loss  pose_loss  kobj_loss   cls_loss   dfl_loss  Instances       Size\n"
          ]
        },
        {
          "name": "stderr",
          "output_type": "stream",
          "text": [
            "     86/100      2.46G     0.9399      3.257     0.3238     0.7833      1.141         84        640: 100%|██████████| 94/94 [00:41<00:00,  2.29it/s]\n",
            "                 Class     Images  Instances      Box(P          R      mAP50  mAP50-95)     Pose(P          R      mAP50  mAP50-95): 100%|██████████| 10/10 [00:04<00:00,  2.22it/s]"
          ]
        },
        {
          "name": "stdout",
          "output_type": "stream",
          "text": [
            "                   all        300        818      0.802      0.742      0.826      0.564      0.774      0.633      0.671      0.332\n"
          ]
        },
        {
          "name": "stderr",
          "output_type": "stream",
          "text": [
            "\n"
          ]
        },
        {
          "name": "stdout",
          "output_type": "stream",
          "text": [
            "\n",
            "      Epoch    GPU_mem   box_loss  pose_loss  kobj_loss   cls_loss   dfl_loss  Instances       Size\n"
          ]
        },
        {
          "name": "stderr",
          "output_type": "stream",
          "text": [
            "     87/100      2.44G     0.9473      3.354     0.3268     0.7892      1.142         80        640: 100%|██████████| 94/94 [00:41<00:00,  2.28it/s]\n",
            "                 Class     Images  Instances      Box(P          R      mAP50  mAP50-95)     Pose(P          R      mAP50  mAP50-95): 100%|██████████| 10/10 [00:05<00:00,  1.72it/s]"
          ]
        },
        {
          "name": "stdout",
          "output_type": "stream",
          "text": [
            "                   all        300        818      0.811      0.746      0.832      0.569      0.722      0.654      0.652      0.324\n"
          ]
        },
        {
          "name": "stderr",
          "output_type": "stream",
          "text": [
            "\n"
          ]
        },
        {
          "name": "stdout",
          "output_type": "stream",
          "text": [
            "\n",
            "      Epoch    GPU_mem   box_loss  pose_loss  kobj_loss   cls_loss   dfl_loss  Instances       Size\n"
          ]
        },
        {
          "name": "stderr",
          "output_type": "stream",
          "text": [
            "     88/100      2.44G     0.9143      3.266     0.3231     0.7482      1.121         83        640: 100%|██████████| 94/94 [00:41<00:00,  2.26it/s]\n",
            "                 Class     Images  Instances      Box(P          R      mAP50  mAP50-95)     Pose(P          R      mAP50  mAP50-95): 100%|██████████| 10/10 [00:05<00:00,  1.95it/s]"
          ]
        },
        {
          "name": "stdout",
          "output_type": "stream",
          "text": [
            "                   all        300        818      0.782      0.759      0.826      0.564      0.747      0.621      0.653      0.325\n"
          ]
        },
        {
          "name": "stderr",
          "output_type": "stream",
          "text": [
            "\n"
          ]
        },
        {
          "name": "stdout",
          "output_type": "stream",
          "text": [
            "\n",
            "      Epoch    GPU_mem   box_loss  pose_loss  kobj_loss   cls_loss   dfl_loss  Instances       Size\n"
          ]
        },
        {
          "name": "stderr",
          "output_type": "stream",
          "text": [
            "     89/100      2.44G      0.929      3.285     0.3199     0.7755       1.14         89        640: 100%|██████████| 94/94 [00:41<00:00,  2.24it/s]\n",
            "                 Class     Images  Instances      Box(P          R      mAP50  mAP50-95)     Pose(P          R      mAP50  mAP50-95): 100%|██████████| 10/10 [00:06<00:00,  1.67it/s]"
          ]
        },
        {
          "name": "stdout",
          "output_type": "stream",
          "text": [
            "                   all        300        818      0.796      0.736      0.823      0.566      0.736      0.638      0.658      0.329\n"
          ]
        },
        {
          "name": "stderr",
          "output_type": "stream",
          "text": [
            "\n"
          ]
        },
        {
          "name": "stdout",
          "output_type": "stream",
          "text": [
            "\n",
            "      Epoch    GPU_mem   box_loss  pose_loss  kobj_loss   cls_loss   dfl_loss  Instances       Size\n"
          ]
        },
        {
          "name": "stderr",
          "output_type": "stream",
          "text": [
            "     90/100      2.46G      0.921      3.296     0.3206     0.7763      1.135         77        640: 100%|██████████| 94/94 [00:41<00:00,  2.24it/s]\n",
            "                 Class     Images  Instances      Box(P          R      mAP50  mAP50-95)     Pose(P          R      mAP50  mAP50-95): 100%|██████████| 10/10 [00:04<00:00,  2.13it/s]"
          ]
        },
        {
          "name": "stdout",
          "output_type": "stream",
          "text": [
            "                   all        300        818      0.814      0.732      0.828      0.572      0.779      0.616      0.661       0.33\n"
          ]
        },
        {
          "name": "stderr",
          "output_type": "stream",
          "text": [
            "\n"
          ]
        },
        {
          "name": "stdout",
          "output_type": "stream",
          "text": [
            "Closing dataloader mosaic\n",
            "\u001b[34m\u001b[1malbumentations: \u001b[0mBlur(p=0.01, blur_limit=(3, 7)), MedianBlur(p=0.01, blur_limit=(3, 7)), ToGray(p=0.01), CLAHE(p=0.01, clip_limit=(1, 4.0), tile_grid_size=(8, 8))\n",
            "\n",
            "      Epoch    GPU_mem   box_loss  pose_loss  kobj_loss   cls_loss   dfl_loss  Instances       Size\n"
          ]
        },
        {
          "name": "stderr",
          "output_type": "stream",
          "text": [
            "     91/100      2.71G     0.8674      2.706     0.3141      0.686      1.104         27        640: 100%|██████████| 94/94 [00:43<00:00,  2.15it/s]\n",
            "                 Class     Images  Instances      Box(P          R      mAP50  mAP50-95)     Pose(P          R      mAP50  mAP50-95): 100%|██████████| 10/10 [00:06<00:00,  1.62it/s]"
          ]
        },
        {
          "name": "stdout",
          "output_type": "stream",
          "text": [
            "                   all        300        818      0.768      0.748       0.82      0.561      0.703      0.664       0.66      0.318\n"
          ]
        },
        {
          "name": "stderr",
          "output_type": "stream",
          "text": [
            "\n"
          ]
        },
        {
          "name": "stdout",
          "output_type": "stream",
          "text": [
            "\n",
            "      Epoch    GPU_mem   box_loss  pose_loss  kobj_loss   cls_loss   dfl_loss  Instances       Size\n"
          ]
        },
        {
          "name": "stderr",
          "output_type": "stream",
          "text": [
            "     92/100      2.44G     0.8303       2.61     0.3112     0.6405      1.079         59        640: 100%|██████████| 94/94 [00:40<00:00,  2.35it/s]\n",
            "                 Class     Images  Instances      Box(P          R      mAP50  mAP50-95)     Pose(P          R      mAP50  mAP50-95): 100%|██████████| 10/10 [00:04<00:00,  2.12it/s]"
          ]
        },
        {
          "name": "stdout",
          "output_type": "stream",
          "text": [
            "                   all        300        818      0.822      0.731      0.831      0.572       0.74      0.632      0.656      0.329\n"
          ]
        },
        {
          "name": "stderr",
          "output_type": "stream",
          "text": [
            "\n"
          ]
        },
        {
          "name": "stdout",
          "output_type": "stream",
          "text": [
            "\n",
            "      Epoch    GPU_mem   box_loss  pose_loss  kobj_loss   cls_loss   dfl_loss  Instances       Size\n"
          ]
        },
        {
          "name": "stderr",
          "output_type": "stream",
          "text": [
            "     93/100      2.46G     0.8238      2.605     0.3093      0.624      1.076         34        640: 100%|██████████| 94/94 [00:40<00:00,  2.34it/s]\n",
            "                 Class     Images  Instances      Box(P          R      mAP50  mAP50-95)     Pose(P          R      mAP50  mAP50-95): 100%|██████████| 10/10 [00:04<00:00,  2.15it/s]"
          ]
        },
        {
          "name": "stdout",
          "output_type": "stream",
          "text": [
            "                   all        300        818      0.802      0.756      0.836      0.583      0.757      0.645      0.657      0.333\n"
          ]
        },
        {
          "name": "stderr",
          "output_type": "stream",
          "text": [
            "\n"
          ]
        },
        {
          "name": "stdout",
          "output_type": "stream",
          "text": [
            "\n",
            "      Epoch    GPU_mem   box_loss  pose_loss  kobj_loss   cls_loss   dfl_loss  Instances       Size\n"
          ]
        },
        {
          "name": "stderr",
          "output_type": "stream",
          "text": [
            "     94/100      2.44G     0.8179      2.572     0.3079     0.6242       1.07         27        640: 100%|██████████| 94/94 [00:38<00:00,  2.44it/s]\n",
            "                 Class     Images  Instances      Box(P          R      mAP50  mAP50-95)     Pose(P          R      mAP50  mAP50-95): 100%|██████████| 10/10 [00:05<00:00,  1.71it/s]"
          ]
        },
        {
          "name": "stdout",
          "output_type": "stream",
          "text": [
            "                   all        300        818      0.817       0.74      0.832       0.58      0.734       0.65      0.666      0.334\n"
          ]
        },
        {
          "name": "stderr",
          "output_type": "stream",
          "text": [
            "\n"
          ]
        },
        {
          "name": "stdout",
          "output_type": "stream",
          "text": [
            "\n",
            "      Epoch    GPU_mem   box_loss  pose_loss  kobj_loss   cls_loss   dfl_loss  Instances       Size\n"
          ]
        },
        {
          "name": "stderr",
          "output_type": "stream",
          "text": [
            "     95/100      2.44G     0.8201      2.518     0.3035     0.6063       1.07         28        640: 100%|██████████| 94/94 [00:39<00:00,  2.39it/s]\n",
            "                 Class     Images  Instances      Box(P          R      mAP50  mAP50-95)     Pose(P          R      mAP50  mAP50-95): 100%|██████████| 10/10 [00:05<00:00,  1.98it/s]"
          ]
        },
        {
          "name": "stdout",
          "output_type": "stream",
          "text": [
            "                   all        300        818      0.808      0.742      0.829      0.574      0.728      0.663      0.664      0.331\n"
          ]
        },
        {
          "name": "stderr",
          "output_type": "stream",
          "text": [
            "\n"
          ]
        },
        {
          "name": "stdout",
          "output_type": "stream",
          "text": [
            "\n",
            "      Epoch    GPU_mem   box_loss  pose_loss  kobj_loss   cls_loss   dfl_loss  Instances       Size\n"
          ]
        },
        {
          "name": "stderr",
          "output_type": "stream",
          "text": [
            "     96/100      2.46G     0.8249      2.525      0.305     0.6088      1.074         36        640: 100%|██████████| 94/94 [00:39<00:00,  2.40it/s]\n",
            "                 Class     Images  Instances      Box(P          R      mAP50  mAP50-95)     Pose(P          R      mAP50  mAP50-95): 100%|██████████| 10/10 [00:04<00:00,  2.04it/s]"
          ]
        },
        {
          "name": "stdout",
          "output_type": "stream",
          "text": [
            "                   all        300        818      0.825      0.744      0.835      0.578      0.739      0.651      0.666      0.331\n"
          ]
        },
        {
          "name": "stderr",
          "output_type": "stream",
          "text": [
            "\n"
          ]
        },
        {
          "name": "stdout",
          "output_type": "stream",
          "text": [
            "\n",
            "      Epoch    GPU_mem   box_loss  pose_loss  kobj_loss   cls_loss   dfl_loss  Instances       Size\n"
          ]
        },
        {
          "name": "stderr",
          "output_type": "stream",
          "text": [
            "     97/100      2.46G     0.8083      2.503     0.3019     0.6035      1.059         29        640: 100%|██████████| 94/94 [00:38<00:00,  2.44it/s]\n",
            "                 Class     Images  Instances      Box(P          R      mAP50  mAP50-95)     Pose(P          R      mAP50  mAP50-95): 100%|██████████| 10/10 [00:04<00:00,  2.08it/s]"
          ]
        },
        {
          "name": "stdout",
          "output_type": "stream",
          "text": [
            "                   all        300        818      0.805      0.751      0.833       0.58      0.743      0.647      0.667      0.331\n"
          ]
        },
        {
          "name": "stderr",
          "output_type": "stream",
          "text": [
            "\n"
          ]
        },
        {
          "name": "stdout",
          "output_type": "stream",
          "text": [
            "\n",
            "      Epoch    GPU_mem   box_loss  pose_loss  kobj_loss   cls_loss   dfl_loss  Instances       Size\n"
          ]
        },
        {
          "name": "stderr",
          "output_type": "stream",
          "text": [
            "     98/100      2.46G     0.8001      2.476     0.3017     0.5894      1.058         32        640: 100%|██████████| 94/94 [00:38<00:00,  2.42it/s]\n",
            "                 Class     Images  Instances      Box(P          R      mAP50  mAP50-95)     Pose(P          R      mAP50  mAP50-95): 100%|██████████| 10/10 [00:05<00:00,  1.79it/s]"
          ]
        },
        {
          "name": "stdout",
          "output_type": "stream",
          "text": [
            "                   all        300        818      0.808       0.75      0.835      0.579      0.775       0.63      0.669      0.333\n"
          ]
        },
        {
          "name": "stderr",
          "output_type": "stream",
          "text": [
            "\n"
          ]
        },
        {
          "name": "stdout",
          "output_type": "stream",
          "text": [
            "\n",
            "      Epoch    GPU_mem   box_loss  pose_loss  kobj_loss   cls_loss   dfl_loss  Instances       Size\n"
          ]
        },
        {
          "name": "stderr",
          "output_type": "stream",
          "text": [
            "     99/100      2.44G     0.7973      2.448     0.3025      0.586      1.059         23        640: 100%|██████████| 94/94 [00:37<00:00,  2.48it/s]\n",
            "                 Class     Images  Instances      Box(P          R      mAP50  mAP50-95)     Pose(P          R      mAP50  mAP50-95): 100%|██████████| 10/10 [00:06<00:00,  1.64it/s]"
          ]
        },
        {
          "name": "stdout",
          "output_type": "stream",
          "text": [
            "                   all        300        818      0.824      0.743      0.837      0.579      0.755      0.638      0.665      0.334\n"
          ]
        },
        {
          "name": "stderr",
          "output_type": "stream",
          "text": [
            "\n"
          ]
        },
        {
          "name": "stdout",
          "output_type": "stream",
          "text": [
            "\n",
            "      Epoch    GPU_mem   box_loss  pose_loss  kobj_loss   cls_loss   dfl_loss  Instances       Size\n"
          ]
        },
        {
          "name": "stderr",
          "output_type": "stream",
          "text": [
            "    100/100      2.42G     0.7932      2.442     0.3035     0.5843      1.053         27        640: 100%|██████████| 94/94 [00:38<00:00,  2.42it/s]\n",
            "                 Class     Images  Instances      Box(P          R      mAP50  mAP50-95)     Pose(P          R      mAP50  mAP50-95): 100%|██████████| 10/10 [00:04<00:00,  2.05it/s]"
          ]
        },
        {
          "name": "stdout",
          "output_type": "stream",
          "text": [
            "                   all        300        818      0.842       0.73      0.839      0.579       0.76      0.647      0.669      0.337\n"
          ]
        },
        {
          "name": "stderr",
          "output_type": "stream",
          "text": [
            "\n"
          ]
        },
        {
          "name": "stdout",
          "output_type": "stream",
          "text": [
            "\n",
            "100 epochs completed in 1.314 hours.\n",
            "Optimizer stripped from runs/pose/train/weights/last.pt, 6.8MB\n",
            "Optimizer stripped from runs/pose/train/weights/best.pt, 6.8MB\n",
            "\n",
            "Validating runs/pose/train/weights/best.pt...\n",
            "Ultralytics YOLOv8.1.24 🚀 Python-3.10.12 torch-2.1.0+cu121 CUDA:0 (Tesla T4, 15102MiB)\n",
            "YOLOv8n-pose summary (fused): 187 layers, 3289964 parameters, 0 gradients, 9.2 GFLOPs\n"
          ]
        },
        {
          "name": "stderr",
          "output_type": "stream",
          "text": [
            "                 Class     Images  Instances      Box(P          R      mAP50  mAP50-95)     Pose(P          R      mAP50  mAP50-95): 100%|██████████| 10/10 [00:11<00:00,  1.13s/it]\n"
          ]
        },
        {
          "name": "stdout",
          "output_type": "stream",
          "text": [
            "                   all        300        818      0.843      0.727      0.839      0.579       0.76      0.647      0.669      0.337\n",
            "Speed: 0.6ms preprocess, 4.3ms inference, 0.0ms loss, 4.7ms postprocess per image\n",
            "Results saved to \u001b[1mruns/pose/train\u001b[0m\n"
          ]
        },
        {
          "data": {
            "text/plain": [
              "ultralytics.utils.metrics.PoseMetrics object with attributes:\n",
              "\n",
              "ap_class_index: array([0])\n",
              "box: ultralytics.utils.metrics.Metric object\n",
              "confusion_matrix: <ultralytics.utils.metrics.ConfusionMatrix object at 0x7c42fa3de350>\n",
              "curves: ['Precision-Recall(B)', 'F1-Confidence(B)', 'Precision-Confidence(B)', 'Recall-Confidence(B)', 'Precision-Recall(P)', 'F1-Confidence(P)', 'Precision-Confidence(P)', 'Recall-Confidence(P)']\n",
              "curves_results: [[array([          0,    0.001001,    0.002002,    0.003003,    0.004004,    0.005005,    0.006006,    0.007007,    0.008008,    0.009009,     0.01001,    0.011011,    0.012012,    0.013013,    0.014014,    0.015015,    0.016016,    0.017017,    0.018018,    0.019019,     0.02002,    0.021021,    0.022022,    0.023023,\n",
              "          0.024024,    0.025025,    0.026026,    0.027027,    0.028028,    0.029029,     0.03003,    0.031031,    0.032032,    0.033033,    0.034034,    0.035035,    0.036036,    0.037037,    0.038038,    0.039039,     0.04004,    0.041041,    0.042042,    0.043043,    0.044044,    0.045045,    0.046046,    0.047047,\n",
              "          0.048048,    0.049049,     0.05005,    0.051051,    0.052052,    0.053053,    0.054054,    0.055055,    0.056056,    0.057057,    0.058058,    0.059059,     0.06006,    0.061061,    0.062062,    0.063063,    0.064064,    0.065065,    0.066066,    0.067067,    0.068068,    0.069069,     0.07007,    0.071071,\n",
              "          0.072072,    0.073073,    0.074074,    0.075075,    0.076076,    0.077077,    0.078078,    0.079079,     0.08008,    0.081081,    0.082082,    0.083083,    0.084084,    0.085085,    0.086086,    0.087087,    0.088088,    0.089089,     0.09009,    0.091091,    0.092092,    0.093093,    0.094094,    0.095095,\n",
              "          0.096096,    0.097097,    0.098098,    0.099099,      0.1001,      0.1011,      0.1021,      0.1031,      0.1041,     0.10511,     0.10611,     0.10711,     0.10811,     0.10911,     0.11011,     0.11111,     0.11211,     0.11311,     0.11411,     0.11512,     0.11612,     0.11712,     0.11812,     0.11912,\n",
              "           0.12012,     0.12112,     0.12212,     0.12312,     0.12412,     0.12513,     0.12613,     0.12713,     0.12813,     0.12913,     0.13013,     0.13113,     0.13213,     0.13313,     0.13413,     0.13514,     0.13614,     0.13714,     0.13814,     0.13914,     0.14014,     0.14114,     0.14214,     0.14314,\n",
              "           0.14414,     0.14515,     0.14615,     0.14715,     0.14815,     0.14915,     0.15015,     0.15115,     0.15215,     0.15315,     0.15415,     0.15516,     0.15616,     0.15716,     0.15816,     0.15916,     0.16016,     0.16116,     0.16216,     0.16316,     0.16416,     0.16517,     0.16617,     0.16717,\n",
              "           0.16817,     0.16917,     0.17017,     0.17117,     0.17217,     0.17317,     0.17417,     0.17518,     0.17618,     0.17718,     0.17818,     0.17918,     0.18018,     0.18118,     0.18218,     0.18318,     0.18418,     0.18519,     0.18619,     0.18719,     0.18819,     0.18919,     0.19019,     0.19119,\n",
              "           0.19219,     0.19319,     0.19419,      0.1952,      0.1962,      0.1972,      0.1982,      0.1992,      0.2002,      0.2012,      0.2022,      0.2032,      0.2042,     0.20521,     0.20621,     0.20721,     0.20821,     0.20921,     0.21021,     0.21121,     0.21221,     0.21321,     0.21421,     0.21522,\n",
              "           0.21622,     0.21722,     0.21822,     0.21922,     0.22022,     0.22122,     0.22222,     0.22322,     0.22422,     0.22523,     0.22623,     0.22723,     0.22823,     0.22923,     0.23023,     0.23123,     0.23223,     0.23323,     0.23423,     0.23524,     0.23624,     0.23724,     0.23824,     0.23924,\n",
              "           0.24024,     0.24124,     0.24224,     0.24324,     0.24424,     0.24525,     0.24625,     0.24725,     0.24825,     0.24925,     0.25025,     0.25125,     0.25225,     0.25325,     0.25425,     0.25526,     0.25626,     0.25726,     0.25826,     0.25926,     0.26026,     0.26126,     0.26226,     0.26326,\n",
              "           0.26426,     0.26527,     0.26627,     0.26727,     0.26827,     0.26927,     0.27027,     0.27127,     0.27227,     0.27327,     0.27427,     0.27528,     0.27628,     0.27728,     0.27828,     0.27928,     0.28028,     0.28128,     0.28228,     0.28328,     0.28428,     0.28529,     0.28629,     0.28729,\n",
              "           0.28829,     0.28929,     0.29029,     0.29129,     0.29229,     0.29329,     0.29429,      0.2953,      0.2963,      0.2973,      0.2983,      0.2993,      0.3003,      0.3013,      0.3023,      0.3033,      0.3043,     0.30531,     0.30631,     0.30731,     0.30831,     0.30931,     0.31031,     0.31131,\n",
              "           0.31231,     0.31331,     0.31431,     0.31532,     0.31632,     0.31732,     0.31832,     0.31932,     0.32032,     0.32132,     0.32232,     0.32332,     0.32432,     0.32533,     0.32633,     0.32733,     0.32833,     0.32933,     0.33033,     0.33133,     0.33233,     0.33333,     0.33433,     0.33534,\n",
              "           0.33634,     0.33734,     0.33834,     0.33934,     0.34034,     0.34134,     0.34234,     0.34334,     0.34434,     0.34535,     0.34635,     0.34735,     0.34835,     0.34935,     0.35035,     0.35135,     0.35235,     0.35335,     0.35435,     0.35536,     0.35636,     0.35736,     0.35836,     0.35936,\n",
              "           0.36036,     0.36136,     0.36236,     0.36336,     0.36436,     0.36537,     0.36637,     0.36737,     0.36837,     0.36937,     0.37037,     0.37137,     0.37237,     0.37337,     0.37437,     0.37538,     0.37638,     0.37738,     0.37838,     0.37938,     0.38038,     0.38138,     0.38238,     0.38338,\n",
              "           0.38438,     0.38539,     0.38639,     0.38739,     0.38839,     0.38939,     0.39039,     0.39139,     0.39239,     0.39339,     0.39439,      0.3954,      0.3964,      0.3974,      0.3984,      0.3994,      0.4004,      0.4014,      0.4024,      0.4034,      0.4044,     0.40541,     0.40641,     0.40741,\n",
              "           0.40841,     0.40941,     0.41041,     0.41141,     0.41241,     0.41341,     0.41441,     0.41542,     0.41642,     0.41742,     0.41842,     0.41942,     0.42042,     0.42142,     0.42242,     0.42342,     0.42442,     0.42543,     0.42643,     0.42743,     0.42843,     0.42943,     0.43043,     0.43143,\n",
              "           0.43243,     0.43343,     0.43443,     0.43544,     0.43644,     0.43744,     0.43844,     0.43944,     0.44044,     0.44144,     0.44244,     0.44344,     0.44444,     0.44545,     0.44645,     0.44745,     0.44845,     0.44945,     0.45045,     0.45145,     0.45245,     0.45345,     0.45445,     0.45546,\n",
              "           0.45646,     0.45746,     0.45846,     0.45946,     0.46046,     0.46146,     0.46246,     0.46346,     0.46446,     0.46547,     0.46647,     0.46747,     0.46847,     0.46947,     0.47047,     0.47147,     0.47247,     0.47347,     0.47447,     0.47548,     0.47648,     0.47748,     0.47848,     0.47948,\n",
              "           0.48048,     0.48148,     0.48248,     0.48348,     0.48448,     0.48549,     0.48649,     0.48749,     0.48849,     0.48949,     0.49049,     0.49149,     0.49249,     0.49349,     0.49449,      0.4955,      0.4965,      0.4975,      0.4985,      0.4995,      0.5005,      0.5015,      0.5025,      0.5035,\n",
              "            0.5045,     0.50551,     0.50651,     0.50751,     0.50851,     0.50951,     0.51051,     0.51151,     0.51251,     0.51351,     0.51451,     0.51552,     0.51652,     0.51752,     0.51852,     0.51952,     0.52052,     0.52152,     0.52252,     0.52352,     0.52452,     0.52553,     0.52653,     0.52753,\n",
              "           0.52853,     0.52953,     0.53053,     0.53153,     0.53253,     0.53353,     0.53453,     0.53554,     0.53654,     0.53754,     0.53854,     0.53954,     0.54054,     0.54154,     0.54254,     0.54354,     0.54454,     0.54555,     0.54655,     0.54755,     0.54855,     0.54955,     0.55055,     0.55155,\n",
              "           0.55255,     0.55355,     0.55455,     0.55556,     0.55656,     0.55756,     0.55856,     0.55956,     0.56056,     0.56156,     0.56256,     0.56356,     0.56456,     0.56557,     0.56657,     0.56757,     0.56857,     0.56957,     0.57057,     0.57157,     0.57257,     0.57357,     0.57457,     0.57558,\n",
              "           0.57658,     0.57758,     0.57858,     0.57958,     0.58058,     0.58158,     0.58258,     0.58358,     0.58458,     0.58559,     0.58659,     0.58759,     0.58859,     0.58959,     0.59059,     0.59159,     0.59259,     0.59359,     0.59459,      0.5956,      0.5966,      0.5976,      0.5986,      0.5996,\n",
              "            0.6006,      0.6016,      0.6026,      0.6036,      0.6046,     0.60561,     0.60661,     0.60761,     0.60861,     0.60961,     0.61061,     0.61161,     0.61261,     0.61361,     0.61461,     0.61562,     0.61662,     0.61762,     0.61862,     0.61962,     0.62062,     0.62162,     0.62262,     0.62362,\n",
              "           0.62462,     0.62563,     0.62663,     0.62763,     0.62863,     0.62963,     0.63063,     0.63163,     0.63263,     0.63363,     0.63463,     0.63564,     0.63664,     0.63764,     0.63864,     0.63964,     0.64064,     0.64164,     0.64264,     0.64364,     0.64464,     0.64565,     0.64665,     0.64765,\n",
              "           0.64865,     0.64965,     0.65065,     0.65165,     0.65265,     0.65365,     0.65465,     0.65566,     0.65666,     0.65766,     0.65866,     0.65966,     0.66066,     0.66166,     0.66266,     0.66366,     0.66466,     0.66567,     0.66667,     0.66767,     0.66867,     0.66967,     0.67067,     0.67167,\n",
              "           0.67267,     0.67367,     0.67467,     0.67568,     0.67668,     0.67768,     0.67868,     0.67968,     0.68068,     0.68168,     0.68268,     0.68368,     0.68468,     0.68569,     0.68669,     0.68769,     0.68869,     0.68969,     0.69069,     0.69169,     0.69269,     0.69369,     0.69469,      0.6957,\n",
              "            0.6967,      0.6977,      0.6987,      0.6997,      0.7007,      0.7017,      0.7027,      0.7037,      0.7047,     0.70571,     0.70671,     0.70771,     0.70871,     0.70971,     0.71071,     0.71171,     0.71271,     0.71371,     0.71471,     0.71572,     0.71672,     0.71772,     0.71872,     0.71972,\n",
              "           0.72072,     0.72172,     0.72272,     0.72372,     0.72472,     0.72573,     0.72673,     0.72773,     0.72873,     0.72973,     0.73073,     0.73173,     0.73273,     0.73373,     0.73473,     0.73574,     0.73674,     0.73774,     0.73874,     0.73974,     0.74074,     0.74174,     0.74274,     0.74374,\n",
              "           0.74474,     0.74575,     0.74675,     0.74775,     0.74875,     0.74975,     0.75075,     0.75175,     0.75275,     0.75375,     0.75475,     0.75576,     0.75676,     0.75776,     0.75876,     0.75976,     0.76076,     0.76176,     0.76276,     0.76376,     0.76476,     0.76577,     0.76677,     0.76777,\n",
              "           0.76877,     0.76977,     0.77077,     0.77177,     0.77277,     0.77377,     0.77477,     0.77578,     0.77678,     0.77778,     0.77878,     0.77978,     0.78078,     0.78178,     0.78278,     0.78378,     0.78478,     0.78579,     0.78679,     0.78779,     0.78879,     0.78979,     0.79079,     0.79179,\n",
              "           0.79279,     0.79379,     0.79479,      0.7958,      0.7968,      0.7978,      0.7988,      0.7998,      0.8008,      0.8018,      0.8028,      0.8038,      0.8048,     0.80581,     0.80681,     0.80781,     0.80881,     0.80981,     0.81081,     0.81181,     0.81281,     0.81381,     0.81481,     0.81582,\n",
              "           0.81682,     0.81782,     0.81882,     0.81982,     0.82082,     0.82182,     0.82282,     0.82382,     0.82482,     0.82583,     0.82683,     0.82783,     0.82883,     0.82983,     0.83083,     0.83183,     0.83283,     0.83383,     0.83483,     0.83584,     0.83684,     0.83784,     0.83884,     0.83984,\n",
              "           0.84084,     0.84184,     0.84284,     0.84384,     0.84484,     0.84585,     0.84685,     0.84785,     0.84885,     0.84985,     0.85085,     0.85185,     0.85285,     0.85385,     0.85485,     0.85586,     0.85686,     0.85786,     0.85886,     0.85986,     0.86086,     0.86186,     0.86286,     0.86386,\n",
              "           0.86486,     0.86587,     0.86687,     0.86787,     0.86887,     0.86987,     0.87087,     0.87187,     0.87287,     0.87387,     0.87487,     0.87588,     0.87688,     0.87788,     0.87888,     0.87988,     0.88088,     0.88188,     0.88288,     0.88388,     0.88488,     0.88589,     0.88689,     0.88789,\n",
              "           0.88889,     0.88989,     0.89089,     0.89189,     0.89289,     0.89389,     0.89489,      0.8959,      0.8969,      0.8979,      0.8989,      0.8999,      0.9009,      0.9019,      0.9029,      0.9039,      0.9049,     0.90591,     0.90691,     0.90791,     0.90891,     0.90991,     0.91091,     0.91191,\n",
              "           0.91291,     0.91391,     0.91491,     0.91592,     0.91692,     0.91792,     0.91892,     0.91992,     0.92092,     0.92192,     0.92292,     0.92392,     0.92492,     0.92593,     0.92693,     0.92793,     0.92893,     0.92993,     0.93093,     0.93193,     0.93293,     0.93393,     0.93493,     0.93594,\n",
              "           0.93694,     0.93794,     0.93894,     0.93994,     0.94094,     0.94194,     0.94294,     0.94394,     0.94494,     0.94595,     0.94695,     0.94795,     0.94895,     0.94995,     0.95095,     0.95195,     0.95295,     0.95395,     0.95495,     0.95596,     0.95696,     0.95796,     0.95896,     0.95996,\n",
              "           0.96096,     0.96196,     0.96296,     0.96396,     0.96496,     0.96597,     0.96697,     0.96797,     0.96897,     0.96997,     0.97097,     0.97197,     0.97297,     0.97397,     0.97497,     0.97598,     0.97698,     0.97798,     0.97898,     0.97998,     0.98098,     0.98198,     0.98298,     0.98398,\n",
              "           0.98498,     0.98599,     0.98699,     0.98799,     0.98899,     0.98999,     0.99099,     0.99199,     0.99299,     0.99399,     0.99499,       0.996,       0.997,       0.998,       0.999,           1]), array([[          1,           1,           1,           1,           1,           1,           1,           1,           1,           1,           1,           1,           1,           1,           1,           1,           1,           1,           1,           1,           1,           1,           1,\n",
              "                  1,           1,           1,           1,           1,           1,           1,           1,           1,           1,           1,           1,           1,           1,           1,           1,           1,           1,           1,           1,           1,           1,           1,\n",
              "                  1,           1,           1,           1,           1,           1,           1,           1,           1,           1,           1,           1,           1,           1,           1,           1,           1,           1,           1,           1,           1,           1,     0.98684,\n",
              "            0.98684,     0.98684,     0.98684,     0.98684,     0.98684,     0.98684,     0.98684,     0.98684,     0.98684,     0.98684,     0.98684,     0.98684,     0.98684,     0.98684,     0.98684,     0.98684,     0.98684,     0.98684,     0.98684,     0.98684,     0.98684,     0.98684,     0.98684,\n",
              "            0.98592,     0.98592,     0.98592,     0.98592,     0.98592,     0.98592,     0.98592,     0.98592,     0.98592,     0.98592,     0.98592,     0.98592,     0.98592,     0.98592,     0.98592,     0.98592,     0.98592,     0.98592,     0.98592,     0.98592,     0.98592,     0.98592,     0.98592,\n",
              "            0.98592,     0.98592,     0.98592,     0.98592,     0.98592,     0.98592,     0.98592,     0.98592,     0.98592,     0.98592,     0.98592,     0.98592,     0.98592,     0.98592,     0.98592,     0.98592,     0.98592,     0.98592,     0.98592,     0.98592,     0.98592,     0.98592,     0.98592,\n",
              "            0.98592,     0.98592,     0.98592,     0.98592,     0.98592,     0.98592,     0.98592,     0.98592,     0.98592,     0.98592,     0.98592,     0.98592,     0.98592,     0.98592,     0.98592,     0.98592,     0.98592,     0.98592,     0.98592,     0.98592,     0.98592,     0.98592,     0.98592,\n",
              "            0.98592,     0.98592,     0.98592,     0.98592,     0.98592,     0.98592,     0.98592,     0.98592,     0.98592,     0.98592,     0.98592,     0.98592,     0.98592,     0.98592,     0.98592,     0.98592,     0.98592,     0.98592,     0.98592,     0.98592,     0.98592,     0.98592,     0.98592,\n",
              "            0.98592,     0.98592,     0.98592,     0.98592,     0.98592,     0.98592,     0.98592,     0.98592,     0.98592,     0.98592,     0.98592,     0.98592,     0.98592,     0.98592,     0.98592,     0.98592,     0.98592,     0.98592,     0.98592,     0.98592,     0.98592,     0.98592,     0.98592,\n",
              "            0.98592,     0.98592,     0.98592,     0.98592,     0.98592,     0.98592,     0.98592,     0.98592,     0.98592,     0.98592,     0.98592,     0.98592,     0.98592,     0.98592,     0.98592,     0.98592,     0.98592,     0.98592,     0.98592,     0.98592,     0.98592,     0.98592,     0.98592,\n",
              "            0.98592,     0.98592,     0.98592,     0.98592,     0.98592,     0.98592,     0.98592,     0.98592,     0.98592,     0.98592,     0.98592,     0.98592,     0.98592,     0.98592,     0.98592,     0.98592,     0.98592,     0.98592,     0.98592,     0.98592,     0.98592,     0.98592,     0.98592,\n",
              "            0.98592,     0.98592,     0.98592,     0.98592,     0.98592,     0.98592,     0.98592,     0.98592,     0.98592,     0.98592,     0.98592,     0.98592,     0.98592,     0.98592,     0.98592,     0.98592,     0.98592,     0.98592,     0.98592,     0.98592,     0.98592,     0.98592,     0.98592,\n",
              "            0.98592,     0.98592,     0.98592,     0.98592,     0.98592,     0.98592,     0.98592,     0.98592,     0.98592,     0.98592,     0.98592,     0.98592,     0.98592,     0.98592,     0.98592,     0.98592,     0.98592,     0.98592,     0.98592,     0.98592,     0.98592,     0.98592,     0.98592,\n",
              "            0.98592,     0.98592,     0.98592,     0.98592,     0.98592,     0.98592,     0.98592,     0.98592,     0.98592,     0.98592,     0.98592,     0.98592,     0.98592,     0.98592,     0.98592,     0.98592,     0.98592,     0.98592,     0.98592,     0.98592,     0.98592,     0.98592,     0.98592,\n",
              "            0.98592,     0.98592,     0.98592,     0.98592,     0.98592,     0.98592,     0.98592,     0.98592,     0.98592,     0.98592,     0.98592,     0.98592,     0.98592,     0.98592,     0.98592,     0.98592,     0.98592,     0.98592,     0.98592,     0.98592,     0.98333,     0.98333,     0.98333,\n",
              "            0.98333,     0.98333,     0.98333,     0.98333,     0.98333,     0.98333,     0.98333,     0.98333,     0.98333,     0.98333,     0.98333,     0.98333,     0.98333,     0.98333,     0.98333,     0.98333,     0.98071,     0.98071,     0.98071,     0.98071,     0.98071,     0.98071,     0.98071,\n",
              "            0.98071,     0.98071,     0.98071,     0.98071,     0.98071,     0.97674,     0.97674,     0.97674,     0.97674,     0.97674,     0.97674,     0.97674,     0.97674,     0.97674,     0.97674,     0.97674,     0.97674,     0.97674,     0.97674,     0.97674,     0.97674,     0.97674,     0.97674,\n",
              "            0.97674,     0.97674,     0.97674,     0.97674,     0.97674,     0.97674,     0.97674,     0.97674,     0.97674,     0.97674,     0.97674,     0.97674,     0.97674,     0.97674,     0.97674,     0.97674,     0.97674,     0.97674,     0.97674,     0.97674,     0.97414,     0.97414,     0.97414,\n",
              "            0.97414,     0.97222,     0.97222,     0.97222,     0.97222,     0.97222,     0.97222,     0.97222,     0.97222,     0.97222,     0.97222,     0.97222,     0.97222,     0.97222,     0.96694,     0.96438,     0.96267,     0.96267,     0.96267,     0.96267,     0.96267,     0.96267,     0.96267,\n",
              "            0.96267,     0.96267,     0.96267,     0.96267,     0.96053,     0.96053,     0.96053,     0.96053,     0.96053,     0.95812,      0.9563,      0.9563,      0.9563,      0.9563,      0.9563,      0.9563,      0.9563,      0.9563,     0.95443,     0.95443,     0.95443,     0.95443,     0.95443,\n",
              "            0.95443,     0.95093,     0.95093,     0.95093,     0.95093,     0.95093,     0.95093,     0.95093,     0.95093,     0.95093,     0.95093,     0.95093,     0.95093,     0.95093,     0.95093,     0.95093,     0.95093,     0.95093,     0.95093,     0.95093,     0.95093,     0.95093,     0.95093,\n",
              "            0.95093,     0.95093,     0.95093,     0.95093,     0.95093,     0.95093,     0.95093,     0.95093,     0.95093,     0.95093,     0.95093,     0.95093,     0.95093,     0.95093,     0.95093,     0.94884,     0.94761,     0.94761,     0.94761,     0.94761,     0.94761,     0.94761,     0.94761,\n",
              "            0.94761,     0.94761,     0.94761,     0.94357,     0.94357,     0.94235,     0.94235,     0.94235,     0.94235,     0.94235,     0.94235,     0.94235,     0.94235,     0.94235,     0.93873,     0.93873,     0.93873,     0.93873,     0.93709,     0.93709,     0.93709,     0.93709,     0.93661,\n",
              "            0.93661,     0.93661,     0.93661,     0.93661,     0.93661,     0.93661,     0.93661,     0.93661,     0.93661,     0.93661,     0.93661,     0.93661,     0.93661,     0.93661,     0.93661,     0.93661,     0.93661,     0.93661,     0.93661,     0.93661,     0.93661,     0.93661,     0.93661,\n",
              "            0.93661,     0.93661,     0.93661,     0.93661,     0.93661,     0.93661,     0.93661,     0.93661,     0.93496,     0.93496,     0.93387,     0.93387,     0.93387,     0.93387,     0.93387,     0.93387,     0.93387,     0.93387,     0.93241,     0.93241,     0.93241,      0.9311,      0.9311,\n",
              "             0.9311,      0.9311,      0.9311,     0.92969,     0.92969,     0.92969,     0.92969,     0.92802,     0.92664,     0.92664,     0.92664,     0.92664,     0.92439,     0.92439,     0.92439,     0.92439,     0.92439,     0.92439,     0.92439,     0.92439,     0.92439,     0.92439,     0.92439,\n",
              "            0.92164,     0.92164,     0.92164,     0.92164,     0.92164,     0.92164,     0.91725,     0.91725,     0.91725,     0.91725,     0.91725,     0.91725,     0.91725,     0.91725,     0.91725,     0.91725,     0.91725,     0.91725,     0.91725,     0.91725,     0.91725,     0.91725,     0.91725,\n",
              "            0.91725,     0.91725,     0.91725,     0.91725,     0.91725,     0.91725,     0.91725,     0.91725,     0.91725,     0.91725,     0.91725,     0.91725,     0.91725,     0.91725,     0.91725,     0.91725,     0.91449,     0.91449,     0.91449,     0.91146,     0.91146,     0.90878,     0.90878,\n",
              "            0.90878,     0.90816,     0.90816,     0.90816,     0.90816,     0.90816,     0.90816,     0.90816,     0.90816,     0.90541,     0.90541,     0.90452,     0.90452,     0.90452,     0.90452,     0.90452,     0.90429,     0.90429,     0.90429,     0.90429,     0.90429,     0.90429,     0.90429,\n",
              "            0.90429,     0.90429,     0.90429,     0.90113,     0.90113,     0.90113,     0.90113,     0.90113,     0.90113,     0.90113,     0.90113,     0.90113,     0.90113,      0.8965,      0.8965,      0.8965,      0.8965,      0.8965,      0.8965,      0.8965,      0.8965,     0.89241,     0.89011,\n",
              "            0.89011,     0.89011,     0.89011,      0.8875,     0.88491,     0.88372,     0.88372,     0.88117,        0.88,     0.87615,       0.875,       0.875,     0.87253,     0.87141,     0.87029,     0.86917,     0.86289,     0.86289,     0.86181,     0.86074,     0.85862,     0.85862,     0.85862,\n",
              "            0.85777,     0.85777,      0.8559,      0.8559,      0.8559,      0.8559,     0.85116,     0.84571,     0.84571,     0.84571,     0.84473,     0.84473,     0.84375,     0.84344,     0.84344,     0.84344,     0.84344,     0.84344,     0.84248,     0.83588,     0.83588,     0.83495,     0.83495,\n",
              "            0.83104,     0.83104,     0.83104,     0.83014,     0.83014,     0.82321,     0.82321,     0.82321,     0.82321,     0.81903,     0.81903,     0.81709,     0.81516,     0.80577,     0.80392,     0.80392,     0.80313,     0.80234,     0.80181,     0.80181,     0.80103,     0.80103,     0.80026,\n",
              "            0.79949,     0.79416,     0.79416,     0.79416,     0.79416,     0.79345,     0.79345,     0.79345,     0.79345,     0.79345,     0.79345,     0.78191,     0.77833,     0.77669,     0.77669,     0.77628,     0.77628,     0.77278,     0.76562,     0.76071,     0.76071,     0.76071,     0.75829,\n",
              "            0.75768,     0.75469,     0.75469,     0.75469,     0.75263,     0.75263,     0.74855,      0.7477,      0.7477,      0.7477,      0.7477,     0.74286,     0.74175,     0.74175,     0.74175,      0.7412,     0.74066,     0.73928,      0.7346,      0.7346,     0.73244,     0.72707,     0.72687,\n",
              "            0.72687,     0.72687,      0.7224,     0.72113,     0.71367,     0.71245,     0.70971,     0.70971,     0.70626,     0.70582,      0.7039,     0.70347,     0.70347,     0.69358,     0.68609,     0.68502,     0.68325,     0.68251,     0.68251,     0.68251,     0.68145,     0.67904,     0.67161,\n",
              "            0.67161,     0.67161,     0.66732,     0.66149,     0.66149,     0.66054,     0.66054,     0.65994,     0.65994,     0.65994,     0.65994,     0.65994,     0.65964,     0.65807,     0.65527,     0.65498,     0.64492,     0.64492,     0.64378,     0.64378,     0.63879,     0.61757,     0.61757,\n",
              "            0.61464,     0.60908,      0.6073,     0.60397,      0.5966,      0.5966,     0.59492,     0.58927,     0.58618,     0.58025,     0.57633,     0.57633,      0.5734,     0.57189,     0.57177,     0.56755,     0.56755,     0.56473,     0.56374,     0.56186,     0.55781,     0.55556,     0.55556,\n",
              "            0.54407,      0.5391,     0.53823,     0.53617,     0.53617,     0.53452,     0.52821,     0.52816,     0.52735,     0.52731,     0.52731,     0.52689,      0.5223,     0.51378,     0.50242,     0.50242,     0.50207,     0.49459,     0.49459,     0.49326,     0.48867,     0.48867,     0.48706,\n",
              "            0.48675,     0.48613,     0.47487,     0.47487,     0.47429,     0.47341,      0.4657,     0.46168,     0.45272,     0.45272,     0.44949,     0.43306,     0.42718,     0.41491,     0.41491,     0.40357,     0.37494,      0.3677,     0.36603,     0.36492,     0.36492,     0.35472,     0.35452,\n",
              "            0.34667,     0.34475,     0.34475,      0.3381,     0.32999,     0.32715,     0.32188,     0.31759,     0.31759,     0.31485,     0.31462,     0.31283,     0.30683,     0.30683,     0.30297,     0.29992,     0.29844,     0.28786,     0.24976,     0.24976,     0.24437,     0.24283,     0.23783,\n",
              "            0.23481,     0.23481,     0.21791,     0.21739,     0.21737,     0.21631,      0.2121,      0.2121,     0.19677,     0.19598,     0.18338,     0.17565,     0.17565,      0.1689,     0.15938,     0.15823,     0.15259,     0.15114,     0.15114,     0.14445,     0.13396,     0.13036,     0.12787,\n",
              "            0.12787,     0.11308,    0.099899,    0.096676,    0.093454,    0.090231,    0.087009,    0.083786,    0.080564,    0.077341,    0.074118,    0.070896,    0.067673,    0.064451,    0.061228,    0.058006,    0.054783,    0.051561,    0.048338,    0.045116,    0.041893,    0.038671,    0.035448,\n",
              "           0.032225,    0.029003,     0.02578,    0.022558,    0.019335,    0.016113,     0.01289,   0.0096676,   0.0064451,   0.0032225,           0]]), 'Recall', 'Precision'], [array([          0,    0.001001,    0.002002,    0.003003,    0.004004,    0.005005,    0.006006,    0.007007,    0.008008,    0.009009,     0.01001,    0.011011,    0.012012,    0.013013,    0.014014,    0.015015,    0.016016,    0.017017,    0.018018,    0.019019,     0.02002,    0.021021,    0.022022,    0.023023,\n",
              "          0.024024,    0.025025,    0.026026,    0.027027,    0.028028,    0.029029,     0.03003,    0.031031,    0.032032,    0.033033,    0.034034,    0.035035,    0.036036,    0.037037,    0.038038,    0.039039,     0.04004,    0.041041,    0.042042,    0.043043,    0.044044,    0.045045,    0.046046,    0.047047,\n",
              "          0.048048,    0.049049,     0.05005,    0.051051,    0.052052,    0.053053,    0.054054,    0.055055,    0.056056,    0.057057,    0.058058,    0.059059,     0.06006,    0.061061,    0.062062,    0.063063,    0.064064,    0.065065,    0.066066,    0.067067,    0.068068,    0.069069,     0.07007,    0.071071,\n",
              "          0.072072,    0.073073,    0.074074,    0.075075,    0.076076,    0.077077,    0.078078,    0.079079,     0.08008,    0.081081,    0.082082,    0.083083,    0.084084,    0.085085,    0.086086,    0.087087,    0.088088,    0.089089,     0.09009,    0.091091,    0.092092,    0.093093,    0.094094,    0.095095,\n",
              "          0.096096,    0.097097,    0.098098,    0.099099,      0.1001,      0.1011,      0.1021,      0.1031,      0.1041,     0.10511,     0.10611,     0.10711,     0.10811,     0.10911,     0.11011,     0.11111,     0.11211,     0.11311,     0.11411,     0.11512,     0.11612,     0.11712,     0.11812,     0.11912,\n",
              "           0.12012,     0.12112,     0.12212,     0.12312,     0.12412,     0.12513,     0.12613,     0.12713,     0.12813,     0.12913,     0.13013,     0.13113,     0.13213,     0.13313,     0.13413,     0.13514,     0.13614,     0.13714,     0.13814,     0.13914,     0.14014,     0.14114,     0.14214,     0.14314,\n",
              "           0.14414,     0.14515,     0.14615,     0.14715,     0.14815,     0.14915,     0.15015,     0.15115,     0.15215,     0.15315,     0.15415,     0.15516,     0.15616,     0.15716,     0.15816,     0.15916,     0.16016,     0.16116,     0.16216,     0.16316,     0.16416,     0.16517,     0.16617,     0.16717,\n",
              "           0.16817,     0.16917,     0.17017,     0.17117,     0.17217,     0.17317,     0.17417,     0.17518,     0.17618,     0.17718,     0.17818,     0.17918,     0.18018,     0.18118,     0.18218,     0.18318,     0.18418,     0.18519,     0.18619,     0.18719,     0.18819,     0.18919,     0.19019,     0.19119,\n",
              "           0.19219,     0.19319,     0.19419,      0.1952,      0.1962,      0.1972,      0.1982,      0.1992,      0.2002,      0.2012,      0.2022,      0.2032,      0.2042,     0.20521,     0.20621,     0.20721,     0.20821,     0.20921,     0.21021,     0.21121,     0.21221,     0.21321,     0.21421,     0.21522,\n",
              "           0.21622,     0.21722,     0.21822,     0.21922,     0.22022,     0.22122,     0.22222,     0.22322,     0.22422,     0.22523,     0.22623,     0.22723,     0.22823,     0.22923,     0.23023,     0.23123,     0.23223,     0.23323,     0.23423,     0.23524,     0.23624,     0.23724,     0.23824,     0.23924,\n",
              "           0.24024,     0.24124,     0.24224,     0.24324,     0.24424,     0.24525,     0.24625,     0.24725,     0.24825,     0.24925,     0.25025,     0.25125,     0.25225,     0.25325,     0.25425,     0.25526,     0.25626,     0.25726,     0.25826,     0.25926,     0.26026,     0.26126,     0.26226,     0.26326,\n",
              "           0.26426,     0.26527,     0.26627,     0.26727,     0.26827,     0.26927,     0.27027,     0.27127,     0.27227,     0.27327,     0.27427,     0.27528,     0.27628,     0.27728,     0.27828,     0.27928,     0.28028,     0.28128,     0.28228,     0.28328,     0.28428,     0.28529,     0.28629,     0.28729,\n",
              "           0.28829,     0.28929,     0.29029,     0.29129,     0.29229,     0.29329,     0.29429,      0.2953,      0.2963,      0.2973,      0.2983,      0.2993,      0.3003,      0.3013,      0.3023,      0.3033,      0.3043,     0.30531,     0.30631,     0.30731,     0.30831,     0.30931,     0.31031,     0.31131,\n",
              "           0.31231,     0.31331,     0.31431,     0.31532,     0.31632,     0.31732,     0.31832,     0.31932,     0.32032,     0.32132,     0.32232,     0.32332,     0.32432,     0.32533,     0.32633,     0.32733,     0.32833,     0.32933,     0.33033,     0.33133,     0.33233,     0.33333,     0.33433,     0.33534,\n",
              "           0.33634,     0.33734,     0.33834,     0.33934,     0.34034,     0.34134,     0.34234,     0.34334,     0.34434,     0.34535,     0.34635,     0.34735,     0.34835,     0.34935,     0.35035,     0.35135,     0.35235,     0.35335,     0.35435,     0.35536,     0.35636,     0.35736,     0.35836,     0.35936,\n",
              "           0.36036,     0.36136,     0.36236,     0.36336,     0.36436,     0.36537,     0.36637,     0.36737,     0.36837,     0.36937,     0.37037,     0.37137,     0.37237,     0.37337,     0.37437,     0.37538,     0.37638,     0.37738,     0.37838,     0.37938,     0.38038,     0.38138,     0.38238,     0.38338,\n",
              "           0.38438,     0.38539,     0.38639,     0.38739,     0.38839,     0.38939,     0.39039,     0.39139,     0.39239,     0.39339,     0.39439,      0.3954,      0.3964,      0.3974,      0.3984,      0.3994,      0.4004,      0.4014,      0.4024,      0.4034,      0.4044,     0.40541,     0.40641,     0.40741,\n",
              "           0.40841,     0.40941,     0.41041,     0.41141,     0.41241,     0.41341,     0.41441,     0.41542,     0.41642,     0.41742,     0.41842,     0.41942,     0.42042,     0.42142,     0.42242,     0.42342,     0.42442,     0.42543,     0.42643,     0.42743,     0.42843,     0.42943,     0.43043,     0.43143,\n",
              "           0.43243,     0.43343,     0.43443,     0.43544,     0.43644,     0.43744,     0.43844,     0.43944,     0.44044,     0.44144,     0.44244,     0.44344,     0.44444,     0.44545,     0.44645,     0.44745,     0.44845,     0.44945,     0.45045,     0.45145,     0.45245,     0.45345,     0.45445,     0.45546,\n",
              "           0.45646,     0.45746,     0.45846,     0.45946,     0.46046,     0.46146,     0.46246,     0.46346,     0.46446,     0.46547,     0.46647,     0.46747,     0.46847,     0.46947,     0.47047,     0.47147,     0.47247,     0.47347,     0.47447,     0.47548,     0.47648,     0.47748,     0.47848,     0.47948,\n",
              "           0.48048,     0.48148,     0.48248,     0.48348,     0.48448,     0.48549,     0.48649,     0.48749,     0.48849,     0.48949,     0.49049,     0.49149,     0.49249,     0.49349,     0.49449,      0.4955,      0.4965,      0.4975,      0.4985,      0.4995,      0.5005,      0.5015,      0.5025,      0.5035,\n",
              "            0.5045,     0.50551,     0.50651,     0.50751,     0.50851,     0.50951,     0.51051,     0.51151,     0.51251,     0.51351,     0.51451,     0.51552,     0.51652,     0.51752,     0.51852,     0.51952,     0.52052,     0.52152,     0.52252,     0.52352,     0.52452,     0.52553,     0.52653,     0.52753,\n",
              "           0.52853,     0.52953,     0.53053,     0.53153,     0.53253,     0.53353,     0.53453,     0.53554,     0.53654,     0.53754,     0.53854,     0.53954,     0.54054,     0.54154,     0.54254,     0.54354,     0.54454,     0.54555,     0.54655,     0.54755,     0.54855,     0.54955,     0.55055,     0.55155,\n",
              "           0.55255,     0.55355,     0.55455,     0.55556,     0.55656,     0.55756,     0.55856,     0.55956,     0.56056,     0.56156,     0.56256,     0.56356,     0.56456,     0.56557,     0.56657,     0.56757,     0.56857,     0.56957,     0.57057,     0.57157,     0.57257,     0.57357,     0.57457,     0.57558,\n",
              "           0.57658,     0.57758,     0.57858,     0.57958,     0.58058,     0.58158,     0.58258,     0.58358,     0.58458,     0.58559,     0.58659,     0.58759,     0.58859,     0.58959,     0.59059,     0.59159,     0.59259,     0.59359,     0.59459,      0.5956,      0.5966,      0.5976,      0.5986,      0.5996,\n",
              "            0.6006,      0.6016,      0.6026,      0.6036,      0.6046,     0.60561,     0.60661,     0.60761,     0.60861,     0.60961,     0.61061,     0.61161,     0.61261,     0.61361,     0.61461,     0.61562,     0.61662,     0.61762,     0.61862,     0.61962,     0.62062,     0.62162,     0.62262,     0.62362,\n",
              "           0.62462,     0.62563,     0.62663,     0.62763,     0.62863,     0.62963,     0.63063,     0.63163,     0.63263,     0.63363,     0.63463,     0.63564,     0.63664,     0.63764,     0.63864,     0.63964,     0.64064,     0.64164,     0.64264,     0.64364,     0.64464,     0.64565,     0.64665,     0.64765,\n",
              "           0.64865,     0.64965,     0.65065,     0.65165,     0.65265,     0.65365,     0.65465,     0.65566,     0.65666,     0.65766,     0.65866,     0.65966,     0.66066,     0.66166,     0.66266,     0.66366,     0.66466,     0.66567,     0.66667,     0.66767,     0.66867,     0.66967,     0.67067,     0.67167,\n",
              "           0.67267,     0.67367,     0.67467,     0.67568,     0.67668,     0.67768,     0.67868,     0.67968,     0.68068,     0.68168,     0.68268,     0.68368,     0.68468,     0.68569,     0.68669,     0.68769,     0.68869,     0.68969,     0.69069,     0.69169,     0.69269,     0.69369,     0.69469,      0.6957,\n",
              "            0.6967,      0.6977,      0.6987,      0.6997,      0.7007,      0.7017,      0.7027,      0.7037,      0.7047,     0.70571,     0.70671,     0.70771,     0.70871,     0.70971,     0.71071,     0.71171,     0.71271,     0.71371,     0.71471,     0.71572,     0.71672,     0.71772,     0.71872,     0.71972,\n",
              "           0.72072,     0.72172,     0.72272,     0.72372,     0.72472,     0.72573,     0.72673,     0.72773,     0.72873,     0.72973,     0.73073,     0.73173,     0.73273,     0.73373,     0.73473,     0.73574,     0.73674,     0.73774,     0.73874,     0.73974,     0.74074,     0.74174,     0.74274,     0.74374,\n",
              "           0.74474,     0.74575,     0.74675,     0.74775,     0.74875,     0.74975,     0.75075,     0.75175,     0.75275,     0.75375,     0.75475,     0.75576,     0.75676,     0.75776,     0.75876,     0.75976,     0.76076,     0.76176,     0.76276,     0.76376,     0.76476,     0.76577,     0.76677,     0.76777,\n",
              "           0.76877,     0.76977,     0.77077,     0.77177,     0.77277,     0.77377,     0.77477,     0.77578,     0.77678,     0.77778,     0.77878,     0.77978,     0.78078,     0.78178,     0.78278,     0.78378,     0.78478,     0.78579,     0.78679,     0.78779,     0.78879,     0.78979,     0.79079,     0.79179,\n",
              "           0.79279,     0.79379,     0.79479,      0.7958,      0.7968,      0.7978,      0.7988,      0.7998,      0.8008,      0.8018,      0.8028,      0.8038,      0.8048,     0.80581,     0.80681,     0.80781,     0.80881,     0.80981,     0.81081,     0.81181,     0.81281,     0.81381,     0.81481,     0.81582,\n",
              "           0.81682,     0.81782,     0.81882,     0.81982,     0.82082,     0.82182,     0.82282,     0.82382,     0.82482,     0.82583,     0.82683,     0.82783,     0.82883,     0.82983,     0.83083,     0.83183,     0.83283,     0.83383,     0.83483,     0.83584,     0.83684,     0.83784,     0.83884,     0.83984,\n",
              "           0.84084,     0.84184,     0.84284,     0.84384,     0.84484,     0.84585,     0.84685,     0.84785,     0.84885,     0.84985,     0.85085,     0.85185,     0.85285,     0.85385,     0.85485,     0.85586,     0.85686,     0.85786,     0.85886,     0.85986,     0.86086,     0.86186,     0.86286,     0.86386,\n",
              "           0.86486,     0.86587,     0.86687,     0.86787,     0.86887,     0.86987,     0.87087,     0.87187,     0.87287,     0.87387,     0.87487,     0.87588,     0.87688,     0.87788,     0.87888,     0.87988,     0.88088,     0.88188,     0.88288,     0.88388,     0.88488,     0.88589,     0.88689,     0.88789,\n",
              "           0.88889,     0.88989,     0.89089,     0.89189,     0.89289,     0.89389,     0.89489,      0.8959,      0.8969,      0.8979,      0.8989,      0.8999,      0.9009,      0.9019,      0.9029,      0.9039,      0.9049,     0.90591,     0.90691,     0.90791,     0.90891,     0.90991,     0.91091,     0.91191,\n",
              "           0.91291,     0.91391,     0.91491,     0.91592,     0.91692,     0.91792,     0.91892,     0.91992,     0.92092,     0.92192,     0.92292,     0.92392,     0.92492,     0.92593,     0.92693,     0.92793,     0.92893,     0.92993,     0.93093,     0.93193,     0.93293,     0.93393,     0.93493,     0.93594,\n",
              "           0.93694,     0.93794,     0.93894,     0.93994,     0.94094,     0.94194,     0.94294,     0.94394,     0.94494,     0.94595,     0.94695,     0.94795,     0.94895,     0.94995,     0.95095,     0.95195,     0.95295,     0.95395,     0.95495,     0.95596,     0.95696,     0.95796,     0.95896,     0.95996,\n",
              "           0.96096,     0.96196,     0.96296,     0.96396,     0.96496,     0.96597,     0.96697,     0.96797,     0.96897,     0.96997,     0.97097,     0.97197,     0.97297,     0.97397,     0.97497,     0.97598,     0.97698,     0.97798,     0.97898,     0.97998,     0.98098,     0.98198,     0.98298,     0.98398,\n",
              "           0.98498,     0.98599,     0.98699,     0.98799,     0.98899,     0.98999,     0.99099,     0.99199,     0.99299,     0.99399,     0.99499,       0.996,       0.997,       0.998,       0.999,           1]), array([[    0.18509,     0.18509,     0.25685,       0.304,      0.3404,     0.36996,     0.39437,     0.41794,      0.4349,     0.44955,     0.46454,     0.47579,     0.48634,     0.49505,     0.50479,     0.51298,     0.52133,      0.5291,     0.53759,     0.54808,     0.55519,     0.55937,     0.56403,\n",
              "            0.56989,     0.57606,     0.58133,     0.58638,     0.59048,     0.59539,     0.59964,     0.60372,      0.6072,     0.61093,     0.61351,     0.61587,     0.61803,      0.6208,     0.62147,     0.62564,     0.62807,     0.63086,     0.63221,     0.63345,     0.63588,     0.63735,     0.64035,\n",
              "            0.64176,     0.64285,     0.64387,     0.64653,     0.64867,     0.65077,      0.6529,      0.6556,     0.65717,     0.65805,      0.6602,     0.65999,     0.66065,     0.66352,     0.66552,     0.66695,     0.66703,     0.66854,     0.66941,     0.67121,      0.6738,     0.67452,     0.67805,\n",
              "            0.67879,     0.68011,     0.68083,     0.68197,     0.68284,      0.6829,      0.6841,     0.68473,     0.68548,     0.68727,     0.68809,     0.68871,     0.68863,      0.6889,     0.69084,     0.69164,     0.69323,     0.69411,     0.69505,     0.69608,     0.69688,      0.6979,     0.69882,\n",
              "            0.69888,     0.70069,     0.70211,     0.70333,     0.70392,     0.70481,     0.70785,     0.70815,     0.70867,      0.7094,     0.70952,     0.71011,     0.71077,     0.71124,     0.71144,     0.71182,     0.71259,     0.71373,     0.71368,     0.71397,     0.71415,     0.71492,     0.71532,\n",
              "            0.71621,     0.71783,     0.71888,     0.72033,     0.72191,     0.72256,     0.72344,      0.7247,     0.72507,     0.72606,     0.72737,     0.72768,     0.72827,     0.72867,     0.73147,     0.73153,     0.73182,      0.7314,     0.73186,     0.73262,     0.73453,     0.73551,     0.73593,\n",
              "            0.73645,     0.73685,     0.73751,     0.73736,     0.73763,     0.73884,     0.73859,     0.73871,     0.73814,     0.73783,     0.73752,     0.73706,     0.73663,     0.73734,     0.73839,     0.73874,     0.73895,     0.73962,     0.73967,     0.74049,     0.74145,     0.74206,     0.74196,\n",
              "            0.74118,     0.74136,     0.74208,     0.74389,     0.74481,     0.74507,     0.74539,     0.74589,     0.74572,      0.7462,     0.74644,     0.74693,     0.74636,     0.74643,     0.74661,     0.74573,     0.74621,     0.74694,     0.74661,     0.74653,     0.74678,     0.74714,     0.74697,\n",
              "            0.74715,     0.74733,     0.74795,     0.74906,     0.74975,     0.75043,     0.75051,     0.75094,     0.75113,     0.75178,     0.75258,     0.75355,     0.75395,     0.75418,     0.75511,     0.75546,     0.75571,     0.75633,     0.75595,     0.75607,     0.75612,     0.75589,     0.75606,\n",
              "            0.75675,     0.75719,     0.75753,     0.75777,     0.75724,     0.75747,     0.75792,     0.75869,     0.75828,     0.75884,     0.75869,     0.75968,        0.76,     0.76194,     0.76261,     0.76243,     0.76262,     0.76281,     0.76229,     0.76266,     0.76359,     0.76394,     0.76437,\n",
              "             0.7635,     0.76371,     0.76347,     0.76444,     0.76466,     0.76488,     0.76519,     0.76575,     0.76606,      0.7657,      0.7664,     0.76673,     0.76617,     0.76637,     0.76659,     0.76683,     0.76701,      0.7671,     0.76719,     0.76728,     0.76736,     0.76805,     0.76866,\n",
              "             0.7682,     0.76862,     0.76862,     0.76801,     0.76808,     0.76814,     0.76821,     0.76828,     0.76835,     0.76763,     0.76716,     0.76728,     0.76767,     0.76817,     0.76848,     0.76951,     0.76964,     0.76816,     0.76815,     0.76794,     0.76821,     0.76896,     0.76977,\n",
              "            0.76932,     0.76909,     0.76886,     0.76875,     0.76906,     0.76925,     0.76939,     0.76954,     0.76971,      0.7699,     0.76997,     0.76936,     0.76873,     0.76904,     0.76931,     0.76957,     0.76981,     0.77005,     0.77028,     0.76987,     0.76975,     0.76984,     0.77077,\n",
              "            0.76947,     0.76989,     0.77011,     0.77054,     0.77121,     0.77148,     0.77176,     0.77203,     0.77144,     0.77194,     0.77322,     0.77357,     0.77382,     0.77402,      0.7747,     0.77508,     0.77443,     0.77455,     0.77466,     0.77477,     0.77493,      0.7752,     0.77584,\n",
              "             0.7753,     0.77486,     0.77504,     0.77541,     0.77502,     0.77488,     0.77538,     0.77566,     0.77594,     0.77594,     0.77622,     0.77662,     0.77699,     0.77727,     0.77821,     0.77883,     0.77935,     0.77986,     0.78019,     0.78059,     0.78154,     0.78128,      0.7808,\n",
              "            0.77858,     0.77836,     0.77813,     0.77791,      0.7785,     0.77805,     0.77728,       0.777,     0.77671,     0.77719,     0.77775,     0.77879,      0.7788,     0.77899,     0.77917,     0.77861,     0.77763,     0.77716,     0.77745,     0.77738,     0.77706,     0.77683,     0.77705,\n",
              "            0.77728,     0.77678,     0.77672,      0.7769,      0.7765,     0.77645,      0.7769,     0.77645,     0.77655,     0.77665,     0.77674,     0.77684,     0.77694,     0.77722,     0.77807,     0.77957,     0.78008,      0.7805,      0.7808,     0.78058,     0.78069,     0.78118,     0.78156,\n",
              "            0.78253,     0.78172,     0.78095,     0.78049,      0.7799,     0.77952,     0.77978,     0.78004,      0.7803,     0.78127,     0.78153,     0.78166,     0.78179,     0.78192,     0.78238,      0.7829,     0.78094,     0.78035,     0.78061,     0.78087,     0.78113,     0.78147,     0.78199,\n",
              "            0.78178,     0.78062,     0.78088,     0.78114,      0.7814,     0.78185,     0.78218,     0.78244,     0.78273,     0.78351,     0.78334,     0.78318,     0.78302,     0.78285,     0.78283,     0.78225,     0.78143,     0.78076,     0.78049,     0.78022,     0.78022,     0.78001,     0.77973,\n",
              "            0.77942,     0.77888,     0.77847,     0.77775,     0.77802,     0.77828,     0.77854,     0.77903,     0.77925,     0.77943,     0.77961,        0.78,     0.77986,     0.77973,     0.77959,     0.77945,     0.77935,     0.77965,     0.77994,     0.78021,     0.78047,     0.78074,     0.78113,\n",
              "            0.78098,     0.78044,     0.78016,     0.77989,     0.77964,     0.77991,     0.77982,     0.77954,     0.77926,     0.77859,     0.77877,     0.77857,     0.77815,       0.778,     0.77826,     0.77757,     0.77796,     0.77762,      0.7772,      0.7777,     0.77688,     0.77715,     0.77744,\n",
              "            0.77794,     0.77807,     0.77821,     0.77834,      0.7785,     0.77877,     0.77902,      0.7792,     0.77938,     0.77924,     0.77874,     0.77892,      0.7791,      0.7786,     0.77819,     0.77846,      0.7782,     0.77805,     0.77829,      0.7783,     0.77787,     0.77803,      0.7784,\n",
              "            0.77867,     0.77913,      0.7787,     0.77838,     0.77836,     0.77863,      0.7788,     0.77893,     0.77907,     0.77921,     0.77884,     0.77841,     0.77864,     0.77892,     0.77809,     0.77836,     0.77863,     0.77881,     0.77899,     0.77903,      0.7784,     0.77754,     0.77697,\n",
              "            0.77783,      0.7774,     0.77846,     0.77688,     0.77644,       0.775,     0.77356,     0.77344,     0.77331,     0.77319,     0.77306,     0.77294,     0.77282,     0.77306,     0.77415,      0.7747,     0.77478,     0.77456,     0.77434,     0.77412,     0.77374,      0.7733,     0.77221,\n",
              "            0.77204,     0.77186,     0.77168,     0.77151,      0.7707,     0.76923,     0.76829,     0.76872,     0.76899,     0.76927,     0.76955,     0.76954,     0.76931,     0.76909,     0.76887,      0.7682,     0.76762,     0.76718,     0.76553,     0.76464,     0.76375,     0.76285,     0.76249,\n",
              "             0.7616,     0.75982,     0.75913,     0.75883,     0.75853,     0.75871,     0.75781,     0.75721,      0.7558,     0.75535,     0.75489,     0.75443,     0.75332,      0.7524,     0.75257,     0.75254,     0.75282,     0.75331,     0.75152,      0.7514,     0.75127,     0.75115,     0.75103,\n",
              "             0.7509,     0.75078,       0.751,     0.75133,     0.75147,     0.75161,     0.75175,     0.75123,     0.74976,     0.74939,       0.748,     0.74718,     0.74671,      0.7452,     0.74427,     0.74333,     0.74148,     0.74082,     0.74061,     0.74041,      0.7402,     0.73999,     0.73683,\n",
              "            0.73496,     0.73308,      0.7322,     0.73205,      0.7319,     0.73176,     0.73161,     0.73146,     0.73131,     0.73092,     0.73044,     0.73064,     0.73072,     0.73024,     0.72958,     0.72876,     0.72913,      0.7269,     0.72551,     0.72579,     0.72414,     0.72366,     0.72304,\n",
              "            0.72197,     0.72148,     0.72099,     0.72051,     0.71872,     0.71816,     0.71777,     0.71765,      0.7173,     0.71598,     0.71614,     0.71593,      0.7156,     0.71527,     0.71546,     0.71568,     0.71529,     0.71461,     0.71422,      0.7129,     0.71306,     0.71322,     0.71337,\n",
              "            0.71212,     0.71162,       0.711,      0.7096,     0.70988,     0.70976,     0.70842,      0.7076,     0.70732,     0.70692,     0.70647,     0.70597,     0.70423,     0.70176,     0.70191,     0.70207,     0.70223,     0.70069,     0.70065,     0.69958,     0.69917,     0.69871,     0.69802,\n",
              "            0.69508,     0.69405,     0.69302,     0.69048,     0.68843,     0.68699,     0.68584,     0.68524,     0.68461,     0.68411,     0.68381,     0.68351,     0.68309,      0.6819,     0.68138,     0.68074,     0.67998,     0.67873,     0.67736,     0.67685,     0.67655,     0.67624,     0.67531,\n",
              "             0.6746,     0.67359,     0.67262,     0.67265,     0.67194,     0.67089,      0.6694,     0.66961,     0.66977,     0.66875,     0.66839,     0.66803,     0.66757,     0.66631,     0.66277,     0.66167,     0.66097,     0.66132,     0.65891,     0.65718,     0.65663,     0.65347,     0.65303,\n",
              "            0.65284,     0.64871,     0.64815,     0.64733,      0.6454,     0.64484,     0.64224,     0.64196,     0.64168,     0.64139,      0.6397,     0.63901,     0.63855,      0.6381,     0.63742,     0.63623,     0.63486,     0.63317,      0.6305,     0.62808,     0.62643,     0.62597,     0.62519,\n",
              "            0.62422,     0.62122,      0.6213,     0.62112,     0.62041,     0.61982,     0.61899,     0.61767,     0.61599,     0.61501,     0.61268,     0.61175,     0.61153,     0.61132,      0.6111,     0.61089,     0.61067,     0.60994,     0.60994,     0.60888,     0.60704,     0.60538,      0.6049,\n",
              "            0.60453,     0.60333,     0.60256,     0.60208,     0.60128,     0.59969,     0.59679,     0.59598,     0.59503,     0.59476,     0.59448,     0.59421,     0.59394,     0.59335,     0.59415,      0.5913,      0.5871,     0.58422,     0.58336,      0.5802,     0.57785,     0.57686,     0.57179,\n",
              "            0.57115,     0.56832,     0.56747,     0.56579,     0.56494,     0.56155,     0.55557,      0.5526,     0.55107,     0.54786,     0.54604,     0.54165,     0.54099,     0.53942,     0.53966,     0.53118,     0.53028,     0.52732,     0.52694,     0.52476,     0.52422,       0.518,     0.51427,\n",
              "            0.51335,     0.50974,     0.50796,     0.50465,     0.50161,     0.49905,     0.49624,     0.49203,     0.49089,     0.48835,     0.48487,     0.48201,     0.47775,     0.47624,     0.47415,     0.47056,     0.46607,     0.45757,     0.45439,     0.44702,     0.44253,     0.43206,     0.42501,\n",
              "            0.42398,     0.41825,      0.4126,     0.40949,     0.40575,     0.40401,     0.39939,     0.39458,     0.39061,     0.38188,     0.38122,     0.38057,     0.37839,      0.3751,     0.37123,     0.36849,     0.36467,     0.34903,     0.34525,     0.33389,     0.33165,     0.32647,     0.32271,\n",
              "            0.31774,     0.31247,     0.30717,     0.30215,     0.29673,     0.29315,      0.2895,     0.28405,     0.27676,     0.27304,     0.27082,     0.26922,     0.26392,     0.25588,     0.24838,     0.24318,     0.23553,     0.22397,     0.21967,     0.21088,     0.20815,     0.19623,     0.18414,\n",
              "            0.18122,     0.17984,     0.17778,     0.16358,     0.15634,     0.15094,     0.12972,     0.12595,     0.12246,     0.11446,     0.10342,    0.096689,    0.092132,    0.083085,    0.079141,    0.069285,    0.064602,    0.057594,    0.055971,    0.054786,    0.049713,    0.048918,    0.048122,\n",
              "           0.047245,    0.046289,     0.04523,    0.042603,    0.033508,    0.032296,    0.030877,    0.028727,    0.027753,    0.026778,    0.023502,    0.020337,    0.018383,    0.017152,    0.014868,    0.013119,    0.011858,    0.011151,    0.010442,   0.0097334,   0.0070964,   0.0066815,   0.0062665,\n",
              "          0.0058514,    0.005436,   0.0050205,   0.0047055,   0.0044429,   0.0041802,   0.0039175,   0.0036547,   0.0033918,   0.0031288,   0.0028658,   0.0026027,           0,           0,           0,           0,           0,           0,           0,           0,           0,           0,           0,\n",
              "                  0,           0,           0,           0,           0,           0,           0,           0,           0,           0,           0,           0,           0,           0,           0,           0,           0,           0,           0,           0,           0,           0,           0,\n",
              "                  0,           0,           0,           0,           0,           0,           0,           0,           0,           0,           0]]), 'Confidence', 'F1'], [array([          0,    0.001001,    0.002002,    0.003003,    0.004004,    0.005005,    0.006006,    0.007007,    0.008008,    0.009009,     0.01001,    0.011011,    0.012012,    0.013013,    0.014014,    0.015015,    0.016016,    0.017017,    0.018018,    0.019019,     0.02002,    0.021021,    0.022022,    0.023023,\n",
              "          0.024024,    0.025025,    0.026026,    0.027027,    0.028028,    0.029029,     0.03003,    0.031031,    0.032032,    0.033033,    0.034034,    0.035035,    0.036036,    0.037037,    0.038038,    0.039039,     0.04004,    0.041041,    0.042042,    0.043043,    0.044044,    0.045045,    0.046046,    0.047047,\n",
              "          0.048048,    0.049049,     0.05005,    0.051051,    0.052052,    0.053053,    0.054054,    0.055055,    0.056056,    0.057057,    0.058058,    0.059059,     0.06006,    0.061061,    0.062062,    0.063063,    0.064064,    0.065065,    0.066066,    0.067067,    0.068068,    0.069069,     0.07007,    0.071071,\n",
              "          0.072072,    0.073073,    0.074074,    0.075075,    0.076076,    0.077077,    0.078078,    0.079079,     0.08008,    0.081081,    0.082082,    0.083083,    0.084084,    0.085085,    0.086086,    0.087087,    0.088088,    0.089089,     0.09009,    0.091091,    0.092092,    0.093093,    0.094094,    0.095095,\n",
              "          0.096096,    0.097097,    0.098098,    0.099099,      0.1001,      0.1011,      0.1021,      0.1031,      0.1041,     0.10511,     0.10611,     0.10711,     0.10811,     0.10911,     0.11011,     0.11111,     0.11211,     0.11311,     0.11411,     0.11512,     0.11612,     0.11712,     0.11812,     0.11912,\n",
              "           0.12012,     0.12112,     0.12212,     0.12312,     0.12412,     0.12513,     0.12613,     0.12713,     0.12813,     0.12913,     0.13013,     0.13113,     0.13213,     0.13313,     0.13413,     0.13514,     0.13614,     0.13714,     0.13814,     0.13914,     0.14014,     0.14114,     0.14214,     0.14314,\n",
              "           0.14414,     0.14515,     0.14615,     0.14715,     0.14815,     0.14915,     0.15015,     0.15115,     0.15215,     0.15315,     0.15415,     0.15516,     0.15616,     0.15716,     0.15816,     0.15916,     0.16016,     0.16116,     0.16216,     0.16316,     0.16416,     0.16517,     0.16617,     0.16717,\n",
              "           0.16817,     0.16917,     0.17017,     0.17117,     0.17217,     0.17317,     0.17417,     0.17518,     0.17618,     0.17718,     0.17818,     0.17918,     0.18018,     0.18118,     0.18218,     0.18318,     0.18418,     0.18519,     0.18619,     0.18719,     0.18819,     0.18919,     0.19019,     0.19119,\n",
              "           0.19219,     0.19319,     0.19419,      0.1952,      0.1962,      0.1972,      0.1982,      0.1992,      0.2002,      0.2012,      0.2022,      0.2032,      0.2042,     0.20521,     0.20621,     0.20721,     0.20821,     0.20921,     0.21021,     0.21121,     0.21221,     0.21321,     0.21421,     0.21522,\n",
              "           0.21622,     0.21722,     0.21822,     0.21922,     0.22022,     0.22122,     0.22222,     0.22322,     0.22422,     0.22523,     0.22623,     0.22723,     0.22823,     0.22923,     0.23023,     0.23123,     0.23223,     0.23323,     0.23423,     0.23524,     0.23624,     0.23724,     0.23824,     0.23924,\n",
              "           0.24024,     0.24124,     0.24224,     0.24324,     0.24424,     0.24525,     0.24625,     0.24725,     0.24825,     0.24925,     0.25025,     0.25125,     0.25225,     0.25325,     0.25425,     0.25526,     0.25626,     0.25726,     0.25826,     0.25926,     0.26026,     0.26126,     0.26226,     0.26326,\n",
              "           0.26426,     0.26527,     0.26627,     0.26727,     0.26827,     0.26927,     0.27027,     0.27127,     0.27227,     0.27327,     0.27427,     0.27528,     0.27628,     0.27728,     0.27828,     0.27928,     0.28028,     0.28128,     0.28228,     0.28328,     0.28428,     0.28529,     0.28629,     0.28729,\n",
              "           0.28829,     0.28929,     0.29029,     0.29129,     0.29229,     0.29329,     0.29429,      0.2953,      0.2963,      0.2973,      0.2983,      0.2993,      0.3003,      0.3013,      0.3023,      0.3033,      0.3043,     0.30531,     0.30631,     0.30731,     0.30831,     0.30931,     0.31031,     0.31131,\n",
              "           0.31231,     0.31331,     0.31431,     0.31532,     0.31632,     0.31732,     0.31832,     0.31932,     0.32032,     0.32132,     0.32232,     0.32332,     0.32432,     0.32533,     0.32633,     0.32733,     0.32833,     0.32933,     0.33033,     0.33133,     0.33233,     0.33333,     0.33433,     0.33534,\n",
              "           0.33634,     0.33734,     0.33834,     0.33934,     0.34034,     0.34134,     0.34234,     0.34334,     0.34434,     0.34535,     0.34635,     0.34735,     0.34835,     0.34935,     0.35035,     0.35135,     0.35235,     0.35335,     0.35435,     0.35536,     0.35636,     0.35736,     0.35836,     0.35936,\n",
              "           0.36036,     0.36136,     0.36236,     0.36336,     0.36436,     0.36537,     0.36637,     0.36737,     0.36837,     0.36937,     0.37037,     0.37137,     0.37237,     0.37337,     0.37437,     0.37538,     0.37638,     0.37738,     0.37838,     0.37938,     0.38038,     0.38138,     0.38238,     0.38338,\n",
              "           0.38438,     0.38539,     0.38639,     0.38739,     0.38839,     0.38939,     0.39039,     0.39139,     0.39239,     0.39339,     0.39439,      0.3954,      0.3964,      0.3974,      0.3984,      0.3994,      0.4004,      0.4014,      0.4024,      0.4034,      0.4044,     0.40541,     0.40641,     0.40741,\n",
              "           0.40841,     0.40941,     0.41041,     0.41141,     0.41241,     0.41341,     0.41441,     0.41542,     0.41642,     0.41742,     0.41842,     0.41942,     0.42042,     0.42142,     0.42242,     0.42342,     0.42442,     0.42543,     0.42643,     0.42743,     0.42843,     0.42943,     0.43043,     0.43143,\n",
              "           0.43243,     0.43343,     0.43443,     0.43544,     0.43644,     0.43744,     0.43844,     0.43944,     0.44044,     0.44144,     0.44244,     0.44344,     0.44444,     0.44545,     0.44645,     0.44745,     0.44845,     0.44945,     0.45045,     0.45145,     0.45245,     0.45345,     0.45445,     0.45546,\n",
              "           0.45646,     0.45746,     0.45846,     0.45946,     0.46046,     0.46146,     0.46246,     0.46346,     0.46446,     0.46547,     0.46647,     0.46747,     0.46847,     0.46947,     0.47047,     0.47147,     0.47247,     0.47347,     0.47447,     0.47548,     0.47648,     0.47748,     0.47848,     0.47948,\n",
              "           0.48048,     0.48148,     0.48248,     0.48348,     0.48448,     0.48549,     0.48649,     0.48749,     0.48849,     0.48949,     0.49049,     0.49149,     0.49249,     0.49349,     0.49449,      0.4955,      0.4965,      0.4975,      0.4985,      0.4995,      0.5005,      0.5015,      0.5025,      0.5035,\n",
              "            0.5045,     0.50551,     0.50651,     0.50751,     0.50851,     0.50951,     0.51051,     0.51151,     0.51251,     0.51351,     0.51451,     0.51552,     0.51652,     0.51752,     0.51852,     0.51952,     0.52052,     0.52152,     0.52252,     0.52352,     0.52452,     0.52553,     0.52653,     0.52753,\n",
              "           0.52853,     0.52953,     0.53053,     0.53153,     0.53253,     0.53353,     0.53453,     0.53554,     0.53654,     0.53754,     0.53854,     0.53954,     0.54054,     0.54154,     0.54254,     0.54354,     0.54454,     0.54555,     0.54655,     0.54755,     0.54855,     0.54955,     0.55055,     0.55155,\n",
              "           0.55255,     0.55355,     0.55455,     0.55556,     0.55656,     0.55756,     0.55856,     0.55956,     0.56056,     0.56156,     0.56256,     0.56356,     0.56456,     0.56557,     0.56657,     0.56757,     0.56857,     0.56957,     0.57057,     0.57157,     0.57257,     0.57357,     0.57457,     0.57558,\n",
              "           0.57658,     0.57758,     0.57858,     0.57958,     0.58058,     0.58158,     0.58258,     0.58358,     0.58458,     0.58559,     0.58659,     0.58759,     0.58859,     0.58959,     0.59059,     0.59159,     0.59259,     0.59359,     0.59459,      0.5956,      0.5966,      0.5976,      0.5986,      0.5996,\n",
              "            0.6006,      0.6016,      0.6026,      0.6036,      0.6046,     0.60561,     0.60661,     0.60761,     0.60861,     0.60961,     0.61061,     0.61161,     0.61261,     0.61361,     0.61461,     0.61562,     0.61662,     0.61762,     0.61862,     0.61962,     0.62062,     0.62162,     0.62262,     0.62362,\n",
              "           0.62462,     0.62563,     0.62663,     0.62763,     0.62863,     0.62963,     0.63063,     0.63163,     0.63263,     0.63363,     0.63463,     0.63564,     0.63664,     0.63764,     0.63864,     0.63964,     0.64064,     0.64164,     0.64264,     0.64364,     0.64464,     0.64565,     0.64665,     0.64765,\n",
              "           0.64865,     0.64965,     0.65065,     0.65165,     0.65265,     0.65365,     0.65465,     0.65566,     0.65666,     0.65766,     0.65866,     0.65966,     0.66066,     0.66166,     0.66266,     0.66366,     0.66466,     0.66567,     0.66667,     0.66767,     0.66867,     0.66967,     0.67067,     0.67167,\n",
              "           0.67267,     0.67367,     0.67467,     0.67568,     0.67668,     0.67768,     0.67868,     0.67968,     0.68068,     0.68168,     0.68268,     0.68368,     0.68468,     0.68569,     0.68669,     0.68769,     0.68869,     0.68969,     0.69069,     0.69169,     0.69269,     0.69369,     0.69469,      0.6957,\n",
              "            0.6967,      0.6977,      0.6987,      0.6997,      0.7007,      0.7017,      0.7027,      0.7037,      0.7047,     0.70571,     0.70671,     0.70771,     0.70871,     0.70971,     0.71071,     0.71171,     0.71271,     0.71371,     0.71471,     0.71572,     0.71672,     0.71772,     0.71872,     0.71972,\n",
              "           0.72072,     0.72172,     0.72272,     0.72372,     0.72472,     0.72573,     0.72673,     0.72773,     0.72873,     0.72973,     0.73073,     0.73173,     0.73273,     0.73373,     0.73473,     0.73574,     0.73674,     0.73774,     0.73874,     0.73974,     0.74074,     0.74174,     0.74274,     0.74374,\n",
              "           0.74474,     0.74575,     0.74675,     0.74775,     0.74875,     0.74975,     0.75075,     0.75175,     0.75275,     0.75375,     0.75475,     0.75576,     0.75676,     0.75776,     0.75876,     0.75976,     0.76076,     0.76176,     0.76276,     0.76376,     0.76476,     0.76577,     0.76677,     0.76777,\n",
              "           0.76877,     0.76977,     0.77077,     0.77177,     0.77277,     0.77377,     0.77477,     0.77578,     0.77678,     0.77778,     0.77878,     0.77978,     0.78078,     0.78178,     0.78278,     0.78378,     0.78478,     0.78579,     0.78679,     0.78779,     0.78879,     0.78979,     0.79079,     0.79179,\n",
              "           0.79279,     0.79379,     0.79479,      0.7958,      0.7968,      0.7978,      0.7988,      0.7998,      0.8008,      0.8018,      0.8028,      0.8038,      0.8048,     0.80581,     0.80681,     0.80781,     0.80881,     0.80981,     0.81081,     0.81181,     0.81281,     0.81381,     0.81481,     0.81582,\n",
              "           0.81682,     0.81782,     0.81882,     0.81982,     0.82082,     0.82182,     0.82282,     0.82382,     0.82482,     0.82583,     0.82683,     0.82783,     0.82883,     0.82983,     0.83083,     0.83183,     0.83283,     0.83383,     0.83483,     0.83584,     0.83684,     0.83784,     0.83884,     0.83984,\n",
              "           0.84084,     0.84184,     0.84284,     0.84384,     0.84484,     0.84585,     0.84685,     0.84785,     0.84885,     0.84985,     0.85085,     0.85185,     0.85285,     0.85385,     0.85485,     0.85586,     0.85686,     0.85786,     0.85886,     0.85986,     0.86086,     0.86186,     0.86286,     0.86386,\n",
              "           0.86486,     0.86587,     0.86687,     0.86787,     0.86887,     0.86987,     0.87087,     0.87187,     0.87287,     0.87387,     0.87487,     0.87588,     0.87688,     0.87788,     0.87888,     0.87988,     0.88088,     0.88188,     0.88288,     0.88388,     0.88488,     0.88589,     0.88689,     0.88789,\n",
              "           0.88889,     0.88989,     0.89089,     0.89189,     0.89289,     0.89389,     0.89489,      0.8959,      0.8969,      0.8979,      0.8989,      0.8999,      0.9009,      0.9019,      0.9029,      0.9039,      0.9049,     0.90591,     0.90691,     0.90791,     0.90891,     0.90991,     0.91091,     0.91191,\n",
              "           0.91291,     0.91391,     0.91491,     0.91592,     0.91692,     0.91792,     0.91892,     0.91992,     0.92092,     0.92192,     0.92292,     0.92392,     0.92492,     0.92593,     0.92693,     0.92793,     0.92893,     0.92993,     0.93093,     0.93193,     0.93293,     0.93393,     0.93493,     0.93594,\n",
              "           0.93694,     0.93794,     0.93894,     0.93994,     0.94094,     0.94194,     0.94294,     0.94394,     0.94494,     0.94595,     0.94695,     0.94795,     0.94895,     0.94995,     0.95095,     0.95195,     0.95295,     0.95395,     0.95495,     0.95596,     0.95696,     0.95796,     0.95896,     0.95996,\n",
              "           0.96096,     0.96196,     0.96296,     0.96396,     0.96496,     0.96597,     0.96697,     0.96797,     0.96897,     0.96997,     0.97097,     0.97197,     0.97297,     0.97397,     0.97497,     0.97598,     0.97698,     0.97798,     0.97898,     0.97998,     0.98098,     0.98198,     0.98298,     0.98398,\n",
              "           0.98498,     0.98599,     0.98699,     0.98799,     0.98899,     0.98999,     0.99099,     0.99199,     0.99299,     0.99399,     0.99499,       0.996,       0.997,       0.998,       0.999,           1]), array([[    0.10233,     0.10233,     0.14821,     0.18078,      0.2073,     0.23001,     0.24952,      0.2688,     0.28299,     0.29565,     0.30928,     0.31992,        0.33,     0.33823,     0.34774,     0.35593,     0.36402,     0.37224,     0.38091,     0.39154,     0.39883,     0.40333,     0.40826,\n",
              "            0.41444,     0.42126,     0.42718,     0.43266,     0.43743,     0.44283,     0.44755,     0.45242,     0.45664,     0.46088,     0.46414,     0.46717,     0.46966,      0.4732,      0.4746,     0.47954,      0.4824,     0.48592,      0.4884,     0.49024,     0.49321,     0.49606,      0.4997,\n",
              "            0.50142,     0.50353,     0.50478,     0.50806,     0.51072,     0.51373,     0.51639,     0.51977,     0.52175,     0.52328,     0.52601,     0.52702,     0.52876,     0.53245,     0.53587,     0.53804,     0.53878,     0.54079,     0.54194,     0.54477,     0.54819,     0.54915,     0.55384,\n",
              "            0.55483,     0.55709,     0.55855,     0.56009,     0.56127,     0.56186,     0.56399,     0.56538,      0.5664,     0.56937,     0.57049,     0.57189,      0.5723,     0.57322,     0.57591,     0.57757,     0.58007,     0.58158,     0.58291,     0.58435,     0.58549,     0.58749,     0.58879,\n",
              "            0.58946,     0.59203,     0.59465,     0.59652,     0.59785,     0.59913,     0.60415,     0.60458,     0.60534,     0.60641,     0.60721,     0.60807,     0.60904,     0.61035,     0.61064,     0.61121,     0.61234,     0.61403,     0.61459,     0.61502,      0.6153,     0.61643,     0.61739,\n",
              "              0.619,     0.62143,     0.62301,     0.62518,     0.62758,     0.62856,     0.62989,      0.6318,     0.63237,     0.63386,     0.63587,     0.63634,     0.63724,     0.63855,     0.64286,     0.64352,     0.64489,     0.64468,     0.64559,     0.64677,     0.64975,     0.65129,     0.65195,\n",
              "            0.65276,      0.6534,     0.65481,     0.65517,      0.6561,     0.65801,     0.65836,     0.65931,     0.65992,     0.65977,     0.65962,     0.66048,     0.66132,     0.66247,     0.66417,     0.66474,     0.66507,     0.66615,     0.66703,     0.66836,     0.66993,     0.67092,     0.67137,\n",
              "            0.67108,     0.67138,     0.67257,     0.67554,     0.67705,     0.67748,     0.67801,     0.67885,     0.67938,     0.68018,     0.68058,     0.68144,     0.68117,     0.68139,      0.6817,      0.6819,     0.68354,     0.68478,      0.6848,     0.68495,     0.68536,     0.68597,     0.68654,\n",
              "            0.68684,     0.68714,      0.6882,     0.69007,     0.69124,     0.69241,     0.69341,     0.69415,     0.69448,     0.69558,     0.69696,     0.69863,     0.69931,     0.69971,      0.7013,     0.70191,     0.70234,     0.70346,     0.70367,     0.70478,     0.70558,     0.70604,      0.7066,\n",
              "            0.70781,     0.70859,     0.70917,     0.70968,     0.70945,     0.71001,     0.71079,     0.71216,      0.7122,     0.71359,     0.71405,     0.71579,     0.71637,     0.71983,     0.72101,     0.72168,     0.72202,     0.72236,     0.72239,     0.72306,     0.72473,     0.72536,      0.7267,\n",
              "            0.72655,     0.72694,      0.7275,     0.72927,     0.72966,     0.73007,     0.73063,     0.73166,     0.73221,     0.73258,     0.73386,     0.73447,     0.73446,     0.73484,     0.73523,     0.73568,     0.73602,     0.73618,     0.73634,      0.7365,     0.73667,     0.73792,     0.73906,\n",
              "            0.73926,     0.74052,     0.74107,     0.74099,     0.74112,     0.74125,     0.74138,      0.7415,     0.74163,     0.74144,     0.74154,     0.74262,     0.74356,      0.7445,     0.74508,     0.74701,     0.74761,     0.74701,     0.74772,     0.74841,     0.74892,     0.75035,      0.7519,\n",
              "             0.7523,     0.75221,     0.75212,     0.75218,     0.75278,     0.75314,     0.75342,      0.7537,     0.75402,     0.75439,     0.75466,     0.75442,     0.75439,       0.755,     0.75552,     0.75602,     0.75648,     0.75694,      0.7574,     0.75774,     0.75814,     0.75883,     0.76064,\n",
              "            0.76042,     0.76126,     0.76167,     0.76252,     0.76383,     0.76437,     0.76491,     0.76545,     0.76537,     0.76646,     0.76898,     0.76967,     0.77017,     0.77056,     0.77191,     0.77268,     0.77259,     0.77282,     0.77304,     0.77327,     0.77357,     0.77413,      0.7754,\n",
              "            0.77592,     0.77576,     0.77747,     0.77831,     0.77817,      0.7784,      0.7794,     0.77997,     0.78053,     0.78179,     0.78236,     0.78318,     0.78392,     0.78449,     0.78643,     0.78768,     0.78876,     0.78979,     0.79047,     0.79129,     0.79326,     0.79333,     0.79316,\n",
              "             0.7924,     0.79232,     0.79224,     0.79216,     0.79405,     0.79389,     0.79363,     0.79353,     0.79343,     0.79475,     0.79592,     0.79811,     0.79948,     0.79987,     0.80025,     0.80181,     0.80148,     0.80148,     0.80209,     0.80228,     0.80217,     0.80216,     0.80263,\n",
              "            0.80311,     0.80296,      0.8033,     0.80389,     0.80375,     0.80413,     0.80567,     0.80555,     0.80575,     0.80596,     0.80617,     0.80637,     0.80658,     0.80721,     0.80904,     0.81228,     0.81339,     0.81431,     0.81495,     0.81692,     0.81762,     0.81899,     0.82102,\n",
              "             0.8232,     0.82296,     0.82272,     0.82258,      0.8224,     0.82248,     0.82305,     0.82363,      0.8242,     0.82638,     0.82696,     0.82725,     0.82754,     0.82783,     0.82887,     0.83003,     0.83054,     0.83047,     0.83105,     0.83164,     0.83223,       0.833,     0.83418,\n",
              "            0.83528,      0.8358,     0.83639,     0.83699,     0.83759,     0.83863,     0.83938,     0.83999,     0.84066,     0.84247,     0.84243,     0.84238,     0.84234,     0.84229,      0.8425,     0.84317,     0.84294,     0.84275,     0.84268,      0.8426,     0.84299,     0.84415,     0.84458,\n",
              "            0.84556,     0.84541,      0.8453,     0.84551,     0.84613,     0.84676,     0.84738,     0.84853,     0.84906,     0.84948,      0.8499,     0.85112,     0.85108,     0.85105,     0.85101,     0.85097,       0.851,     0.85172,     0.85241,     0.85305,     0.85368,     0.85432,     0.85526,\n",
              "            0.85579,     0.85565,     0.85558,      0.8555,      0.8569,     0.85754,     0.85773,     0.85765,     0.85758,     0.85741,     0.85831,     0.85853,     0.85843,        0.86,     0.86065,     0.86056,      0.8617,     0.86172,     0.86161,     0.86287,     0.86269,     0.86336,     0.86406,\n",
              "             0.8653,     0.86563,     0.86596,     0.86629,     0.86669,     0.86736,     0.86797,     0.86842,     0.86886,     0.86911,     0.86912,     0.86957,     0.87002,     0.87063,      0.8715,     0.87218,     0.87244,     0.87302,     0.87553,     0.87609,       0.876,     0.87678,     0.87773,\n",
              "            0.87842,     0.87958,     0.87987,     0.88104,     0.88151,     0.88221,     0.88263,     0.88298,     0.88333,     0.88368,     0.88364,     0.88355,      0.8842,     0.88491,     0.88474,     0.88545,     0.88614,     0.88662,     0.88709,     0.88748,     0.88991,     0.88973,     0.88989,\n",
              "            0.89238,      0.8923,     0.89645,     0.89614,     0.89605,     0.89577,     0.89549,     0.89546,     0.89544,     0.89542,     0.89539,     0.89537,     0.89534,     0.89614,     0.89908,     0.90057,     0.90111,     0.90107,     0.90103,     0.90099,     0.90091,     0.90083,     0.90063,\n",
              "            0.90059,     0.90056,     0.90053,     0.90049,     0.90034,     0.90006,     0.90052,     0.90168,     0.90244,      0.9032,     0.90397,     0.90427,     0.90423,     0.90419,     0.90415,     0.90402,     0.90392,     0.90384,     0.90353,     0.90337,      0.9032,     0.90304,     0.90438,\n",
              "            0.90422,     0.90389,      0.9052,     0.90514,     0.90509,       0.908,     0.90785,     0.90774,     0.90749,     0.90741,     0.90732,     0.90724,     0.90851,     0.90835,     0.91134,     0.91191,     0.91273,     0.91419,     0.91417,     0.91415,     0.91413,     0.91411,     0.91409,\n",
              "            0.91407,     0.91405,     0.91486,     0.91586,     0.91627,     0.91669,      0.9171,     0.91716,     0.91692,     0.91686,     0.91663,      0.9165,     0.91642,     0.91618,     0.91602,     0.91587,     0.91556,     0.91545,     0.91542,     0.91539,     0.91535,     0.91532,     0.91636,\n",
              "            0.91605,     0.91574,     0.91559,     0.91557,     0.91555,     0.91552,      0.9155,     0.91547,     0.91545,     0.91538,      0.9153,      0.9162,     0.91695,     0.91687,     0.91676,     0.91869,     0.91986,     0.92121,     0.92263,     0.92353,      0.9241,     0.92402,     0.92393,\n",
              "            0.92376,     0.92369,     0.92362,     0.92354,     0.92327,     0.92318,     0.92312,      0.9236,     0.92645,     0.92626,     0.92777,     0.92797,     0.92793,     0.92788,     0.92858,     0.92932,     0.92962,     0.92952,     0.92946,     0.92932,     0.92986,     0.93039,     0.93093,\n",
              "            0.93092,     0.93085,     0.93076,      0.9308,     0.93175,     0.93236,     0.93218,     0.93362,     0.93382,     0.93377,     0.93371,     0.93364,      0.9334,     0.93307,     0.93363,     0.93418,     0.93474,     0.93474,     0.93592,     0.93644,     0.93639,     0.93633,     0.93624,\n",
              "            0.93585,     0.93571,     0.93558,     0.93524,     0.93496,     0.93477,     0.93461,     0.93633,     0.93635,     0.93629,     0.93625,     0.93621,     0.93615,     0.93599,     0.93592,     0.93584,     0.93574,     0.93557,     0.93538,     0.93532,     0.93527,     0.93523,     0.93706,\n",
              "            0.93697,     0.93684,     0.93749,     0.93869,      0.9386,     0.93847,     0.94068,     0.94153,     0.94234,     0.94222,     0.94218,     0.94213,     0.94208,     0.94192,     0.94148,     0.94341,     0.94383,     0.94754,     0.94727,     0.94708,     0.94701,      0.9488,     0.94875,\n",
              "            0.95089,     0.95045,     0.95039,      0.9503,     0.95009,     0.95003,     0.94974,     0.94971,     0.94968,     0.94965,     0.94947,     0.94939,     0.94934,     0.94929,     0.94921,     0.94908,     0.94893,     0.94874,     0.94844,     0.94816,     0.94797,     0.94792,     0.94783,\n",
              "            0.94772,     0.94746,      0.9497,     0.95219,     0.95431,     0.95425,     0.95416,     0.95403,     0.95432,     0.95616,     0.95593,     0.95584,     0.95582,      0.9558,     0.95577,     0.95575,     0.95573,     0.95566,     0.95784,     0.95801,     0.96032,     0.96017,     0.96013,\n",
              "            0.96261,     0.96251,     0.96244,      0.9624,     0.96233,     0.96219,     0.96194,     0.96187,     0.96438,     0.96436,     0.96433,     0.96431,     0.96429,     0.96686,     0.97179,     0.97203,     0.97176,     0.97156,     0.97151,     0.97406,     0.97411,     0.97666,     0.97638,\n",
              "            0.97634,     0.97618,     0.97613,     0.97604,     0.97599,     0.97579,     0.97544,     0.97526,     0.97517,     0.97497,     0.97486,     0.97459,     0.97454,     0.97445,     0.98068,     0.98026,     0.98022,     0.98053,      0.9833,     0.98321,     0.98318,     0.98292,     0.98275,\n",
              "            0.98271,     0.98255,     0.98433,     0.98579,     0.98567,     0.98558,     0.98547,     0.98531,     0.98526,     0.98516,     0.98502,     0.98491,     0.98473,     0.98467,     0.98458,     0.98443,     0.98424,     0.98386,     0.98372,     0.98338,     0.98316,     0.98265,     0.98229,\n",
              "            0.98223,     0.98193,     0.98162,     0.98145,     0.98124,     0.98114,     0.98087,     0.98059,     0.98034,      0.9798,     0.97976,     0.97971,     0.97957,     0.97936,      0.9791,     0.97891,     0.97864,      0.9775,     0.97721,     0.97629,     0.97611,     0.97566,     0.97533,\n",
              "            0.97488,     0.97439,     0.97926,     0.97988,     0.97946,     0.97917,     0.97887,      0.9784,     0.97775,     0.97741,      0.9772,     0.97705,     0.98421,     0.98365,     0.98309,     0.98268,     0.98206,     0.98103,     0.98062,     0.97973,     0.97944,     0.97807,     0.97651,\n",
              "             0.9761,     0.97591,     0.97561,     0.98648,     0.98581,     0.98526,      0.9827,     0.99326,           1,           1,           1,           1,           1,           1,           1,           1,           1,           1,           1,           1,           1,           1,           1,\n",
              "                  1,           1,           1,           1,           1,           1,           1,           1,           1,           1,           1,           1,           1,           1,           1,           1,           1,           1,           1,           1,           1,           1,           1,\n",
              "                  1,           1,           1,           1,           1,           1,           1,           1,           1,           1,           1,           1,           1,           1,           1,           1,           1,           1,           1,           1,           1,           1,           1,\n",
              "                  1,           1,           1,           1,           1,           1,           1,           1,           1,           1,           1,           1,           1,           1,           1,           1,           1,           1,           1,           1,           1,           1,           1,\n",
              "                  1,           1,           1,           1,           1,           1,           1,           1,           1,           1,           1]]), 'Confidence', 'Precision'], [array([          0,    0.001001,    0.002002,    0.003003,    0.004004,    0.005005,    0.006006,    0.007007,    0.008008,    0.009009,     0.01001,    0.011011,    0.012012,    0.013013,    0.014014,    0.015015,    0.016016,    0.017017,    0.018018,    0.019019,     0.02002,    0.021021,    0.022022,    0.023023,\n",
              "          0.024024,    0.025025,    0.026026,    0.027027,    0.028028,    0.029029,     0.03003,    0.031031,    0.032032,    0.033033,    0.034034,    0.035035,    0.036036,    0.037037,    0.038038,    0.039039,     0.04004,    0.041041,    0.042042,    0.043043,    0.044044,    0.045045,    0.046046,    0.047047,\n",
              "          0.048048,    0.049049,     0.05005,    0.051051,    0.052052,    0.053053,    0.054054,    0.055055,    0.056056,    0.057057,    0.058058,    0.059059,     0.06006,    0.061061,    0.062062,    0.063063,    0.064064,    0.065065,    0.066066,    0.067067,    0.068068,    0.069069,     0.07007,    0.071071,\n",
              "          0.072072,    0.073073,    0.074074,    0.075075,    0.076076,    0.077077,    0.078078,    0.079079,     0.08008,    0.081081,    0.082082,    0.083083,    0.084084,    0.085085,    0.086086,    0.087087,    0.088088,    0.089089,     0.09009,    0.091091,    0.092092,    0.093093,    0.094094,    0.095095,\n",
              "          0.096096,    0.097097,    0.098098,    0.099099,      0.1001,      0.1011,      0.1021,      0.1031,      0.1041,     0.10511,     0.10611,     0.10711,     0.10811,     0.10911,     0.11011,     0.11111,     0.11211,     0.11311,     0.11411,     0.11512,     0.11612,     0.11712,     0.11812,     0.11912,\n",
              "           0.12012,     0.12112,     0.12212,     0.12312,     0.12412,     0.12513,     0.12613,     0.12713,     0.12813,     0.12913,     0.13013,     0.13113,     0.13213,     0.13313,     0.13413,     0.13514,     0.13614,     0.13714,     0.13814,     0.13914,     0.14014,     0.14114,     0.14214,     0.14314,\n",
              "           0.14414,     0.14515,     0.14615,     0.14715,     0.14815,     0.14915,     0.15015,     0.15115,     0.15215,     0.15315,     0.15415,     0.15516,     0.15616,     0.15716,     0.15816,     0.15916,     0.16016,     0.16116,     0.16216,     0.16316,     0.16416,     0.16517,     0.16617,     0.16717,\n",
              "           0.16817,     0.16917,     0.17017,     0.17117,     0.17217,     0.17317,     0.17417,     0.17518,     0.17618,     0.17718,     0.17818,     0.17918,     0.18018,     0.18118,     0.18218,     0.18318,     0.18418,     0.18519,     0.18619,     0.18719,     0.18819,     0.18919,     0.19019,     0.19119,\n",
              "           0.19219,     0.19319,     0.19419,      0.1952,      0.1962,      0.1972,      0.1982,      0.1992,      0.2002,      0.2012,      0.2022,      0.2032,      0.2042,     0.20521,     0.20621,     0.20721,     0.20821,     0.20921,     0.21021,     0.21121,     0.21221,     0.21321,     0.21421,     0.21522,\n",
              "           0.21622,     0.21722,     0.21822,     0.21922,     0.22022,     0.22122,     0.22222,     0.22322,     0.22422,     0.22523,     0.22623,     0.22723,     0.22823,     0.22923,     0.23023,     0.23123,     0.23223,     0.23323,     0.23423,     0.23524,     0.23624,     0.23724,     0.23824,     0.23924,\n",
              "           0.24024,     0.24124,     0.24224,     0.24324,     0.24424,     0.24525,     0.24625,     0.24725,     0.24825,     0.24925,     0.25025,     0.25125,     0.25225,     0.25325,     0.25425,     0.25526,     0.25626,     0.25726,     0.25826,     0.25926,     0.26026,     0.26126,     0.26226,     0.26326,\n",
              "           0.26426,     0.26527,     0.26627,     0.26727,     0.26827,     0.26927,     0.27027,     0.27127,     0.27227,     0.27327,     0.27427,     0.27528,     0.27628,     0.27728,     0.27828,     0.27928,     0.28028,     0.28128,     0.28228,     0.28328,     0.28428,     0.28529,     0.28629,     0.28729,\n",
              "           0.28829,     0.28929,     0.29029,     0.29129,     0.29229,     0.29329,     0.29429,      0.2953,      0.2963,      0.2973,      0.2983,      0.2993,      0.3003,      0.3013,      0.3023,      0.3033,      0.3043,     0.30531,     0.30631,     0.30731,     0.30831,     0.30931,     0.31031,     0.31131,\n",
              "           0.31231,     0.31331,     0.31431,     0.31532,     0.31632,     0.31732,     0.31832,     0.31932,     0.32032,     0.32132,     0.32232,     0.32332,     0.32432,     0.32533,     0.32633,     0.32733,     0.32833,     0.32933,     0.33033,     0.33133,     0.33233,     0.33333,     0.33433,     0.33534,\n",
              "           0.33634,     0.33734,     0.33834,     0.33934,     0.34034,     0.34134,     0.34234,     0.34334,     0.34434,     0.34535,     0.34635,     0.34735,     0.34835,     0.34935,     0.35035,     0.35135,     0.35235,     0.35335,     0.35435,     0.35536,     0.35636,     0.35736,     0.35836,     0.35936,\n",
              "           0.36036,     0.36136,     0.36236,     0.36336,     0.36436,     0.36537,     0.36637,     0.36737,     0.36837,     0.36937,     0.37037,     0.37137,     0.37237,     0.37337,     0.37437,     0.37538,     0.37638,     0.37738,     0.37838,     0.37938,     0.38038,     0.38138,     0.38238,     0.38338,\n",
              "           0.38438,     0.38539,     0.38639,     0.38739,     0.38839,     0.38939,     0.39039,     0.39139,     0.39239,     0.39339,     0.39439,      0.3954,      0.3964,      0.3974,      0.3984,      0.3994,      0.4004,      0.4014,      0.4024,      0.4034,      0.4044,     0.40541,     0.40641,     0.40741,\n",
              "           0.40841,     0.40941,     0.41041,     0.41141,     0.41241,     0.41341,     0.41441,     0.41542,     0.41642,     0.41742,     0.41842,     0.41942,     0.42042,     0.42142,     0.42242,     0.42342,     0.42442,     0.42543,     0.42643,     0.42743,     0.42843,     0.42943,     0.43043,     0.43143,\n",
              "           0.43243,     0.43343,     0.43443,     0.43544,     0.43644,     0.43744,     0.43844,     0.43944,     0.44044,     0.44144,     0.44244,     0.44344,     0.44444,     0.44545,     0.44645,     0.44745,     0.44845,     0.44945,     0.45045,     0.45145,     0.45245,     0.45345,     0.45445,     0.45546,\n",
              "           0.45646,     0.45746,     0.45846,     0.45946,     0.46046,     0.46146,     0.46246,     0.46346,     0.46446,     0.46547,     0.46647,     0.46747,     0.46847,     0.46947,     0.47047,     0.47147,     0.47247,     0.47347,     0.47447,     0.47548,     0.47648,     0.47748,     0.47848,     0.47948,\n",
              "           0.48048,     0.48148,     0.48248,     0.48348,     0.48448,     0.48549,     0.48649,     0.48749,     0.48849,     0.48949,     0.49049,     0.49149,     0.49249,     0.49349,     0.49449,      0.4955,      0.4965,      0.4975,      0.4985,      0.4995,      0.5005,      0.5015,      0.5025,      0.5035,\n",
              "            0.5045,     0.50551,     0.50651,     0.50751,     0.50851,     0.50951,     0.51051,     0.51151,     0.51251,     0.51351,     0.51451,     0.51552,     0.51652,     0.51752,     0.51852,     0.51952,     0.52052,     0.52152,     0.52252,     0.52352,     0.52452,     0.52553,     0.52653,     0.52753,\n",
              "           0.52853,     0.52953,     0.53053,     0.53153,     0.53253,     0.53353,     0.53453,     0.53554,     0.53654,     0.53754,     0.53854,     0.53954,     0.54054,     0.54154,     0.54254,     0.54354,     0.54454,     0.54555,     0.54655,     0.54755,     0.54855,     0.54955,     0.55055,     0.55155,\n",
              "           0.55255,     0.55355,     0.55455,     0.55556,     0.55656,     0.55756,     0.55856,     0.55956,     0.56056,     0.56156,     0.56256,     0.56356,     0.56456,     0.56557,     0.56657,     0.56757,     0.56857,     0.56957,     0.57057,     0.57157,     0.57257,     0.57357,     0.57457,     0.57558,\n",
              "           0.57658,     0.57758,     0.57858,     0.57958,     0.58058,     0.58158,     0.58258,     0.58358,     0.58458,     0.58559,     0.58659,     0.58759,     0.58859,     0.58959,     0.59059,     0.59159,     0.59259,     0.59359,     0.59459,      0.5956,      0.5966,      0.5976,      0.5986,      0.5996,\n",
              "            0.6006,      0.6016,      0.6026,      0.6036,      0.6046,     0.60561,     0.60661,     0.60761,     0.60861,     0.60961,     0.61061,     0.61161,     0.61261,     0.61361,     0.61461,     0.61562,     0.61662,     0.61762,     0.61862,     0.61962,     0.62062,     0.62162,     0.62262,     0.62362,\n",
              "           0.62462,     0.62563,     0.62663,     0.62763,     0.62863,     0.62963,     0.63063,     0.63163,     0.63263,     0.63363,     0.63463,     0.63564,     0.63664,     0.63764,     0.63864,     0.63964,     0.64064,     0.64164,     0.64264,     0.64364,     0.64464,     0.64565,     0.64665,     0.64765,\n",
              "           0.64865,     0.64965,     0.65065,     0.65165,     0.65265,     0.65365,     0.65465,     0.65566,     0.65666,     0.65766,     0.65866,     0.65966,     0.66066,     0.66166,     0.66266,     0.66366,     0.66466,     0.66567,     0.66667,     0.66767,     0.66867,     0.66967,     0.67067,     0.67167,\n",
              "           0.67267,     0.67367,     0.67467,     0.67568,     0.67668,     0.67768,     0.67868,     0.67968,     0.68068,     0.68168,     0.68268,     0.68368,     0.68468,     0.68569,     0.68669,     0.68769,     0.68869,     0.68969,     0.69069,     0.69169,     0.69269,     0.69369,     0.69469,      0.6957,\n",
              "            0.6967,      0.6977,      0.6987,      0.6997,      0.7007,      0.7017,      0.7027,      0.7037,      0.7047,     0.70571,     0.70671,     0.70771,     0.70871,     0.70971,     0.71071,     0.71171,     0.71271,     0.71371,     0.71471,     0.71572,     0.71672,     0.71772,     0.71872,     0.71972,\n",
              "           0.72072,     0.72172,     0.72272,     0.72372,     0.72472,     0.72573,     0.72673,     0.72773,     0.72873,     0.72973,     0.73073,     0.73173,     0.73273,     0.73373,     0.73473,     0.73574,     0.73674,     0.73774,     0.73874,     0.73974,     0.74074,     0.74174,     0.74274,     0.74374,\n",
              "           0.74474,     0.74575,     0.74675,     0.74775,     0.74875,     0.74975,     0.75075,     0.75175,     0.75275,     0.75375,     0.75475,     0.75576,     0.75676,     0.75776,     0.75876,     0.75976,     0.76076,     0.76176,     0.76276,     0.76376,     0.76476,     0.76577,     0.76677,     0.76777,\n",
              "           0.76877,     0.76977,     0.77077,     0.77177,     0.77277,     0.77377,     0.77477,     0.77578,     0.77678,     0.77778,     0.77878,     0.77978,     0.78078,     0.78178,     0.78278,     0.78378,     0.78478,     0.78579,     0.78679,     0.78779,     0.78879,     0.78979,     0.79079,     0.79179,\n",
              "           0.79279,     0.79379,     0.79479,      0.7958,      0.7968,      0.7978,      0.7988,      0.7998,      0.8008,      0.8018,      0.8028,      0.8038,      0.8048,     0.80581,     0.80681,     0.80781,     0.80881,     0.80981,     0.81081,     0.81181,     0.81281,     0.81381,     0.81481,     0.81582,\n",
              "           0.81682,     0.81782,     0.81882,     0.81982,     0.82082,     0.82182,     0.82282,     0.82382,     0.82482,     0.82583,     0.82683,     0.82783,     0.82883,     0.82983,     0.83083,     0.83183,     0.83283,     0.83383,     0.83483,     0.83584,     0.83684,     0.83784,     0.83884,     0.83984,\n",
              "           0.84084,     0.84184,     0.84284,     0.84384,     0.84484,     0.84585,     0.84685,     0.84785,     0.84885,     0.84985,     0.85085,     0.85185,     0.85285,     0.85385,     0.85485,     0.85586,     0.85686,     0.85786,     0.85886,     0.85986,     0.86086,     0.86186,     0.86286,     0.86386,\n",
              "           0.86486,     0.86587,     0.86687,     0.86787,     0.86887,     0.86987,     0.87087,     0.87187,     0.87287,     0.87387,     0.87487,     0.87588,     0.87688,     0.87788,     0.87888,     0.87988,     0.88088,     0.88188,     0.88288,     0.88388,     0.88488,     0.88589,     0.88689,     0.88789,\n",
              "           0.88889,     0.88989,     0.89089,     0.89189,     0.89289,     0.89389,     0.89489,      0.8959,      0.8969,      0.8979,      0.8989,      0.8999,      0.9009,      0.9019,      0.9029,      0.9039,      0.9049,     0.90591,     0.90691,     0.90791,     0.90891,     0.90991,     0.91091,     0.91191,\n",
              "           0.91291,     0.91391,     0.91491,     0.91592,     0.91692,     0.91792,     0.91892,     0.91992,     0.92092,     0.92192,     0.92292,     0.92392,     0.92492,     0.92593,     0.92693,     0.92793,     0.92893,     0.92993,     0.93093,     0.93193,     0.93293,     0.93393,     0.93493,     0.93594,\n",
              "           0.93694,     0.93794,     0.93894,     0.93994,     0.94094,     0.94194,     0.94294,     0.94394,     0.94494,     0.94595,     0.94695,     0.94795,     0.94895,     0.94995,     0.95095,     0.95195,     0.95295,     0.95395,     0.95495,     0.95596,     0.95696,     0.95796,     0.95896,     0.95996,\n",
              "           0.96096,     0.96196,     0.96296,     0.96396,     0.96496,     0.96597,     0.96697,     0.96797,     0.96897,     0.96997,     0.97097,     0.97197,     0.97297,     0.97397,     0.97497,     0.97598,     0.97698,     0.97798,     0.97898,     0.97998,     0.98098,     0.98198,     0.98298,     0.98398,\n",
              "           0.98498,     0.98599,     0.98699,     0.98799,     0.98899,     0.98999,     0.99099,     0.99199,     0.99299,     0.99399,     0.99499,       0.996,       0.997,       0.998,       0.999,           1]), array([[    0.96822,     0.96822,      0.9621,     0.95477,      0.9511,     0.94499,      0.9401,     0.93888,     0.93888,     0.93765,     0.93276,     0.92787,     0.92421,     0.92298,     0.92054,     0.91809,     0.91809,     0.91443,      0.9132,      0.9132,      0.9132,     0.91231,     0.91198,\n",
              "            0.91198,     0.91076,     0.90954,     0.90954,     0.90831,     0.90831,     0.90831,     0.90709,     0.90587,     0.90587,     0.90465,     0.90342,     0.90342,      0.9022,     0.89998,     0.89976,     0.89976,     0.89901,     0.89609,     0.89487,     0.89469,      0.8912,      0.8912,\n",
              "             0.8912,     0.88875,     0.88875,     0.88875,     0.88875,     0.88753,     0.88753,     0.88753,     0.88753,     0.88631,     0.88631,      0.8827,      0.8802,      0.8802,     0.87792,     0.87708,     0.87542,     0.87531,     0.87531,     0.87408,     0.87408,     0.87408,     0.87408,\n",
              "            0.87408,     0.87286,     0.87164,     0.87164,     0.87164,     0.87042,     0.86919,     0.86797,     0.86797,     0.86675,     0.86675,     0.86552,      0.8643,     0.86308,     0.86308,     0.86186,     0.86124,     0.86064,     0.86064,     0.86064,     0.86064,     0.85941,     0.85941,\n",
              "            0.85819,     0.85819,     0.85697,     0.85671,     0.85575,     0.85575,     0.85452,     0.85452,     0.85452,     0.85452,      0.8533,      0.8533,      0.8533,     0.85208,     0.85208,     0.85208,     0.85208,     0.85208,     0.85086,     0.85086,     0.85086,     0.85086,      0.8502,\n",
              "            0.84963,     0.84963,     0.84963,     0.84963,     0.84963,     0.84963,     0.84963,     0.84963,     0.84963,     0.84963,     0.84963,     0.84963,     0.84963,     0.84841,     0.84841,     0.84743,     0.84585,     0.84508,     0.84474,     0.84474,     0.84474,     0.84474,     0.84474,\n",
              "            0.84474,     0.84474,     0.84412,     0.84313,      0.8423,      0.8423,     0.84108,     0.83985,     0.83739,     0.83684,     0.83628,     0.83374,      0.8313,      0.8313,      0.8313,      0.8313,      0.8313,      0.8313,     0.83007,     0.83007,     0.83007,     0.83007,     0.82915,\n",
              "            0.82763,     0.82763,     0.82763,     0.82763,     0.82763,     0.82763,     0.82763,     0.82763,     0.82641,     0.82641,     0.82641,     0.82635,     0.82535,     0.82518,     0.82518,     0.82274,     0.82152,     0.82152,     0.82068,     0.82029,     0.82029,     0.82029,     0.81907,\n",
              "            0.81907,     0.81907,     0.81907,     0.81907,     0.81907,     0.81907,     0.81785,     0.81785,     0.81785,     0.81785,     0.81785,     0.81785,     0.81785,     0.81785,     0.81785,     0.81785,     0.81785,     0.81779,     0.81663,      0.8154,     0.81446,     0.81332,     0.81296,\n",
              "            0.81296,     0.81296,     0.81296,     0.81284,     0.81193,     0.81174,     0.81174,     0.81174,     0.81075,     0.81021,     0.80929,     0.80929,     0.80929,     0.80929,     0.80929,     0.80807,     0.80807,     0.80807,     0.80685,     0.80685,     0.80685,     0.80685,     0.80615,\n",
              "             0.8044,      0.8044,     0.80318,     0.80318,     0.80318,     0.80318,     0.80318,     0.80318,     0.80318,     0.80196,     0.80196,     0.80196,     0.80073,     0.80073,     0.80073,     0.80073,     0.80073,     0.80073,     0.80073,     0.80073,     0.80073,     0.80073,     0.80073,\n",
              "            0.79951,     0.79893,     0.79829,     0.79707,     0.79707,     0.79707,     0.79707,     0.79707,     0.79707,     0.79575,     0.79462,     0.79363,      0.7934,      0.7934,      0.7934,      0.7934,     0.79302,     0.79054,     0.78973,     0.78851,     0.78851,     0.78851,     0.78851,\n",
              "            0.78713,     0.78675,     0.78636,     0.78606,     0.78606,     0.78606,     0.78606,     0.78606,     0.78606,     0.78606,     0.78591,     0.78491,     0.78362,     0.78362,     0.78362,     0.78362,     0.78362,     0.78362,     0.78362,      0.7824,     0.78173,     0.78117,     0.78117,\n",
              "            0.77873,     0.77873,     0.77873,     0.77873,     0.77873,     0.77873,     0.77873,     0.77873,     0.77762,     0.77751,     0.77751,     0.77751,     0.77751,     0.77751,     0.77751,     0.77751,     0.77628,     0.77628,     0.77628,     0.77628,     0.77628,     0.77628,     0.77628,\n",
              "            0.77467,     0.77396,     0.77262,     0.77253,     0.77191,     0.77139,     0.77139,     0.77139,     0.77139,     0.77017,     0.77017,     0.77017,     0.77017,     0.77017,     0.77017,     0.77017,     0.77017,     0.77017,     0.77017,     0.77017,     0.77017,     0.76959,     0.76882,\n",
              "            0.76523,     0.76488,     0.76452,     0.76416,     0.76355,     0.76283,      0.7616,     0.76114,     0.76069,     0.76039,     0.76039,     0.76039,     0.75917,     0.75917,     0.75917,     0.75671,     0.75515,     0.75428,     0.75428,     0.75398,     0.75348,     0.75306,     0.75306,\n",
              "            0.75306,     0.75225,     0.75183,     0.75166,     0.75103,     0.75061,     0.75011,     0.74939,     0.74939,     0.74939,     0.74939,     0.74939,     0.74939,     0.74939,     0.74939,     0.74939,     0.74939,     0.74939,     0.74939,     0.74733,     0.74694,     0.74671,     0.74572,\n",
              "            0.74568,     0.74443,     0.74322,      0.7425,     0.74158,     0.74083,     0.74083,     0.74083,     0.74083,     0.74083,     0.74083,     0.74083,     0.74083,     0.74083,     0.74083,     0.74083,     0.73694,     0.73594,     0.73594,     0.73594,     0.73594,     0.73594,     0.73594,\n",
              "            0.73472,     0.73227,     0.73227,     0.73227,     0.73227,     0.73227,     0.73227,     0.73227,     0.73227,     0.73225,       0.732,     0.73175,      0.7315,     0.73125,     0.73105,     0.72954,     0.72829,     0.72727,     0.72685,     0.72643,     0.72616,     0.72494,     0.72413,\n",
              "            0.72288,     0.72206,     0.72143,     0.72005,     0.72005,     0.72005,     0.72005,     0.72005,     0.72005,     0.72005,     0.72005,     0.71985,     0.71964,     0.71944,     0.71923,     0.71902,     0.71883,     0.71883,     0.71883,     0.71883,     0.71883,     0.71883,     0.71883,\n",
              "             0.7182,     0.71739,     0.71697,     0.71655,     0.71516,     0.71516,     0.71489,     0.71447,     0.71405,     0.71304,     0.71271,     0.71223,     0.71161,     0.71027,     0.71027,     0.70918,     0.70905,     0.70847,     0.70785,     0.70782,      0.7066,      0.7066,      0.7066,\n",
              "             0.7066,      0.7066,      0.7066,      0.7066,      0.7066,      0.7066,      0.7066,      0.7066,      0.7066,     0.70622,     0.70538,     0.70538,     0.70538,     0.70416,     0.70293,     0.70293,     0.70234,     0.70171,     0.70049,     0.70015,     0.69952,     0.69927,     0.69927,\n",
              "            0.69927,     0.69927,      0.6984,     0.69714,     0.69682,     0.69682,     0.69682,     0.69682,     0.69682,     0.69682,     0.69626,     0.69564,      0.6956,      0.6956,     0.69438,     0.69438,     0.69438,     0.69438,     0.69438,     0.69421,     0.69173,     0.69048,     0.68949,\n",
              "            0.68934,     0.68871,     0.68791,     0.68563,       0.685,     0.68293,     0.68086,     0.68068,      0.6805,     0.68032,     0.68015,     0.67997,     0.67979,     0.67971,     0.67971,     0.67971,     0.67951,      0.6792,     0.67888,     0.67857,     0.67803,     0.67741,     0.67585,\n",
              "             0.6756,     0.67535,     0.67509,     0.67484,      0.6737,     0.67161,     0.66993,     0.66993,     0.66993,     0.66993,     0.66993,     0.66975,     0.66943,     0.66912,     0.66881,     0.66786,     0.66705,     0.66642,      0.6641,     0.66285,      0.6616,     0.66034,     0.65909,\n",
              "            0.65784,     0.65536,     0.65365,     0.65323,     0.65282,     0.65157,     0.65033,      0.6495,     0.64756,     0.64693,     0.64631,     0.64568,     0.64341,     0.64216,      0.6409,     0.64059,     0.64059,     0.64059,       0.638,     0.63784,     0.63767,      0.6375,     0.63734,\n",
              "            0.63717,       0.637,     0.63692,     0.63692,     0.63692,     0.63692,     0.63692,     0.63614,     0.63415,     0.63365,     0.63177,     0.63066,     0.63003,     0.62801,     0.62675,      0.6255,     0.62303,     0.62214,     0.62186,     0.62159,     0.62131,     0.62103,     0.61612,\n",
              "            0.61364,     0.61117,     0.61001,     0.60981,     0.60962,     0.60943,     0.60924,     0.60904,     0.60885,     0.60833,     0.60771,     0.60758,     0.60737,     0.60674,     0.60588,     0.60391,     0.60391,     0.60029,      0.5978,      0.5978,     0.59533,      0.5947,     0.59391,\n",
              "            0.59253,     0.59191,     0.59128,     0.59065,     0.58837,     0.58766,     0.58716,      0.5868,     0.58519,     0.58352,     0.58313,     0.58277,     0.58235,     0.58193,     0.58191,     0.58191,     0.58128,     0.58042,     0.57992,     0.57824,     0.57824,     0.57824,     0.57824,\n",
              "            0.57659,     0.57597,     0.57519,     0.57335,     0.57335,     0.57296,     0.57129,     0.56968,     0.56925,     0.56874,     0.56819,     0.56756,     0.56541,     0.56235,     0.56235,     0.56235,     0.56235,     0.56037,      0.5599,     0.55835,     0.55785,     0.55728,     0.55644,\n",
              "            0.55285,      0.5516,     0.55035,     0.54726,     0.54478,     0.54305,     0.54167,     0.54034,     0.53955,     0.53895,     0.53859,     0.53823,     0.53773,     0.53631,     0.53569,     0.53493,     0.53402,     0.53254,     0.53091,      0.5303,     0.52994,     0.52959,     0.52786,\n",
              "            0.52702,     0.52583,     0.52445,     0.52411,     0.52327,     0.52204,     0.51956,     0.51956,     0.51951,     0.51831,     0.51789,     0.51747,     0.51694,     0.51548,     0.51138,     0.50951,     0.50856,      0.5079,     0.50514,     0.50317,     0.50254,     0.49835,     0.49785,\n",
              "            0.49704,     0.49239,     0.49177,     0.49084,     0.48868,     0.48805,     0.48516,     0.48484,     0.48453,     0.48422,     0.48234,     0.48157,     0.48107,     0.48057,     0.47981,      0.4785,     0.47699,     0.47513,      0.4722,     0.46957,     0.46777,     0.46726,     0.46642,\n",
              "            0.46537,      0.4621,     0.46166,     0.46088,      0.4596,     0.45897,     0.45808,     0.45667,     0.45477,     0.45328,      0.4508,     0.44982,     0.44959,     0.44936,     0.44913,     0.44891,     0.44868,     0.44791,     0.44743,     0.44625,     0.44378,     0.44204,     0.44154,\n",
              "            0.44062,     0.43937,     0.43857,     0.43807,     0.43724,     0.43558,     0.43258,     0.43175,     0.43024,     0.42997,     0.42969,     0.42941,     0.42913,       0.428,     0.42787,     0.42488,     0.42061,     0.41769,     0.41682,     0.41315,     0.41076,      0.4093,     0.40427,\n",
              "            0.40364,     0.40084,         0.4,     0.39835,     0.39752,      0.3942,     0.38839,     0.38552,     0.38405,     0.38097,     0.37923,     0.37505,     0.37442,     0.37293,     0.37225,     0.36429,     0.36345,     0.36064,     0.35991,     0.35789,     0.35739,     0.35166,     0.34825,\n",
              "            0.34742,     0.34414,      0.3423,     0.33913,      0.3364,     0.33412,     0.33161,     0.32788,     0.32688,     0.32464,     0.32159,     0.31908,     0.31538,     0.31407,     0.31226,     0.30917,     0.30533,     0.29811,     0.29543,     0.28925,     0.28552,      0.2769,     0.27117,\n",
              "            0.27034,     0.26572,     0.26119,     0.25871,     0.25575,     0.25437,     0.25074,     0.24698,     0.24389,     0.23715,     0.23665,     0.23615,     0.23448,     0.23198,     0.22904,     0.22696,     0.22409,     0.21244,     0.20967,     0.20138,     0.19976,     0.19603,     0.19334,\n",
              "             0.1898,     0.18607,     0.18215,     0.17861,     0.17485,     0.17238,     0.16987,     0.16614,     0.16119,     0.15869,     0.15719,     0.15612,     0.15239,     0.14707,     0.14215,     0.13876,     0.13381,     0.12641,     0.12369,     0.11816,     0.11645,     0.10905,     0.10166,\n",
              "            0.09988,    0.099044,    0.097803,    0.089187,    0.084905,     0.08173,    0.069444,    0.067237,    0.065223,    0.060703,    0.054529,      0.0508,     0.04829,    0.043343,    0.041201,    0.035886,    0.033379,    0.029651,    0.028791,    0.028164,     0.02549,    0.025072,    0.024654,\n",
              "           0.024194,    0.023693,    0.023138,    0.021765,     0.01704,    0.016413,    0.015681,    0.014573,    0.014072,    0.013571,    0.011891,    0.010273,   0.0092767,   0.0086502,   0.0074898,   0.0066028,   0.0059646,   0.0056065,   0.0052485,   0.0048905,   0.0035608,    0.003352,   0.0031431,\n",
              "          0.0029343,   0.0027254,   0.0025166,   0.0023583,   0.0022264,   0.0020945,   0.0019626,   0.0018307,   0.0016988,   0.0015669,    0.001435,   0.0013031,           0,           0,           0,           0,           0,           0,           0,           0,           0,           0,           0,\n",
              "                  0,           0,           0,           0,           0,           0,           0,           0,           0,           0,           0,           0,           0,           0,           0,           0,           0,           0,           0,           0,           0,           0,           0,\n",
              "                  0,           0,           0,           0,           0,           0,           0,           0,           0,           0,           0]]), 'Confidence', 'Recall'], [array([          0,    0.001001,    0.002002,    0.003003,    0.004004,    0.005005,    0.006006,    0.007007,    0.008008,    0.009009,     0.01001,    0.011011,    0.012012,    0.013013,    0.014014,    0.015015,    0.016016,    0.017017,    0.018018,    0.019019,     0.02002,    0.021021,    0.022022,    0.023023,\n",
              "          0.024024,    0.025025,    0.026026,    0.027027,    0.028028,    0.029029,     0.03003,    0.031031,    0.032032,    0.033033,    0.034034,    0.035035,    0.036036,    0.037037,    0.038038,    0.039039,     0.04004,    0.041041,    0.042042,    0.043043,    0.044044,    0.045045,    0.046046,    0.047047,\n",
              "          0.048048,    0.049049,     0.05005,    0.051051,    0.052052,    0.053053,    0.054054,    0.055055,    0.056056,    0.057057,    0.058058,    0.059059,     0.06006,    0.061061,    0.062062,    0.063063,    0.064064,    0.065065,    0.066066,    0.067067,    0.068068,    0.069069,     0.07007,    0.071071,\n",
              "          0.072072,    0.073073,    0.074074,    0.075075,    0.076076,    0.077077,    0.078078,    0.079079,     0.08008,    0.081081,    0.082082,    0.083083,    0.084084,    0.085085,    0.086086,    0.087087,    0.088088,    0.089089,     0.09009,    0.091091,    0.092092,    0.093093,    0.094094,    0.095095,\n",
              "          0.096096,    0.097097,    0.098098,    0.099099,      0.1001,      0.1011,      0.1021,      0.1031,      0.1041,     0.10511,     0.10611,     0.10711,     0.10811,     0.10911,     0.11011,     0.11111,     0.11211,     0.11311,     0.11411,     0.11512,     0.11612,     0.11712,     0.11812,     0.11912,\n",
              "           0.12012,     0.12112,     0.12212,     0.12312,     0.12412,     0.12513,     0.12613,     0.12713,     0.12813,     0.12913,     0.13013,     0.13113,     0.13213,     0.13313,     0.13413,     0.13514,     0.13614,     0.13714,     0.13814,     0.13914,     0.14014,     0.14114,     0.14214,     0.14314,\n",
              "           0.14414,     0.14515,     0.14615,     0.14715,     0.14815,     0.14915,     0.15015,     0.15115,     0.15215,     0.15315,     0.15415,     0.15516,     0.15616,     0.15716,     0.15816,     0.15916,     0.16016,     0.16116,     0.16216,     0.16316,     0.16416,     0.16517,     0.16617,     0.16717,\n",
              "           0.16817,     0.16917,     0.17017,     0.17117,     0.17217,     0.17317,     0.17417,     0.17518,     0.17618,     0.17718,     0.17818,     0.17918,     0.18018,     0.18118,     0.18218,     0.18318,     0.18418,     0.18519,     0.18619,     0.18719,     0.18819,     0.18919,     0.19019,     0.19119,\n",
              "           0.19219,     0.19319,     0.19419,      0.1952,      0.1962,      0.1972,      0.1982,      0.1992,      0.2002,      0.2012,      0.2022,      0.2032,      0.2042,     0.20521,     0.20621,     0.20721,     0.20821,     0.20921,     0.21021,     0.21121,     0.21221,     0.21321,     0.21421,     0.21522,\n",
              "           0.21622,     0.21722,     0.21822,     0.21922,     0.22022,     0.22122,     0.22222,     0.22322,     0.22422,     0.22523,     0.22623,     0.22723,     0.22823,     0.22923,     0.23023,     0.23123,     0.23223,     0.23323,     0.23423,     0.23524,     0.23624,     0.23724,     0.23824,     0.23924,\n",
              "           0.24024,     0.24124,     0.24224,     0.24324,     0.24424,     0.24525,     0.24625,     0.24725,     0.24825,     0.24925,     0.25025,     0.25125,     0.25225,     0.25325,     0.25425,     0.25526,     0.25626,     0.25726,     0.25826,     0.25926,     0.26026,     0.26126,     0.26226,     0.26326,\n",
              "           0.26426,     0.26527,     0.26627,     0.26727,     0.26827,     0.26927,     0.27027,     0.27127,     0.27227,     0.27327,     0.27427,     0.27528,     0.27628,     0.27728,     0.27828,     0.27928,     0.28028,     0.28128,     0.28228,     0.28328,     0.28428,     0.28529,     0.28629,     0.28729,\n",
              "           0.28829,     0.28929,     0.29029,     0.29129,     0.29229,     0.29329,     0.29429,      0.2953,      0.2963,      0.2973,      0.2983,      0.2993,      0.3003,      0.3013,      0.3023,      0.3033,      0.3043,     0.30531,     0.30631,     0.30731,     0.30831,     0.30931,     0.31031,     0.31131,\n",
              "           0.31231,     0.31331,     0.31431,     0.31532,     0.31632,     0.31732,     0.31832,     0.31932,     0.32032,     0.32132,     0.32232,     0.32332,     0.32432,     0.32533,     0.32633,     0.32733,     0.32833,     0.32933,     0.33033,     0.33133,     0.33233,     0.33333,     0.33433,     0.33534,\n",
              "           0.33634,     0.33734,     0.33834,     0.33934,     0.34034,     0.34134,     0.34234,     0.34334,     0.34434,     0.34535,     0.34635,     0.34735,     0.34835,     0.34935,     0.35035,     0.35135,     0.35235,     0.35335,     0.35435,     0.35536,     0.35636,     0.35736,     0.35836,     0.35936,\n",
              "           0.36036,     0.36136,     0.36236,     0.36336,     0.36436,     0.36537,     0.36637,     0.36737,     0.36837,     0.36937,     0.37037,     0.37137,     0.37237,     0.37337,     0.37437,     0.37538,     0.37638,     0.37738,     0.37838,     0.37938,     0.38038,     0.38138,     0.38238,     0.38338,\n",
              "           0.38438,     0.38539,     0.38639,     0.38739,     0.38839,     0.38939,     0.39039,     0.39139,     0.39239,     0.39339,     0.39439,      0.3954,      0.3964,      0.3974,      0.3984,      0.3994,      0.4004,      0.4014,      0.4024,      0.4034,      0.4044,     0.40541,     0.40641,     0.40741,\n",
              "           0.40841,     0.40941,     0.41041,     0.41141,     0.41241,     0.41341,     0.41441,     0.41542,     0.41642,     0.41742,     0.41842,     0.41942,     0.42042,     0.42142,     0.42242,     0.42342,     0.42442,     0.42543,     0.42643,     0.42743,     0.42843,     0.42943,     0.43043,     0.43143,\n",
              "           0.43243,     0.43343,     0.43443,     0.43544,     0.43644,     0.43744,     0.43844,     0.43944,     0.44044,     0.44144,     0.44244,     0.44344,     0.44444,     0.44545,     0.44645,     0.44745,     0.44845,     0.44945,     0.45045,     0.45145,     0.45245,     0.45345,     0.45445,     0.45546,\n",
              "           0.45646,     0.45746,     0.45846,     0.45946,     0.46046,     0.46146,     0.46246,     0.46346,     0.46446,     0.46547,     0.46647,     0.46747,     0.46847,     0.46947,     0.47047,     0.47147,     0.47247,     0.47347,     0.47447,     0.47548,     0.47648,     0.47748,     0.47848,     0.47948,\n",
              "           0.48048,     0.48148,     0.48248,     0.48348,     0.48448,     0.48549,     0.48649,     0.48749,     0.48849,     0.48949,     0.49049,     0.49149,     0.49249,     0.49349,     0.49449,      0.4955,      0.4965,      0.4975,      0.4985,      0.4995,      0.5005,      0.5015,      0.5025,      0.5035,\n",
              "            0.5045,     0.50551,     0.50651,     0.50751,     0.50851,     0.50951,     0.51051,     0.51151,     0.51251,     0.51351,     0.51451,     0.51552,     0.51652,     0.51752,     0.51852,     0.51952,     0.52052,     0.52152,     0.52252,     0.52352,     0.52452,     0.52553,     0.52653,     0.52753,\n",
              "           0.52853,     0.52953,     0.53053,     0.53153,     0.53253,     0.53353,     0.53453,     0.53554,     0.53654,     0.53754,     0.53854,     0.53954,     0.54054,     0.54154,     0.54254,     0.54354,     0.54454,     0.54555,     0.54655,     0.54755,     0.54855,     0.54955,     0.55055,     0.55155,\n",
              "           0.55255,     0.55355,     0.55455,     0.55556,     0.55656,     0.55756,     0.55856,     0.55956,     0.56056,     0.56156,     0.56256,     0.56356,     0.56456,     0.56557,     0.56657,     0.56757,     0.56857,     0.56957,     0.57057,     0.57157,     0.57257,     0.57357,     0.57457,     0.57558,\n",
              "           0.57658,     0.57758,     0.57858,     0.57958,     0.58058,     0.58158,     0.58258,     0.58358,     0.58458,     0.58559,     0.58659,     0.58759,     0.58859,     0.58959,     0.59059,     0.59159,     0.59259,     0.59359,     0.59459,      0.5956,      0.5966,      0.5976,      0.5986,      0.5996,\n",
              "            0.6006,      0.6016,      0.6026,      0.6036,      0.6046,     0.60561,     0.60661,     0.60761,     0.60861,     0.60961,     0.61061,     0.61161,     0.61261,     0.61361,     0.61461,     0.61562,     0.61662,     0.61762,     0.61862,     0.61962,     0.62062,     0.62162,     0.62262,     0.62362,\n",
              "           0.62462,     0.62563,     0.62663,     0.62763,     0.62863,     0.62963,     0.63063,     0.63163,     0.63263,     0.63363,     0.63463,     0.63564,     0.63664,     0.63764,     0.63864,     0.63964,     0.64064,     0.64164,     0.64264,     0.64364,     0.64464,     0.64565,     0.64665,     0.64765,\n",
              "           0.64865,     0.64965,     0.65065,     0.65165,     0.65265,     0.65365,     0.65465,     0.65566,     0.65666,     0.65766,     0.65866,     0.65966,     0.66066,     0.66166,     0.66266,     0.66366,     0.66466,     0.66567,     0.66667,     0.66767,     0.66867,     0.66967,     0.67067,     0.67167,\n",
              "           0.67267,     0.67367,     0.67467,     0.67568,     0.67668,     0.67768,     0.67868,     0.67968,     0.68068,     0.68168,     0.68268,     0.68368,     0.68468,     0.68569,     0.68669,     0.68769,     0.68869,     0.68969,     0.69069,     0.69169,     0.69269,     0.69369,     0.69469,      0.6957,\n",
              "            0.6967,      0.6977,      0.6987,      0.6997,      0.7007,      0.7017,      0.7027,      0.7037,      0.7047,     0.70571,     0.70671,     0.70771,     0.70871,     0.70971,     0.71071,     0.71171,     0.71271,     0.71371,     0.71471,     0.71572,     0.71672,     0.71772,     0.71872,     0.71972,\n",
              "           0.72072,     0.72172,     0.72272,     0.72372,     0.72472,     0.72573,     0.72673,     0.72773,     0.72873,     0.72973,     0.73073,     0.73173,     0.73273,     0.73373,     0.73473,     0.73574,     0.73674,     0.73774,     0.73874,     0.73974,     0.74074,     0.74174,     0.74274,     0.74374,\n",
              "           0.74474,     0.74575,     0.74675,     0.74775,     0.74875,     0.74975,     0.75075,     0.75175,     0.75275,     0.75375,     0.75475,     0.75576,     0.75676,     0.75776,     0.75876,     0.75976,     0.76076,     0.76176,     0.76276,     0.76376,     0.76476,     0.76577,     0.76677,     0.76777,\n",
              "           0.76877,     0.76977,     0.77077,     0.77177,     0.77277,     0.77377,     0.77477,     0.77578,     0.77678,     0.77778,     0.77878,     0.77978,     0.78078,     0.78178,     0.78278,     0.78378,     0.78478,     0.78579,     0.78679,     0.78779,     0.78879,     0.78979,     0.79079,     0.79179,\n",
              "           0.79279,     0.79379,     0.79479,      0.7958,      0.7968,      0.7978,      0.7988,      0.7998,      0.8008,      0.8018,      0.8028,      0.8038,      0.8048,     0.80581,     0.80681,     0.80781,     0.80881,     0.80981,     0.81081,     0.81181,     0.81281,     0.81381,     0.81481,     0.81582,\n",
              "           0.81682,     0.81782,     0.81882,     0.81982,     0.82082,     0.82182,     0.82282,     0.82382,     0.82482,     0.82583,     0.82683,     0.82783,     0.82883,     0.82983,     0.83083,     0.83183,     0.83283,     0.83383,     0.83483,     0.83584,     0.83684,     0.83784,     0.83884,     0.83984,\n",
              "           0.84084,     0.84184,     0.84284,     0.84384,     0.84484,     0.84585,     0.84685,     0.84785,     0.84885,     0.84985,     0.85085,     0.85185,     0.85285,     0.85385,     0.85485,     0.85586,     0.85686,     0.85786,     0.85886,     0.85986,     0.86086,     0.86186,     0.86286,     0.86386,\n",
              "           0.86486,     0.86587,     0.86687,     0.86787,     0.86887,     0.86987,     0.87087,     0.87187,     0.87287,     0.87387,     0.87487,     0.87588,     0.87688,     0.87788,     0.87888,     0.87988,     0.88088,     0.88188,     0.88288,     0.88388,     0.88488,     0.88589,     0.88689,     0.88789,\n",
              "           0.88889,     0.88989,     0.89089,     0.89189,     0.89289,     0.89389,     0.89489,      0.8959,      0.8969,      0.8979,      0.8989,      0.8999,      0.9009,      0.9019,      0.9029,      0.9039,      0.9049,     0.90591,     0.90691,     0.90791,     0.90891,     0.90991,     0.91091,     0.91191,\n",
              "           0.91291,     0.91391,     0.91491,     0.91592,     0.91692,     0.91792,     0.91892,     0.91992,     0.92092,     0.92192,     0.92292,     0.92392,     0.92492,     0.92593,     0.92693,     0.92793,     0.92893,     0.92993,     0.93093,     0.93193,     0.93293,     0.93393,     0.93493,     0.93594,\n",
              "           0.93694,     0.93794,     0.93894,     0.93994,     0.94094,     0.94194,     0.94294,     0.94394,     0.94494,     0.94595,     0.94695,     0.94795,     0.94895,     0.94995,     0.95095,     0.95195,     0.95295,     0.95395,     0.95495,     0.95596,     0.95696,     0.95796,     0.95896,     0.95996,\n",
              "           0.96096,     0.96196,     0.96296,     0.96396,     0.96496,     0.96597,     0.96697,     0.96797,     0.96897,     0.96997,     0.97097,     0.97197,     0.97297,     0.97397,     0.97497,     0.97598,     0.97698,     0.97798,     0.97898,     0.97998,     0.98098,     0.98198,     0.98298,     0.98398,\n",
              "           0.98498,     0.98599,     0.98699,     0.98799,     0.98899,     0.98999,     0.99099,     0.99199,     0.99299,     0.99399,     0.99499,       0.996,       0.997,       0.998,       0.999,           1]), array([[          1,           1,           1,           1,           1,           1,           1,           1,           1,           1,           1,           1,           1,           1,           1,           1,     0.97436,     0.97436,     0.97436,     0.97436,     0.97436,     0.97436,     0.97436,\n",
              "            0.97436,     0.97436,     0.97436,     0.97436,     0.97436,     0.97436,     0.97436,     0.97436,     0.97436,     0.97436,     0.97436,     0.97436,     0.97436,     0.97436,     0.97436,     0.97436,     0.97436,     0.97436,     0.97436,     0.97436,     0.97436,     0.97436,     0.97436,\n",
              "            0.97436,     0.96364,     0.96364,     0.96364,     0.96364,     0.96364,     0.96364,     0.96364,     0.96364,     0.96364,     0.96364,     0.96364,     0.96364,     0.96364,     0.96364,     0.96364,     0.96364,     0.96364,     0.96364,     0.96124,     0.96124,     0.96124,     0.96124,\n",
              "            0.96124,     0.96124,     0.96124,     0.96124,     0.96124,     0.96124,     0.96124,     0.96124,     0.96124,     0.96124,     0.96124,     0.96124,     0.96124,     0.96124,     0.96124,     0.96124,     0.96124,     0.96124,     0.96124,     0.96124,     0.96124,     0.96124,     0.96124,\n",
              "            0.96124,     0.96124,     0.96124,     0.96124,     0.96124,     0.96124,     0.96124,     0.96124,     0.96124,     0.96124,     0.96124,     0.96124,     0.96124,     0.96124,     0.96124,     0.96124,     0.96124,     0.96124,     0.96124,     0.96124,     0.96124,     0.96124,     0.96124,\n",
              "            0.96124,     0.96124,     0.96124,     0.96124,     0.96124,     0.96124,     0.96124,     0.96124,     0.96124,     0.96124,     0.96124,     0.96124,     0.96124,     0.96124,     0.96124,     0.96124,     0.96124,     0.96124,     0.96124,     0.96124,     0.96124,     0.96124,     0.96124,\n",
              "            0.96124,     0.96124,     0.96124,     0.96124,     0.96124,     0.96124,     0.96124,     0.96124,     0.96124,     0.96124,     0.96124,     0.96124,     0.96124,     0.96124,      0.9589,      0.9589,      0.9589,      0.9589,      0.9589,      0.9589,      0.9589,      0.9589,      0.9589,\n",
              "             0.9589,      0.9589,      0.9589,      0.9589,      0.9589,      0.9589,      0.9589,      0.9589,      0.9589,      0.9589,     0.95484,     0.95484,     0.95484,     0.95484,     0.95484,     0.95484,     0.95484,     0.95484,     0.95484,     0.95484,     0.95152,     0.95152,     0.95152,\n",
              "            0.95152,     0.95152,     0.95152,     0.95152,     0.95152,     0.95152,     0.95152,     0.95152,     0.95055,     0.95055,     0.95055,     0.95055,     0.95055,     0.95055,     0.95055,     0.95055,     0.95055,     0.95055,     0.95055,     0.95055,     0.95055,     0.95055,     0.95055,\n",
              "            0.95055,     0.95055,     0.95055,     0.95055,     0.95055,      0.9505,      0.9505,      0.9505,      0.9505,      0.9505,      0.9505,      0.9505,      0.9505,      0.9505,      0.9505,      0.9505,      0.9505,      0.9505,      0.9505,      0.9505,      0.9505,      0.9505,      0.9505,\n",
              "             0.9505,      0.9505,      0.9505,      0.9505,      0.9505,     0.94608,     0.94366,     0.94366,     0.94366,     0.94366,     0.94366,     0.94366,     0.94366,     0.94366,     0.94366,     0.94366,     0.94333,     0.94333,     0.94333,     0.94333,     0.94333,     0.94333,     0.94333,\n",
              "            0.94333,     0.94333,     0.94333,     0.94333,     0.94333,     0.94333,     0.94333,     0.94333,     0.94333,     0.94333,     0.94333,     0.94333,     0.94333,     0.94333,     0.94333,     0.94333,     0.94333,     0.94333,     0.94333,     0.94333,     0.94333,     0.94333,     0.94333,\n",
              "            0.94333,     0.94333,     0.94333,     0.94333,     0.94333,     0.94333,     0.94333,     0.94333,     0.94333,     0.94333,     0.94333,     0.94333,     0.94333,     0.94333,     0.94333,     0.94333,     0.94333,     0.94333,     0.94333,     0.94333,     0.94333,     0.94333,     0.94333,\n",
              "            0.94333,     0.94333,     0.94333,     0.94333,     0.94333,     0.94333,     0.94333,     0.94333,     0.94333,     0.94333,     0.94333,     0.94333,     0.94333,     0.94333,     0.94333,     0.94333,     0.94333,     0.94333,     0.94333,     0.94333,     0.94333,     0.94333,     0.94333,\n",
              "            0.94333,     0.94333,     0.94333,     0.94333,     0.94333,     0.94333,     0.94333,     0.94333,     0.94333,     0.94333,     0.94333,     0.94333,     0.94333,     0.94333,     0.94333,     0.94333,     0.94333,     0.94333,     0.94333,     0.94333,     0.94333,     0.94333,     0.94333,\n",
              "            0.94333,     0.94079,     0.94079,     0.94079,     0.94079,     0.93891,     0.93891,     0.93891,     0.93891,     0.93891,     0.93891,     0.93891,     0.93354,     0.93354,     0.93354,     0.93354,     0.93168,     0.93168,     0.93168,     0.93168,     0.93168,     0.93168,     0.93072,\n",
              "            0.93072,     0.93072,     0.93072,     0.93072,     0.93072,     0.93072,     0.93072,     0.93072,     0.93072,     0.93072,     0.92962,     0.92962,     0.92962,     0.92962,     0.92962,     0.92962,     0.92962,     0.92962,     0.92962,     0.92962,     0.92733,     0.92733,     0.92308,\n",
              "            0.92308,     0.92308,     0.92308,     0.92308,     0.92308,     0.92222,     0.92222,     0.92222,     0.92222,     0.92222,     0.92222,     0.92222,     0.92222,     0.92222,     0.92222,     0.91736,     0.91512,     0.91512,     0.91512,     0.91512,     0.91512,     0.91512,     0.91512,\n",
              "            0.91512,     0.91512,     0.91512,     0.91512,     0.91512,     0.91512,     0.91512,     0.91512,     0.91316,     0.91316,     0.91099,     0.91099,     0.91003,     0.91003,     0.91003,     0.91003,     0.91003,     0.91003,     0.91003,     0.90793,     0.90633,     0.90633,     0.90633,\n",
              "            0.90633,     0.90226,     0.90226,     0.90074,     0.90074,     0.90074,     0.90074,     0.89926,     0.89926,     0.89926,     0.89781,     0.89781,     0.89781,     0.89781,     0.89157,     0.89048,     0.89048,     0.89048,     0.89048,     0.89048,     0.88993,     0.88993,     0.88993,\n",
              "            0.88993,     0.88993,     0.88993,     0.88993,     0.88993,     0.88605,     0.88453,     0.88453,     0.88276,     0.88128,     0.88128,     0.88128,     0.87955,      0.8781,      0.8781,      0.8781,     0.87528,     0.87528,     0.87528,     0.87528,     0.87361,     0.87361,     0.86433,\n",
              "            0.86117,     0.86117,     0.85622,     0.85622,     0.85622,     0.85593,     0.85593,     0.85593,     0.85593,     0.85593,     0.85593,     0.85443,     0.85146,     0.85146,     0.85146,        0.85,     0.84886,     0.84886,     0.84867,     0.84867,     0.84867,     0.84867,     0.84867,\n",
              "            0.84867,     0.84818,     0.84818,     0.84818,     0.84818,     0.84818,     0.84739,     0.84739,     0.84739,     0.84739,     0.84431,     0.84375,     0.84375,     0.84375,     0.84375,     0.84375,     0.84375,     0.84375,     0.84375,     0.84375,     0.84375,     0.84375,     0.84333,\n",
              "            0.84333,     0.84333,     0.84333,     0.84333,     0.83716,     0.83712,     0.83712,     0.83712,     0.83712,     0.83712,     0.83712,     0.83396,     0.83396,     0.83396,     0.83396,     0.83396,     0.83396,     0.82994,     0.82994,     0.82994,     0.82784,     0.82784,     0.82784,\n",
              "            0.82784,     0.82759,     0.82759,     0.82759,     0.82759,     0.82734,     0.82734,     0.82734,     0.82734,     0.82734,     0.82655,     0.82655,     0.82655,     0.82655,     0.82655,     0.82655,     0.82655,     0.82655,     0.82655,     0.82394,     0.82199,     0.82199,     0.82199,\n",
              "            0.82199,     0.82021,     0.82021,     0.82021,     0.82021,     0.82021,     0.82021,     0.82021,     0.82021,     0.82021,     0.81911,     0.81911,     0.81419,     0.81419,     0.81208,     0.81208,     0.81208,     0.81023,     0.81023,     0.81023,     0.81023,     0.81023,     0.81023,\n",
              "            0.81023,     0.81023,     0.80744,     0.80744,     0.80744,     0.80744,     0.80744,     0.80744,     0.80744,     0.80744,     0.80744,     0.80744,     0.80257,     0.80255,     0.80255,     0.80255,     0.80255,     0.80255,     0.79905,     0.79435,     0.79219,     0.79219,      0.7916,\n",
              "             0.7916,     0.78704,     0.78615,     0.78615,      0.7844,      0.7844,     0.77761,     0.77677,     0.77594,     0.77594,     0.77511,     0.76969,     0.76934,     0.76934,     0.76934,     0.76934,     0.76934,     0.76934,     0.76934,     0.76934,     0.76934,     0.76934,     0.76934,\n",
              "            0.76856,     0.76445,     0.76445,     0.75966,     0.75966,     0.75568,     0.75496,     0.75458,     0.75458,     0.75458,     0.75387,     0.74826,     0.74826,     0.74826,     0.74757,     0.74483,     0.74313,     0.74247,     0.73577,     0.73577,     0.72922,     0.72473,     0.71186,\n",
              "            0.70855,     0.70855,     0.70619,     0.70566,     0.70102,     0.70102,     0.69785,     0.69785,     0.69686,     0.69686,     0.68897,     0.68897,     0.68897,     0.68596,     0.68466,      0.6846,      0.6846,     0.67428,     0.67428,     0.67386,     0.67104,     0.66509,     0.66315,\n",
              "            0.66315,     0.66161,     0.66161,     0.65668,     0.65668,     0.65668,     0.65668,     0.64666,      0.6456,      0.6388,     0.62732,     0.62732,     0.62364,     0.62002,     0.61099,     0.61099,     0.61012,     0.61012,     0.60988,     0.60145,     0.59327,     0.59188,     0.59188,\n",
              "            0.58576,     0.56851,     0.56455,     0.54706,     0.54638,     0.54638,     0.54638,     0.52028,     0.51979,     0.51658,     0.51165,     0.51165,     0.50424,     0.48571,     0.47642,     0.47156,     0.47156,     0.46106,     0.43819,     0.43773,     0.43773,     0.42544,     0.42544,\n",
              "            0.41817,     0.41598,     0.41438,       0.404,       0.404,     0.40199,     0.40159,     0.39417,     0.39406,     0.38131,     0.38131,     0.38131,      0.3438,     0.34149,     0.32454,     0.32454,     0.30877,     0.30245,     0.28919,     0.28791,     0.28323,     0.28323,     0.26448,\n",
              "            0.26446,     0.26432,     0.26076,     0.26076,       0.251,     0.24377,     0.22726,     0.22365,     0.19962,     0.19962,     0.19843,     0.19203,     0.17614,     0.17215,     0.17215,     0.14717,      0.1325,      0.1325,     0.12796,     0.10124,     0.10124,    0.085818,    0.082329,\n",
              "           0.081951,    0.081573,    0.081196,    0.080818,     0.08044,    0.080063,    0.079685,    0.079307,     0.07893,    0.078552,    0.078174,    0.077797,    0.077419,    0.077042,    0.076664,    0.076286,    0.075909,    0.075531,    0.075153,    0.074776,    0.074398,     0.07402,    0.073643,\n",
              "           0.073265,    0.072887,     0.07251,    0.072132,    0.071754,    0.071377,    0.070999,    0.070621,    0.070244,    0.069866,    0.069488,    0.069111,    0.068733,    0.068355,    0.067978,      0.0676,    0.067223,    0.066845,    0.066467,     0.06609,    0.065712,    0.065334,    0.064957,\n",
              "           0.064579,    0.064201,    0.063824,    0.063446,    0.063068,    0.062691,    0.062313,    0.061935,    0.061558,     0.06118,    0.060802,    0.060425,    0.060047,    0.059669,    0.059292,    0.058914,    0.058536,    0.058159,    0.057781,    0.057403,    0.057026,    0.056648,    0.056271,\n",
              "           0.055893,    0.055515,    0.055138,     0.05476,    0.054382,    0.054005,    0.053627,    0.053249,    0.052872,    0.052494,    0.052116,    0.051739,    0.051361,    0.050983,    0.050606,    0.050228,     0.04985,    0.049473,    0.049095,    0.048717,     0.04834,    0.047962,    0.047584,\n",
              "           0.047207,    0.046829,    0.046452,    0.046074,    0.045696,    0.045319,    0.044941,    0.044563,    0.044186,    0.043808,     0.04343,    0.043053,    0.042675,    0.042297,     0.04192,    0.041542,    0.041164,    0.040787,    0.040409,    0.040031,    0.039654,    0.039276,    0.038898,\n",
              "           0.038521,    0.038143,    0.037765,    0.037388,     0.03701,    0.036632,    0.036255,    0.035877,      0.0355,    0.035122,    0.034744,    0.034367,    0.033989,    0.033611,    0.033234,    0.032856,    0.032478,    0.032101,    0.031723,    0.031345,    0.030968,     0.03059,    0.030212,\n",
              "           0.029835,    0.029457,    0.029079,    0.028702,    0.028324,    0.027946,    0.027569,    0.027191,    0.026813,    0.026436,    0.026058,    0.025681,    0.025303,    0.024925,    0.024548,     0.02417,    0.023792,    0.023415,    0.023037,    0.022659,    0.022282,    0.021904,    0.021526,\n",
              "           0.021149,    0.020771,    0.020393,    0.020016,    0.019638,     0.01926,    0.018883,    0.018505,    0.018127,     0.01775,    0.017372,    0.016994,    0.016617,    0.016239,    0.015861,    0.015484,    0.015106,    0.014729,    0.014351,    0.013973,    0.013596,    0.013218,     0.01284,\n",
              "           0.012463,    0.012085,    0.011707,     0.01133,    0.010952,    0.010574,    0.010197,    0.009819,   0.0094414,   0.0090637,   0.0086861,   0.0083084,   0.0079307,   0.0075531,   0.0071754,   0.0067978,   0.0064201,   0.0060425,   0.0056648,   0.0052872,   0.0049095,   0.0045319,   0.0041542,\n",
              "          0.0037765,   0.0033989,   0.0030212,   0.0026436,   0.0022659,   0.0018883,   0.0015106,    0.001133,  0.00075531,  0.00037765,           0]]), 'Recall', 'Precision'], [array([          0,    0.001001,    0.002002,    0.003003,    0.004004,    0.005005,    0.006006,    0.007007,    0.008008,    0.009009,     0.01001,    0.011011,    0.012012,    0.013013,    0.014014,    0.015015,    0.016016,    0.017017,    0.018018,    0.019019,     0.02002,    0.021021,    0.022022,    0.023023,\n",
              "          0.024024,    0.025025,    0.026026,    0.027027,    0.028028,    0.029029,     0.03003,    0.031031,    0.032032,    0.033033,    0.034034,    0.035035,    0.036036,    0.037037,    0.038038,    0.039039,     0.04004,    0.041041,    0.042042,    0.043043,    0.044044,    0.045045,    0.046046,    0.047047,\n",
              "          0.048048,    0.049049,     0.05005,    0.051051,    0.052052,    0.053053,    0.054054,    0.055055,    0.056056,    0.057057,    0.058058,    0.059059,     0.06006,    0.061061,    0.062062,    0.063063,    0.064064,    0.065065,    0.066066,    0.067067,    0.068068,    0.069069,     0.07007,    0.071071,\n",
              "          0.072072,    0.073073,    0.074074,    0.075075,    0.076076,    0.077077,    0.078078,    0.079079,     0.08008,    0.081081,    0.082082,    0.083083,    0.084084,    0.085085,    0.086086,    0.087087,    0.088088,    0.089089,     0.09009,    0.091091,    0.092092,    0.093093,    0.094094,    0.095095,\n",
              "          0.096096,    0.097097,    0.098098,    0.099099,      0.1001,      0.1011,      0.1021,      0.1031,      0.1041,     0.10511,     0.10611,     0.10711,     0.10811,     0.10911,     0.11011,     0.11111,     0.11211,     0.11311,     0.11411,     0.11512,     0.11612,     0.11712,     0.11812,     0.11912,\n",
              "           0.12012,     0.12112,     0.12212,     0.12312,     0.12412,     0.12513,     0.12613,     0.12713,     0.12813,     0.12913,     0.13013,     0.13113,     0.13213,     0.13313,     0.13413,     0.13514,     0.13614,     0.13714,     0.13814,     0.13914,     0.14014,     0.14114,     0.14214,     0.14314,\n",
              "           0.14414,     0.14515,     0.14615,     0.14715,     0.14815,     0.14915,     0.15015,     0.15115,     0.15215,     0.15315,     0.15415,     0.15516,     0.15616,     0.15716,     0.15816,     0.15916,     0.16016,     0.16116,     0.16216,     0.16316,     0.16416,     0.16517,     0.16617,     0.16717,\n",
              "           0.16817,     0.16917,     0.17017,     0.17117,     0.17217,     0.17317,     0.17417,     0.17518,     0.17618,     0.17718,     0.17818,     0.17918,     0.18018,     0.18118,     0.18218,     0.18318,     0.18418,     0.18519,     0.18619,     0.18719,     0.18819,     0.18919,     0.19019,     0.19119,\n",
              "           0.19219,     0.19319,     0.19419,      0.1952,      0.1962,      0.1972,      0.1982,      0.1992,      0.2002,      0.2012,      0.2022,      0.2032,      0.2042,     0.20521,     0.20621,     0.20721,     0.20821,     0.20921,     0.21021,     0.21121,     0.21221,     0.21321,     0.21421,     0.21522,\n",
              "           0.21622,     0.21722,     0.21822,     0.21922,     0.22022,     0.22122,     0.22222,     0.22322,     0.22422,     0.22523,     0.22623,     0.22723,     0.22823,     0.22923,     0.23023,     0.23123,     0.23223,     0.23323,     0.23423,     0.23524,     0.23624,     0.23724,     0.23824,     0.23924,\n",
              "           0.24024,     0.24124,     0.24224,     0.24324,     0.24424,     0.24525,     0.24625,     0.24725,     0.24825,     0.24925,     0.25025,     0.25125,     0.25225,     0.25325,     0.25425,     0.25526,     0.25626,     0.25726,     0.25826,     0.25926,     0.26026,     0.26126,     0.26226,     0.26326,\n",
              "           0.26426,     0.26527,     0.26627,     0.26727,     0.26827,     0.26927,     0.27027,     0.27127,     0.27227,     0.27327,     0.27427,     0.27528,     0.27628,     0.27728,     0.27828,     0.27928,     0.28028,     0.28128,     0.28228,     0.28328,     0.28428,     0.28529,     0.28629,     0.28729,\n",
              "           0.28829,     0.28929,     0.29029,     0.29129,     0.29229,     0.29329,     0.29429,      0.2953,      0.2963,      0.2973,      0.2983,      0.2993,      0.3003,      0.3013,      0.3023,      0.3033,      0.3043,     0.30531,     0.30631,     0.30731,     0.30831,     0.30931,     0.31031,     0.31131,\n",
              "           0.31231,     0.31331,     0.31431,     0.31532,     0.31632,     0.31732,     0.31832,     0.31932,     0.32032,     0.32132,     0.32232,     0.32332,     0.32432,     0.32533,     0.32633,     0.32733,     0.32833,     0.32933,     0.33033,     0.33133,     0.33233,     0.33333,     0.33433,     0.33534,\n",
              "           0.33634,     0.33734,     0.33834,     0.33934,     0.34034,     0.34134,     0.34234,     0.34334,     0.34434,     0.34535,     0.34635,     0.34735,     0.34835,     0.34935,     0.35035,     0.35135,     0.35235,     0.35335,     0.35435,     0.35536,     0.35636,     0.35736,     0.35836,     0.35936,\n",
              "           0.36036,     0.36136,     0.36236,     0.36336,     0.36436,     0.36537,     0.36637,     0.36737,     0.36837,     0.36937,     0.37037,     0.37137,     0.37237,     0.37337,     0.37437,     0.37538,     0.37638,     0.37738,     0.37838,     0.37938,     0.38038,     0.38138,     0.38238,     0.38338,\n",
              "           0.38438,     0.38539,     0.38639,     0.38739,     0.38839,     0.38939,     0.39039,     0.39139,     0.39239,     0.39339,     0.39439,      0.3954,      0.3964,      0.3974,      0.3984,      0.3994,      0.4004,      0.4014,      0.4024,      0.4034,      0.4044,     0.40541,     0.40641,     0.40741,\n",
              "           0.40841,     0.40941,     0.41041,     0.41141,     0.41241,     0.41341,     0.41441,     0.41542,     0.41642,     0.41742,     0.41842,     0.41942,     0.42042,     0.42142,     0.42242,     0.42342,     0.42442,     0.42543,     0.42643,     0.42743,     0.42843,     0.42943,     0.43043,     0.43143,\n",
              "           0.43243,     0.43343,     0.43443,     0.43544,     0.43644,     0.43744,     0.43844,     0.43944,     0.44044,     0.44144,     0.44244,     0.44344,     0.44444,     0.44545,     0.44645,     0.44745,     0.44845,     0.44945,     0.45045,     0.45145,     0.45245,     0.45345,     0.45445,     0.45546,\n",
              "           0.45646,     0.45746,     0.45846,     0.45946,     0.46046,     0.46146,     0.46246,     0.46346,     0.46446,     0.46547,     0.46647,     0.46747,     0.46847,     0.46947,     0.47047,     0.47147,     0.47247,     0.47347,     0.47447,     0.47548,     0.47648,     0.47748,     0.47848,     0.47948,\n",
              "           0.48048,     0.48148,     0.48248,     0.48348,     0.48448,     0.48549,     0.48649,     0.48749,     0.48849,     0.48949,     0.49049,     0.49149,     0.49249,     0.49349,     0.49449,      0.4955,      0.4965,      0.4975,      0.4985,      0.4995,      0.5005,      0.5015,      0.5025,      0.5035,\n",
              "            0.5045,     0.50551,     0.50651,     0.50751,     0.50851,     0.50951,     0.51051,     0.51151,     0.51251,     0.51351,     0.51451,     0.51552,     0.51652,     0.51752,     0.51852,     0.51952,     0.52052,     0.52152,     0.52252,     0.52352,     0.52452,     0.52553,     0.52653,     0.52753,\n",
              "           0.52853,     0.52953,     0.53053,     0.53153,     0.53253,     0.53353,     0.53453,     0.53554,     0.53654,     0.53754,     0.53854,     0.53954,     0.54054,     0.54154,     0.54254,     0.54354,     0.54454,     0.54555,     0.54655,     0.54755,     0.54855,     0.54955,     0.55055,     0.55155,\n",
              "           0.55255,     0.55355,     0.55455,     0.55556,     0.55656,     0.55756,     0.55856,     0.55956,     0.56056,     0.56156,     0.56256,     0.56356,     0.56456,     0.56557,     0.56657,     0.56757,     0.56857,     0.56957,     0.57057,     0.57157,     0.57257,     0.57357,     0.57457,     0.57558,\n",
              "           0.57658,     0.57758,     0.57858,     0.57958,     0.58058,     0.58158,     0.58258,     0.58358,     0.58458,     0.58559,     0.58659,     0.58759,     0.58859,     0.58959,     0.59059,     0.59159,     0.59259,     0.59359,     0.59459,      0.5956,      0.5966,      0.5976,      0.5986,      0.5996,\n",
              "            0.6006,      0.6016,      0.6026,      0.6036,      0.6046,     0.60561,     0.60661,     0.60761,     0.60861,     0.60961,     0.61061,     0.61161,     0.61261,     0.61361,     0.61461,     0.61562,     0.61662,     0.61762,     0.61862,     0.61962,     0.62062,     0.62162,     0.62262,     0.62362,\n",
              "           0.62462,     0.62563,     0.62663,     0.62763,     0.62863,     0.62963,     0.63063,     0.63163,     0.63263,     0.63363,     0.63463,     0.63564,     0.63664,     0.63764,     0.63864,     0.63964,     0.64064,     0.64164,     0.64264,     0.64364,     0.64464,     0.64565,     0.64665,     0.64765,\n",
              "           0.64865,     0.64965,     0.65065,     0.65165,     0.65265,     0.65365,     0.65465,     0.65566,     0.65666,     0.65766,     0.65866,     0.65966,     0.66066,     0.66166,     0.66266,     0.66366,     0.66466,     0.66567,     0.66667,     0.66767,     0.66867,     0.66967,     0.67067,     0.67167,\n",
              "           0.67267,     0.67367,     0.67467,     0.67568,     0.67668,     0.67768,     0.67868,     0.67968,     0.68068,     0.68168,     0.68268,     0.68368,     0.68468,     0.68569,     0.68669,     0.68769,     0.68869,     0.68969,     0.69069,     0.69169,     0.69269,     0.69369,     0.69469,      0.6957,\n",
              "            0.6967,      0.6977,      0.6987,      0.6997,      0.7007,      0.7017,      0.7027,      0.7037,      0.7047,     0.70571,     0.70671,     0.70771,     0.70871,     0.70971,     0.71071,     0.71171,     0.71271,     0.71371,     0.71471,     0.71572,     0.71672,     0.71772,     0.71872,     0.71972,\n",
              "           0.72072,     0.72172,     0.72272,     0.72372,     0.72472,     0.72573,     0.72673,     0.72773,     0.72873,     0.72973,     0.73073,     0.73173,     0.73273,     0.73373,     0.73473,     0.73574,     0.73674,     0.73774,     0.73874,     0.73974,     0.74074,     0.74174,     0.74274,     0.74374,\n",
              "           0.74474,     0.74575,     0.74675,     0.74775,     0.74875,     0.74975,     0.75075,     0.75175,     0.75275,     0.75375,     0.75475,     0.75576,     0.75676,     0.75776,     0.75876,     0.75976,     0.76076,     0.76176,     0.76276,     0.76376,     0.76476,     0.76577,     0.76677,     0.76777,\n",
              "           0.76877,     0.76977,     0.77077,     0.77177,     0.77277,     0.77377,     0.77477,     0.77578,     0.77678,     0.77778,     0.77878,     0.77978,     0.78078,     0.78178,     0.78278,     0.78378,     0.78478,     0.78579,     0.78679,     0.78779,     0.78879,     0.78979,     0.79079,     0.79179,\n",
              "           0.79279,     0.79379,     0.79479,      0.7958,      0.7968,      0.7978,      0.7988,      0.7998,      0.8008,      0.8018,      0.8028,      0.8038,      0.8048,     0.80581,     0.80681,     0.80781,     0.80881,     0.80981,     0.81081,     0.81181,     0.81281,     0.81381,     0.81481,     0.81582,\n",
              "           0.81682,     0.81782,     0.81882,     0.81982,     0.82082,     0.82182,     0.82282,     0.82382,     0.82482,     0.82583,     0.82683,     0.82783,     0.82883,     0.82983,     0.83083,     0.83183,     0.83283,     0.83383,     0.83483,     0.83584,     0.83684,     0.83784,     0.83884,     0.83984,\n",
              "           0.84084,     0.84184,     0.84284,     0.84384,     0.84484,     0.84585,     0.84685,     0.84785,     0.84885,     0.84985,     0.85085,     0.85185,     0.85285,     0.85385,     0.85485,     0.85586,     0.85686,     0.85786,     0.85886,     0.85986,     0.86086,     0.86186,     0.86286,     0.86386,\n",
              "           0.86486,     0.86587,     0.86687,     0.86787,     0.86887,     0.86987,     0.87087,     0.87187,     0.87287,     0.87387,     0.87487,     0.87588,     0.87688,     0.87788,     0.87888,     0.87988,     0.88088,     0.88188,     0.88288,     0.88388,     0.88488,     0.88589,     0.88689,     0.88789,\n",
              "           0.88889,     0.88989,     0.89089,     0.89189,     0.89289,     0.89389,     0.89489,      0.8959,      0.8969,      0.8979,      0.8989,      0.8999,      0.9009,      0.9019,      0.9029,      0.9039,      0.9049,     0.90591,     0.90691,     0.90791,     0.90891,     0.90991,     0.91091,     0.91191,\n",
              "           0.91291,     0.91391,     0.91491,     0.91592,     0.91692,     0.91792,     0.91892,     0.91992,     0.92092,     0.92192,     0.92292,     0.92392,     0.92492,     0.92593,     0.92693,     0.92793,     0.92893,     0.92993,     0.93093,     0.93193,     0.93293,     0.93393,     0.93493,     0.93594,\n",
              "           0.93694,     0.93794,     0.93894,     0.93994,     0.94094,     0.94194,     0.94294,     0.94394,     0.94494,     0.94595,     0.94695,     0.94795,     0.94895,     0.94995,     0.95095,     0.95195,     0.95295,     0.95395,     0.95495,     0.95596,     0.95696,     0.95796,     0.95896,     0.95996,\n",
              "           0.96096,     0.96196,     0.96296,     0.96396,     0.96496,     0.96597,     0.96697,     0.96797,     0.96897,     0.96997,     0.97097,     0.97197,     0.97297,     0.97397,     0.97497,     0.97598,     0.97698,     0.97798,     0.97898,     0.97998,     0.98098,     0.98198,     0.98298,     0.98398,\n",
              "           0.98498,     0.98599,     0.98699,     0.98799,     0.98899,     0.98999,     0.99099,     0.99199,     0.99299,     0.99399,     0.99499,       0.996,       0.997,       0.998,       0.999,           1]), array([[    0.14933,     0.14933,     0.20789,     0.24678,     0.27696,       0.302,     0.32206,     0.34175,     0.35449,     0.36691,     0.37991,     0.39054,     0.39885,     0.40653,     0.41496,     0.42145,     0.42831,     0.43573,     0.44259,     0.45123,     0.45634,     0.46022,     0.46423,\n",
              "            0.46906,     0.47322,     0.47819,     0.48235,     0.48638,     0.49041,     0.49392,     0.49795,     0.50149,     0.50458,     0.50573,     0.50836,     0.51014,     0.51313,     0.51494,     0.51683,     0.51884,     0.52106,     0.52268,     0.52355,     0.52566,     0.52894,     0.53055,\n",
              "            0.53172,      0.5332,     0.53316,     0.53537,     0.53714,     0.53873,     0.54049,     0.54272,     0.54402,      0.5455,     0.54729,     0.54757,      0.5487,     0.55109,     0.55418,      0.5559,     0.55703,     0.55836,     0.55909,     0.56137,     0.56354,     0.56415,     0.56615,\n",
              "            0.56677,     0.56866,     0.57006,     0.57101,     0.57175,      0.5726,     0.57345,     0.57479,     0.57542,     0.57677,     0.57745,     0.57879,     0.57954,     0.58059,     0.58223,     0.58274,      0.5845,     0.58565,     0.58645,     0.58732,       0.588,     0.58969,     0.59047,\n",
              "            0.59136,     0.59289,     0.59494,     0.59514,     0.59632,     0.59707,      0.5995,     0.59975,     0.60019,     0.60081,     0.60177,     0.60227,     0.60283,     0.60307,     0.60324,     0.60357,     0.60422,     0.60416,     0.60396,      0.6042,     0.60436,     0.60501,     0.60582,\n",
              "            0.60697,     0.60835,     0.60924,     0.61046,     0.61181,     0.61236,     0.61311,     0.61417,     0.61449,     0.61532,     0.61643,      0.6167,     0.61719,     0.61842,      0.6208,     0.62072,     0.62077,     0.62031,     0.62065,     0.62129,     0.62291,     0.62375,      0.6241,\n",
              "            0.62454,     0.62489,      0.6259,     0.62651,     0.62736,     0.62839,     0.62909,     0.63011,     0.63146,     0.63112,     0.63078,     0.63223,      0.6329,     0.63325,     0.63415,     0.63445,     0.63463,      0.6352,     0.63619,     0.63689,     0.63771,     0.63824,     0.63887,\n",
              "            0.63936,     0.63952,     0.64014,      0.6417,     0.64249,     0.64272,     0.64299,     0.64343,     0.64312,     0.64354,     0.64375,     0.64421,     0.64451,     0.64469,     0.64485,       0.646,     0.64627,      0.6469,     0.64651,      0.6464,     0.64661,     0.64693,     0.64775,\n",
              "             0.6479,     0.64806,      0.6486,     0.64956,     0.65015,     0.65075,     0.65066,     0.65104,     0.65121,     0.65176,     0.65246,      0.6533,     0.65365,     0.65385,     0.65465,     0.65495,     0.65517,      0.6557,     0.65523,     0.65518,     0.65398,     0.65444,     0.65487,\n",
              "            0.65547,     0.65585,     0.65614,     0.65645,     0.65672,     0.65709,     0.65747,     0.65814,     0.65859,     0.65923,     0.65898,     0.65984,     0.66012,     0.66066,     0.66123,     0.66208,     0.66225,     0.66241,      0.6618,     0.66212,     0.66293,     0.66324,     0.66418,\n",
              "            0.66487,     0.66506,     0.66586,      0.6667,     0.66689,     0.66709,     0.66735,     0.66785,     0.66811,     0.66765,     0.66826,     0.66855,     0.66908,     0.66926,     0.66945,     0.66966,     0.66982,      0.6699,     0.66997,     0.67005,     0.67013,     0.67072,     0.67126,\n",
              "            0.67071,       0.671,     0.67092,     0.67142,     0.67148,     0.67154,      0.6716,     0.67166,     0.67172,      0.6722,     0.67274,     0.67368,     0.67423,     0.67466,     0.67494,     0.67584,     0.67591,     0.67432,     0.67421,     0.67507,     0.67531,     0.67597,     0.67668,\n",
              "            0.67613,     0.67588,     0.67563,      0.6755,     0.67577,     0.67593,     0.67606,     0.67619,     0.67634,     0.67651,     0.67655,      0.6759,     0.67638,     0.67666,      0.6769,     0.67696,     0.67655,     0.67634,     0.67655,     0.67725,     0.67772,     0.67828,      0.6791,\n",
              "            0.67887,     0.67925,     0.67943,     0.67982,     0.68035,     0.67988,     0.67968,     0.67992,     0.67927,      0.6797,     0.68082,     0.68113,     0.68135,     0.68152,     0.68212,     0.68246,     0.68296,     0.68306,     0.68317,     0.68327,      0.6834,     0.68364,     0.68421,\n",
              "            0.68354,     0.68306,     0.68306,     0.68338,     0.68297,     0.68278,     0.68322,     0.68346,     0.68371,     0.68337,     0.68289,     0.68293,     0.68325,      0.6835,     0.68433,     0.68487,     0.68534,     0.68578,     0.68607,     0.68642,     0.68626,     0.68572,     0.68533,\n",
              "            0.68534,     0.68546,     0.68559,     0.68571,     0.68678,     0.68703,      0.6862,      0.6859,     0.68559,     0.68598,     0.68647,     0.68739,     0.68725,     0.68742,     0.68758,     0.68804,     0.68735,     0.68773,     0.68799,      0.6882,     0.68837,     0.68856,     0.68875,\n",
              "            0.68895,     0.68842,     0.68831,     0.68863,     0.68885,      0.6892,     0.69005,     0.69032,     0.69041,     0.69049,     0.69058,     0.69066,     0.69075,     0.69101,     0.69176,     0.69309,     0.69354,     0.69392,     0.69418,     0.69462,     0.69508,      0.6955,     0.69572,\n",
              "            0.69662,     0.69707,     0.69752,     0.69778,     0.69762,      0.6972,     0.69743,     0.69766,     0.69789,     0.69876,     0.69899,     0.69911,     0.69922,     0.69934,     0.69975,     0.70022,     0.69957,     0.69985,     0.69941,     0.69915,     0.69938,     0.69969,     0.70015,\n",
              "            0.69983,     0.69852,     0.69875,     0.69898,     0.69922,     0.69962,     0.69991,     0.70015,     0.70041,      0.7011,     0.70092,     0.70075,     0.70057,      0.7004,     0.70036,     0.69967,     0.69914,     0.69939,      0.6991,     0.69881,     0.69879,     0.69846,     0.69899,\n",
              "            0.69992,     0.69976,     0.69932,     0.69853,     0.69876,       0.699,     0.69924,     0.69967,     0.69987,     0.70003,     0.70019,     0.70052,     0.70038,     0.70023,     0.70008,     0.69994,     0.69982,      0.7001,     0.70036,     0.70059,     0.70083,     0.70107,     0.70142,\n",
              "            0.70122,     0.70088,     0.70104,      0.7012,     0.69927,     0.69882,     0.69848,     0.69818,     0.69788,     0.69716,     0.69728,     0.69705,     0.69661,     0.69575,      0.6953,     0.69447,     0.69479,     0.69443,     0.69398,     0.69442,      0.6949,     0.69513,     0.69539,\n",
              "            0.69584,     0.69596,     0.69608,      0.6962,     0.69621,     0.69576,     0.69545,     0.69562,     0.69578,     0.69561,     0.69506,     0.69522,     0.69538,     0.69479,     0.69428,     0.69453,     0.69488,     0.69536,     0.69679,     0.69676,     0.69631,     0.69558,     0.69539,\n",
              "            0.69563,     0.69604,     0.69555,     0.69511,     0.69506,      0.6953,     0.69545,     0.69557,      0.6957,     0.69582,     0.69605,     0.69629,     0.69654,     0.69678,     0.69588,     0.69543,     0.69501,     0.69517,     0.69533,     0.69535,     0.69471,      0.6952,     0.69569,\n",
              "            0.69644,     0.69598,     0.69684,     0.69515,     0.69469,     0.69366,     0.69308,     0.69315,     0.69322,     0.69329,     0.69336,     0.69343,     0.69351,     0.69381,     0.69479,     0.69443,     0.69393,      0.6937,     0.69346,     0.69323,     0.69283,     0.69236,      0.6912,\n",
              "            0.69101,     0.69082,     0.69063,     0.69045,     0.68959,      0.6889,     0.68838,     0.68876,     0.68901,     0.68925,      0.6895,     0.68947,     0.68924,       0.689,     0.68876,     0.68805,     0.68743,     0.68696,     0.68521,     0.68426,     0.68331,     0.68354,     0.68452,\n",
              "            0.68375,     0.68316,     0.68246,     0.68214,     0.68182,     0.68328,     0.68374,     0.68309,     0.68303,     0.68255,     0.68207,     0.68159,     0.67889,     0.67792,     0.67649,     0.67642,     0.67667,     0.67712,      0.6752,     0.67507,     0.67494,     0.67481,     0.67468,\n",
              "            0.67455,     0.67442,      0.6746,      0.6749,     0.67503,     0.67515,     0.67528,     0.67471,     0.67499,     0.67519,     0.67418,     0.67331,     0.67282,     0.67122,     0.67069,      0.6707,     0.66927,     0.66949,     0.66927,     0.66905,     0.66883,     0.66861,     0.66519,\n",
              "            0.66321,     0.66269,     0.66176,     0.66161,     0.66145,      0.6613,     0.66114,     0.66099,     0.66083,     0.66042,     0.65991,     0.66007,     0.66038,     0.66063,     0.66039,     0.65943,     0.65976,     0.65732,     0.65578,     0.65603,     0.65574,     0.65523,     0.65458,\n",
              "            0.65345,     0.65294,     0.65242,     0.65191,     0.65152,     0.65138,     0.65158,     0.65186,     0.65286,     0.65148,     0.65029,     0.64985,      0.6495,     0.64916,     0.64932,     0.64952,      0.6491,     0.64839,     0.64797,     0.64654,     0.64625,     0.64595,     0.64565,\n",
              "            0.64417,     0.64365,       0.643,     0.64152,     0.64177,     0.64161,     0.64124,     0.64079,     0.64102,     0.64122,     0.64111,     0.64058,     0.63876,     0.63768,     0.63737,     0.63707,     0.63676,     0.63496,     0.63487,     0.63372,     0.63329,      0.6328,     0.63208,\n",
              "            0.63017,     0.62945,     0.62837,     0.62777,     0.62664,     0.62635,     0.62689,     0.62633,     0.62567,     0.62514,     0.62483,     0.62452,     0.62408,     0.62284,     0.62229,     0.62162,     0.62109,     0.62108,     0.61965,     0.61945,     0.61959,     0.61973,     0.62057,\n",
              "            0.61983,     0.61878,     0.61931,     0.61931,     0.61857,     0.61899,     0.62057,     0.62077,     0.62091,     0.61988,     0.62005,     0.62022,     0.62021,     0.61891,     0.61633,     0.61563,     0.61489,     0.61442,     0.61267,     0.61248,     0.61191,     0.61019,     0.60973,\n",
              "            0.61016,     0.60684,     0.60626,     0.60541,     0.60384,     0.60409,     0.60178,     0.60149,      0.6012,     0.60091,     0.59989,     0.60007,     0.59961,     0.59914,     0.59928,      0.5998,      0.6004,     0.59896,     0.59742,     0.59538,     0.59429,     0.59449,     0.59405,\n",
              "            0.59306,     0.59157,     0.59004,     0.58982,     0.58905,     0.58846,     0.58761,     0.58699,     0.58619,     0.58515,     0.58277,     0.58182,      0.5816,     0.58138,     0.58116,     0.58094,     0.58072,     0.57997,     0.57995,     0.57885,     0.57694,     0.57692,     0.57643,\n",
              "            0.57434,     0.57311,     0.57233,     0.57184,     0.57102,     0.56939,     0.56643,     0.56561,     0.56459,     0.56432,     0.56404,     0.56376,     0.56349,     0.56284,     0.56359,     0.56068,     0.55639,       0.554,     0.55427,      0.5493,     0.54861,     0.54757,     0.54412,\n",
              "            0.54348,     0.54058,     0.53972,     0.53801,     0.53714,     0.53543,     0.52934,     0.52632,     0.52624,     0.52325,      0.5214,      0.5187,     0.51803,     0.51643,     0.51662,     0.50979,     0.50888,     0.50587,     0.50546,     0.50325,      0.5027,     0.49639,      0.4926,\n",
              "            0.49167,     0.48802,      0.4852,       0.481,     0.47791,     0.47532,     0.47246,     0.46818,     0.46703,     0.46444,     0.46091,       0.458,     0.45367,     0.45214,     0.45001,     0.44637,     0.44181,     0.43318,     0.42995,     0.42246,      0.4179,     0.40917,     0.40394,\n",
              "            0.40289,     0.39709,     0.39135,     0.38892,     0.38983,     0.38847,     0.38381,     0.37895,      0.3769,     0.37006,     0.36941,     0.36875,     0.36655,     0.36324,     0.35935,     0.35658,     0.35274,     0.33899,     0.33519,     0.32375,      0.3215,     0.31833,     0.31455,\n",
              "            0.30955,     0.30426,     0.29924,     0.29388,     0.29045,     0.28691,     0.28325,     0.27778,     0.27046,     0.26673,     0.26451,      0.2629,     0.25757,      0.2495,     0.24197,     0.23675,     0.22907,     0.21747,     0.21316,     0.20434,     0.20159,     0.18963,      0.1775,\n",
              "            0.17456,     0.17318,     0.17112,      0.1591,     0.15184,     0.14642,     0.12515,     0.12137,     0.11787,     0.10985,    0.098781,    0.092035,     0.08863,    0.080741,    0.076793,    0.066924,    0.062236,    0.055219,    0.053594,    0.052408,    0.047328,    0.046533,    0.045736,\n",
              "           0.044858,    0.043901,     0.04284,     0.04021,    0.031252,    0.031272,    0.030877,    0.028727,    0.027753,    0.026778,    0.023502,    0.020337,    0.018383,    0.017152,    0.014868,    0.013119,    0.011858,    0.011151,    0.010442,   0.0097334,   0.0070964,   0.0066815,   0.0062665,\n",
              "          0.0058514,    0.005436,   0.0050205,   0.0047055,   0.0044429,   0.0041802,   0.0039175,   0.0036547,   0.0033918,   0.0031288,   0.0028658,   0.0026027,           0,           0,           0,           0,           0,           0,           0,           0,           0,           0,           0,\n",
              "                  0,           0,           0,           0,           0,           0,           0,           0,           0,           0,           0,           0,           0,           0,           0,           0,           0,           0,           0,           0,           0,           0,           0,\n",
              "                  0,           0,           0,           0,           0,           0,           0,           0,           0,           0,           0]]), 'Confidence', 'F1'], [array([          0,    0.001001,    0.002002,    0.003003,    0.004004,    0.005005,    0.006006,    0.007007,    0.008008,    0.009009,     0.01001,    0.011011,    0.012012,    0.013013,    0.014014,    0.015015,    0.016016,    0.017017,    0.018018,    0.019019,     0.02002,    0.021021,    0.022022,    0.023023,\n",
              "          0.024024,    0.025025,    0.026026,    0.027027,    0.028028,    0.029029,     0.03003,    0.031031,    0.032032,    0.033033,    0.034034,    0.035035,    0.036036,    0.037037,    0.038038,    0.039039,     0.04004,    0.041041,    0.042042,    0.043043,    0.044044,    0.045045,    0.046046,    0.047047,\n",
              "          0.048048,    0.049049,     0.05005,    0.051051,    0.052052,    0.053053,    0.054054,    0.055055,    0.056056,    0.057057,    0.058058,    0.059059,     0.06006,    0.061061,    0.062062,    0.063063,    0.064064,    0.065065,    0.066066,    0.067067,    0.068068,    0.069069,     0.07007,    0.071071,\n",
              "          0.072072,    0.073073,    0.074074,    0.075075,    0.076076,    0.077077,    0.078078,    0.079079,     0.08008,    0.081081,    0.082082,    0.083083,    0.084084,    0.085085,    0.086086,    0.087087,    0.088088,    0.089089,     0.09009,    0.091091,    0.092092,    0.093093,    0.094094,    0.095095,\n",
              "          0.096096,    0.097097,    0.098098,    0.099099,      0.1001,      0.1011,      0.1021,      0.1031,      0.1041,     0.10511,     0.10611,     0.10711,     0.10811,     0.10911,     0.11011,     0.11111,     0.11211,     0.11311,     0.11411,     0.11512,     0.11612,     0.11712,     0.11812,     0.11912,\n",
              "           0.12012,     0.12112,     0.12212,     0.12312,     0.12412,     0.12513,     0.12613,     0.12713,     0.12813,     0.12913,     0.13013,     0.13113,     0.13213,     0.13313,     0.13413,     0.13514,     0.13614,     0.13714,     0.13814,     0.13914,     0.14014,     0.14114,     0.14214,     0.14314,\n",
              "           0.14414,     0.14515,     0.14615,     0.14715,     0.14815,     0.14915,     0.15015,     0.15115,     0.15215,     0.15315,     0.15415,     0.15516,     0.15616,     0.15716,     0.15816,     0.15916,     0.16016,     0.16116,     0.16216,     0.16316,     0.16416,     0.16517,     0.16617,     0.16717,\n",
              "           0.16817,     0.16917,     0.17017,     0.17117,     0.17217,     0.17317,     0.17417,     0.17518,     0.17618,     0.17718,     0.17818,     0.17918,     0.18018,     0.18118,     0.18218,     0.18318,     0.18418,     0.18519,     0.18619,     0.18719,     0.18819,     0.18919,     0.19019,     0.19119,\n",
              "           0.19219,     0.19319,     0.19419,      0.1952,      0.1962,      0.1972,      0.1982,      0.1992,      0.2002,      0.2012,      0.2022,      0.2032,      0.2042,     0.20521,     0.20621,     0.20721,     0.20821,     0.20921,     0.21021,     0.21121,     0.21221,     0.21321,     0.21421,     0.21522,\n",
              "           0.21622,     0.21722,     0.21822,     0.21922,     0.22022,     0.22122,     0.22222,     0.22322,     0.22422,     0.22523,     0.22623,     0.22723,     0.22823,     0.22923,     0.23023,     0.23123,     0.23223,     0.23323,     0.23423,     0.23524,     0.23624,     0.23724,     0.23824,     0.23924,\n",
              "           0.24024,     0.24124,     0.24224,     0.24324,     0.24424,     0.24525,     0.24625,     0.24725,     0.24825,     0.24925,     0.25025,     0.25125,     0.25225,     0.25325,     0.25425,     0.25526,     0.25626,     0.25726,     0.25826,     0.25926,     0.26026,     0.26126,     0.26226,     0.26326,\n",
              "           0.26426,     0.26527,     0.26627,     0.26727,     0.26827,     0.26927,     0.27027,     0.27127,     0.27227,     0.27327,     0.27427,     0.27528,     0.27628,     0.27728,     0.27828,     0.27928,     0.28028,     0.28128,     0.28228,     0.28328,     0.28428,     0.28529,     0.28629,     0.28729,\n",
              "           0.28829,     0.28929,     0.29029,     0.29129,     0.29229,     0.29329,     0.29429,      0.2953,      0.2963,      0.2973,      0.2983,      0.2993,      0.3003,      0.3013,      0.3023,      0.3033,      0.3043,     0.30531,     0.30631,     0.30731,     0.30831,     0.30931,     0.31031,     0.31131,\n",
              "           0.31231,     0.31331,     0.31431,     0.31532,     0.31632,     0.31732,     0.31832,     0.31932,     0.32032,     0.32132,     0.32232,     0.32332,     0.32432,     0.32533,     0.32633,     0.32733,     0.32833,     0.32933,     0.33033,     0.33133,     0.33233,     0.33333,     0.33433,     0.33534,\n",
              "           0.33634,     0.33734,     0.33834,     0.33934,     0.34034,     0.34134,     0.34234,     0.34334,     0.34434,     0.34535,     0.34635,     0.34735,     0.34835,     0.34935,     0.35035,     0.35135,     0.35235,     0.35335,     0.35435,     0.35536,     0.35636,     0.35736,     0.35836,     0.35936,\n",
              "           0.36036,     0.36136,     0.36236,     0.36336,     0.36436,     0.36537,     0.36637,     0.36737,     0.36837,     0.36937,     0.37037,     0.37137,     0.37237,     0.37337,     0.37437,     0.37538,     0.37638,     0.37738,     0.37838,     0.37938,     0.38038,     0.38138,     0.38238,     0.38338,\n",
              "           0.38438,     0.38539,     0.38639,     0.38739,     0.38839,     0.38939,     0.39039,     0.39139,     0.39239,     0.39339,     0.39439,      0.3954,      0.3964,      0.3974,      0.3984,      0.3994,      0.4004,      0.4014,      0.4024,      0.4034,      0.4044,     0.40541,     0.40641,     0.40741,\n",
              "           0.40841,     0.40941,     0.41041,     0.41141,     0.41241,     0.41341,     0.41441,     0.41542,     0.41642,     0.41742,     0.41842,     0.41942,     0.42042,     0.42142,     0.42242,     0.42342,     0.42442,     0.42543,     0.42643,     0.42743,     0.42843,     0.42943,     0.43043,     0.43143,\n",
              "           0.43243,     0.43343,     0.43443,     0.43544,     0.43644,     0.43744,     0.43844,     0.43944,     0.44044,     0.44144,     0.44244,     0.44344,     0.44444,     0.44545,     0.44645,     0.44745,     0.44845,     0.44945,     0.45045,     0.45145,     0.45245,     0.45345,     0.45445,     0.45546,\n",
              "           0.45646,     0.45746,     0.45846,     0.45946,     0.46046,     0.46146,     0.46246,     0.46346,     0.46446,     0.46547,     0.46647,     0.46747,     0.46847,     0.46947,     0.47047,     0.47147,     0.47247,     0.47347,     0.47447,     0.47548,     0.47648,     0.47748,     0.47848,     0.47948,\n",
              "           0.48048,     0.48148,     0.48248,     0.48348,     0.48448,     0.48549,     0.48649,     0.48749,     0.48849,     0.48949,     0.49049,     0.49149,     0.49249,     0.49349,     0.49449,      0.4955,      0.4965,      0.4975,      0.4985,      0.4995,      0.5005,      0.5015,      0.5025,      0.5035,\n",
              "            0.5045,     0.50551,     0.50651,     0.50751,     0.50851,     0.50951,     0.51051,     0.51151,     0.51251,     0.51351,     0.51451,     0.51552,     0.51652,     0.51752,     0.51852,     0.51952,     0.52052,     0.52152,     0.52252,     0.52352,     0.52452,     0.52553,     0.52653,     0.52753,\n",
              "           0.52853,     0.52953,     0.53053,     0.53153,     0.53253,     0.53353,     0.53453,     0.53554,     0.53654,     0.53754,     0.53854,     0.53954,     0.54054,     0.54154,     0.54254,     0.54354,     0.54454,     0.54555,     0.54655,     0.54755,     0.54855,     0.54955,     0.55055,     0.55155,\n",
              "           0.55255,     0.55355,     0.55455,     0.55556,     0.55656,     0.55756,     0.55856,     0.55956,     0.56056,     0.56156,     0.56256,     0.56356,     0.56456,     0.56557,     0.56657,     0.56757,     0.56857,     0.56957,     0.57057,     0.57157,     0.57257,     0.57357,     0.57457,     0.57558,\n",
              "           0.57658,     0.57758,     0.57858,     0.57958,     0.58058,     0.58158,     0.58258,     0.58358,     0.58458,     0.58559,     0.58659,     0.58759,     0.58859,     0.58959,     0.59059,     0.59159,     0.59259,     0.59359,     0.59459,      0.5956,      0.5966,      0.5976,      0.5986,      0.5996,\n",
              "            0.6006,      0.6016,      0.6026,      0.6036,      0.6046,     0.60561,     0.60661,     0.60761,     0.60861,     0.60961,     0.61061,     0.61161,     0.61261,     0.61361,     0.61461,     0.61562,     0.61662,     0.61762,     0.61862,     0.61962,     0.62062,     0.62162,     0.62262,     0.62362,\n",
              "           0.62462,     0.62563,     0.62663,     0.62763,     0.62863,     0.62963,     0.63063,     0.63163,     0.63263,     0.63363,     0.63463,     0.63564,     0.63664,     0.63764,     0.63864,     0.63964,     0.64064,     0.64164,     0.64264,     0.64364,     0.64464,     0.64565,     0.64665,     0.64765,\n",
              "           0.64865,     0.64965,     0.65065,     0.65165,     0.65265,     0.65365,     0.65465,     0.65566,     0.65666,     0.65766,     0.65866,     0.65966,     0.66066,     0.66166,     0.66266,     0.66366,     0.66466,     0.66567,     0.66667,     0.66767,     0.66867,     0.66967,     0.67067,     0.67167,\n",
              "           0.67267,     0.67367,     0.67467,     0.67568,     0.67668,     0.67768,     0.67868,     0.67968,     0.68068,     0.68168,     0.68268,     0.68368,     0.68468,     0.68569,     0.68669,     0.68769,     0.68869,     0.68969,     0.69069,     0.69169,     0.69269,     0.69369,     0.69469,      0.6957,\n",
              "            0.6967,      0.6977,      0.6987,      0.6997,      0.7007,      0.7017,      0.7027,      0.7037,      0.7047,     0.70571,     0.70671,     0.70771,     0.70871,     0.70971,     0.71071,     0.71171,     0.71271,     0.71371,     0.71471,     0.71572,     0.71672,     0.71772,     0.71872,     0.71972,\n",
              "           0.72072,     0.72172,     0.72272,     0.72372,     0.72472,     0.72573,     0.72673,     0.72773,     0.72873,     0.72973,     0.73073,     0.73173,     0.73273,     0.73373,     0.73473,     0.73574,     0.73674,     0.73774,     0.73874,     0.73974,     0.74074,     0.74174,     0.74274,     0.74374,\n",
              "           0.74474,     0.74575,     0.74675,     0.74775,     0.74875,     0.74975,     0.75075,     0.75175,     0.75275,     0.75375,     0.75475,     0.75576,     0.75676,     0.75776,     0.75876,     0.75976,     0.76076,     0.76176,     0.76276,     0.76376,     0.76476,     0.76577,     0.76677,     0.76777,\n",
              "           0.76877,     0.76977,     0.77077,     0.77177,     0.77277,     0.77377,     0.77477,     0.77578,     0.77678,     0.77778,     0.77878,     0.77978,     0.78078,     0.78178,     0.78278,     0.78378,     0.78478,     0.78579,     0.78679,     0.78779,     0.78879,     0.78979,     0.79079,     0.79179,\n",
              "           0.79279,     0.79379,     0.79479,      0.7958,      0.7968,      0.7978,      0.7988,      0.7998,      0.8008,      0.8018,      0.8028,      0.8038,      0.8048,     0.80581,     0.80681,     0.80781,     0.80881,     0.80981,     0.81081,     0.81181,     0.81281,     0.81381,     0.81481,     0.81582,\n",
              "           0.81682,     0.81782,     0.81882,     0.81982,     0.82082,     0.82182,     0.82282,     0.82382,     0.82482,     0.82583,     0.82683,     0.82783,     0.82883,     0.82983,     0.83083,     0.83183,     0.83283,     0.83383,     0.83483,     0.83584,     0.83684,     0.83784,     0.83884,     0.83984,\n",
              "           0.84084,     0.84184,     0.84284,     0.84384,     0.84484,     0.84585,     0.84685,     0.84785,     0.84885,     0.84985,     0.85085,     0.85185,     0.85285,     0.85385,     0.85485,     0.85586,     0.85686,     0.85786,     0.85886,     0.85986,     0.86086,     0.86186,     0.86286,     0.86386,\n",
              "           0.86486,     0.86587,     0.86687,     0.86787,     0.86887,     0.86987,     0.87087,     0.87187,     0.87287,     0.87387,     0.87487,     0.87588,     0.87688,     0.87788,     0.87888,     0.87988,     0.88088,     0.88188,     0.88288,     0.88388,     0.88488,     0.88589,     0.88689,     0.88789,\n",
              "           0.88889,     0.88989,     0.89089,     0.89189,     0.89289,     0.89389,     0.89489,      0.8959,      0.8969,      0.8979,      0.8989,      0.8999,      0.9009,      0.9019,      0.9029,      0.9039,      0.9049,     0.90591,     0.90691,     0.90791,     0.90891,     0.90991,     0.91091,     0.91191,\n",
              "           0.91291,     0.91391,     0.91491,     0.91592,     0.91692,     0.91792,     0.91892,     0.91992,     0.92092,     0.92192,     0.92292,     0.92392,     0.92492,     0.92593,     0.92693,     0.92793,     0.92893,     0.92993,     0.93093,     0.93193,     0.93293,     0.93393,     0.93493,     0.93594,\n",
              "           0.93694,     0.93794,     0.93894,     0.93994,     0.94094,     0.94194,     0.94294,     0.94394,     0.94494,     0.94595,     0.94695,     0.94795,     0.94895,     0.94995,     0.95095,     0.95195,     0.95295,     0.95395,     0.95495,     0.95596,     0.95696,     0.95796,     0.95896,     0.95996,\n",
              "           0.96096,     0.96196,     0.96296,     0.96396,     0.96496,     0.96597,     0.96697,     0.96797,     0.96897,     0.96997,     0.97097,     0.97197,     0.97297,     0.97397,     0.97497,     0.97598,     0.97698,     0.97798,     0.97898,     0.97998,     0.98098,     0.98198,     0.98298,     0.98398,\n",
              "           0.98498,     0.98599,     0.98699,     0.98799,     0.98899,     0.98999,     0.99099,     0.99199,     0.99299,     0.99399,     0.99499,       0.996,       0.997,       0.998,       0.999,           1]), array([[   0.082558,    0.082558,     0.11996,     0.14676,     0.16866,     0.18775,     0.20377,      0.2198,     0.23067,      0.2413,     0.25294,      0.2626,     0.27063,     0.27775,     0.28585,     0.29242,     0.29907,     0.30655,      0.3136,     0.32235,     0.32782,     0.33184,     0.33602,\n",
              "            0.34111,     0.34605,     0.35139,      0.3559,      0.3603,     0.36475,     0.36864,     0.37315,     0.37715,     0.38065,      0.3826,     0.38562,     0.38767,     0.39113,     0.39325,     0.39614,     0.39851,     0.40135,     0.40378,     0.40519,     0.40772,     0.41168,     0.41402,\n",
              "            0.41545,     0.41765,     0.41799,     0.42071,      0.4229,     0.42528,     0.42748,     0.43028,     0.43192,     0.43378,     0.43605,     0.43725,     0.43916,     0.44223,     0.44622,     0.44846,     0.44993,     0.45167,     0.45262,     0.45562,     0.45849,     0.45929,     0.46244,\n",
              "            0.46326,      0.4658,     0.46768,     0.46897,     0.46995,     0.47111,     0.47277,      0.4746,     0.47545,     0.47782,     0.47876,     0.48062,     0.48164,      0.4831,     0.48537,     0.48663,     0.48909,      0.4907,     0.49183,     0.49305,       0.494,      0.4964,      0.4975,\n",
              "            0.49877,     0.50095,     0.50388,     0.50477,     0.50646,     0.50755,     0.51167,     0.51204,     0.51268,     0.51358,     0.51499,     0.51573,     0.51655,     0.51753,     0.51778,     0.51826,     0.51922,     0.51977,     0.52011,     0.52047,      0.5207,     0.52166,     0.52288,\n",
              "            0.52459,     0.52665,     0.52799,     0.52983,     0.53186,     0.53269,     0.53382,     0.53544,     0.53592,     0.53719,     0.53889,     0.53929,     0.54005,     0.54194,      0.5456,     0.54604,     0.54702,     0.54676,     0.54749,     0.54849,     0.55102,     0.55232,     0.55289,\n",
              "            0.55357,     0.55411,     0.55572,     0.55667,     0.55802,     0.55964,     0.56075,     0.56238,     0.56454,     0.56435,     0.56416,     0.56654,      0.5682,     0.56894,      0.5704,     0.57089,     0.57118,      0.5721,     0.57371,     0.57485,     0.57619,     0.57705,     0.57808,\n",
              "            0.57889,     0.57916,     0.58018,     0.58274,     0.58405,     0.58442,     0.58487,      0.5856,     0.58592,      0.5866,     0.58695,     0.58773,     0.58821,     0.58852,     0.58879,     0.59071,       0.592,     0.59307,     0.59299,     0.59307,     0.59343,     0.59396,     0.59534,\n",
              "             0.5956,     0.59587,     0.59678,     0.59841,     0.59942,     0.60043,     0.60117,     0.60181,     0.60209,     0.60304,     0.60424,     0.60569,     0.60628,     0.60663,     0.60801,     0.60853,      0.6089,     0.60986,     0.60992,     0.61074,     0.61027,     0.61127,     0.61203,\n",
              "            0.61308,     0.61375,     0.61426,     0.61479,     0.61528,     0.61591,     0.61659,     0.61778,     0.61856,     0.61992,     0.62021,     0.62172,     0.62222,     0.62414,     0.62517,     0.62669,     0.62699,     0.62728,     0.62717,     0.62774,      0.6292,     0.62974,     0.63145,\n",
              "             0.6327,     0.63304,     0.63449,     0.63603,     0.63637,     0.63673,     0.63721,     0.63811,      0.6386,     0.63878,     0.63989,     0.64042,     0.64139,     0.64172,     0.64206,     0.64246,     0.64275,     0.64289,     0.64303,     0.64318,     0.64332,     0.64442,     0.64541,\n",
              "            0.64544,     0.64647,     0.64688,      0.6478,     0.64791,     0.64802,     0.64813,     0.64825,     0.64836,     0.64926,     0.65027,     0.65203,     0.65305,     0.65387,     0.65439,     0.65608,     0.65656,     0.65575,     0.65628,     0.65791,     0.65835,     0.65961,     0.66097,\n",
              "            0.66117,     0.66104,     0.66092,     0.66094,     0.66147,     0.66178,     0.66202,     0.66227,     0.66256,     0.66288,      0.6631,     0.66277,     0.66377,      0.6643,     0.66476,     0.66504,     0.66484,     0.66483,     0.66523,     0.66657,     0.66749,     0.66857,     0.67017,\n",
              "            0.67089,     0.67163,     0.67199,     0.67274,     0.67384,     0.67361,     0.67365,     0.67412,     0.67392,     0.67487,     0.67709,      0.6777,     0.67814,     0.67848,     0.67967,     0.68034,     0.68134,     0.68154,     0.68174,     0.68194,     0.68221,     0.68269,     0.68382,\n",
              "            0.68409,     0.68386,     0.68521,     0.68593,     0.68574,     0.68588,     0.68676,     0.68726,     0.68776,     0.68852,      0.6883,      0.6887,     0.68935,     0.68986,     0.69156,     0.69266,     0.69361,     0.69452,     0.69511,     0.69583,     0.69655,     0.69629,     0.69619,\n",
              "             0.6975,     0.69776,     0.69802,     0.69828,      0.7005,     0.70101,     0.70063,     0.70049,     0.70035,     0.70147,     0.70251,     0.70444,      0.7055,     0.70584,     0.70618,     0.70854,     0.70843,     0.70925,     0.70979,     0.71024,     0.71062,       0.711,     0.71143,\n",
              "            0.71185,     0.71162,     0.71187,     0.71255,     0.71303,     0.71377,      0.7156,     0.71619,     0.71637,     0.71656,     0.71674,     0.71692,     0.71711,     0.71766,     0.71929,     0.72217,     0.72316,     0.72398,     0.72455,     0.72697,     0.72796,     0.72915,     0.73084,\n",
              "            0.73283,     0.73384,     0.73482,     0.73541,     0.73563,     0.73562,     0.73613,     0.73664,     0.73716,      0.7391,     0.73963,     0.73988,     0.74014,      0.7404,     0.74133,     0.74237,     0.74399,     0.74479,     0.74461,     0.74461,     0.74514,     0.74583,     0.74688,\n",
              "            0.74772,     0.74789,     0.74843,     0.74896,      0.7495,     0.75042,      0.7511,     0.75164,     0.75224,     0.75386,     0.75379,     0.75372,     0.75365,     0.75358,     0.75375,     0.75416,     0.75417,     0.75492,     0.75481,     0.75469,       0.755,     0.75589,     0.75712,\n",
              "            0.75932,     0.75953,     0.75936,     0.75938,     0.75994,      0.7605,     0.76106,      0.7621,     0.76257,     0.76295,     0.76332,      0.7644,     0.76434,     0.76428,     0.76422,     0.76416,     0.76416,     0.76481,     0.76543,       0.766,     0.76657,     0.76714,     0.76799,\n",
              "            0.76839,     0.76842,     0.76881,     0.76919,     0.76856,     0.76839,     0.76825,     0.76814,     0.76802,     0.76774,     0.76851,     0.76864,     0.76847,     0.76909,     0.76891,     0.76858,     0.76959,     0.76953,     0.76935,     0.77048,     0.77165,     0.77224,     0.77287,\n",
              "            0.77398,     0.77427,     0.77457,     0.77487,     0.77508,     0.77491,     0.77487,     0.77526,     0.77566,     0.77583,     0.77573,     0.77613,     0.77653,     0.77692,     0.77753,     0.77814,     0.77903,     0.78024,     0.78385,     0.78431,     0.78414,     0.78387,     0.78413,\n",
              "            0.78474,     0.78578,     0.78592,     0.78679,     0.78717,      0.7878,     0.78817,     0.78849,      0.7888,     0.78911,     0.78971,     0.79033,     0.79096,     0.79159,     0.79128,     0.79111,     0.79098,      0.7914,     0.79182,     0.79214,     0.79423,     0.79551,      0.7968,\n",
              "            0.79901,     0.79885,     0.80246,     0.80187,      0.8017,     0.80175,     0.80232,     0.80251,      0.8027,     0.80289,     0.80308,     0.80327,     0.80346,     0.80427,     0.80691,     0.80725,     0.80708,       0.807,     0.80692,     0.80684,      0.8067,     0.80654,     0.80614,\n",
              "            0.80607,     0.80601,     0.80594,     0.80588,     0.80558,     0.80606,     0.80685,     0.80789,     0.80857,     0.80926,     0.80994,     0.81018,      0.8101,     0.81002,     0.80994,      0.8097,     0.80949,     0.80933,     0.80873,      0.8084,     0.80807,     0.80915,      0.8119,\n",
              "             0.8118,      0.8127,     0.81378,     0.81367,     0.81356,     0.81774,      0.8191,     0.81889,     0.82011,     0.81996,      0.8198,     0.81964,     0.81875,     0.81843,     0.81921,     0.81968,     0.82041,     0.82172,     0.82133,     0.82129,     0.82125,      0.8212,     0.82116,\n",
              "            0.82112,     0.82107,      0.8218,     0.82269,     0.82306,     0.82343,      0.8238,     0.82374,     0.82548,     0.82608,     0.82617,      0.8259,     0.82574,     0.82522,     0.82547,     0.82637,      0.8264,     0.82731,     0.82724,     0.82717,      0.8271,     0.82703,     0.82727,\n",
              "            0.82663,     0.82782,     0.82752,     0.82747,     0.82742,     0.82737,     0.82732,     0.82727,     0.82722,     0.82708,     0.82692,     0.82772,     0.82867,     0.82946,     0.82982,     0.83128,     0.83234,     0.83303,     0.83395,     0.83476,     0.83681,     0.83665,     0.83645,\n",
              "            0.83609,     0.83593,     0.83577,     0.83561,     0.83694,     0.83733,     0.83799,     0.83893,     0.84323,     0.84282,     0.84245,     0.84232,     0.84222,     0.84211,     0.84274,     0.84342,     0.84359,     0.84338,     0.84325,     0.84282,     0.84273,     0.84264,     0.84255,\n",
              "             0.8421,     0.84194,     0.84174,     0.84149,     0.84235,     0.84284,     0.84378,     0.84547,      0.8463,     0.84699,     0.84732,     0.84716,     0.84662,     0.84787,     0.84778,     0.84769,      0.8476,     0.84706,     0.84805,     0.84828,     0.84815,       0.848,     0.84779,\n",
              "            0.84845,     0.84861,     0.84829,      0.8503,     0.85104,     0.85225,     0.85428,     0.85583,     0.85573,     0.85558,     0.85549,      0.8554,     0.85528,     0.85492,     0.85476,     0.85457,      0.8547,      0.8561,     0.85569,       0.856,     0.85654,     0.85708,     0.86111,\n",
              "             0.8609,     0.86061,     0.86319,     0.86425,     0.86405,     0.86587,     0.87206,     0.87286,      0.8736,     0.87338,     0.87404,     0.87471,     0.87524,     0.87491,     0.87552,     0.87777,     0.87804,     0.88035,     0.88079,     0.88265,     0.88251,     0.88595,     0.88585,\n",
              "            0.88872,     0.88909,     0.88896,     0.88876,     0.88891,     0.88999,     0.88991,     0.88985,     0.88978,     0.88971,     0.89038,     0.89155,     0.89144,     0.89133,     0.89241,     0.89474,     0.89742,     0.89747,     0.89868,     0.89879,     0.89933,     0.90025,     0.90063,\n",
              "            0.90042,     0.90225,     0.90192,      0.9042,     0.90608,     0.90596,     0.90578,     0.90665,     0.90815,     0.90974,     0.90927,     0.90908,     0.90904,     0.90899,     0.90895,      0.9089,     0.90886,     0.90871,     0.91073,     0.91077,      0.9127,     0.91503,     0.91493,\n",
              "            0.91454,      0.9143,     0.91415,     0.91406,      0.9139,     0.91358,     0.91301,     0.91285,     0.91505,       0.915,     0.91495,      0.9149,     0.91484,     0.91715,     0.92181,     0.92169,     0.92092,     0.92132,     0.92307,     0.92218,     0.92483,     0.92707,     0.92914,\n",
              "            0.92903,     0.92855,      0.9284,     0.92811,     0.92796,      0.9304,     0.92938,     0.92887,     0.93123,     0.93117,     0.93086,     0.93329,     0.93318,     0.93292,     0.93881,     0.94079,     0.94065,     0.94064,     0.94322,     0.94291,     0.94283,     0.94191,     0.94135,\n",
              "            0.94121,     0.94066,     0.94024,     0.93959,     0.93911,      0.9387,     0.93824,     0.93755,     0.93736,     0.93693,     0.93634,     0.93585,     0.93511,     0.93484,     0.93447,     0.93383,     0.93301,     0.93141,      0.9308,     0.92935,     0.92844,     0.93059,     0.93357,\n",
              "            0.93337,     0.93224,     0.93108,     0.93216,     0.94275,     0.94342,     0.94261,     0.94176,     0.94595,     0.94949,     0.94939,     0.94928,     0.94893,     0.94839,     0.94774,     0.94727,     0.94661,     0.94937,     0.94872,     0.94666,     0.94624,     0.95132,     0.95066,\n",
              "            0.94977,     0.94879,     0.95399,     0.95305,     0.95872,     0.95834,     0.95773,     0.95681,     0.95551,     0.95482,      0.9544,     0.95409,     0.96052,     0.95912,     0.95773,     0.95671,     0.95514,     0.95256,     0.95154,     0.94932,     0.94859,     0.94518,     0.94128,\n",
              "            0.94026,     0.93977,     0.93903,     0.95943,     0.95742,     0.95579,      0.9481,     0.95714,     0.96251,     0.95972,     0.95516,     0.95186,     0.96214,     0.97179,     0.97032,     0.96592,     0.96337,     0.95876,     0.95752,     0.95659,     0.95203,     0.95121,      0.9504,\n",
              "            0.94945,     0.94837,     0.94715,      0.9438,     0.93297,     0.96958,           1,           1,           1,           1,           1,           1,           1,           1,           1,           1,           1,           1,           1,           1,           1,           1,           1,\n",
              "                  1,           1,           1,           1,           1,           1,           1,           1,           1,           1,           1,           1,           1,           1,           1,           1,           1,           1,           1,           1,           1,           1,           1,\n",
              "                  1,           1,           1,           1,           1,           1,           1,           1,           1,           1,           1,           1,           1,           1,           1,           1,           1,           1,           1,           1,           1,           1,           1,\n",
              "                  1,           1,           1,           1,           1,           1,           1,           1,           1,           1,           1]]), 'Confidence', 'Precision'], [array([          0,    0.001001,    0.002002,    0.003003,    0.004004,    0.005005,    0.006006,    0.007007,    0.008008,    0.009009,     0.01001,    0.011011,    0.012012,    0.013013,    0.014014,    0.015015,    0.016016,    0.017017,    0.018018,    0.019019,     0.02002,    0.021021,    0.022022,    0.023023,\n",
              "          0.024024,    0.025025,    0.026026,    0.027027,    0.028028,    0.029029,     0.03003,    0.031031,    0.032032,    0.033033,    0.034034,    0.035035,    0.036036,    0.037037,    0.038038,    0.039039,     0.04004,    0.041041,    0.042042,    0.043043,    0.044044,    0.045045,    0.046046,    0.047047,\n",
              "          0.048048,    0.049049,     0.05005,    0.051051,    0.052052,    0.053053,    0.054054,    0.055055,    0.056056,    0.057057,    0.058058,    0.059059,     0.06006,    0.061061,    0.062062,    0.063063,    0.064064,    0.065065,    0.066066,    0.067067,    0.068068,    0.069069,     0.07007,    0.071071,\n",
              "          0.072072,    0.073073,    0.074074,    0.075075,    0.076076,    0.077077,    0.078078,    0.079079,     0.08008,    0.081081,    0.082082,    0.083083,    0.084084,    0.085085,    0.086086,    0.087087,    0.088088,    0.089089,     0.09009,    0.091091,    0.092092,    0.093093,    0.094094,    0.095095,\n",
              "          0.096096,    0.097097,    0.098098,    0.099099,      0.1001,      0.1011,      0.1021,      0.1031,      0.1041,     0.10511,     0.10611,     0.10711,     0.10811,     0.10911,     0.11011,     0.11111,     0.11211,     0.11311,     0.11411,     0.11512,     0.11612,     0.11712,     0.11812,     0.11912,\n",
              "           0.12012,     0.12112,     0.12212,     0.12312,     0.12412,     0.12513,     0.12613,     0.12713,     0.12813,     0.12913,     0.13013,     0.13113,     0.13213,     0.13313,     0.13413,     0.13514,     0.13614,     0.13714,     0.13814,     0.13914,     0.14014,     0.14114,     0.14214,     0.14314,\n",
              "           0.14414,     0.14515,     0.14615,     0.14715,     0.14815,     0.14915,     0.15015,     0.15115,     0.15215,     0.15315,     0.15415,     0.15516,     0.15616,     0.15716,     0.15816,     0.15916,     0.16016,     0.16116,     0.16216,     0.16316,     0.16416,     0.16517,     0.16617,     0.16717,\n",
              "           0.16817,     0.16917,     0.17017,     0.17117,     0.17217,     0.17317,     0.17417,     0.17518,     0.17618,     0.17718,     0.17818,     0.17918,     0.18018,     0.18118,     0.18218,     0.18318,     0.18418,     0.18519,     0.18619,     0.18719,     0.18819,     0.18919,     0.19019,     0.19119,\n",
              "           0.19219,     0.19319,     0.19419,      0.1952,      0.1962,      0.1972,      0.1982,      0.1992,      0.2002,      0.2012,      0.2022,      0.2032,      0.2042,     0.20521,     0.20621,     0.20721,     0.20821,     0.20921,     0.21021,     0.21121,     0.21221,     0.21321,     0.21421,     0.21522,\n",
              "           0.21622,     0.21722,     0.21822,     0.21922,     0.22022,     0.22122,     0.22222,     0.22322,     0.22422,     0.22523,     0.22623,     0.22723,     0.22823,     0.22923,     0.23023,     0.23123,     0.23223,     0.23323,     0.23423,     0.23524,     0.23624,     0.23724,     0.23824,     0.23924,\n",
              "           0.24024,     0.24124,     0.24224,     0.24324,     0.24424,     0.24525,     0.24625,     0.24725,     0.24825,     0.24925,     0.25025,     0.25125,     0.25225,     0.25325,     0.25425,     0.25526,     0.25626,     0.25726,     0.25826,     0.25926,     0.26026,     0.26126,     0.26226,     0.26326,\n",
              "           0.26426,     0.26527,     0.26627,     0.26727,     0.26827,     0.26927,     0.27027,     0.27127,     0.27227,     0.27327,     0.27427,     0.27528,     0.27628,     0.27728,     0.27828,     0.27928,     0.28028,     0.28128,     0.28228,     0.28328,     0.28428,     0.28529,     0.28629,     0.28729,\n",
              "           0.28829,     0.28929,     0.29029,     0.29129,     0.29229,     0.29329,     0.29429,      0.2953,      0.2963,      0.2973,      0.2983,      0.2993,      0.3003,      0.3013,      0.3023,      0.3033,      0.3043,     0.30531,     0.30631,     0.30731,     0.30831,     0.30931,     0.31031,     0.31131,\n",
              "           0.31231,     0.31331,     0.31431,     0.31532,     0.31632,     0.31732,     0.31832,     0.31932,     0.32032,     0.32132,     0.32232,     0.32332,     0.32432,     0.32533,     0.32633,     0.32733,     0.32833,     0.32933,     0.33033,     0.33133,     0.33233,     0.33333,     0.33433,     0.33534,\n",
              "           0.33634,     0.33734,     0.33834,     0.33934,     0.34034,     0.34134,     0.34234,     0.34334,     0.34434,     0.34535,     0.34635,     0.34735,     0.34835,     0.34935,     0.35035,     0.35135,     0.35235,     0.35335,     0.35435,     0.35536,     0.35636,     0.35736,     0.35836,     0.35936,\n",
              "           0.36036,     0.36136,     0.36236,     0.36336,     0.36436,     0.36537,     0.36637,     0.36737,     0.36837,     0.36937,     0.37037,     0.37137,     0.37237,     0.37337,     0.37437,     0.37538,     0.37638,     0.37738,     0.37838,     0.37938,     0.38038,     0.38138,     0.38238,     0.38338,\n",
              "           0.38438,     0.38539,     0.38639,     0.38739,     0.38839,     0.38939,     0.39039,     0.39139,     0.39239,     0.39339,     0.39439,      0.3954,      0.3964,      0.3974,      0.3984,      0.3994,      0.4004,      0.4014,      0.4024,      0.4034,      0.4044,     0.40541,     0.40641,     0.40741,\n",
              "           0.40841,     0.40941,     0.41041,     0.41141,     0.41241,     0.41341,     0.41441,     0.41542,     0.41642,     0.41742,     0.41842,     0.41942,     0.42042,     0.42142,     0.42242,     0.42342,     0.42442,     0.42543,     0.42643,     0.42743,     0.42843,     0.42943,     0.43043,     0.43143,\n",
              "           0.43243,     0.43343,     0.43443,     0.43544,     0.43644,     0.43744,     0.43844,     0.43944,     0.44044,     0.44144,     0.44244,     0.44344,     0.44444,     0.44545,     0.44645,     0.44745,     0.44845,     0.44945,     0.45045,     0.45145,     0.45245,     0.45345,     0.45445,     0.45546,\n",
              "           0.45646,     0.45746,     0.45846,     0.45946,     0.46046,     0.46146,     0.46246,     0.46346,     0.46446,     0.46547,     0.46647,     0.46747,     0.46847,     0.46947,     0.47047,     0.47147,     0.47247,     0.47347,     0.47447,     0.47548,     0.47648,     0.47748,     0.47848,     0.47948,\n",
              "           0.48048,     0.48148,     0.48248,     0.48348,     0.48448,     0.48549,     0.48649,     0.48749,     0.48849,     0.48949,     0.49049,     0.49149,     0.49249,     0.49349,     0.49449,      0.4955,      0.4965,      0.4975,      0.4985,      0.4995,      0.5005,      0.5015,      0.5025,      0.5035,\n",
              "            0.5045,     0.50551,     0.50651,     0.50751,     0.50851,     0.50951,     0.51051,     0.51151,     0.51251,     0.51351,     0.51451,     0.51552,     0.51652,     0.51752,     0.51852,     0.51952,     0.52052,     0.52152,     0.52252,     0.52352,     0.52452,     0.52553,     0.52653,     0.52753,\n",
              "           0.52853,     0.52953,     0.53053,     0.53153,     0.53253,     0.53353,     0.53453,     0.53554,     0.53654,     0.53754,     0.53854,     0.53954,     0.54054,     0.54154,     0.54254,     0.54354,     0.54454,     0.54555,     0.54655,     0.54755,     0.54855,     0.54955,     0.55055,     0.55155,\n",
              "           0.55255,     0.55355,     0.55455,     0.55556,     0.55656,     0.55756,     0.55856,     0.55956,     0.56056,     0.56156,     0.56256,     0.56356,     0.56456,     0.56557,     0.56657,     0.56757,     0.56857,     0.56957,     0.57057,     0.57157,     0.57257,     0.57357,     0.57457,     0.57558,\n",
              "           0.57658,     0.57758,     0.57858,     0.57958,     0.58058,     0.58158,     0.58258,     0.58358,     0.58458,     0.58559,     0.58659,     0.58759,     0.58859,     0.58959,     0.59059,     0.59159,     0.59259,     0.59359,     0.59459,      0.5956,      0.5966,      0.5976,      0.5986,      0.5996,\n",
              "            0.6006,      0.6016,      0.6026,      0.6036,      0.6046,     0.60561,     0.60661,     0.60761,     0.60861,     0.60961,     0.61061,     0.61161,     0.61261,     0.61361,     0.61461,     0.61562,     0.61662,     0.61762,     0.61862,     0.61962,     0.62062,     0.62162,     0.62262,     0.62362,\n",
              "           0.62462,     0.62563,     0.62663,     0.62763,     0.62863,     0.62963,     0.63063,     0.63163,     0.63263,     0.63363,     0.63463,     0.63564,     0.63664,     0.63764,     0.63864,     0.63964,     0.64064,     0.64164,     0.64264,     0.64364,     0.64464,     0.64565,     0.64665,     0.64765,\n",
              "           0.64865,     0.64965,     0.65065,     0.65165,     0.65265,     0.65365,     0.65465,     0.65566,     0.65666,     0.65766,     0.65866,     0.65966,     0.66066,     0.66166,     0.66266,     0.66366,     0.66466,     0.66567,     0.66667,     0.66767,     0.66867,     0.66967,     0.67067,     0.67167,\n",
              "           0.67267,     0.67367,     0.67467,     0.67568,     0.67668,     0.67768,     0.67868,     0.67968,     0.68068,     0.68168,     0.68268,     0.68368,     0.68468,     0.68569,     0.68669,     0.68769,     0.68869,     0.68969,     0.69069,     0.69169,     0.69269,     0.69369,     0.69469,      0.6957,\n",
              "            0.6967,      0.6977,      0.6987,      0.6997,      0.7007,      0.7017,      0.7027,      0.7037,      0.7047,     0.70571,     0.70671,     0.70771,     0.70871,     0.70971,     0.71071,     0.71171,     0.71271,     0.71371,     0.71471,     0.71572,     0.71672,     0.71772,     0.71872,     0.71972,\n",
              "           0.72072,     0.72172,     0.72272,     0.72372,     0.72472,     0.72573,     0.72673,     0.72773,     0.72873,     0.72973,     0.73073,     0.73173,     0.73273,     0.73373,     0.73473,     0.73574,     0.73674,     0.73774,     0.73874,     0.73974,     0.74074,     0.74174,     0.74274,     0.74374,\n",
              "           0.74474,     0.74575,     0.74675,     0.74775,     0.74875,     0.74975,     0.75075,     0.75175,     0.75275,     0.75375,     0.75475,     0.75576,     0.75676,     0.75776,     0.75876,     0.75976,     0.76076,     0.76176,     0.76276,     0.76376,     0.76476,     0.76577,     0.76677,     0.76777,\n",
              "           0.76877,     0.76977,     0.77077,     0.77177,     0.77277,     0.77377,     0.77477,     0.77578,     0.77678,     0.77778,     0.77878,     0.77978,     0.78078,     0.78178,     0.78278,     0.78378,     0.78478,     0.78579,     0.78679,     0.78779,     0.78879,     0.78979,     0.79079,     0.79179,\n",
              "           0.79279,     0.79379,     0.79479,      0.7958,      0.7968,      0.7978,      0.7988,      0.7998,      0.8008,      0.8018,      0.8028,      0.8038,      0.8048,     0.80581,     0.80681,     0.80781,     0.80881,     0.80981,     0.81081,     0.81181,     0.81281,     0.81381,     0.81481,     0.81582,\n",
              "           0.81682,     0.81782,     0.81882,     0.81982,     0.82082,     0.82182,     0.82282,     0.82382,     0.82482,     0.82583,     0.82683,     0.82783,     0.82883,     0.82983,     0.83083,     0.83183,     0.83283,     0.83383,     0.83483,     0.83584,     0.83684,     0.83784,     0.83884,     0.83984,\n",
              "           0.84084,     0.84184,     0.84284,     0.84384,     0.84484,     0.84585,     0.84685,     0.84785,     0.84885,     0.84985,     0.85085,     0.85185,     0.85285,     0.85385,     0.85485,     0.85586,     0.85686,     0.85786,     0.85886,     0.85986,     0.86086,     0.86186,     0.86286,     0.86386,\n",
              "           0.86486,     0.86587,     0.86687,     0.86787,     0.86887,     0.86987,     0.87087,     0.87187,     0.87287,     0.87387,     0.87487,     0.87588,     0.87688,     0.87788,     0.87888,     0.87988,     0.88088,     0.88188,     0.88288,     0.88388,     0.88488,     0.88589,     0.88689,     0.88789,\n",
              "           0.88889,     0.88989,     0.89089,     0.89189,     0.89289,     0.89389,     0.89489,      0.8959,      0.8969,      0.8979,      0.8989,      0.8999,      0.9009,      0.9019,      0.9029,      0.9039,      0.9049,     0.90591,     0.90691,     0.90791,     0.90891,     0.90991,     0.91091,     0.91191,\n",
              "           0.91291,     0.91391,     0.91491,     0.91592,     0.91692,     0.91792,     0.91892,     0.91992,     0.92092,     0.92192,     0.92292,     0.92392,     0.92492,     0.92593,     0.92693,     0.92793,     0.92893,     0.92993,     0.93093,     0.93193,     0.93293,     0.93393,     0.93493,     0.93594,\n",
              "           0.93694,     0.93794,     0.93894,     0.93994,     0.94094,     0.94194,     0.94294,     0.94394,     0.94494,     0.94595,     0.94695,     0.94795,     0.94895,     0.94995,     0.95095,     0.95195,     0.95295,     0.95395,     0.95495,     0.95596,     0.95696,     0.95796,     0.95896,     0.95996,\n",
              "           0.96096,     0.96196,     0.96296,     0.96396,     0.96496,     0.96597,     0.96697,     0.96797,     0.96897,     0.96997,     0.97097,     0.97197,     0.97297,     0.97397,     0.97497,     0.97598,     0.97698,     0.97798,     0.97898,     0.97998,     0.98098,     0.98198,     0.98298,     0.98398,\n",
              "           0.98498,     0.98599,     0.98699,     0.98799,     0.98899,     0.98999,     0.99099,     0.99199,     0.99299,     0.99399,     0.99499,       0.996,       0.997,       0.998,       0.999,           1]), array([[    0.78117,     0.78117,     0.77873,     0.77506,     0.77384,     0.77139,     0.76773,     0.76773,     0.76528,     0.76528,     0.76284,     0.76161,     0.75795,     0.75795,     0.75672,     0.75428,     0.75428,     0.75306,     0.75183,     0.75183,     0.75061,     0.75061,     0.75061,\n",
              "            0.75061,     0.74817,     0.74817,     0.74817,     0.74817,     0.74817,     0.74817,     0.74817,     0.74817,     0.74817,     0.74572,     0.74572,     0.74572,     0.74572,     0.74572,     0.74328,     0.74328,     0.74253,     0.74083,     0.73961,     0.73961,     0.73961,     0.73839,\n",
              "            0.73839,     0.73716,     0.73594,     0.73594,     0.73594,     0.73472,     0.73472,     0.73472,     0.73472,     0.73472,     0.73472,     0.73234,     0.73105,     0.73105,     0.73105,     0.73105,     0.73105,     0.73105,     0.73105,     0.73105,     0.73105,     0.73105,     0.72983,\n",
              "            0.72983,     0.72983,     0.72983,     0.72983,     0.72983,     0.72983,     0.72861,     0.72861,     0.72861,     0.72738,     0.72738,     0.72738,     0.72738,     0.72738,     0.72738,     0.72616,     0.72616,     0.72616,     0.72616,     0.72616,     0.72616,     0.72616,     0.72616,\n",
              "            0.72616,     0.72616,     0.72616,     0.72494,     0.72494,     0.72494,     0.72372,     0.72372,     0.72372,     0.72372,     0.72372,     0.72372,     0.72372,     0.72249,     0.72249,     0.72249,     0.72249,     0.72127,     0.72005,     0.72005,     0.72005,     0.72005,     0.72005,\n",
              "            0.72005,     0.72005,     0.72005,     0.72005,     0.72005,     0.72005,     0.72005,     0.72005,     0.72005,     0.72005,     0.72005,     0.72005,     0.72005,     0.72005,     0.72005,     0.71906,     0.71749,     0.71672,     0.71638,     0.71638,     0.71638,     0.71638,     0.71638,\n",
              "            0.71638,     0.71638,     0.71638,     0.71638,     0.71638,     0.71638,     0.71638,     0.71638,     0.71637,     0.71581,     0.71525,     0.71516,     0.71423,     0.71394,     0.71394,     0.71394,     0.71394,     0.71394,     0.71394,     0.71394,     0.71394,     0.71394,     0.71394,\n",
              "            0.71394,     0.71394,     0.71394,     0.71394,     0.71394,     0.71394,     0.71394,     0.71394,     0.71271,     0.71271,     0.71271,     0.71271,     0.71271,     0.71271,     0.71271,     0.71271,     0.71149,     0.71149,     0.71066,     0.71027,     0.71027,     0.71027,     0.71027,\n",
              "            0.71027,     0.71027,     0.71027,     0.71027,     0.71027,     0.71027,     0.70905,     0.70905,     0.70905,     0.70905,     0.70905,     0.70905,     0.70905,     0.70905,     0.70905,     0.70905,     0.70905,     0.70899,     0.70782,      0.7066,     0.70444,     0.70416,     0.70416,\n",
              "            0.70416,     0.70416,     0.70416,     0.70416,     0.70416,     0.70416,     0.70416,     0.70416,     0.70416,     0.70385,     0.70293,     0.70293,     0.70293,     0.70171,     0.70171,     0.70171,     0.70171,     0.70171,     0.70049,     0.70049,     0.70049,     0.70049,     0.70049,\n",
              "            0.70049,     0.70049,     0.70049,     0.70049,     0.70049,     0.70049,     0.70049,     0.70049,     0.70049,     0.69927,     0.69927,     0.69927,     0.69927,     0.69927,     0.69927,     0.69927,     0.69927,     0.69927,     0.69927,     0.69927,     0.69927,     0.69927,     0.69927,\n",
              "            0.69804,     0.69746,     0.69682,     0.69682,     0.69682,     0.69682,     0.69682,     0.69682,     0.69682,     0.69682,     0.69682,     0.69682,     0.69682,     0.69682,     0.69682,     0.69682,     0.69644,     0.69396,     0.69315,     0.69315,     0.69315,     0.69315,     0.69315,\n",
              "            0.69178,     0.69139,     0.69101,     0.69071,     0.69071,     0.69071,     0.69071,     0.69071,     0.69071,     0.69071,     0.69056,     0.68955,     0.68949,     0.68949,     0.68949,     0.68931,     0.68869,     0.68826,     0.68826,     0.68826,     0.68826,     0.68826,     0.68826,\n",
              "            0.68704,     0.68704,     0.68704,     0.68704,     0.68698,     0.68627,     0.68582,     0.68582,     0.68471,      0.6846,      0.6846,      0.6846,      0.6846,      0.6846,      0.6846,      0.6846,      0.6846,      0.6846,      0.6846,      0.6846,      0.6846,      0.6846,      0.6846,\n",
              "            0.68298,     0.68227,     0.68093,     0.68085,     0.68022,     0.67971,     0.67971,     0.67971,     0.67971,     0.67829,     0.67757,     0.67726,     0.67726,     0.67726,     0.67726,     0.67726,     0.67726,     0.67726,     0.67726,     0.67726,     0.67627,     0.67546,     0.67482,\n",
              "            0.67359,     0.67359,     0.67359,     0.67359,     0.67359,     0.67358,     0.67236,      0.6719,     0.67145,     0.67115,     0.67115,     0.67115,     0.66993,     0.66993,     0.66993,     0.66869,     0.66748,     0.66748,     0.66748,     0.66748,     0.66748,     0.66748,     0.66748,\n",
              "            0.66748,     0.66668,     0.66626,     0.66626,     0.66626,     0.66626,     0.66626,     0.66626,     0.66626,     0.66626,     0.66626,     0.66626,     0.66626,     0.66626,     0.66626,     0.66626,     0.66626,     0.66626,     0.66626,     0.66504,     0.66504,     0.66481,     0.66381,\n",
              "            0.66381,     0.66381,     0.66381,     0.66381,     0.66334,     0.66259,     0.66259,     0.66259,     0.66259,     0.66259,     0.66259,     0.66259,     0.66259,     0.66259,     0.66259,     0.66259,     0.66015,     0.66002,     0.65939,     0.65892,     0.65892,     0.65892,     0.65892,\n",
              "             0.6577,     0.65526,     0.65526,     0.65526,     0.65526,     0.65526,     0.65526,     0.65526,     0.65526,     0.65524,     0.65499,     0.65473,     0.65448,     0.65423,     0.65403,     0.65252,     0.65159,     0.65147,     0.65106,     0.65064,     0.65037,     0.64914,     0.64914,\n",
              "            0.64914,     0.64871,     0.64808,      0.6467,      0.6467,      0.6467,      0.6467,      0.6467,      0.6467,      0.6467,      0.6467,      0.6465,     0.64629,     0.64609,     0.64588,     0.64567,     0.64548,     0.64548,     0.64548,     0.64548,     0.64548,     0.64548,     0.64548,\n",
              "            0.64485,     0.64425,     0.64425,     0.64425,     0.64144,     0.64081,     0.64032,      0.6399,     0.63948,     0.63846,     0.63814,     0.63766,     0.63703,     0.63519,     0.63456,     0.63339,     0.63325,     0.63268,     0.63205,     0.63203,     0.63203,     0.63203,     0.63203,\n",
              "            0.63203,     0.63203,     0.63203,     0.63203,     0.63191,     0.63129,     0.63081,     0.63081,     0.63081,     0.63043,     0.62958,     0.62958,     0.62958,     0.62836,     0.62714,     0.62714,     0.62714,     0.62714,     0.62714,      0.6268,     0.62617,     0.62517,     0.62469,\n",
              "            0.62469,     0.62469,     0.62382,     0.62257,     0.62225,     0.62225,     0.62225,     0.62225,     0.62225,     0.62225,     0.62225,     0.62225,     0.62225,     0.62225,     0.62102,     0.62039,      0.6198,      0.6198,      0.6198,     0.61964,     0.61736,     0.61736,     0.61736,\n",
              "            0.61721,     0.61659,     0.61578,      0.6135,     0.61287,     0.61125,     0.61002,     0.61002,     0.61002,     0.61002,     0.61002,     0.61002,     0.61002,     0.61002,     0.61002,     0.60927,     0.60861,     0.60829,     0.60798,     0.60767,     0.60713,      0.6065,     0.60494,\n",
              "            0.60469,     0.60444,     0.60419,     0.60394,     0.60279,     0.60147,     0.60024,     0.60024,     0.60024,     0.60024,     0.60024,     0.60006,     0.59975,     0.59944,     0.59912,     0.59818,     0.59736,     0.59674,     0.59442,     0.59317,     0.59191,     0.59169,     0.59169,\n",
              "             0.5906,     0.58924,     0.58764,     0.58722,      0.5868,      0.5868,     0.58676,     0.58593,     0.58521,     0.58459,     0.58396,     0.58333,     0.57984,     0.57859,     0.57611,     0.57579,     0.57579,     0.57579,     0.57321,     0.57305,     0.57288,     0.57271,     0.57254,\n",
              "            0.57238,     0.57221,     0.57213,     0.57213,     0.57213,     0.57213,     0.57213,     0.57134,      0.5709,      0.5709,     0.56942,     0.56831,     0.56769,     0.56566,     0.56479,     0.56438,     0.56235,     0.56224,     0.56196,     0.56168,     0.56141,     0.56113,     0.55622,\n",
              "            0.55374,     0.55249,     0.55133,     0.55113,     0.55094,     0.55075,     0.55056,     0.55036,     0.55017,     0.54965,     0.54903,      0.5489,      0.5489,      0.5489,     0.54842,     0.54645,     0.54645,     0.54283,     0.54034,     0.54034,     0.53909,     0.53847,     0.53767,\n",
              "             0.5363,     0.53567,     0.53505,     0.53442,     0.53335,     0.53301,     0.53301,     0.53301,     0.53262,     0.53095,      0.5295,     0.52898,     0.52856,     0.52814,     0.52812,     0.52812,     0.52749,     0.52663,     0.52613,     0.52442,     0.52406,      0.5237,     0.52334,\n",
              "            0.52158,     0.52096,     0.52018,     0.51834,     0.51834,     0.51795,     0.51711,     0.51589,     0.51589,     0.51589,     0.51562,       0.515,     0.51285,       0.511,     0.51064,     0.51028,     0.50992,      0.5078,     0.50733,     0.50579,     0.50528,     0.50471,     0.50388,\n",
              "            0.50122,     0.50025,       0.499,     0.49756,     0.49588,     0.49511,     0.49511,     0.49389,      0.4931,     0.49249,     0.49213,     0.49178,     0.49128,     0.48986,     0.48923,     0.48847,     0.48778,      0.4873,     0.48568,     0.48533,     0.48533,     0.48533,     0.48507,\n",
              "            0.48424,     0.48305,     0.48289,     0.48254,     0.48171,     0.48166,     0.48166,     0.48166,     0.48161,     0.48044,     0.48044,     0.48044,     0.48027,     0.47881,     0.47555,     0.47406,     0.47311,     0.47188,     0.46969,     0.46894,     0.46831,     0.46535,     0.46484,\n",
              "            0.46455,     0.46061,     0.45998,     0.45905,     0.45721,     0.45721,     0.45459,     0.45428,     0.45397,     0.45365,     0.45232,     0.45223,     0.45173,     0.45123,      0.4511,      0.4511,      0.4511,     0.44946,     0.44743,     0.44512,     0.44377,     0.44377,     0.44319,\n",
              "            0.44214,     0.44005,     0.43843,     0.43765,     0.43637,     0.43575,     0.43486,     0.43399,     0.43276,     0.43127,      0.4288,     0.42781,     0.42759,     0.42736,     0.42713,      0.4269,     0.42667,      0.4259,     0.42543,     0.42424,     0.42177,     0.42126,     0.42076,\n",
              "            0.41862,     0.41737,     0.41657,     0.41607,     0.41523,     0.41358,     0.41058,     0.40974,     0.40824,     0.40796,     0.40768,      0.4074,     0.40713,       0.406,     0.40587,     0.40288,     0.39861,     0.39609,     0.39604,     0.39114,     0.38998,     0.38852,     0.38471,\n",
              "            0.38408,     0.38128,     0.38044,     0.37879,     0.37796,     0.37587,     0.37005,     0.36719,     0.36675,     0.36385,     0.36211,     0.35916,     0.35853,     0.35704,     0.35636,     0.34962,     0.34878,     0.34597,     0.34524,     0.34322,     0.34272,     0.33699,     0.33358,\n",
              "            0.33275,     0.32947,     0.32697,     0.32324,     0.32051,     0.31823,     0.31572,     0.31199,     0.31099,     0.30875,     0.30569,     0.30319,     0.29949,     0.29818,     0.29637,     0.29328,     0.28943,     0.28222,     0.27953,     0.27336,     0.26963,     0.26223,     0.25773,\n",
              "            0.25689,     0.25227,     0.24774,     0.24572,     0.24572,     0.24459,     0.24096,      0.2372,     0.23533,     0.22982,     0.22932,     0.22882,     0.22715,     0.22464,      0.2217,     0.21963,     0.21675,     0.20633,     0.20355,     0.19527,     0.19365,     0.19114,     0.18845,\n",
              "            0.18491,     0.18118,     0.17745,     0.17372,     0.17115,     0.16871,     0.16621,     0.16248,     0.15753,     0.15502,     0.15353,     0.15245,     0.14872,      0.1434,     0.13848,     0.13509,     0.13014,     0.12274,     0.12002,     0.11449,     0.11278,     0.10539,    0.097989,\n",
              "           0.096212,    0.095377,    0.094135,    0.086742,     0.08246,    0.079285,    0.066999,    0.064792,    0.062778,    0.058258,    0.052084,    0.048355,    0.046455,     0.04212,    0.039978,    0.034663,    0.032157,    0.028428,    0.027569,    0.026942,    0.024267,     0.02385,    0.023432,\n",
              "           0.022972,     0.02247,    0.021916,    0.020543,    0.015892,    0.015892,    0.015681,    0.014573,    0.014072,    0.013571,    0.011891,    0.010273,   0.0092767,   0.0086502,   0.0074898,   0.0066028,   0.0059646,   0.0056065,   0.0052485,   0.0048905,   0.0035608,    0.003352,   0.0031431,\n",
              "          0.0029343,   0.0027254,   0.0025166,   0.0023583,   0.0022264,   0.0020945,   0.0019626,   0.0018307,   0.0016988,   0.0015669,    0.001435,   0.0013031,           0,           0,           0,           0,           0,           0,           0,           0,           0,           0,           0,\n",
              "                  0,           0,           0,           0,           0,           0,           0,           0,           0,           0,           0,           0,           0,           0,           0,           0,           0,           0,           0,           0,           0,           0,           0,\n",
              "                  0,           0,           0,           0,           0,           0,           0,           0,           0,           0,           0]]), 'Confidence', 'Recall']]\n",
              "fitness: 0.9744778179658083\n",
              "keys: ['metrics/precision(B)', 'metrics/recall(B)', 'metrics/mAP50(B)', 'metrics/mAP50-95(B)', 'metrics/precision(P)', 'metrics/recall(P)', 'metrics/mAP50(P)', 'metrics/mAP50-95(P)']\n",
              "maps: array([    0.91522])\n",
              "names: {0: 'person'}\n",
              "plot: True\n",
              "pose: ultralytics.utils.metrics.Metric object\n",
              "results_dict: {'metrics/precision(B)': 0.842678761577562, 'metrics/recall(B)': 0.7268497103460428, 'metrics/mAP50(B)': 0.8389718330133139, 'metrics/mAP50-95(B)': 0.578669546003556, 'metrics/precision(P)': 0.7599408106407006, 'metrics/recall(P)': 0.6466992665036675, 'metrics/mAP50(P)': 0.668840696665235, 'metrics/mAP50-95(P)': 0.3365488595497257, 'fitness': 0.9744778179658083}\n",
              "save_dir: PosixPath('runs/pose/train')\n",
              "seg: ultralytics.utils.metrics.Metric object\n",
              "speed: {'preprocess': 0.6230592727661133, 'inference': 4.268699487050374, 'loss': 0.0008257230122884115, 'postprocess': 4.7328368822733555}\n",
              "task: 'pose'"
            ]
          },
          "execution_count": 4,
          "metadata": {},
          "output_type": "execute_result"
        }
      ],
      "source": [
        "import os\n",
        "\n",
        "from ultralytics import YOLO\n",
        "\n",
        "\n",
        "model = YOLO('yolov8n-pose.pt')  # load a pretrained model (recommended for training)\n",
        "\n",
        "model.train(data='/content/gdrive/My Drive/config.yaml', epochs=100, imgsz=640)\n"
      ]
    },
    {
      "cell_type": "code",
      "execution_count": null,
      "metadata": {
        "colab": {
          "base_uri": "https://localhost:8080/",
          "height": 35
        },
        "id": "dZt7FiKD9NVR",
        "outputId": "e40cfee0-32fa-4702-a066-f200fae98339"
      },
      "outputs": [
        {
          "data": {
            "application/vnd.google.colaboratory.intrinsic+json": {
              "type": "string"
            },
            "text/plain": [
              "'/content/gdrive/My Drive/runs'"
            ]
          },
          "execution_count": 11,
          "metadata": {},
          "output_type": "execute_result"
        }
      ],
      "source": [
        "import shutil\n",
        "shutil.copytree('/content/runs', '/content/gdrive/My Drive/runs')"
      ]
    }
  ],
  "metadata": {
    "accelerator": "GPU",
    "colab": {
      "provenance": []
    },
    "gpuClass": "standard",
    "kernelspec": {
      "display_name": "Python 3",
      "name": "python3"
    },
    "language_info": {
      "name": "python"
    }
  },
  "nbformat": 4,
  "nbformat_minor": 0
}
